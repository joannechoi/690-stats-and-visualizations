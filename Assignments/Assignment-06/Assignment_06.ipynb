{
 "cells": [
  {
   "cell_type": "markdown",
   "metadata": {
    "id": "7o8iJ4oDFBpV"
   },
   "source": [
    "#### 1) Use Pandas read_html() function to retrive the HTML tables as dataframes from the web page: https://www.genealogybranches.com/censuscosts.html"
   ]
  },
  {
   "cell_type": "code",
   "execution_count": 1,
   "metadata": {
    "id": "KEi7RhF6EpXJ"
   },
   "outputs": [],
   "source": [
    "import pandas as pd"
   ]
  },
  {
   "cell_type": "code",
   "execution_count": 2,
   "metadata": {
    "id": "4wxfrKzbEuSV"
   },
   "outputs": [],
   "source": [
    "html_tables = pd.read_html('https://www.genealogybranches.com/censuscosts.html')"
   ]
  },
  {
   "cell_type": "markdown",
   "metadata": {
    "id": "s5pH627gFJRr"
   },
   "source": [
    "#### 2) Find out how many HTML tables Pandas retrieves from the web page. Find out which dataframe contain the data and use it for further processing."
   ]
  },
  {
   "cell_type": "code",
   "execution_count": 3,
   "metadata": {
    "colab": {
     "base_uri": "https://localhost:8080/"
    },
    "id": "eVTE6gl7Fp56",
    "outputId": "cada8622-aa9e-44c5-9b19-3d125d1dc4ef"
   },
   "outputs": [
    {
     "name": "stdout",
     "output_type": "stream",
     "text": [
      "2\n"
     ]
    }
   ],
   "source": [
    "# count the number of tables from the link\n",
    "print(len(html_tables))"
   ]
  },
  {
   "cell_type": "code",
   "execution_count": 4,
   "metadata": {
    "colab": {
     "base_uri": "https://localhost:8080/",
     "height": 758
    },
    "id": "GlEyjrepJo1I",
    "outputId": "059f007d-7f36-4595-d9e7-d996eea3f5d4"
   },
   "outputs": [
    {
     "name": "stdout",
     "output_type": "stream",
     "text": [
      "              0                 1               2                        3\n",
      "0   Census Year  Total Population     Census Cost  Average Cost Per Person\n",
      "1          1790           3929214         $44,377               1.13 cents\n",
      "2          1800           5308483         $66,109               1.24 cents\n",
      "3          1810           7239881        $178,445               2.46 cents\n",
      "4          1820           9633822        $208,526               2.16 cents\n",
      "5          1830          12866020        $378,545               2.94 cents\n",
      "6          1840          17069458        $833,371               4.88 cents\n",
      "7          1850          23191876      $1,423,351               6.14 cents\n",
      "8          1860          31443321      $1,969,377               6.26 cents\n",
      "9          1870          38558371      $3,421,198               8.87 cents\n",
      "10         1880          50155783      $5,790,678              11.54 cents\n",
      "11         1890          62979766     $11,547,127              18.33 cents\n",
      "12         1900          76303387     $11,854,000              15.54 cents\n",
      "13         1910          91972266     $15,968,000              17.07 cents\n",
      "14         1920         105710620     $25,117,000              23.76 cents\n",
      "15         1930         122775046     $40,156,000              32.71 cents\n",
      "16         1940         131669275     $67,527,000              51.29 cents\n",
      "17         1950         151325798     $91,462,000              60.44 cents\n",
      "18         1960         179323175    $127,934,000              71.34 cents\n",
      "19         1970         203302031    $247,653,000                    $1.22\n",
      "20         1980         226542199  $1,078,488,000                    $4.76\n",
      "21         1990         248718301  $2,492,830,000                   $10.02\n",
      "22         2000         281421906    $4.5 Billion                   $15.99\n",
      "23        2010*         308745538     $13 Billion                   $42.11\n"
     ]
    }
   ],
   "source": [
    "# display first table \n",
    "print(html_tables[0])"
   ]
  },
  {
   "cell_type": "code",
   "execution_count": 5,
   "metadata": {
    "colab": {
     "base_uri": "https://localhost:8080/",
     "height": 77
    },
    "id": "Q8W--1I5J9zc",
    "outputId": "75953c77-bdb3-4d2d-9be6-dc16f98c08a0"
   },
   "outputs": [
    {
     "name": "stdout",
     "output_type": "stream",
     "text": [
      "                                                   0\n",
      "0  The U.S. population reached 300,000,000 on 17 ...\n"
     ]
    }
   ],
   "source": [
    "# read second table\n",
    "print(html_tables[1])"
   ]
  },
  {
   "cell_type": "code",
   "execution_count": 6,
   "metadata": {
    "id": "2n_CV8JyGtjU"
   },
   "outputs": [],
   "source": [
    "df = html_tables[0]"
   ]
  },
  {
   "cell_type": "markdown",
   "metadata": {
    "id": "U6A2cJUsNaSC"
   },
   "source": [
    "#### 3) Display and explore the data (rows, columns, etc.) and determine the data quality (bad rows, bad columns, bad elements, null values, etc.)"
   ]
  },
  {
   "cell_type": "code",
   "execution_count": 7,
   "metadata": {
    "colab": {
     "base_uri": "https://localhost:8080/",
     "height": 758
    },
    "id": "hGlBvsWPNgWO",
    "outputId": "398f4a5a-1ed3-4686-9132-d6b94b486772"
   },
   "outputs": [
    {
     "name": "stdout",
     "output_type": "stream",
     "text": [
      "              0                 1               2                        3\n",
      "0   Census Year  Total Population     Census Cost  Average Cost Per Person\n",
      "1          1790           3929214         $44,377               1.13 cents\n",
      "2          1800           5308483         $66,109               1.24 cents\n",
      "3          1810           7239881        $178,445               2.46 cents\n",
      "4          1820           9633822        $208,526               2.16 cents\n",
      "5          1830          12866020        $378,545               2.94 cents\n",
      "6          1840          17069458        $833,371               4.88 cents\n",
      "7          1850          23191876      $1,423,351               6.14 cents\n",
      "8          1860          31443321      $1,969,377               6.26 cents\n",
      "9          1870          38558371      $3,421,198               8.87 cents\n",
      "10         1880          50155783      $5,790,678              11.54 cents\n",
      "11         1890          62979766     $11,547,127              18.33 cents\n",
      "12         1900          76303387     $11,854,000              15.54 cents\n",
      "13         1910          91972266     $15,968,000              17.07 cents\n",
      "14         1920         105710620     $25,117,000              23.76 cents\n",
      "15         1930         122775046     $40,156,000              32.71 cents\n",
      "16         1940         131669275     $67,527,000              51.29 cents\n",
      "17         1950         151325798     $91,462,000              60.44 cents\n",
      "18         1960         179323175    $127,934,000              71.34 cents\n",
      "19         1970         203302031    $247,653,000                    $1.22\n",
      "20         1980         226542199  $1,078,488,000                    $4.76\n",
      "21         1990         248718301  $2,492,830,000                   $10.02\n",
      "22         2000         281421906    $4.5 Billion                   $15.99\n",
      "23        2010*         308745538     $13 Billion                   $42.11\n"
     ]
    }
   ],
   "source": [
    "print(df)"
   ]
  },
  {
   "cell_type": "markdown",
   "metadata": {
    "id": "CPBW_SetFJZQ"
   },
   "source": [
    "#### 4) Document the data quality issues using a Markdown cell so the reader understands what the problems are.\n",
    "\n",
    "- **Headers**\n",
    "    - Set the first line of table as the header of the table\n",
    "- **Year Column**\n",
    "    - The last value has \"*\" character\n",
    "- **Census Cost Column**\n",
    "    - Column has \"\\$\" and \",\" characters that need to be removed. \n",
    "    - Some values have \"Billion\" after the numerical value that needs to be converted to integer. \n",
    "- **Average Cost Per Person Column**\n",
    "    - Some rows have \"cents\" and \"$\" characters that need to be removed. \n",
    "    - All values to be converted to dollars so it is easily analyzed. "
   ]
  },
  {
   "cell_type": "code",
   "execution_count": 8,
   "metadata": {
    "colab": {
     "base_uri": "https://localhost:8080/",
     "height": 728
    },
    "id": "iJFoTlH-Nlqp",
    "outputId": "7736529c-e210-4764-e071-2ae5cd700beb"
   },
   "outputs": [
    {
     "name": "stdout",
     "output_type": "stream",
     "text": [
      "0  Census Year Total Population     Census Cost Average Cost Per Person\n",
      "1         1790          3929214         $44,377              1.13 cents\n",
      "2         1800          5308483         $66,109              1.24 cents\n",
      "3         1810          7239881        $178,445              2.46 cents\n",
      "4         1820          9633822        $208,526              2.16 cents\n",
      "5         1830         12866020        $378,545              2.94 cents\n",
      "6         1840         17069458        $833,371              4.88 cents\n",
      "7         1850         23191876      $1,423,351              6.14 cents\n",
      "8         1860         31443321      $1,969,377              6.26 cents\n",
      "9         1870         38558371      $3,421,198              8.87 cents\n",
      "10        1880         50155783      $5,790,678             11.54 cents\n",
      "11        1890         62979766     $11,547,127             18.33 cents\n",
      "12        1900         76303387     $11,854,000             15.54 cents\n",
      "13        1910         91972266     $15,968,000             17.07 cents\n",
      "14        1920        105710620     $25,117,000             23.76 cents\n",
      "15        1930        122775046     $40,156,000             32.71 cents\n",
      "16        1940        131669275     $67,527,000             51.29 cents\n",
      "17        1950        151325798     $91,462,000             60.44 cents\n",
      "18        1960        179323175    $127,934,000             71.34 cents\n",
      "19        1970        203302031    $247,653,000                   $1.22\n",
      "20        1980        226542199  $1,078,488,000                   $4.76\n",
      "21        1990        248718301  $2,492,830,000                  $10.02\n",
      "22        2000        281421906    $4.5 Billion                  $15.99\n",
      "23       2010*        308745538     $13 Billion                  $42.11\n"
     ]
    }
   ],
   "source": [
    "# set row 1 as the headers\n",
    "df.columns = df.iloc[0]\n",
    "\n",
    "# drop the first row \n",
    "df = df.drop(df.index[0])\n",
    "\n",
    "print(df)"
   ]
  },
  {
   "cell_type": "markdown",
   "metadata": {
    "id": "0Laz4Om8FJb2"
   },
   "source": [
    "#### 5) Write a function named cleanse_year() that takes a string as input and removes any asterisks in the string and return the cleansed string. Test the function by using test strings (for example, \"1989*\", \"20*10\")"
   ]
  },
  {
   "cell_type": "code",
   "execution_count": 9,
   "metadata": {
    "id": "yzOa01NKSZxv"
   },
   "outputs": [],
   "source": [
    "# remove * character from the data\n",
    "def cleanse_year(old_year):\n",
    "    new_year = int(old_year.replace('*',''))\n",
    "    return new_year"
   ]
  },
  {
   "cell_type": "code",
   "execution_count": 10,
   "metadata": {
    "colab": {
     "base_uri": "https://localhost:8080/"
    },
    "id": "RxJw3wE-Ran5",
    "outputId": "a617d4f8-851c-4a75-906d-825ea698e929"
   },
   "outputs": [
    {
     "data": {
      "text/plain": [
       "1989"
      ]
     },
     "execution_count": 10,
     "metadata": {},
     "output_type": "execute_result"
    }
   ],
   "source": [
    "# test cleanse_year function\n",
    "\n",
    "#cleanse_year('20******10')\n",
    "cleanse_year('1989*')"
   ]
  },
  {
   "cell_type": "markdown",
   "metadata": {
    "id": "6YYBK3W2FJer"
   },
   "source": [
    "#### 6) Cleanse the column \"Census Year\" using the function cleanse_year() and Pandas's apply() function."
   ]
  },
  {
   "cell_type": "code",
   "execution_count": 11,
   "metadata": {
    "colab": {
     "base_uri": "https://localhost:8080/"
    },
    "id": "RCmzLlnyOnZQ",
    "outputId": "886b5f6b-360e-4196-9d93-f11268fbc6c9"
   },
   "outputs": [
    {
     "name": "stdout",
     "output_type": "stream",
     "text": [
      "1     1790\n",
      "2     1800\n",
      "3     1810\n",
      "4     1820\n",
      "5     1830\n",
      "6     1840\n",
      "7     1850\n",
      "8     1860\n",
      "9     1870\n",
      "10    1880\n",
      "11    1890\n",
      "12    1900\n",
      "13    1910\n",
      "14    1920\n",
      "15    1930\n",
      "16    1940\n",
      "17    1950\n",
      "18    1960\n",
      "19    1970\n",
      "20    1980\n",
      "21    1990\n",
      "22    2000\n",
      "23    2010\n",
      "Name: Census Year, dtype: int64\n"
     ]
    }
   ],
   "source": [
    "# apply census_year function to 'Census Year' column\n",
    "census_years = df['Census Year'].apply(cleanse_year)\n",
    "\n",
    "print(census_years)"
   ]
  },
  {
   "cell_type": "markdown",
   "metadata": {
    "id": "qZkJTPy9FJiU"
   },
   "source": [
    "#### 7) Repeat this process for column \"Total Population\", \"Census Cost\", \"Average Cost Per Person\". (define, test, and apply the function)"
   ]
  },
  {
   "cell_type": "code",
   "execution_count": 12,
   "metadata": {
    "colab": {
     "base_uri": "https://localhost:8080/"
    },
    "id": "skZV38l3WFfD",
    "outputId": "86add6e0-43df-4bbe-c328-41bc7e76c3f6"
   },
   "outputs": [
    {
     "name": "stdout",
     "output_type": "stream",
     "text": [
      "1       3929214\n",
      "2       5308483\n",
      "3       7239881\n",
      "4       9633822\n",
      "5      12866020\n",
      "6      17069458\n",
      "7      23191876\n",
      "8      31443321\n",
      "9      38558371\n",
      "10     50155783\n",
      "11     62979766\n",
      "12     76303387\n",
      "13     91972266\n",
      "14    105710620\n",
      "15    122775046\n",
      "16    131669275\n",
      "17    151325798\n",
      "18    179323175\n",
      "19    203302031\n",
      "20    226542199\n",
      "21    248718301\n",
      "22    281421906\n",
      "23    308745538\n",
      "Name: Total Population, dtype: object\n"
     ]
    }
   ],
   "source": [
    "# Total Population column does not have any data errors. \n",
    "census_pop = df['Total Population']\n",
    "\n",
    "print(census_pop)"
   ]
  },
  {
   "cell_type": "code",
   "execution_count": 13,
   "metadata": {
    "id": "Kmoxqyg4zse5"
   },
   "outputs": [],
   "source": [
    "# remove '$', commas and 'Billion' from the data; convert data in numerical values\n",
    "def cleanse_cost(old_cost):\n",
    "    new_cost = old_cost.replace(\"$\",\"\").replace(\",\",\"\").replace(' Billion', '')\n",
    "    if '4.5' in old_cost: \n",
    "        new_cost = '4500000'\n",
    "    elif '13' in old_cost:\n",
    "        new_cost = '13000000000'\n",
    "    return new_cost"
   ]
  },
  {
   "cell_type": "code",
   "execution_count": 14,
   "metadata": {
    "colab": {
     "base_uri": "https://localhost:8080/",
     "height": 35
    },
    "id": "KXnatBqm1-rt",
    "outputId": "cb3fc535-4f58-4118-eb60-fb8d462905df"
   },
   "outputs": [
    {
     "data": {
      "text/plain": [
       "'2000000'"
      ]
     },
     "execution_count": 14,
     "metadata": {},
     "output_type": "execute_result"
    }
   ],
   "source": [
    "# test cleanse_cost function\n",
    "\n",
    "cleanse_cost('$2,000,000 Billion')"
   ]
  },
  {
   "cell_type": "code",
   "execution_count": 15,
   "metadata": {
    "colab": {
     "base_uri": "https://localhost:8080/"
    },
    "id": "3UzWRfhG0CdX",
    "outputId": "f9113aee-fc82-442d-f7b7-d39afa299334"
   },
   "outputs": [
    {
     "name": "stdout",
     "output_type": "stream",
     "text": [
      "1           44377\n",
      "2           66109\n",
      "3          178445\n",
      "4          208526\n",
      "5          378545\n",
      "6          833371\n",
      "7         1423351\n",
      "8         1969377\n",
      "9         3421198\n",
      "10        5790678\n",
      "11       11547127\n",
      "12       11854000\n",
      "13       15968000\n",
      "14       25117000\n",
      "15       40156000\n",
      "16       67527000\n",
      "17       91462000\n",
      "18      127934000\n",
      "19      247653000\n",
      "20     1078488000\n",
      "21     2492830000\n",
      "22        4500000\n",
      "23    13000000000\n",
      "Name: Census Cost, dtype: object\n"
     ]
    }
   ],
   "source": [
    "# apply census_costs function to 'Census Cost' column\n",
    "census_costs = df['Census Cost'].apply(cleanse_cost)\n",
    "\n",
    "print(census_costs)"
   ]
  },
  {
   "cell_type": "code",
   "execution_count": 16,
   "metadata": {
    "id": "HFyfOp5LgbNV"
   },
   "outputs": [],
   "source": [
    "# remove 'cent' and '$' from the data; convert numbers so that data is all in dollars. \n",
    "def cleanse_avg(old_avg):\n",
    "    if 'cent' in old_avg:\n",
    "        new_avg = float(old_avg.replace(' cents', ''))/100\n",
    "    elif '$' in old_avg:\n",
    "        new_avg = old_avg.replace('$','')\n",
    "    else:\n",
    "        new_avg = old_avg\n",
    "    return new_avg"
   ]
  },
  {
   "cell_type": "code",
   "execution_count": 17,
   "metadata": {
    "colab": {
     "base_uri": "https://localhost:8080/",
     "height": 35
    },
    "id": "nFGWcmwL2pb8",
    "outputId": "792748e9-f4b7-4256-b239-46d3d754227a"
   },
   "outputs": [
    {
     "data": {
      "text/plain": [
       "'3.66'"
      ]
     },
     "execution_count": 17,
     "metadata": {},
     "output_type": "execute_result"
    }
   ],
   "source": [
    "# test cleanse_avg function\n",
    "\n",
    "#cleanse_avg('3 cents')\n",
    "cleanse_avg('$3.66')"
   ]
  },
  {
   "cell_type": "code",
   "execution_count": 18,
   "metadata": {
    "colab": {
     "base_uri": "https://localhost:8080/"
    },
    "id": "fzycuq_uT97A",
    "outputId": "2dcdbcc8-8dcd-428c-aa95-ac15bae2fb9f"
   },
   "outputs": [
    {
     "name": "stdout",
     "output_type": "stream",
     "text": [
      "1     0.0113\n",
      "2     0.0124\n",
      "3     0.0246\n",
      "4     0.0216\n",
      "5     0.0294\n",
      "6     0.0488\n",
      "7     0.0614\n",
      "8     0.0626\n",
      "9     0.0887\n",
      "10    0.1154\n",
      "11    0.1833\n",
      "12    0.1554\n",
      "13    0.1707\n",
      "14    0.2376\n",
      "15    0.3271\n",
      "16    0.5129\n",
      "17    0.6044\n",
      "18    0.7134\n",
      "19      1.22\n",
      "20      4.76\n",
      "21     10.02\n",
      "22     15.99\n",
      "23     42.11\n",
      "Name: Average Cost Per Person, dtype: object\n"
     ]
    }
   ],
   "source": [
    "# apply census_avg function to 'Average Cost Per Person' column\n",
    "census_avgs = df['Average Cost Per Person'].apply(cleanse_avg)\n",
    "\n",
    "print(census_avgs)"
   ]
  },
  {
   "cell_type": "markdown",
   "metadata": {
    "id": "Rpvq3HJWFew2"
   },
   "source": [
    "#### 8) After all columns are cleansed, save the clenased dataframe to a file named \"census_cost_cleansed.csv\" using CSV format."
   ]
  },
  {
   "cell_type": "code",
   "execution_count": 19,
   "metadata": {
    "id": "9mEgqzUbUSO3"
   },
   "outputs": [],
   "source": [
    "output = {'Census Year': census_years, 'Total Population': census_pop, 'Census Cost': census_costs, 'Average Cost Per Person': census_avgs}\n",
    "\n",
    "output_df = pd.DataFrame(output)\n",
    "\n",
    "output_df.to_csv('census_cost_cleansed.csv', index = False)"
   ]
  },
  {
   "cell_type": "markdown",
   "metadata": {
    "id": "sdI0VmOSFezT"
   },
   "source": [
    "#### 9) Use Pandas to read the saved cleansed file and explore to make sure it is clean."
   ]
  },
  {
   "cell_type": "code",
   "execution_count": 20,
   "metadata": {
    "colab": {
     "base_uri": "https://localhost:8080/",
     "height": 728
    },
    "id": "rkpdnFcrXHDO",
    "outputId": "b86a02fa-b0ec-4cf0-aca1-b21e672088d0"
   },
   "outputs": [
    {
     "data": {
      "text/html": [
       "<div>\n",
       "<style scoped>\n",
       "    .dataframe tbody tr th:only-of-type {\n",
       "        vertical-align: middle;\n",
       "    }\n",
       "\n",
       "    .dataframe tbody tr th {\n",
       "        vertical-align: top;\n",
       "    }\n",
       "\n",
       "    .dataframe thead th {\n",
       "        text-align: right;\n",
       "    }\n",
       "</style>\n",
       "<table border=\"1\" class=\"dataframe\">\n",
       "  <thead>\n",
       "    <tr style=\"text-align: right;\">\n",
       "      <th></th>\n",
       "      <th>Census Year</th>\n",
       "      <th>Total Population</th>\n",
       "      <th>Census Cost</th>\n",
       "      <th>Average Cost Per Person</th>\n",
       "    </tr>\n",
       "  </thead>\n",
       "  <tbody>\n",
       "    <tr>\n",
       "      <th>0</th>\n",
       "      <td>1790</td>\n",
       "      <td>3929214</td>\n",
       "      <td>44377</td>\n",
       "      <td>0.0113</td>\n",
       "    </tr>\n",
       "    <tr>\n",
       "      <th>1</th>\n",
       "      <td>1800</td>\n",
       "      <td>5308483</td>\n",
       "      <td>66109</td>\n",
       "      <td>0.0124</td>\n",
       "    </tr>\n",
       "    <tr>\n",
       "      <th>2</th>\n",
       "      <td>1810</td>\n",
       "      <td>7239881</td>\n",
       "      <td>178445</td>\n",
       "      <td>0.0246</td>\n",
       "    </tr>\n",
       "    <tr>\n",
       "      <th>3</th>\n",
       "      <td>1820</td>\n",
       "      <td>9633822</td>\n",
       "      <td>208526</td>\n",
       "      <td>0.0216</td>\n",
       "    </tr>\n",
       "    <tr>\n",
       "      <th>4</th>\n",
       "      <td>1830</td>\n",
       "      <td>12866020</td>\n",
       "      <td>378545</td>\n",
       "      <td>0.0294</td>\n",
       "    </tr>\n",
       "    <tr>\n",
       "      <th>5</th>\n",
       "      <td>1840</td>\n",
       "      <td>17069458</td>\n",
       "      <td>833371</td>\n",
       "      <td>0.0488</td>\n",
       "    </tr>\n",
       "    <tr>\n",
       "      <th>6</th>\n",
       "      <td>1850</td>\n",
       "      <td>23191876</td>\n",
       "      <td>1423351</td>\n",
       "      <td>0.0614</td>\n",
       "    </tr>\n",
       "    <tr>\n",
       "      <th>7</th>\n",
       "      <td>1860</td>\n",
       "      <td>31443321</td>\n",
       "      <td>1969377</td>\n",
       "      <td>0.0626</td>\n",
       "    </tr>\n",
       "    <tr>\n",
       "      <th>8</th>\n",
       "      <td>1870</td>\n",
       "      <td>38558371</td>\n",
       "      <td>3421198</td>\n",
       "      <td>0.0887</td>\n",
       "    </tr>\n",
       "    <tr>\n",
       "      <th>9</th>\n",
       "      <td>1880</td>\n",
       "      <td>50155783</td>\n",
       "      <td>5790678</td>\n",
       "      <td>0.1154</td>\n",
       "    </tr>\n",
       "    <tr>\n",
       "      <th>10</th>\n",
       "      <td>1890</td>\n",
       "      <td>62979766</td>\n",
       "      <td>11547127</td>\n",
       "      <td>0.1833</td>\n",
       "    </tr>\n",
       "    <tr>\n",
       "      <th>11</th>\n",
       "      <td>1900</td>\n",
       "      <td>76303387</td>\n",
       "      <td>11854000</td>\n",
       "      <td>0.1554</td>\n",
       "    </tr>\n",
       "    <tr>\n",
       "      <th>12</th>\n",
       "      <td>1910</td>\n",
       "      <td>91972266</td>\n",
       "      <td>15968000</td>\n",
       "      <td>0.1707</td>\n",
       "    </tr>\n",
       "    <tr>\n",
       "      <th>13</th>\n",
       "      <td>1920</td>\n",
       "      <td>105710620</td>\n",
       "      <td>25117000</td>\n",
       "      <td>0.2376</td>\n",
       "    </tr>\n",
       "    <tr>\n",
       "      <th>14</th>\n",
       "      <td>1930</td>\n",
       "      <td>122775046</td>\n",
       "      <td>40156000</td>\n",
       "      <td>0.3271</td>\n",
       "    </tr>\n",
       "    <tr>\n",
       "      <th>15</th>\n",
       "      <td>1940</td>\n",
       "      <td>131669275</td>\n",
       "      <td>67527000</td>\n",
       "      <td>0.5129</td>\n",
       "    </tr>\n",
       "    <tr>\n",
       "      <th>16</th>\n",
       "      <td>1950</td>\n",
       "      <td>151325798</td>\n",
       "      <td>91462000</td>\n",
       "      <td>0.6044</td>\n",
       "    </tr>\n",
       "    <tr>\n",
       "      <th>17</th>\n",
       "      <td>1960</td>\n",
       "      <td>179323175</td>\n",
       "      <td>127934000</td>\n",
       "      <td>0.7134</td>\n",
       "    </tr>\n",
       "    <tr>\n",
       "      <th>18</th>\n",
       "      <td>1970</td>\n",
       "      <td>203302031</td>\n",
       "      <td>247653000</td>\n",
       "      <td>1.2200</td>\n",
       "    </tr>\n",
       "    <tr>\n",
       "      <th>19</th>\n",
       "      <td>1980</td>\n",
       "      <td>226542199</td>\n",
       "      <td>1078488000</td>\n",
       "      <td>4.7600</td>\n",
       "    </tr>\n",
       "    <tr>\n",
       "      <th>20</th>\n",
       "      <td>1990</td>\n",
       "      <td>248718301</td>\n",
       "      <td>2492830000</td>\n",
       "      <td>10.0200</td>\n",
       "    </tr>\n",
       "    <tr>\n",
       "      <th>21</th>\n",
       "      <td>2000</td>\n",
       "      <td>281421906</td>\n",
       "      <td>4500000</td>\n",
       "      <td>15.9900</td>\n",
       "    </tr>\n",
       "    <tr>\n",
       "      <th>22</th>\n",
       "      <td>2010</td>\n",
       "      <td>308745538</td>\n",
       "      <td>13000000000</td>\n",
       "      <td>42.1100</td>\n",
       "    </tr>\n",
       "  </tbody>\n",
       "</table>\n",
       "</div>"
      ],
      "text/plain": [
       "    Census Year  Total Population  Census Cost  Average Cost Per Person\n",
       "0          1790           3929214        44377                   0.0113\n",
       "1          1800           5308483        66109                   0.0124\n",
       "2          1810           7239881       178445                   0.0246\n",
       "3          1820           9633822       208526                   0.0216\n",
       "4          1830          12866020       378545                   0.0294\n",
       "5          1840          17069458       833371                   0.0488\n",
       "6          1850          23191876      1423351                   0.0614\n",
       "7          1860          31443321      1969377                   0.0626\n",
       "8          1870          38558371      3421198                   0.0887\n",
       "9          1880          50155783      5790678                   0.1154\n",
       "10         1890          62979766     11547127                   0.1833\n",
       "11         1900          76303387     11854000                   0.1554\n",
       "12         1910          91972266     15968000                   0.1707\n",
       "13         1920         105710620     25117000                   0.2376\n",
       "14         1930         122775046     40156000                   0.3271\n",
       "15         1940         131669275     67527000                   0.5129\n",
       "16         1950         151325798     91462000                   0.6044\n",
       "17         1960         179323175    127934000                   0.7134\n",
       "18         1970         203302031    247653000                   1.2200\n",
       "19         1980         226542199   1078488000                   4.7600\n",
       "20         1990         248718301   2492830000                  10.0200\n",
       "21         2000         281421906      4500000                  15.9900\n",
       "22         2010         308745538  13000000000                  42.1100"
      ]
     },
     "execution_count": 20,
     "metadata": {},
     "output_type": "execute_result"
    }
   ],
   "source": [
    "pd.read_csv('census_cost_cleansed.csv')"
   ]
  }
 ],
 "metadata": {
  "colab": {
   "collapsed_sections": [],
   "name": "690_Assignment_06.ipynb",
   "provenance": []
  },
  "kernelspec": {
   "display_name": "Python 3",
   "language": "python",
   "name": "python3"
  },
  "language_info": {
   "codemirror_mode": {
    "name": "ipython",
    "version": 3
   },
   "file_extension": ".py",
   "mimetype": "text/x-python",
   "name": "python",
   "nbconvert_exporter": "python",
   "pygments_lexer": "ipython3",
   "version": "3.8.5"
  }
 },
 "nbformat": 4,
 "nbformat_minor": 1
}
