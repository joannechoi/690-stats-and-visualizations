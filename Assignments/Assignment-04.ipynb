{
 "cells": [
  {
   "cell_type": "markdown",
   "id": "rocky-violence",
   "metadata": {},
   "source": [
    "# Assignment 4 \n",
    "\n",
    "1. Write code to open the text file census_cost.txt and read all lines into a list named **\"line_list\"**. Print line_list."
   ]
  },
  {
   "cell_type": "code",
   "execution_count": 47,
   "id": "enhanced-bargain",
   "metadata": {},
   "outputs": [
    {
     "name": "stdout",
     "output_type": "stream",
     "text": [
      "Source: https://www.genealogybranches.com/censuscosts.html\n",
      "Census Year, Total Population, Census Cost, Average Cost Per Person\n",
      "1790, 3,929,214, $44,377, 1.13 cents\n",
      "1800, 5,308,483, $66,109, 1.24 cents\n",
      "1810, 7,239,881, $178,445, 2.46 cents\n",
      "1820, 9,633,822, $208,526, 2.16 cents\n",
      "1830, 12,866,020, $378,545, 2.94 cents\n",
      "1840, 17,069,458, $833,371, 4.88 cents\n",
      "1850, 23,191,876, $1,423,351, 6.14 cents\n",
      "1860, 31,443,321, $1,969,377, 6.26 cents\n",
      "1870, 38,558,371, $3,421,198, 8.87 cents\n",
      "1880, 50,155,783, $5,790,678, 11.54 cents\n",
      "1890, 62,979,766, $11,547,127, 18.33 cents\n",
      "1900, 76,303,387, $11,854,000, 15.54 cents\n",
      "1910, 91,972,266, $15,968,000, 17.07 cents\n",
      "1920, 105,710,620, $25,117,000, 23.76 cents\n",
      "1930, 122,775,046, $40,156,000, 32.71 cents\n",
      "1940, 131,669,275, $67,527,000, 51.29 cents\n",
      "1950, 151,325,798, $91,462,000, 60.44 cents\n",
      "1960, 179,323,175, $127,934,000, 71.34 cents\n",
      "1970, 203,302,031, $247,653,000, $1.22\n",
      "1980, 226,542,199, $1,078,488,000, $4.76\n",
      "1990, 248,718,301, $2,492,830,000, $10.02\n",
      "2000, 281,421,906, $4.5 Billion, $15.99\n",
      "2010*, 308,745,538, $13 Billion, $42.11\n"
     ]
    }
   ],
   "source": [
    "import os\n",
    "\n",
    "base_path = \"C:\\\\Users\\\\HaChoi\\\\Documents\\\\Admin\\\\School\\\\Classes\\\\DATA690\"\n",
    "filename = \"census_cost.txt\"\n",
    "path_to_file = os.path.join(base_path, filename)\n",
    "\n",
    "with open(path_to_file, \"tr\") as data:\n",
    "    data = data.readlines()\n",
    "\n",
    "line_list = [] \n",
    "for row in data:\n",
    "    remove_chars = row.replace(\"\\t\", \", \").replace(\"\\n\", \"\")\n",
    "    line_list.append(remove_chars)\n",
    "\n",
    "for i in line_list:\n",
    "    print(i)"
   ]
  },
  {
   "cell_type": "markdown",
   "id": "macro-squad",
   "metadata": {},
   "source": [
    "2. Extract the first two lines and put them in a different list named \"top2_list\". You will need to use them later. Print the top2_list."
   ]
  },
  {
   "cell_type": "code",
   "execution_count": 48,
   "id": "adjustable-alarm",
   "metadata": {},
   "outputs": [
    {
     "data": {
      "text/plain": [
       "[['Source: https://www.genealogybranches.com/censuscosts.html'],\n",
       " ['Census Year',\n",
       "  ' Total Population',\n",
       "  ' Census Cost',\n",
       "  ' Average Cost Per Person']]"
      ]
     },
     "execution_count": 48,
     "metadata": {},
     "output_type": "execute_result"
    }
   ],
   "source": [
    "top2 = line_list[:2]\n",
    "top2_list = []\n",
    "\n",
    "for i in top2:\n",
    "    headers = i.split(\",\")\n",
    "    top2_list.append(headers)\n",
    "\n",
    "top2_list"
   ]
  },
  {
   "cell_type": "markdown",
   "id": "numerous-robin",
   "metadata": {},
   "source": [
    "3. Put the rest of the lines (containing useful data elements) in a new list named **\"data_list\"**. Print data_list."
   ]
  },
  {
   "cell_type": "code",
   "execution_count": 49,
   "id": "extended-jurisdiction",
   "metadata": {},
   "outputs": [
    {
     "name": "stdout",
     "output_type": "stream",
     "text": [
      "1790, 3,929,214, $44,377, 1.13 cents\n",
      "1800, 5,308,483, $66,109, 1.24 cents\n",
      "1810, 7,239,881, $178,445, 2.46 cents\n",
      "1820, 9,633,822, $208,526, 2.16 cents\n",
      "1830, 12,866,020, $378,545, 2.94 cents\n",
      "1840, 17,069,458, $833,371, 4.88 cents\n",
      "1850, 23,191,876, $1,423,351, 6.14 cents\n",
      "1860, 31,443,321, $1,969,377, 6.26 cents\n",
      "1870, 38,558,371, $3,421,198, 8.87 cents\n",
      "1880, 50,155,783, $5,790,678, 11.54 cents\n",
      "1890, 62,979,766, $11,547,127, 18.33 cents\n",
      "1900, 76,303,387, $11,854,000, 15.54 cents\n",
      "1910, 91,972,266, $15,968,000, 17.07 cents\n",
      "1920, 105,710,620, $25,117,000, 23.76 cents\n",
      "1930, 122,775,046, $40,156,000, 32.71 cents\n",
      "1940, 131,669,275, $67,527,000, 51.29 cents\n",
      "1950, 151,325,798, $91,462,000, 60.44 cents\n",
      "1960, 179,323,175, $127,934,000, 71.34 cents\n",
      "1970, 203,302,031, $247,653,000, $1.22\n",
      "1980, 226,542,199, $1,078,488,000, $4.76\n",
      "1990, 248,718,301, $2,492,830,000, $10.02\n",
      "2000, 281,421,906, $4.5 Billion, $15.99\n",
      "2010*, 308,745,538, $13 Billion, $42.11\n"
     ]
    }
   ],
   "source": [
    "data_list = line_list[2:]\n",
    "\n",
    "for i in data_list:\n",
    "    print(i)"
   ]
  },
  {
   "cell_type": "markdown",
   "id": "spare-conspiracy",
   "metadata": {},
   "source": [
    "4. Extract the column **\"Census Year\"** from data_list and assign them to a list named **year_list**. Remove the \"*\" from the last element \"2010\". Print the cleansed year_list."
   ]
  },
  {
   "cell_type": "code",
   "execution_count": 51,
   "id": "copyrighted-binary",
   "metadata": {},
   "outputs": [
    {
     "data": {
      "text/plain": [
       "['1790',\n",
       " '1800',\n",
       " '1810',\n",
       " '1820',\n",
       " '1830',\n",
       " '1840',\n",
       " '1850',\n",
       " '1860',\n",
       " '1870',\n",
       " '1880',\n",
       " '1890',\n",
       " '1900',\n",
       " '1910',\n",
       " '1920',\n",
       " '1930',\n",
       " '1940',\n",
       " '1950',\n",
       " '1960',\n",
       " '1970',\n",
       " '1980',\n",
       " '1990',\n",
       " '2000',\n",
       " '2010']"
      ]
     },
     "execution_count": 51,
     "metadata": {},
     "output_type": "execute_result"
    }
   ],
   "source": [
    "year_list = []\n",
    "\n",
    "for i in data_list:\n",
    "    years = i.split()[0].replace(\"*\",\"\").replace(\",\",\"\")\n",
    "    year_list.append(years) \n",
    "year_list"
   ]
  },
  {
   "cell_type": "markdown",
   "id": "valid-drink",
   "metadata": {},
   "source": [
    "5. Extract the **\"Total Population\"** column from the data_list and assign them to a list named **\"pop_list\"**. Remove the \",\" from the numbers since Python doesn't recognize them. Print the cleansed \"pop_list\"."
   ]
  },
  {
   "cell_type": "code",
   "execution_count": 52,
   "id": "spatial-disability",
   "metadata": {},
   "outputs": [
    {
     "data": {
      "text/plain": [
       "['3929214',\n",
       " '5308483',\n",
       " '7239881',\n",
       " '9633822',\n",
       " '12866020',\n",
       " '17069458',\n",
       " '23191876',\n",
       " '31443321',\n",
       " '38558371',\n",
       " '50155783',\n",
       " '62979766',\n",
       " '76303387',\n",
       " '91972266',\n",
       " '105710620',\n",
       " '122775046',\n",
       " '131669275',\n",
       " '151325798',\n",
       " '179323175',\n",
       " '203302031',\n",
       " '226542199',\n",
       " '248718301',\n",
       " '281421906',\n",
       " '308745538']"
      ]
     },
     "execution_count": 52,
     "metadata": {},
     "output_type": "execute_result"
    }
   ],
   "source": [
    "pop_list = []\n",
    "\n",
    "for i in data_list:\n",
    "    pop = i.split()[1].replace(\",\",\"\")\n",
    "    pop_list.append(pop)\n",
    "\n",
    "pop_list"
   ]
  },
  {
   "cell_type": "markdown",
   "id": "suffering-third",
   "metadata": {},
   "source": [
    "6. Extract the **\"Census Cost\"** column from the data_list and assign them to a list named **\"cost_list\"**. Remove the \",\", and \"$\", and \"Billion\". Make sure to add the \"0\"s to the numbers from which you removed \"Billion\". Print the cleansed cost_list."
   ]
  },
  {
   "cell_type": "code",
   "execution_count": 53,
   "id": "south-irish",
   "metadata": {},
   "outputs": [
    {
     "data": {
      "text/plain": [
       "['44377',\n",
       " '66109',\n",
       " '178445',\n",
       " '208526',\n",
       " '378545',\n",
       " '833371',\n",
       " '1423351',\n",
       " '1969377',\n",
       " '3421198',\n",
       " '5790678',\n",
       " '11547127',\n",
       " '11854000',\n",
       " '15968000',\n",
       " '25117000',\n",
       " '40156000',\n",
       " '67527000',\n",
       " '91462000',\n",
       " '127934000',\n",
       " '247653000',\n",
       " '1078488000',\n",
       " '2492830000',\n",
       " '4500000',\n",
       " '13000000000']"
      ]
     },
     "execution_count": 53,
     "metadata": {},
     "output_type": "execute_result"
    }
   ],
   "source": [
    "cost_list = []\n",
    "\n",
    "for i in data_list:\n",
    "    cost = i.split()[2].replace(\"$\",\"\").replace(\",\",\"\").replace('4.5','4500000').replace('13','13000000000')\n",
    "    cost_list.append(cost)\n",
    "\n",
    "cost_list"
   ]
  },
  {
   "cell_type": "markdown",
   "id": "familiar-activity",
   "metadata": {},
   "source": [
    "7. Extract the **\"Average Cost per Person\"** column from the data_list and assign them to a list named **\"avg_list\"**. Remove the \"cents\", and \"$\". Make sure to divide the numbers in cents by 100 so that all numbers are measured in dollar. Print the cleansed avg_list."
   ]
  },
  {
   "cell_type": "code",
   "execution_count": 54,
   "id": "adequate-domestic",
   "metadata": {},
   "outputs": [
    {
     "data": {
      "text/plain": [
       "['1.13',\n",
       " '1.24',\n",
       " '2.46',\n",
       " '2.16',\n",
       " '2.94',\n",
       " '4.88',\n",
       " '6.14',\n",
       " '6.26',\n",
       " '8.87',\n",
       " '11.54',\n",
       " '18.33',\n",
       " '15.54',\n",
       " '17.07',\n",
       " '23.76',\n",
       " '32.71',\n",
       " '51.29',\n",
       " '60.44',\n",
       " '71.34',\n",
       " '1.22',\n",
       " '4.76',\n",
       " '10.02',\n",
       " '15.99',\n",
       " '42.11']"
      ]
     },
     "execution_count": 54,
     "metadata": {},
     "output_type": "execute_result"
    }
   ],
   "source": [
    "pp_list = []\n",
    "pp_list2 = []\n",
    "\n",
    "for i in data_list:\n",
    "    cost_pp1 = i.replace(\" cents\",\"\")\n",
    "    pp_list.append(cost_pp1)\n",
    "    \n",
    "for i in pp_list:\n",
    "    cost_pp2 = i.split()[-1].replace(\"$\",\"\")\n",
    "    pp_list2.append(cost_pp2)\n",
    "\n",
    "pp_list2"
   ]
  },
  {
   "cell_type": "code",
   "execution_count": 55,
   "id": "necessary-buffer",
   "metadata": {},
   "outputs": [
    {
     "data": {
      "text/plain": [
       "['0.0113',\n",
       " '0.0124',\n",
       " '0.0246',\n",
       " '0.0216',\n",
       " '0.0294',\n",
       " '0.0488',\n",
       " '0.0614',\n",
       " '0.0626',\n",
       " '0.0887',\n",
       " '0.1154',\n",
       " '0.1833',\n",
       " '0.1554',\n",
       " '0.1707',\n",
       " '0.2376',\n",
       " '0.3271',\n",
       " '0.5129',\n",
       " '0.6044',\n",
       " '0.7134',\n",
       " '1.22',\n",
       " '4.76',\n",
       " '10.02',\n",
       " '15.99',\n",
       " '42.11']"
      ]
     },
     "execution_count": 55,
     "metadata": {},
     "output_type": "execute_result"
    }
   ],
   "source": [
    "avg_list = []\n",
    "\n",
    "for i in pp_list2:\n",
    "    if i in pp_list2[:-5]:\n",
    "        dollars = round((float(i) / 100), 4)\n",
    "    else:\n",
    "        dollars = i\n",
    "    avg_list.append(str(dollars))\n",
    "    \n",
    "avg_list"
   ]
  },
  {
   "cell_type": "markdown",
   "id": "human-salad",
   "metadata": {},
   "source": [
    "8. Coalesce the cleansed data and save them to a text file named \"census_cost.csv\". The new file should look similar to the original source file except that it is in comma-delimited format and the numbers have been cleansed. The top two lines from the original file should be retained in the new file."
   ]
  },
  {
   "cell_type": "code",
   "execution_count": 56,
   "id": "greek-cleaners",
   "metadata": {},
   "outputs": [
    {
     "data": {
      "text/plain": [
       "[('1790', '3929214', '44377', '0.0113'),\n",
       " ('1800', '5308483', '66109', '0.0124'),\n",
       " ('1810', '7239881', '178445', '0.0246'),\n",
       " ('1820', '9633822', '208526', '0.0216'),\n",
       " ('1830', '12866020', '378545', '0.0294'),\n",
       " ('1840', '17069458', '833371', '0.0488'),\n",
       " ('1850', '23191876', '1423351', '0.0614'),\n",
       " ('1860', '31443321', '1969377', '0.0626'),\n",
       " ('1870', '38558371', '3421198', '0.0887'),\n",
       " ('1880', '50155783', '5790678', '0.1154'),\n",
       " ('1890', '62979766', '11547127', '0.1833'),\n",
       " ('1900', '76303387', '11854000', '0.1554'),\n",
       " ('1910', '91972266', '15968000', '0.1707'),\n",
       " ('1920', '105710620', '25117000', '0.2376'),\n",
       " ('1930', '122775046', '40156000', '0.3271'),\n",
       " ('1940', '131669275', '67527000', '0.5129'),\n",
       " ('1950', '151325798', '91462000', '0.6044'),\n",
       " ('1960', '179323175', '127934000', '0.7134'),\n",
       " ('1970', '203302031', '247653000', '1.22'),\n",
       " ('1980', '226542199', '1078488000', '4.76'),\n",
       " ('1990', '248718301', '2492830000', '10.02'),\n",
       " ('2000', '281421906', '4500000', '15.99'),\n",
       " ('2010', '308745538', '13000000000', '42.11')]"
      ]
     },
     "execution_count": 56,
     "metadata": {},
     "output_type": "execute_result"
    }
   ],
   "source": [
    "clean = zip(year_list, pop_list, cost_list, avg_list)\n",
    "\n",
    "clean_data = list(clean)\n",
    "\n",
    "clean_data"
   ]
  },
  {
   "cell_type": "code",
   "execution_count": 57,
   "id": "engaged-typing",
   "metadata": {},
   "outputs": [],
   "source": [
    "import csv \n",
    "output_file = \"census_cost.csv\"\n",
    "path_to_output = os.path.join(base_path, output_file)\n",
    "\n",
    "with open(path_to_output, 'w', newline ='') as output:  \n",
    "    # creating a csv writer object  \n",
    "    csvwriter = csv.writer(output)  \n",
    "        \n",
    "    # writing the fields  \n",
    "    csvwriter.writerow(list(top2_list)[0])\n",
    "    csvwriter.writerow(list(top2_list)[1])\n",
    "        \n",
    "    # writing the data rows  \n",
    "    csvwriter.writerows(clean_data) "
   ]
  }
 ],
 "metadata": {
  "kernelspec": {
   "display_name": "Python 3",
   "language": "python",
   "name": "python3"
  },
  "language_info": {
   "codemirror_mode": {
    "name": "ipython",
    "version": 3
   },
   "file_extension": ".py",
   "mimetype": "text/x-python",
   "name": "python",
   "nbconvert_exporter": "python",
   "pygments_lexer": "ipython3",
   "version": "3.8.5"
  }
 },
 "nbformat": 4,
 "nbformat_minor": 5
}
