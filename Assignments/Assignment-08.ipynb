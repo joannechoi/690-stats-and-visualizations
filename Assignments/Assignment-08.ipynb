{
  "cells": [
    {
      "cell_type": "markdown",
      "source": "#### 1 - Import libraries",
      "metadata": {
        "tags": [],
        "cell_id": "00000-1e478277-8fd6-44d1-a823-8b403d69300e",
        "deepnote_cell_type": "markdown"
      }
    },
    {
      "cell_type": "code",
      "metadata": {
        "tags": [],
        "cell_id": "00000-9bd52857-cc7b-4052-8559-7a1216a23681",
        "deepnote_to_be_reexecuted": false,
        "source_hash": "c67b7183",
        "execution_millis": 441,
        "execution_start": 1618547764496,
        "deepnote_cell_type": "code"
      },
      "source": "import os\nimport random\nimport pandas as pd\nimport matplotlib.pyplot as plt",
      "execution_count": 1,
      "outputs": []
    },
    {
      "cell_type": "markdown",
      "source": "#### 2 - Retrieve the names of the 22 files and assign them to a List variable",
      "metadata": {
        "tags": [],
        "cell_id": "00001-db7e19f8-4774-4b83-bd38-8dc7b2d589a2",
        "deepnote_cell_type": "markdown"
      }
    },
    {
      "cell_type": "code",
      "source": "# retrieve the school files\nfile_path = os.chdir(\"/work/data/input_files\")\ndata_files = os.listdir()\n\n# filter out school data files \ncsv_files = []\n\nfor file in data_files:\n    if \"MERGED\" in file:\n        csv_files.append(file)\n\ncsv_files",
      "metadata": {
        "tags": [],
        "cell_id": "00001-38d309ab-261c-4145-95c2-46e18db6a2bb",
        "deepnote_to_be_reexecuted": false,
        "source_hash": "f6b43806",
        "execution_millis": 10,
        "execution_start": 1618547764940,
        "deepnote_cell_type": "code"
      },
      "outputs": [
        {
          "output_type": "execute_result",
          "execution_count": 2,
          "data": {
            "text/plain": "['MERGED2000_01_PP.csv',\n 'MERGED1996_97_PP.csv',\n 'MERGED2013_14_PP.csv',\n 'MERGED2015_16_PP.csv',\n 'MERGED1997_98_PP.csv',\n 'MERGED2002_03_PP.csv',\n 'MERGED2018_19_PP.csv',\n 'MERGED2006_07_PP.csv',\n 'MERGED2004_05_PP.csv',\n 'MERGED2007_08_PP.csv',\n 'MERGED2011_12_PP.csv',\n 'MERGED2010_11_PP.csv',\n 'MERGED1998_99_PP.csv',\n 'MERGED2003_04_PP.csv',\n 'MERGED2005_06_PP.csv',\n 'MERGED1999_00_PP.csv',\n 'MERGED2012_13_PP.csv',\n 'MERGED2008_09_PP.csv',\n 'MERGED2016_17_PP.csv',\n 'MERGED2014_15_PP.csv',\n 'MERGED2017_18_PP.csv',\n 'MERGED2001_02_PP.csv',\n 'MERGED2009_10_PP.csv']"
          },
          "metadata": {}
        }
      ],
      "execution_count": 2
    },
    {
      "cell_type": "markdown",
      "source": "#### 3 - Write code to randomly select one file name out of the 22 files names. Display the file name",
      "metadata": {
        "tags": [],
        "cell_id": "00003-5672c1e2-4953-43ef-ba2d-fb0ec4b7ddf3",
        "deepnote_cell_type": "markdown"
      }
    },
    {
      "cell_type": "code",
      "source": "# randomly select one file \n\nrandom_index = random.randrange(len(csv_files))\nselected_file =  csv_files[random_index]\n\nprint('Selected file:', selected_file)",
      "metadata": {
        "tags": [],
        "cell_id": "00003-6c298c4c-4e9a-4dfc-b2da-871e414e1a58",
        "deepnote_to_be_reexecuted": false,
        "source_hash": "8a0f9823",
        "execution_millis": 11,
        "execution_start": 1618547764948,
        "deepnote_cell_type": "code"
      },
      "outputs": [
        {
          "name": "stdout",
          "text": "Selected file: MERGED2005_06_PP.csv\n",
          "output_type": "stream"
        }
      ],
      "execution_count": 3
    },
    {
      "cell_type": "markdown",
      "source": "#### 4 - Only read the two columns: college name (INSTNM) and in state tution (\"TUITIONFEE_IN\")",
      "metadata": {
        "tags": [],
        "cell_id": "00005-2103ff23-f634-41a0-86ff-65064f3f0ac1",
        "deepnote_cell_type": "markdown"
      }
    },
    {
      "cell_type": "code",
      "source": "file = pd.read_csv(selected_file, usecols = ['INSTNM','TUITIONFEE_IN'])\nfile.info()",
      "metadata": {
        "tags": [],
        "cell_id": "00005-2c67921e-927e-421a-8b45-ccd30ec55250",
        "deepnote_to_be_reexecuted": false,
        "source_hash": "fc8329a7",
        "execution_millis": 1902,
        "execution_start": 1618547764956,
        "deepnote_cell_type": "code"
      },
      "outputs": [
        {
          "name": "stdout",
          "text": "<class 'pandas.core.frame.DataFrame'>\nRangeIndex: 6899 entries, 0 to 6898\nData columns (total 2 columns):\n #   Column         Non-Null Count  Dtype  \n---  ------         --------------  -----  \n 0   INSTNM         6899 non-null   object \n 1   TUITIONFEE_IN  4173 non-null   float64\ndtypes: float64(1), object(1)\nmemory usage: 107.9+ KB\n",
          "output_type": "stream"
        }
      ],
      "execution_count": 4
    },
    {
      "cell_type": "markdown",
      "source": "#### 5 - Find out how many observations have missing value.\n",
      "metadata": {
        "tags": [],
        "cell_id": "00007-ce58c890-7dcc-449c-b44d-50471d61bbdd",
        "deepnote_cell_type": "markdown"
      }
    },
    {
      "cell_type": "code",
      "source": "file.isnull().sum()",
      "metadata": {
        "tags": [],
        "cell_id": "00008-104e4ed2-1c23-440e-9a89-2b08425defe8",
        "deepnote_to_be_reexecuted": false,
        "source_hash": "e9246e1f",
        "execution_millis": 12,
        "execution_start": 1618547766852,
        "deepnote_cell_type": "code"
      },
      "outputs": [
        {
          "output_type": "execute_result",
          "execution_count": 5,
          "data": {
            "text/plain": "INSTNM              0\nTUITIONFEE_IN    2726\ndtype: int64"
          },
          "metadata": {}
        }
      ],
      "execution_count": 5
    },
    {
      "cell_type": "markdown",
      "source": "#### 6 - Drop observations with missing values\n",
      "metadata": {
        "tags": [],
        "cell_id": "00010-c94001c0-2986-4816-82bd-318609af932b",
        "deepnote_cell_type": "markdown"
      }
    },
    {
      "cell_type": "code",
      "source": "file_nan = file.dropna().reset_index(drop = True)\nfile_nan.shape",
      "metadata": {
        "tags": [],
        "cell_id": "00010-0b68b241-08f3-462c-ac9c-d359417bed0b",
        "deepnote_to_be_reexecuted": false,
        "source_hash": "6cf68b51",
        "execution_millis": 21,
        "execution_start": 1618547766860,
        "deepnote_cell_type": "code"
      },
      "outputs": [
        {
          "output_type": "execute_result",
          "execution_count": 6,
          "data": {
            "text/plain": "(4173, 2)"
          },
          "metadata": {}
        }
      ],
      "execution_count": 6
    },
    {
      "cell_type": "markdown",
      "source": "#### 7 - Find out how many observations have 0 tuition.\n\n",
      "metadata": {
        "tags": [],
        "cell_id": "00012-f014b6ff-2d4c-42ec-bbe6-41208116e12f",
        "deepnote_cell_type": "markdown"
      }
    },
    {
      "cell_type": "code",
      "source": "file_nan[file_nan['TUITIONFEE_IN'] == 0]",
      "metadata": {
        "tags": [],
        "cell_id": "00014-e2371ae2-dfb8-47f8-a319-74ba100c781c",
        "deepnote_to_be_reexecuted": false,
        "source_hash": "80ecfc16",
        "execution_millis": 19,
        "execution_start": 1618547766888,
        "deepnote_cell_type": "code"
      },
      "outputs": [
        {
          "output_type": "execute_result",
          "execution_count": 7,
          "data": {
            "application/vnd.deepnote.dataframe.v2+json": {
              "row_count": 5,
              "column_count": 2,
              "columns": [
                {
                  "name": "INSTNM",
                  "dtype": "object",
                  "stats": {
                    "unique_count": 5,
                    "nan_count": 0,
                    "categories": [
                      {
                        "name": "United States Air Force Academy",
                        "count": 1
                      },
                      {
                        "name": "United States Naval Academy",
                        "count": 1
                      },
                      {
                        "name": "3 others",
                        "count": 3
                      }
                    ]
                  }
                },
                {
                  "name": "TUITIONFEE_IN",
                  "dtype": "float64",
                  "stats": {
                    "unique_count": 1,
                    "nan_count": 0,
                    "min": "0.0",
                    "max": "0.0",
                    "histogram": [
                      {
                        "bin_start": -0.5,
                        "bin_end": -0.4,
                        "count": 0
                      },
                      {
                        "bin_start": -0.4,
                        "bin_end": -0.3,
                        "count": 0
                      },
                      {
                        "bin_start": -0.3,
                        "bin_end": -0.19999999999999996,
                        "count": 0
                      },
                      {
                        "bin_start": -0.19999999999999996,
                        "bin_end": -0.09999999999999998,
                        "count": 0
                      },
                      {
                        "bin_start": -0.09999999999999998,
                        "bin_end": 0,
                        "count": 0
                      },
                      {
                        "bin_start": 0,
                        "bin_end": 0.10000000000000009,
                        "count": 5
                      },
                      {
                        "bin_start": 0.10000000000000009,
                        "bin_end": 0.20000000000000007,
                        "count": 0
                      },
                      {
                        "bin_start": 0.20000000000000007,
                        "bin_end": 0.30000000000000004,
                        "count": 0
                      },
                      {
                        "bin_start": 0.30000000000000004,
                        "bin_end": 0.4,
                        "count": 0
                      },
                      {
                        "bin_start": 0.4,
                        "bin_end": 0.5,
                        "count": 0
                      }
                    ]
                  }
                },
                {
                  "name": "_deepnote_index_column",
                  "dtype": "int64"
                }
              ],
              "rows_top": [
                {
                  "INSTNM": "United States Air Force Academy",
                  "TUITIONFEE_IN": 0,
                  "_deepnote_index_column": 435
                },
                {
                  "INSTNM": "United States Naval Academy",
                  "TUITIONFEE_IN": 0,
                  "_deepnote_index_column": 1244
                },
                {
                  "INSTNM": "United States Merchant Marine Academy",
                  "TUITIONFEE_IN": 0,
                  "_deepnote_index_column": 2067
                },
                {
                  "INSTNM": "United States Military Academy",
                  "TUITIONFEE_IN": 0,
                  "_deepnote_index_column": 2068
                },
                {
                  "INSTNM": "Webb Institute",
                  "TUITIONFEE_IN": 0,
                  "_deepnote_index_column": 2075
                }
              ],
              "rows_bottom": null
            },
            "text/plain": "                                     INSTNM  TUITIONFEE_IN\n435         United States Air Force Academy            0.0\n1244            United States Naval Academy            0.0\n2067  United States Merchant Marine Academy            0.0\n2068         United States Military Academy            0.0\n2075                         Webb Institute            0.0",
            "text/html": "<div>\n<style scoped>\n    .dataframe tbody tr th:only-of-type {\n        vertical-align: middle;\n    }\n\n    .dataframe tbody tr th {\n        vertical-align: top;\n    }\n\n    .dataframe thead th {\n        text-align: right;\n    }\n</style>\n<table border=\"1\" class=\"dataframe\">\n  <thead>\n    <tr style=\"text-align: right;\">\n      <th></th>\n      <th>INSTNM</th>\n      <th>TUITIONFEE_IN</th>\n    </tr>\n  </thead>\n  <tbody>\n    <tr>\n      <th>435</th>\n      <td>United States Air Force Academy</td>\n      <td>0.0</td>\n    </tr>\n    <tr>\n      <th>1244</th>\n      <td>United States Naval Academy</td>\n      <td>0.0</td>\n    </tr>\n    <tr>\n      <th>2067</th>\n      <td>United States Merchant Marine Academy</td>\n      <td>0.0</td>\n    </tr>\n    <tr>\n      <th>2068</th>\n      <td>United States Military Academy</td>\n      <td>0.0</td>\n    </tr>\n    <tr>\n      <th>2075</th>\n      <td>Webb Institute</td>\n      <td>0.0</td>\n    </tr>\n  </tbody>\n</table>\n</div>"
          },
          "metadata": {}
        }
      ],
      "execution_count": 7
    },
    {
      "cell_type": "markdown",
      "source": "#### 8 - Drop those observations with 0 tuition. Display the number of observations afterward",
      "metadata": {
        "tags": [],
        "cell_id": "00014-c071b878-fc59-4913-aa25-10ba0f896bd8",
        "deepnote_cell_type": "markdown"
      }
    },
    {
      "cell_type": "code",
      "source": "clean_file = file_nan[file_nan['TUITIONFEE_IN'] != 0]\nclean_file.shape",
      "metadata": {
        "tags": [],
        "cell_id": "00015-7069175f-f34a-415d-97ea-4dbe8bddbfe5",
        "deepnote_to_be_reexecuted": false,
        "source_hash": "b29acb90",
        "execution_millis": 18,
        "execution_start": 1618547766903,
        "deepnote_cell_type": "code"
      },
      "outputs": [
        {
          "output_type": "execute_result",
          "execution_count": 8,
          "data": {
            "text/plain": "(4168, 2)"
          },
          "metadata": {}
        }
      ],
      "execution_count": 8
    },
    {
      "cell_type": "markdown",
      "source": "#### 9 - Calculate and display the mean (average) of the tuitions of all the remaining observations\n",
      "metadata": {
        "tags": [],
        "cell_id": "00016-015cf380-ce8f-4e37-b350-49025916af14",
        "deepnote_cell_type": "markdown"
      }
    },
    {
      "cell_type": "code",
      "source": "avg_tuition = clean_file['TUITIONFEE_IN'].mean()\navg_tuition",
      "metadata": {
        "tags": [],
        "cell_id": "00016-01ed453b-b9c4-4b85-be52-ea762353647a",
        "deepnote_to_be_reexecuted": false,
        "source_hash": "37804ae1",
        "execution_millis": 8,
        "execution_start": 1618547766913,
        "deepnote_cell_type": "code"
      },
      "outputs": [
        {
          "output_type": "execute_result",
          "execution_count": 9,
          "data": {
            "text/plain": "9586.676583493283"
          },
          "metadata": {}
        }
      ],
      "execution_count": 9
    },
    {
      "cell_type": "markdown",
      "source": "#### 10 - Randomly select just 1 observation from the dataframe. Display the tuition of that observation.",
      "metadata": {
        "tags": [],
        "cell_id": "00018-c71099fa-dc09-457b-af0d-023a7a8dfb87",
        "deepnote_cell_type": "markdown"
      }
    },
    {
      "cell_type": "code",
      "source": "school_1 = clean_file.sample()\n\nschool_1",
      "metadata": {
        "tags": [],
        "cell_id": "00018-e54fa44a-b14c-46b3-8960-db624b0af863",
        "deepnote_to_be_reexecuted": false,
        "source_hash": "90af72e3",
        "execution_millis": 18,
        "execution_start": 1618547766918,
        "deepnote_cell_type": "code"
      },
      "outputs": [
        {
          "output_type": "execute_result",
          "execution_count": 10,
          "data": {
            "application/vnd.deepnote.dataframe.v2+json": {
              "row_count": 1,
              "column_count": 2,
              "columns": [
                {
                  "name": "INSTNM",
                  "dtype": "object",
                  "stats": {
                    "unique_count": 1,
                    "nan_count": 0,
                    "categories": [
                      {
                        "name": "Fulton-Montgomery Community College",
                        "count": 1
                      }
                    ]
                  }
                },
                {
                  "name": "TUITIONFEE_IN",
                  "dtype": "float64",
                  "stats": {
                    "unique_count": 1,
                    "nan_count": 0,
                    "min": "3240.0",
                    "max": "3240.0",
                    "histogram": [
                      {
                        "bin_start": 3239.5,
                        "bin_end": 3239.6,
                        "count": 0
                      },
                      {
                        "bin_start": 3239.6,
                        "bin_end": 3239.7,
                        "count": 0
                      },
                      {
                        "bin_start": 3239.7,
                        "bin_end": 3239.8,
                        "count": 0
                      },
                      {
                        "bin_start": 3239.8,
                        "bin_end": 3239.9,
                        "count": 0
                      },
                      {
                        "bin_start": 3239.9,
                        "bin_end": 3240,
                        "count": 0
                      },
                      {
                        "bin_start": 3240,
                        "bin_end": 3240.1,
                        "count": 1
                      },
                      {
                        "bin_start": 3240.1,
                        "bin_end": 3240.2,
                        "count": 0
                      },
                      {
                        "bin_start": 3240.2,
                        "bin_end": 3240.3,
                        "count": 0
                      },
                      {
                        "bin_start": 3240.3,
                        "bin_end": 3240.4,
                        "count": 0
                      },
                      {
                        "bin_start": 3240.4,
                        "bin_end": 3240.5,
                        "count": 0
                      }
                    ]
                  }
                },
                {
                  "name": "_deepnote_index_column",
                  "dtype": "int64"
                }
              ],
              "rows_top": [
                {
                  "INSTNM": "Fulton-Montgomery Community College",
                  "TUITIONFEE_IN": 3240,
                  "_deepnote_index_column": 1902
                }
              ],
              "rows_bottom": null
            },
            "text/plain": "                                   INSTNM  TUITIONFEE_IN\n1902  Fulton-Montgomery Community College         3240.0",
            "text/html": "<div>\n<style scoped>\n    .dataframe tbody tr th:only-of-type {\n        vertical-align: middle;\n    }\n\n    .dataframe tbody tr th {\n        vertical-align: top;\n    }\n\n    .dataframe thead th {\n        text-align: right;\n    }\n</style>\n<table border=\"1\" class=\"dataframe\">\n  <thead>\n    <tr style=\"text-align: right;\">\n      <th></th>\n      <th>INSTNM</th>\n      <th>TUITIONFEE_IN</th>\n    </tr>\n  </thead>\n  <tbody>\n    <tr>\n      <th>1902</th>\n      <td>Fulton-Montgomery Community College</td>\n      <td>3240.0</td>\n    </tr>\n  </tbody>\n</table>\n</div>"
          },
          "metadata": {}
        }
      ],
      "execution_count": 10
    },
    {
      "cell_type": "markdown",
      "source": "#### 11 - Calculate the difference between the tuition of this observation and the mean tuition of all observations calculated earlier. Display the difference.",
      "metadata": {
        "tags": [],
        "cell_id": "00020-186a83e6-9c3c-4b62-bb6b-9442340e8843",
        "deepnote_cell_type": "markdown"
      }
    },
    {
      "cell_type": "code",
      "source": "school_1_diff = avg_tuition - float(school_1['TUITIONFEE_IN'])\n\nprint('Difference in tutition and average overall tuitions:', round(school_1_diff, 2))",
      "metadata": {
        "tags": [],
        "cell_id": "00020-2e8473ce-f22b-48ff-b9ae-b4726e11fe10",
        "deepnote_to_be_reexecuted": false,
        "source_hash": "8908143",
        "execution_millis": 10,
        "execution_start": 1618547766956,
        "deepnote_cell_type": "code"
      },
      "outputs": [
        {
          "name": "stdout",
          "text": "Difference in tutition and average overall tuitions: 6346.68\n",
          "output_type": "stream"
        }
      ],
      "execution_count": 11
    },
    {
      "cell_type": "markdown",
      "source": "#### 12 - Repeat 10 to 11 several times get the feel of the size of the difference in means",
      "metadata": {
        "tags": [],
        "cell_id": "00022-6c57fbd9-d3ba-4a30-9148-3bb7f2a94495",
        "deepnote_cell_type": "markdown"
      }
    },
    {
      "cell_type": "markdown",
      "source": "Example #1",
      "metadata": {
        "tags": [],
        "cell_id": "00023-640f05ba-bf97-4a63-9bb7-45a6ba3fd579",
        "deepnote_cell_type": "markdown"
      }
    },
    {
      "cell_type": "code",
      "source": "# randomly select a school\n\nschool_2 = clean_file.sample()\n\n# calculate difference between tuition and mean tuition of all schools\n\nschool_2_diff = abs(avg_tuition - float(school_2['TUITIONFEE_IN']))\n\nprint(school_2)\nprint('Difference in tutition and average overall tuitions:', round(school_2_diff, 2))",
      "metadata": {
        "tags": [],
        "cell_id": "00022-25d18495-3afc-418b-8318-87ce3f567b91",
        "deepnote_to_be_reexecuted": false,
        "source_hash": "c622212b",
        "execution_millis": 9,
        "execution_start": 1618547766957,
        "deepnote_cell_type": "code"
      },
      "outputs": [
        {
          "name": "stdout",
          "text": "                    INSTNM  TUITIONFEE_IN\n1051  Southwestern College        16218.0\nDifference in tutition and average overall tuitions: 6631.32\n",
          "output_type": "stream"
        }
      ],
      "execution_count": 12
    },
    {
      "cell_type": "markdown",
      "source": "Example #2",
      "metadata": {
        "tags": [],
        "cell_id": "00025-ca924334-25d1-4206-b5e4-d05d2b7e0c0f",
        "deepnote_cell_type": "markdown"
      }
    },
    {
      "cell_type": "code",
      "source": "# randomly select a school\n\nschool_3 = clean_file.sample()\n\n# calculate difference between tuition and mean tuition of all schools\n\nschool_3_diff = abs(avg_tuition - float(school_3['TUITIONFEE_IN']))\n\nprint(school_3)\nprint('Difference in tutition and average overall tuitions:', round(school_3_diff, 2))",
      "metadata": {
        "tags": [],
        "cell_id": "00024-7eedd1fe-250b-4f13-be41-828448c50240",
        "deepnote_to_be_reexecuted": false,
        "source_hash": "6145b24a",
        "execution_millis": 9,
        "execution_start": 1618547766957,
        "deepnote_cell_type": "code"
      },
      "outputs": [
        {
          "name": "stdout",
          "text": "                                         INSTNM  TUITIONFEE_IN\n2612  Pennsylvania State University-Main Campus        11508.0\nDifference in tutition and average overall tuitions: 1921.32\n",
          "output_type": "stream"
        }
      ],
      "execution_count": 13
    },
    {
      "cell_type": "markdown",
      "source": "#### 13 - Randomly select 20 observations, display the tuition of these observation.",
      "metadata": {
        "tags": [],
        "cell_id": "00027-661633c3-f272-49eb-9211-ed60e28260a9",
        "deepnote_cell_type": "markdown"
      }
    },
    {
      "cell_type": "code",
      "source": "schools_1 = clean_file.sample(20)\nschools_1",
      "metadata": {
        "tags": [],
        "cell_id": "00025-de2fcbbe-7e31-4a64-9e35-51b393225b2b",
        "deepnote_to_be_reexecuted": false,
        "source_hash": "8b50b377",
        "execution_millis": 17,
        "execution_start": 1618547766961,
        "deepnote_cell_type": "code"
      },
      "outputs": [
        {
          "output_type": "execute_result",
          "execution_count": 14,
          "data": {
            "application/vnd.deepnote.dataframe.v2+json": {
              "row_count": 20,
              "column_count": 2,
              "columns": [
                {
                  "name": "INSTNM",
                  "dtype": "object",
                  "stats": {
                    "unique_count": 20,
                    "nan_count": 0,
                    "categories": [
                      {
                        "name": "DeVry University-Georgia",
                        "count": 1
                      },
                      {
                        "name": "The New England Institute of Art",
                        "count": 1
                      },
                      {
                        "name": "18 others",
                        "count": 18
                      }
                    ]
                  }
                },
                {
                  "name": "TUITIONFEE_IN",
                  "dtype": "float64",
                  "stats": {
                    "unique_count": 20,
                    "nan_count": 0,
                    "min": "1334.0",
                    "max": "28410.0",
                    "histogram": [
                      {
                        "bin_start": 1334,
                        "bin_end": 4041.6,
                        "count": 6
                      },
                      {
                        "bin_start": 4041.6,
                        "bin_end": 6749.2,
                        "count": 0
                      },
                      {
                        "bin_start": 6749.2,
                        "bin_end": 9456.8,
                        "count": 3
                      },
                      {
                        "bin_start": 9456.8,
                        "bin_end": 12164.4,
                        "count": 3
                      },
                      {
                        "bin_start": 12164.4,
                        "bin_end": 14872,
                        "count": 0
                      },
                      {
                        "bin_start": 14872,
                        "bin_end": 17579.6,
                        "count": 4
                      },
                      {
                        "bin_start": 17579.6,
                        "bin_end": 20287.2,
                        "count": 2
                      },
                      {
                        "bin_start": 20287.2,
                        "bin_end": 22994.8,
                        "count": 1
                      },
                      {
                        "bin_start": 22994.8,
                        "bin_end": 25702.399999999998,
                        "count": 0
                      },
                      {
                        "bin_start": 25702.399999999998,
                        "bin_end": 28410,
                        "count": 1
                      }
                    ]
                  }
                },
                {
                  "name": "_deepnote_index_column",
                  "dtype": "int64"
                }
              ],
              "rows_top": [
                {
                  "INSTNM": "DeVry University-Georgia",
                  "TUITIONFEE_IN": 12100,
                  "_deepnote_index_column": 643
                },
                {
                  "INSTNM": "The New England Institute of Art",
                  "TUITIONFEE_IN": 17850,
                  "_deepnote_index_column": 1322
                },
                {
                  "INSTNM": "Gardner-Webb University",
                  "TUITIONFEE_IN": 16065,
                  "_deepnote_index_column": 2127
                },
                {
                  "INSTNM": "South Texas College",
                  "TUITIONFEE_IN": 1586,
                  "_deepnote_index_column": 3601
                },
                {
                  "INSTNM": "Manchester University",
                  "TUITIONFEE_IN": 19470,
                  "_deepnote_index_column": 921
                },
                {
                  "INSTNM": "Viterbo University",
                  "TUITIONFEE_IN": 16660,
                  "_deepnote_index_column": 3248
                },
                {
                  "INSTNM": "Austin Community College District",
                  "TUITIONFEE_IN": 1590,
                  "_deepnote_index_column": 2859
                },
                {
                  "INSTNM": "Waubonsee Community College",
                  "TUITIONFEE_IN": 1536,
                  "_deepnote_index_column": 858
                },
                {
                  "INSTNM": "Berry College",
                  "TUITIONFEE_IN": 17570,
                  "_deepnote_index_column": 630
                },
                {
                  "INSTNM": "University of Denver",
                  "TUITIONFEE_IN": 28410,
                  "_deepnote_index_column": 410
                },
                {
                  "INSTNM": "Lourdes University",
                  "TUITIONFEE_IN": 9816,
                  "_deepnote_index_column": 2312
                },
                {
                  "INSTNM": "Fairleigh Dickinson University-Metropolitan Campus",
                  "TUITIONFEE_IN": 22604,
                  "_deepnote_index_column": 1752
                },
                {
                  "INSTNM": "Westwood College-Dupage",
                  "TUITIONFEE_IN": 11845,
                  "_deepnote_index_column": 3580
                },
                {
                  "INSTNM": "St Joseph School of Nursing",
                  "TUITIONFEE_IN": 9023,
                  "_deepnote_index_column": 2705
                },
                {
                  "INSTNM": "Berkeley College - Westchester Campus",
                  "TUITIONFEE_IN": 16950,
                  "_deepnote_index_column": 4146
                },
                {
                  "INSTNM": "Iowa Central Community College",
                  "TUITIONFEE_IN": 3090,
                  "_deepnote_index_column": 971
                },
                {
                  "INSTNM": "John Wood Community College",
                  "TUITIONFEE_IN": 2280,
                  "_deepnote_index_column": 784
                },
                {
                  "INSTNM": "McCann School of Business & Technology",
                  "TUITIONFEE_IN": 8928,
                  "_deepnote_index_column": 4172
                },
                {
                  "INSTNM": "Johnston Community College",
                  "TUITIONFEE_IN": 1334,
                  "_deepnote_index_column": 2140
                },
                {
                  "INSTNM": "UPMC Shadyside School of Nursing",
                  "TUITIONFEE_IN": 7865,
                  "_deepnote_index_column": 2655
                }
              ],
              "rows_bottom": null
            },
            "text/plain": "                                                 INSTNM  TUITIONFEE_IN\n643                            DeVry University-Georgia        12100.0\n1322                   The New England Institute of Art        17850.0\n2127                            Gardner-Webb University        16065.0\n3601                                South Texas College         1586.0\n921                               Manchester University        19470.0\n3248                                 Viterbo University        16660.0\n2859                  Austin Community College District         1590.0\n858                         Waubonsee Community College         1536.0\n630                                       Berry College        17570.0\n410                                University of Denver        28410.0\n2312                                 Lourdes University         9816.0\n1752  Fairleigh Dickinson University-Metropolitan Ca...        22604.0\n3580                            Westwood College-Dupage        11845.0\n2705                        St Joseph School of Nursing         9023.0\n4146              Berkeley College - Westchester Campus        16950.0\n971                      Iowa Central Community College         3090.0\n784                         John Wood Community College         2280.0\n4172             McCann School of Business & Technology         8928.0\n2140                         Johnston Community College         1334.0\n2655                   UPMC Shadyside School of Nursing         7865.0",
            "text/html": "<div>\n<style scoped>\n    .dataframe tbody tr th:only-of-type {\n        vertical-align: middle;\n    }\n\n    .dataframe tbody tr th {\n        vertical-align: top;\n    }\n\n    .dataframe thead th {\n        text-align: right;\n    }\n</style>\n<table border=\"1\" class=\"dataframe\">\n  <thead>\n    <tr style=\"text-align: right;\">\n      <th></th>\n      <th>INSTNM</th>\n      <th>TUITIONFEE_IN</th>\n    </tr>\n  </thead>\n  <tbody>\n    <tr>\n      <th>643</th>\n      <td>DeVry University-Georgia</td>\n      <td>12100.0</td>\n    </tr>\n    <tr>\n      <th>1322</th>\n      <td>The New England Institute of Art</td>\n      <td>17850.0</td>\n    </tr>\n    <tr>\n      <th>2127</th>\n      <td>Gardner-Webb University</td>\n      <td>16065.0</td>\n    </tr>\n    <tr>\n      <th>3601</th>\n      <td>South Texas College</td>\n      <td>1586.0</td>\n    </tr>\n    <tr>\n      <th>921</th>\n      <td>Manchester University</td>\n      <td>19470.0</td>\n    </tr>\n    <tr>\n      <th>3248</th>\n      <td>Viterbo University</td>\n      <td>16660.0</td>\n    </tr>\n    <tr>\n      <th>2859</th>\n      <td>Austin Community College District</td>\n      <td>1590.0</td>\n    </tr>\n    <tr>\n      <th>858</th>\n      <td>Waubonsee Community College</td>\n      <td>1536.0</td>\n    </tr>\n    <tr>\n      <th>630</th>\n      <td>Berry College</td>\n      <td>17570.0</td>\n    </tr>\n    <tr>\n      <th>410</th>\n      <td>University of Denver</td>\n      <td>28410.0</td>\n    </tr>\n    <tr>\n      <th>2312</th>\n      <td>Lourdes University</td>\n      <td>9816.0</td>\n    </tr>\n    <tr>\n      <th>1752</th>\n      <td>Fairleigh Dickinson University-Metropolitan Ca...</td>\n      <td>22604.0</td>\n    </tr>\n    <tr>\n      <th>3580</th>\n      <td>Westwood College-Dupage</td>\n      <td>11845.0</td>\n    </tr>\n    <tr>\n      <th>2705</th>\n      <td>St Joseph School of Nursing</td>\n      <td>9023.0</td>\n    </tr>\n    <tr>\n      <th>4146</th>\n      <td>Berkeley College - Westchester Campus</td>\n      <td>16950.0</td>\n    </tr>\n    <tr>\n      <th>971</th>\n      <td>Iowa Central Community College</td>\n      <td>3090.0</td>\n    </tr>\n    <tr>\n      <th>784</th>\n      <td>John Wood Community College</td>\n      <td>2280.0</td>\n    </tr>\n    <tr>\n      <th>4172</th>\n      <td>McCann School of Business &amp; Technology</td>\n      <td>8928.0</td>\n    </tr>\n    <tr>\n      <th>2140</th>\n      <td>Johnston Community College</td>\n      <td>1334.0</td>\n    </tr>\n    <tr>\n      <th>2655</th>\n      <td>UPMC Shadyside School of Nursing</td>\n      <td>7865.0</td>\n    </tr>\n  </tbody>\n</table>\n</div>"
          },
          "metadata": {}
        }
      ],
      "execution_count": 14
    },
    {
      "cell_type": "markdown",
      "source": "#### 14 - Calculate and display the mean tuition of these 20 observations\n",
      "metadata": {
        "tags": [],
        "cell_id": "00029-2db27a02-27ee-4fdd-b3c6-0da95f92d03a",
        "deepnote_cell_type": "markdown"
      }
    },
    {
      "cell_type": "code",
      "source": "sample_avg = schools_1['TUITIONFEE_IN'].mean()\nprint('Average of sample schools tuitions:', sample_avg)",
      "metadata": {
        "tags": [],
        "cell_id": "00029-c9904938-ab62-406d-b4bc-1e86003a4705",
        "deepnote_to_be_reexecuted": false,
        "source_hash": "5cd54e5b",
        "execution_millis": 7,
        "execution_start": 1618547766994,
        "deepnote_cell_type": "code"
      },
      "outputs": [
        {
          "name": "stdout",
          "text": "Average of sample schools tuitions: 11328.6\n",
          "output_type": "stream"
        }
      ],
      "execution_count": 15
    },
    {
      "cell_type": "code",
      "source": "schools_1_diff = abs(avg_tuition - sample_avg)\nprint('Difference in average of sample tuition and average overall tuition:', round(schools_1_diff, 2))",
      "metadata": {
        "tags": [],
        "cell_id": "00031-63956c4f-d35f-4ac8-be8f-8ea48779226c",
        "deepnote_to_be_reexecuted": false,
        "source_hash": "29fd6558",
        "execution_millis": 7,
        "execution_start": 1618547766994,
        "deepnote_cell_type": "code"
      },
      "outputs": [
        {
          "name": "stdout",
          "text": "Difference in average of sample tuition and average overall tuition: 1741.92\n",
          "output_type": "stream"
        }
      ],
      "execution_count": 16
    },
    {
      "cell_type": "markdown",
      "source": "#### 16a - Repeat 13 to 15 several times and get the feel of the size of the difference in means ",
      "metadata": {
        "tags": [],
        "cell_id": "00034-950bdf11-24f7-4248-952f-585a5968e33f",
        "deepnote_cell_type": "markdown"
      }
    },
    {
      "cell_type": "markdown",
      "source": "Example #1",
      "metadata": {
        "tags": [],
        "cell_id": "00035-13df9a01-63e6-4ded-a649-614ab0047664",
        "deepnote_cell_type": "markdown"
      }
    },
    {
      "cell_type": "code",
      "source": "# randomly select 20 schools\n\nschools_2 = clean_file.sample(20)\n\n# calculate average of sample \n\nsample_avg2 = schools_2['TUITIONFEE_IN'].mean()\nsample_avg2\n\n# calculate difference between tuition and mean tuition of all schools\n\nschools_2_diff = abs(avg_tuition - sample_avg2)\n\nprint(schools_2)\nprint('Difference in average of sample tuition and average overall tuition:', round(schools_2_diff, 2))",
      "metadata": {
        "tags": [],
        "cell_id": "00034-0e14b634-96d0-4e07-ae85-dfa1ff0a2dd9",
        "deepnote_to_be_reexecuted": false,
        "source_hash": "8e676bff",
        "execution_millis": 17,
        "execution_start": 1618547766995,
        "deepnote_cell_type": "code"
      },
      "outputs": [
        {
          "name": "stdout",
          "text": "                                                 INSTNM  TUITIONFEE_IN\n1214                    Washington Adventist University        17586.0\n1804                    New Mexico Highlands University         2280.0\n1494                            Rasmussen College-Eagan        14160.0\n3290  Pontifical Catholic University of Puerto Rico-...         4836.0\n3793                      Oklahoma Health Academy-Moore         9892.0\n1407                               Mid Michigan College         2220.0\n2758                     Williamsburg Technical College         2692.0\n4142   Minnesota State CollegeSoutheast-Red Wing Campus         4325.0\n1913                                   Houghton College        19420.0\n863                                 Anderson University        18900.0\n923                  Indiana Wesleyan University-Marion        16184.0\n3415                 University of Advancing Technology        14600.0\n3365                    Sussex County Community College         2670.0\n1949  Memorial Hospital School of Radiation Therapy ...         3000.0\n2172                                Pfeiffer University        15590.0\n2157                          University of Mount Olive        11520.0\n2617      Pennsylvania State University-Penn State York        10180.0\n3347                ITT Technical Institute-Westminster        14196.0\n4037                     Brown Mackie College-San Diego         8580.0\n4054                    Rasmussen College-Brooklyn Park        14160.0\nDifference in average of sample tuition and average overall tuition: 762.87\n",
          "output_type": "stream"
        }
      ],
      "execution_count": 17
    },
    {
      "cell_type": "markdown",
      "source": "Example #2",
      "metadata": {
        "tags": [],
        "cell_id": "00037-714cfc1b-fbf7-495e-a762-5c3c3e8e8092",
        "deepnote_cell_type": "markdown"
      }
    },
    {
      "cell_type": "code",
      "source": "# randomly select 20 schools\n\nschools_3 = clean_file.sample(20)\n\n# calculate average of sample \n\nsample_avg3 = schools_3['TUITIONFEE_IN'].mean()\nsample_avg3\n\n# calculate difference between tuition and mean tuition of all schools\n\nschools_3_diff = abs(avg_tuition - sample_avg3)\n\nprint(schools_3)\nprint('Difference in average of sample tuition and average overall tuition:', round(schools_3_diff, 2))",
      "metadata": {
        "tags": [],
        "cell_id": "00038-97d34c5e-b2a7-44ac-9808-f7fe0398c845",
        "deepnote_to_be_reexecuted": false,
        "source_hash": "99cf5d8b",
        "execution_millis": 10,
        "execution_start": 1618547767002,
        "deepnote_cell_type": "code"
      },
      "outputs": [
        {
          "name": "stdout",
          "text": "                                            INSTNM  TUITIONFEE_IN\n3723               ITT Technical Institute-Norwood        14196.0\n1594                   Missouri Baptist University        13230.0\n3070                     Centra College of Nursing         5504.0\n3517               Greater Lowell Technical School         4900.0\n1665                         Chadron State College         2966.0\n2797                         Cumberland University        13344.0\n3847                   University of Phoenix-Idaho         9900.0\n379                          Berkeley City College          732.0\n1424             St Clair County Community College         2292.0\n4167      Florida National University-South Campus        10020.0\n3275                         University of Wyoming         2874.0\n2594      Newport Business Institute-Lower Burrell         9375.0\n662                       Gwinnett College-Lilburn         7300.0\n909                 Indiana University-Bloomington         7112.0\n2456              ITT Technical Institute-Portland        14196.0\n1418                                Olivet College        16464.0\n3726                         Herndon Career Center         5300.0\n3184                     Fairmont State University         4218.0\n4056  University of Phoenix-Northern Nevada Campus         9750.0\n2430                      Oklahoma City University        18000.0\nDifference in average of sample tuition and average overall tuition: 1003.03\n",
          "output_type": "stream"
        }
      ],
      "execution_count": 18
    },
    {
      "cell_type": "markdown",
      "source": "#### 16b - Compare these differences with the differences calculated earlier with just 1 observation. Describe your hunch/conclusion.\n\n- The difference between single school and the average tuition of all schools was the highest. \n- The difference between 20 schools and the average tuition of all schools were significantly lower than comparing single tutition. \n- As the number of schools in the sample increased, the differences average tuition of sample schools and average tuition of all schools will decrease. \n- If the sample included all schools listed in the file, the average difference between the sample schools and all schools will be zero.  ",
      "metadata": {
        "tags": [],
        "cell_id": "00035-7e36adcb-92f1-4907-9cb4-735910dea417",
        "deepnote_cell_type": "markdown"
      }
    },
    {
      "cell_type": "markdown",
      "source": "Write a function that take two input parameters:\n\n- x (number of observations)\n- y (the name of the dataframe).\n\nThe function will perform the following:\n\n- Randomly select x observations from y\n- Calculate the mean of these x observations\n- Calculate the mean of all observations\n- Calculate the difference between the two means\n- Return the difference",
      "metadata": {
        "tags": [],
        "cell_id": "00040-8bfe74d4-17bf-4b56-a5ec-d2bf6c82523a",
        "deepnote_cell_type": "markdown"
      }
    },
    {
      "cell_type": "code",
      "source": "def avg_diff(sample, data):\n    all_avg = data.mean()\n    random_schools = data.sample(sample)\n    random_avg = random_schools.mean()\n    diff = abs(all_avg - random_avg)\n    print('All Schools:', data, 'Selected Schools:', random_schools, 'Average Difference:', round(float(diff), 2), sep= '\\n')    ",
      "metadata": {
        "tags": [],
        "cell_id": "00033-e36ab7b4-6cf6-4c8a-84f6-83dea84a4d0a",
        "deepnote_to_be_reexecuted": false,
        "source_hash": "f9d1d0fb",
        "execution_millis": 0,
        "execution_start": 1618547779323,
        "deepnote_cell_type": "code"
      },
      "outputs": [],
      "execution_count": 21
    },
    {
      "cell_type": "markdown",
      "source": "#### 18 - Test the function by passing a sample size and the name of the dataframe. Display the return of the function",
      "metadata": {
        "tags": [],
        "cell_id": "00042-a8e418c0-4186-401d-a832-c7a9ec55b250",
        "deepnote_cell_type": "markdown"
      }
    },
    {
      "cell_type": "code",
      "source": "avg_diff(100, clean_file)",
      "metadata": {
        "tags": [],
        "cell_id": "00042-7865d3e9-bab2-4b2d-8f2c-9f435efd7b71",
        "deepnote_to_be_reexecuted": false,
        "source_hash": "9f3fea99",
        "execution_millis": 43,
        "execution_start": 1618547780271,
        "deepnote_cell_type": "code"
      },
      "outputs": [
        {
          "name": "stdout",
          "text": "All Schools:\n                                      INSTNM  TUITIONFEE_IN\n0                   Alabama A & M University         4420.0\n1        University of Alabama at Birmingham         4792.0\n2                         Amridge University        10400.0\n3        University of Alabama in Huntsville         4688.0\n4                   Alabama State University         4008.0\n...                                      ...            ...\n4168        Southeastern College-Miami Lakes        11832.0\n4169     Southeastern College-St. Petersburg        11832.0\n4170  McCann School of Business & Technology         8928.0\n4171  McCann School of Business & Technology         8928.0\n4172  McCann School of Business & Technology         8928.0\n\n[4168 rows x 2 columns]\nSelected Schools:\n                                           INSTNM  TUITIONFEE_IN\n1003                      William Penn University        15334.0\n2943                               Ranger College         1590.0\n2808                        John A Gupton College         6880.0\n994                               Simpson College        20911.0\n3162                     Tacoma Community College         2431.0\n...                                           ...            ...\n4131  Davenport University-Fulton Street Location         7200.0\n1733                       Fortis Institute-Wayne         8625.0\n2213                    Lake Region State College         3333.0\n1594                  Missouri Baptist University        13230.0\n3679                  Virginia College-Huntsville        10260.0\n\n[100 rows x 2 columns]\nAverage Difference:\n499.98\n",
          "output_type": "stream"
        }
      ],
      "execution_count": 22
    },
    {
      "cell_type": "code",
      "source": "avg_diff(3000, clean_file)",
      "metadata": {
        "tags": [],
        "cell_id": "00044-d64eaa9a-3148-46ae-8301-7a0a772744f4",
        "deepnote_to_be_reexecuted": false,
        "source_hash": "f58c5685",
        "execution_millis": 35,
        "execution_start": 1618547787255,
        "deepnote_cell_type": "code"
      },
      "outputs": [
        {
          "name": "stdout",
          "text": "All Schools:\n                                      INSTNM  TUITIONFEE_IN\n0                   Alabama A & M University         4420.0\n1        University of Alabama at Birmingham         4792.0\n2                         Amridge University        10400.0\n3        University of Alabama in Huntsville         4688.0\n4                   Alabama State University         4008.0\n...                                      ...            ...\n4168        Southeastern College-Miami Lakes        11832.0\n4169     Southeastern College-St. Petersburg        11832.0\n4170  McCann School of Business & Technology         8928.0\n4171  McCann School of Business & Technology         8928.0\n4172  McCann School of Business & Technology         8928.0\n\n[4168 rows x 2 columns]\nSelected Schools:\n                                                 INSTNM  TUITIONFEE_IN\n2061                Tompkins Cortland Community College         3556.0\n3935      University of Phoenix-Columbus Georgia Campus        10320.0\n2601  Pennsylvania State University-Penn State Wilke...        10200.0\n1386                                       Hope College        21540.0\n3836              Ivy Tech Community College-Bloominton         2589.0\n...                                                 ...            ...\n1886                                CUNY Queens College         4377.0\n2620          Penn Commercial Business/Technical School        15725.0\n1542            Northeast Mississippi Community College         1804.0\n259               ITT Technical Institute-National City        14196.0\n4047                          Eagle Gate College-Layton         9450.0\n\n[3000 rows x 2 columns]\nAverage Difference:\n0.88\n",
          "output_type": "stream"
        }
      ],
      "execution_count": 24
    },
    {
      "cell_type": "markdown",
      "source": "#### 19 - Create a list of sequence numbers from 1 to 50, name it \"sample_sizes\"; display it to make sure its members are from 1 to 50",
      "metadata": {
        "tags": [],
        "cell_id": "00045-bda9cf64-e31c-4c7e-a6bf-013a6872df1f",
        "deepnote_cell_type": "markdown"
      }
    },
    {
      "cell_type": "code",
      "source": "sample_sizes = list(range(1,51))\nprint(sample_sizes)",
      "metadata": {
        "tags": [],
        "cell_id": "00045-4460305e-c3ae-4a7f-bcc4-0b3e98ec1e5b",
        "deepnote_to_be_reexecuted": true,
        "source_hash": "40c578cc",
        "execution_millis": 8,
        "deepnote_cell_type": "code"
      },
      "outputs": [
        {
          "name": "stdout",
          "text": "[1, 2, 3, 4, 5, 6, 7, 8, 9, 10, 11, 12, 13, 14, 15, 16, 17, 18, 19, 20, 21, 22, 23, 24, 25, 26, 27, 28, 29, 30, 31, 32, 33, 34, 35, 36, 37, 38, 39, 40, 41, 42, 43, 44, 45, 46, 47, 48, 49, 50]\n",
          "output_type": "stream"
        }
      ],
      "execution_count": null
    },
    {
      "cell_type": "markdown",
      "source": "#### 20 - Create an empty list and name it \"means_diff\" for differences of population mean and sample means;\n##### Loop through the list sample_sizes:\n- For each element in the sample size list, obtain a random sample of that size from the data frame;\n- Calculate the sample mean \n- Calculate the difference between the population mean and the sample mean\n- Append the difference to the list \"means_diff\"\n- Display the list \"means_diff\" after the loop is completed",
      "metadata": {
        "tags": [],
        "cell_id": "00047-14051874-6741-44ee-a12b-44d3723ab3ee",
        "deepnote_cell_type": "markdown"
      }
    },
    {
      "cell_type": "code",
      "source": "# function to calculate mean \n\ndef calc_avg(input_value):\n    avg = sum(input_value) / len(input_value)\n    return avg ",
      "metadata": {
        "tags": [],
        "cell_id": "00047-9c208e11-7881-40ba-b949-002849df8a04",
        "deepnote_to_be_reexecuted": true,
        "source_hash": "17d3f3ca",
        "execution_millis": 0,
        "deepnote_cell_type": "code"
      },
      "outputs": [],
      "execution_count": null
    },
    {
      "cell_type": "code",
      "source": "means_diff = []\n\nfor ele in sample_sizes:\n    sample = random.sample(sample_sizes, ele)\n    sample_avg = calc_avg(sample)\n    avg_diff = abs(calc_avg(sample_sizes) - sample_avg)\n    means_diff.append(round(avg_diff,2))\n    \nprint(means_diff)",
      "metadata": {
        "tags": [],
        "cell_id": "00049-e1c036ea-a4da-4c3e-a64c-f55bf0ce7b9f",
        "deepnote_to_be_reexecuted": true,
        "source_hash": "ec2b11c7",
        "execution_millis": 6,
        "deepnote_cell_type": "code"
      },
      "outputs": [
        {
          "name": "stdout",
          "text": "[13.5, 12.0, 0.83, 14.0, 6.3, 0.33, 0.64, 1.12, 1.28, 0.2, 1.05, 3.42, 0.19, 1.93, 3.37, 1.88, 3.62, 0.39, 7.39, 2.85, 2.64, 4.91, 5.67, 0.46, 0.38, 0.46, 0.5, 1.64, 1.57, 0.2, 2.89, 0.25, 0.23, 1.12, 1.81, 2.06, 1.72, 0.08, 2.6, 1.15, 0.38, 1.21, 0.24, 0.95, 0.63, 1.04, 0.5, 0.02, 0.19, 0.0]\n",
          "output_type": "stream"
        }
      ],
      "execution_count": null
    },
    {
      "cell_type": "markdown",
      "source": "#### 21 - Make a scatter plot with sample size on the x-axs and  mean difference on the y-axis. Observe as the sample size increases, the sample means converge to the population mean.",
      "metadata": {
        "tags": [],
        "cell_id": "00050-daf4a409-c84f-4952-bb9d-f6359019d61e",
        "deepnote_cell_type": "markdown"
      }
    },
    {
      "cell_type": "code",
      "source": "x = sample_sizes\ny = means_diff\n\nplt.rcParams[\"figure.figsize\"] = (20,10)\n\nplt.scatter(x, y)\nplt.title(\"Sample Size vs Mean Difference (Sample Size of 50)\", fontsize = 12)\nplt.xlabel(\"Sample Size\", fontsize = 12)\nplt.ylabel(\"Mean Difference\", fontsize = 12)\nplt.show()",
      "metadata": {
        "tags": [],
        "cell_id": "00051-2423cab8-3a07-4c17-96e1-57aaffa4dc5d",
        "deepnote_to_be_reexecuted": true,
        "source_hash": "c044066c",
        "execution_millis": 179,
        "deepnote_cell_type": "code"
      },
      "outputs": [
        {
          "data": {
            "text/plain": "<Figure size 1440x720 with 1 Axes>",
            "image/png": "[encoded data removed]"
          },
          "metadata": {
            "needs_background": "light"
          },
          "output_type": "display_data"
        }
      ],
      "execution_count": null
    },
    {
      "cell_type": "markdown",
      "source": "#### 22 - repeat 18 to 21 by replacing 50 with a larger number. For example, 300, or even 1000 and see how the plot looks.",
      "metadata": {
        "tags": [],
        "cell_id": "00052-b8baedc3-9c1e-4e2f-a8e8-09eeb6e06d9b",
        "deepnote_cell_type": "markdown"
      }
    },
    {
      "cell_type": "markdown",
      "source": "Example #1",
      "metadata": {
        "tags": [],
        "cell_id": "00053-3c20aed6-e087-4044-9cc9-d84ed4d10413",
        "deepnote_cell_type": "markdown"
      }
    },
    {
      "cell_type": "code",
      "source": "# sample size of 300\n\nsample_sizes_300 = list(range(1,301))\n\nmeans_diff_300 = []\n\nfor ele_300 in sample_sizes_300:\n    sample_300 = random.sample(sample_sizes_300, ele_300)\n    sample_avg_300 = calc_avg(sample_300)\n    avg_diff_300 = abs(calc_avg(sample_sizes_300) - sample_avg_300)\n    means_diff_300.append(round(avg_diff_300,2))\n    \nx = sample_sizes_300\ny = means_diff_300\n\nplt.scatter(x, y)\nplt.title(\"Sample Size vs Mean Difference (Sample Size of 300)\", fontsize = 12)\nplt.xlabel(\"Sample Size\", fontsize = 12)\nplt.ylabel(\"Mean Difference\", fontsize = 12)\nplt.show()",
      "metadata": {
        "tags": [],
        "cell_id": "00052-b1a7cbf6-24d9-4065-900b-4d504e4d92f8",
        "deepnote_to_be_reexecuted": true,
        "source_hash": "d9f03596",
        "execution_millis": 195,
        "output_cleared": false,
        "deepnote_cell_type": "code"
      },
      "outputs": [
        {
          "data": {
            "text/plain": "<Figure size 1440x720 with 1 Axes>",
            "image/png": "[encoded data removed]"
          },
          "metadata": {
            "needs_background": "light"
          },
          "output_type": "display_data"
        }
      ],
      "execution_count": null
    },
    {
      "cell_type": "code",
      "source": "# sample size of 1000\n\nsample_sizes_1000 = list(range(1,1001))\n\nmeans_diff_1000 = []\n\nfor ele_1000 in sample_sizes_1000:\n    sample_1000 = random.sample(sample_sizes_1000, ele_1000)\n    sample_avg_1000 = calc_avg(sample_1000)\n    avg_diff_1000 = abs(calc_avg(sample_sizes_1000) - sample_avg_1000)\n    means_diff_1000.append(round(avg_diff_1000,2))\n    \nx = sample_sizes_1000\ny = means_diff_1000\n\nplt.scatter(x, y)\nplt.title(\"Sample Size vs Mean Difference (Sample Size of 1000)\", fontsize = 12)\nplt.xlabel(\"Sample Size\", fontsize = 12)\nplt.ylabel(\"Mean Difference\", fontsize = 12)\nplt.show()",
      "metadata": {
        "tags": [],
        "cell_id": "00057-cc3d9168-4167-43e4-bc80-c12d8e519953",
        "deepnote_to_be_reexecuted": true,
        "source_hash": "93bf71a3",
        "execution_millis": 358,
        "deepnote_cell_type": "code"
      },
      "outputs": [
        {
          "data": {
            "text/plain": "<Figure size 1440x720 with 1 Axes>",
            "image/png": "[encoded data removed]"
          },
          "metadata": {
            "needs_background": "light"
          },
          "output_type": "display_data"
        }
      ],
      "execution_count": null
    },
    {
      "cell_type": "code",
      "source": "",
      "metadata": {
        "tags": [],
        "cell_id": "00056-3d8daf24-2fbf-4ab2-812e-0936ceb9a1b7",
        "deepnote_to_be_reexecuted": true,
        "source_hash": "b623e53d",
        "execution_millis": 0,
        "deepnote_cell_type": "code"
      },
      "outputs": [],
      "execution_count": null
    },
    {
      "cell_type": "markdown",
      "source": "<a style='text-decoration:none;line-height:16px;display:flex;color:#5B5B62;padding:10px;justify-content:end;' href='https://deepnote.com?utm_source=created-in-deepnote-cell&projectId=b0a73dad-e3e1-4483-bec0-91e90772d4b2' target=\"_blank\">\n<img alt='Created in deepnote.com' style='display:inline;max-height:16px;margin:0px;margin-right:7.5px;' src='data:image/svg+xml;base64,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' > </img>\nCreated in <span style='font-weight:600;margin-left:4px;'>Deepnote</span></a>",
      "metadata": {
        "tags": [],
        "created_in_deepnote_cell": true,
        "deepnote_cell_type": "markdown"
      }
    }
  ],
  "nbformat": 4,
  "nbformat_minor": 2,
  "metadata": {
    "orig_nbformat": 2,
    "deepnote": {
      "is_reactive": false
    },
    "deepnote_notebook_id": "ac893656-362b-4f80-b19a-876da6008dec",
    "deepnote_execution_queue": []
  }
}