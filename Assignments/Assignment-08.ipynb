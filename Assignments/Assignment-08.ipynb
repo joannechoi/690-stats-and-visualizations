{
  "cells": [
    {
      "cell_type": "markdown",
      "source": "#### 1 - Import libraries",
      "metadata": {
        "tags": [],
        "cell_id": "00000-1e478277-8fd6-44d1-a823-8b403d69300e",
        "deepnote_cell_type": "markdown"
      }
    },
    {
      "cell_type": "code",
      "metadata": {
        "tags": [],
        "cell_id": "00000-9bd52857-cc7b-4052-8559-7a1216a23681",
        "deepnote_to_be_reexecuted": false,
        "source_hash": "c67b7183",
        "execution_millis": 412,
        "execution_start": 1618548458747,
        "deepnote_cell_type": "code"
      },
      "source": "import os\nimport random\nimport pandas as pd\nimport matplotlib.pyplot as plt",
      "execution_count": 1,
      "outputs": []
    },
    {
      "cell_type": "markdown",
      "source": "#### 2 - Retrieve the names of the 22 files and assign them to a List variable",
      "metadata": {
        "tags": [],
        "cell_id": "00001-db7e19f8-4774-4b83-bd38-8dc7b2d589a2",
        "deepnote_cell_type": "markdown"
      }
    },
    {
      "cell_type": "code",
      "source": "# retrieve the school files\nfile_path = os.chdir(\"/work/data/input_files\")\ndata_files = os.listdir()\n\n# filter out school data files \ncsv_files = []\n\nfor file in data_files:\n    if \"MERGED\" in file:\n        csv_files.append(file)\n\ncsv_files",
      "metadata": {
        "tags": [],
        "cell_id": "00001-38d309ab-261c-4145-95c2-46e18db6a2bb",
        "deepnote_to_be_reexecuted": false,
        "source_hash": "f6b43806",
        "execution_millis": 17,
        "execution_start": 1618548459192,
        "deepnote_cell_type": "code"
      },
      "outputs": [
        {
          "output_type": "execute_result",
          "execution_count": 2,
          "data": {
            "text/plain": "['MERGED2000_01_PP.csv',\n 'MERGED1996_97_PP.csv',\n 'MERGED2013_14_PP.csv',\n 'MERGED2015_16_PP.csv',\n 'MERGED1997_98_PP.csv',\n 'MERGED2002_03_PP.csv',\n 'MERGED2018_19_PP.csv',\n 'MERGED2006_07_PP.csv',\n 'MERGED2004_05_PP.csv',\n 'MERGED2007_08_PP.csv',\n 'MERGED2011_12_PP.csv',\n 'MERGED2010_11_PP.csv',\n 'MERGED1998_99_PP.csv',\n 'MERGED2003_04_PP.csv',\n 'MERGED2005_06_PP.csv',\n 'MERGED1999_00_PP.csv',\n 'MERGED2012_13_PP.csv',\n 'MERGED2008_09_PP.csv',\n 'MERGED2016_17_PP.csv',\n 'MERGED2014_15_PP.csv',\n 'MERGED2017_18_PP.csv',\n 'MERGED2001_02_PP.csv',\n 'MERGED2009_10_PP.csv']"
          },
          "metadata": {}
        }
      ],
      "execution_count": 2
    },
    {
      "cell_type": "markdown",
      "source": "#### 3 - Write code to randomly select one file name out of the 22 files names. Display the file name",
      "metadata": {
        "tags": [],
        "cell_id": "00003-5672c1e2-4953-43ef-ba2d-fb0ec4b7ddf3",
        "deepnote_cell_type": "markdown"
      }
    },
    {
      "cell_type": "code",
      "source": "# randomly select one file \n\nrandom_index = random.randrange(len(csv_files))\nselected_file =  csv_files[random_index]\n\nprint('Selected file:', selected_file)",
      "metadata": {
        "tags": [],
        "cell_id": "00003-6c298c4c-4e9a-4dfc-b2da-871e414e1a58",
        "deepnote_to_be_reexecuted": false,
        "source_hash": "8a0f9823",
        "execution_millis": 26,
        "execution_start": 1618548459212,
        "deepnote_cell_type": "code"
      },
      "outputs": [
        {
          "name": "stdout",
          "text": "Selected file: MERGED2010_11_PP.csv\n",
          "output_type": "stream"
        }
      ],
      "execution_count": 3
    },
    {
      "cell_type": "markdown",
      "source": "#### 4 - Only read the two columns: college name (INSTNM) and in state tution (\"TUITIONFEE_IN\")",
      "metadata": {
        "tags": [],
        "cell_id": "00005-2103ff23-f634-41a0-86ff-65064f3f0ac1",
        "deepnote_cell_type": "markdown"
      }
    },
    {
      "cell_type": "code",
      "source": "file = pd.read_csv(selected_file, usecols = ['INSTNM','TUITIONFEE_IN'])\nfile.info()",
      "metadata": {
        "tags": [],
        "cell_id": "00005-2c67921e-927e-421a-8b45-ccd30ec55250",
        "deepnote_to_be_reexecuted": false,
        "source_hash": "fc8329a7",
        "execution_millis": 1631,
        "execution_start": 1618548459220,
        "deepnote_cell_type": "code"
      },
      "outputs": [
        {
          "name": "stdout",
          "text": "<class 'pandas.core.frame.DataFrame'>\nRangeIndex: 7470 entries, 0 to 7469\nData columns (total 2 columns):\n #   Column         Non-Null Count  Dtype  \n---  ------         --------------  -----  \n 0   INSTNM         7470 non-null   object \n 1   TUITIONFEE_IN  4337 non-null   float64\ndtypes: float64(1), object(1)\nmemory usage: 116.8+ KB\n",
          "output_type": "stream"
        }
      ],
      "execution_count": 4
    },
    {
      "cell_type": "markdown",
      "source": "#### 5 - Find out how many observations have missing value.\n",
      "metadata": {
        "tags": [],
        "cell_id": "00007-ce58c890-7dcc-449c-b44d-50471d61bbdd",
        "deepnote_cell_type": "markdown"
      }
    },
    {
      "cell_type": "code",
      "source": "file.isnull().sum()",
      "metadata": {
        "tags": [],
        "cell_id": "00008-104e4ed2-1c23-440e-9a89-2b08425defe8",
        "deepnote_to_be_reexecuted": false,
        "source_hash": "e9246e1f",
        "execution_millis": 11,
        "execution_start": 1618548460840,
        "deepnote_cell_type": "code"
      },
      "outputs": [
        {
          "output_type": "execute_result",
          "execution_count": 5,
          "data": {
            "text/plain": "INSTNM              0\nTUITIONFEE_IN    3133\ndtype: int64"
          },
          "metadata": {}
        }
      ],
      "execution_count": 5
    },
    {
      "cell_type": "markdown",
      "source": "#### 6 - Drop observations with missing values\n",
      "metadata": {
        "tags": [],
        "cell_id": "00010-c94001c0-2986-4816-82bd-318609af932b",
        "deepnote_cell_type": "markdown"
      }
    },
    {
      "cell_type": "code",
      "source": "file_nan = file.dropna().reset_index(drop = True)\nfile_nan.shape",
      "metadata": {
        "tags": [],
        "cell_id": "00010-0b68b241-08f3-462c-ac9c-d359417bed0b",
        "deepnote_to_be_reexecuted": false,
        "source_hash": "6cf68b51",
        "execution_millis": 13,
        "execution_start": 1618548460848,
        "deepnote_cell_type": "code"
      },
      "outputs": [
        {
          "output_type": "execute_result",
          "execution_count": 6,
          "data": {
            "text/plain": "(4337, 2)"
          },
          "metadata": {}
        }
      ],
      "execution_count": 6
    },
    {
      "cell_type": "markdown",
      "source": "#### 7 - Find out how many observations have 0 tuition.\n\n",
      "metadata": {
        "tags": [],
        "cell_id": "00012-f014b6ff-2d4c-42ec-bbe6-41208116e12f",
        "deepnote_cell_type": "markdown"
      }
    },
    {
      "cell_type": "code",
      "source": "file_nan[file_nan['TUITIONFEE_IN'] == 0]",
      "metadata": {
        "tags": [],
        "cell_id": "00014-e2371ae2-dfb8-47f8-a319-74ba100c781c",
        "deepnote_to_be_reexecuted": false,
        "source_hash": "80ecfc16",
        "execution_millis": 22,
        "execution_start": 1618548460895,
        "deepnote_cell_type": "code"
      },
      "outputs": [
        {
          "output_type": "execute_result",
          "execution_count": 7,
          "data": {
            "application/vnd.deepnote.dataframe.v2+json": {
              "row_count": 5,
              "column_count": 2,
              "columns": [
                {
                  "name": "INSTNM",
                  "dtype": "object",
                  "stats": {
                    "unique_count": 5,
                    "nan_count": 0,
                    "categories": [
                      {
                        "name": "United States Air Force Academy",
                        "count": 1
                      },
                      {
                        "name": "United States Naval Academy",
                        "count": 1
                      },
                      {
                        "name": "3 others",
                        "count": 3
                      }
                    ]
                  }
                },
                {
                  "name": "TUITIONFEE_IN",
                  "dtype": "float64",
                  "stats": {
                    "unique_count": 1,
                    "nan_count": 0,
                    "min": "0.0",
                    "max": "0.0",
                    "histogram": [
                      {
                        "bin_start": -0.5,
                        "bin_end": -0.4,
                        "count": 0
                      },
                      {
                        "bin_start": -0.4,
                        "bin_end": -0.3,
                        "count": 0
                      },
                      {
                        "bin_start": -0.3,
                        "bin_end": -0.19999999999999996,
                        "count": 0
                      },
                      {
                        "bin_start": -0.19999999999999996,
                        "bin_end": -0.09999999999999998,
                        "count": 0
                      },
                      {
                        "bin_start": -0.09999999999999998,
                        "bin_end": 0,
                        "count": 0
                      },
                      {
                        "bin_start": 0,
                        "bin_end": 0.10000000000000009,
                        "count": 5
                      },
                      {
                        "bin_start": 0.10000000000000009,
                        "bin_end": 0.20000000000000007,
                        "count": 0
                      },
                      {
                        "bin_start": 0.20000000000000007,
                        "bin_end": 0.30000000000000004,
                        "count": 0
                      },
                      {
                        "bin_start": 0.30000000000000004,
                        "bin_end": 0.4,
                        "count": 0
                      },
                      {
                        "bin_start": 0.4,
                        "bin_end": 0.5,
                        "count": 0
                      }
                    ]
                  }
                },
                {
                  "name": "_deepnote_index_column",
                  "dtype": "int64"
                }
              ],
              "rows_top": [
                {
                  "INSTNM": "United States Air Force Academy",
                  "TUITIONFEE_IN": 0,
                  "_deepnote_index_column": 433
                },
                {
                  "INSTNM": "United States Naval Academy",
                  "TUITIONFEE_IN": 0,
                  "_deepnote_index_column": 1192
                },
                {
                  "INSTNM": "United States Merchant Marine Academy",
                  "TUITIONFEE_IN": 0,
                  "_deepnote_index_column": 1976
                },
                {
                  "INSTNM": "United States Military Academy",
                  "TUITIONFEE_IN": 0,
                  "_deepnote_index_column": 1977
                },
                {
                  "INSTNM": "Webb Institute",
                  "TUITIONFEE_IN": 0,
                  "_deepnote_index_column": 1984
                }
              ],
              "rows_bottom": null
            },
            "text/plain": "                                     INSTNM  TUITIONFEE_IN\n433         United States Air Force Academy            0.0\n1192            United States Naval Academy            0.0\n1976  United States Merchant Marine Academy            0.0\n1977         United States Military Academy            0.0\n1984                         Webb Institute            0.0",
            "text/html": "<div>\n<style scoped>\n    .dataframe tbody tr th:only-of-type {\n        vertical-align: middle;\n    }\n\n    .dataframe tbody tr th {\n        vertical-align: top;\n    }\n\n    .dataframe thead th {\n        text-align: right;\n    }\n</style>\n<table border=\"1\" class=\"dataframe\">\n  <thead>\n    <tr style=\"text-align: right;\">\n      <th></th>\n      <th>INSTNM</th>\n      <th>TUITIONFEE_IN</th>\n    </tr>\n  </thead>\n  <tbody>\n    <tr>\n      <th>433</th>\n      <td>United States Air Force Academy</td>\n      <td>0.0</td>\n    </tr>\n    <tr>\n      <th>1192</th>\n      <td>United States Naval Academy</td>\n      <td>0.0</td>\n    </tr>\n    <tr>\n      <th>1976</th>\n      <td>United States Merchant Marine Academy</td>\n      <td>0.0</td>\n    </tr>\n    <tr>\n      <th>1977</th>\n      <td>United States Military Academy</td>\n      <td>0.0</td>\n    </tr>\n    <tr>\n      <th>1984</th>\n      <td>Webb Institute</td>\n      <td>0.0</td>\n    </tr>\n  </tbody>\n</table>\n</div>"
          },
          "metadata": {}
        }
      ],
      "execution_count": 7
    },
    {
      "cell_type": "markdown",
      "source": "#### 8 - Drop those observations with 0 tuition. Display the number of observations afterward",
      "metadata": {
        "tags": [],
        "cell_id": "00014-c071b878-fc59-4913-aa25-10ba0f896bd8",
        "deepnote_cell_type": "markdown"
      }
    },
    {
      "cell_type": "code",
      "source": "clean_file = file_nan[file_nan['TUITIONFEE_IN'] != 0]\nclean_file.shape",
      "metadata": {
        "tags": [],
        "cell_id": "00015-7069175f-f34a-415d-97ea-4dbe8bddbfe5",
        "deepnote_to_be_reexecuted": false,
        "source_hash": "b29acb90",
        "execution_millis": 15,
        "execution_start": 1618548460913,
        "deepnote_cell_type": "code"
      },
      "outputs": [
        {
          "output_type": "execute_result",
          "execution_count": 8,
          "data": {
            "text/plain": "(4332, 2)"
          },
          "metadata": {}
        }
      ],
      "execution_count": 8
    },
    {
      "cell_type": "markdown",
      "source": "#### 9 - Calculate and display the mean (average) of the tuitions of all the remaining observations\n",
      "metadata": {
        "tags": [],
        "cell_id": "00016-015cf380-ce8f-4e37-b350-49025916af14",
        "deepnote_cell_type": "markdown"
      }
    },
    {
      "cell_type": "code",
      "source": "avg_tuition = clean_file['TUITIONFEE_IN'].mean()\navg_tuition",
      "metadata": {
        "tags": [],
        "cell_id": "00016-01ed453b-b9c4-4b85-be52-ea762353647a",
        "deepnote_to_be_reexecuted": false,
        "source_hash": "37804ae1",
        "execution_millis": 9,
        "execution_start": 1618548460921,
        "deepnote_cell_type": "code"
      },
      "outputs": [
        {
          "output_type": "execute_result",
          "execution_count": 9,
          "data": {
            "text/plain": "12544.819252077563"
          },
          "metadata": {}
        }
      ],
      "execution_count": 9
    },
    {
      "cell_type": "markdown",
      "source": "#### 10 - Randomly select just 1 observation from the dataframe. Display the tuition of that observation.",
      "metadata": {
        "tags": [],
        "cell_id": "00018-c71099fa-dc09-457b-af0d-023a7a8dfb87",
        "deepnote_cell_type": "markdown"
      }
    },
    {
      "cell_type": "code",
      "source": "school_1 = clean_file.sample()\n\nschool_1",
      "metadata": {
        "tags": [],
        "cell_id": "00018-e54fa44a-b14c-46b3-8960-db624b0af863",
        "deepnote_to_be_reexecuted": false,
        "source_hash": "90af72e3",
        "execution_millis": 16,
        "execution_start": 1618548460926,
        "deepnote_cell_type": "code"
      },
      "outputs": [
        {
          "output_type": "execute_result",
          "execution_count": 10,
          "data": {
            "application/vnd.deepnote.dataframe.v2+json": {
              "row_count": 1,
              "column_count": 2,
              "columns": [
                {
                  "name": "INSTNM",
                  "dtype": "object",
                  "stats": {
                    "unique_count": 1,
                    "nan_count": 0,
                    "categories": [
                      {
                        "name": "Eastern New Mexico University Ruidoso Branch Community College",
                        "count": 1
                      }
                    ]
                  }
                },
                {
                  "name": "TUITIONFEE_IN",
                  "dtype": "float64",
                  "stats": {
                    "unique_count": 1,
                    "nan_count": 0,
                    "min": "764.0",
                    "max": "764.0",
                    "histogram": [
                      {
                        "bin_start": 763.5,
                        "bin_end": 763.6,
                        "count": 0
                      },
                      {
                        "bin_start": 763.6,
                        "bin_end": 763.7,
                        "count": 0
                      },
                      {
                        "bin_start": 763.7,
                        "bin_end": 763.8,
                        "count": 0
                      },
                      {
                        "bin_start": 763.8,
                        "bin_end": 763.9,
                        "count": 0
                      },
                      {
                        "bin_start": 763.9,
                        "bin_end": 764,
                        "count": 0
                      },
                      {
                        "bin_start": 764,
                        "bin_end": 764.1,
                        "count": 1
                      },
                      {
                        "bin_start": 764.1,
                        "bin_end": 764.2,
                        "count": 0
                      },
                      {
                        "bin_start": 764.2,
                        "bin_end": 764.3,
                        "count": 0
                      },
                      {
                        "bin_start": 764.3,
                        "bin_end": 764.4,
                        "count": 0
                      },
                      {
                        "bin_start": 764.4,
                        "bin_end": 764.5,
                        "count": 0
                      }
                    ]
                  }
                },
                {
                  "name": "_deepnote_index_column",
                  "dtype": "int64"
                }
              ],
              "rows_top": [
                {
                  "INSTNM": "Eastern New Mexico University Ruidoso Branch Community College",
                  "TUITIONFEE_IN": 764,
                  "_deepnote_index_column": 3384
                }
              ],
              "rows_bottom": null
            },
            "text/plain": "                                                 INSTNM  TUITIONFEE_IN\n3384  Eastern New Mexico University Ruidoso Branch C...          764.0",
            "text/html": "<div>\n<style scoped>\n    .dataframe tbody tr th:only-of-type {\n        vertical-align: middle;\n    }\n\n    .dataframe tbody tr th {\n        vertical-align: top;\n    }\n\n    .dataframe thead th {\n        text-align: right;\n    }\n</style>\n<table border=\"1\" class=\"dataframe\">\n  <thead>\n    <tr style=\"text-align: right;\">\n      <th></th>\n      <th>INSTNM</th>\n      <th>TUITIONFEE_IN</th>\n    </tr>\n  </thead>\n  <tbody>\n    <tr>\n      <th>3384</th>\n      <td>Eastern New Mexico University Ruidoso Branch C...</td>\n      <td>764.0</td>\n    </tr>\n  </tbody>\n</table>\n</div>"
          },
          "metadata": {}
        }
      ],
      "execution_count": 10
    },
    {
      "cell_type": "markdown",
      "source": "#### 11 - Calculate the difference between the tuition of this observation and the mean tuition of all observations calculated earlier. Display the difference.",
      "metadata": {
        "tags": [],
        "cell_id": "00020-186a83e6-9c3c-4b62-bb6b-9442340e8843",
        "deepnote_cell_type": "markdown"
      }
    },
    {
      "cell_type": "code",
      "source": "school_1_diff = avg_tuition - float(school_1['TUITIONFEE_IN'])\n\nprint('Difference in tutition and average overall tuitions:', round(school_1_diff, 2))",
      "metadata": {
        "tags": [],
        "cell_id": "00020-2e8473ce-f22b-48ff-b9ae-b4726e11fe10",
        "deepnote_to_be_reexecuted": false,
        "source_hash": "8908143",
        "execution_millis": 6,
        "execution_start": 1618548460944,
        "deepnote_cell_type": "code"
      },
      "outputs": [
        {
          "name": "stdout",
          "text": "Difference in tutition and average overall tuitions: 11780.82\n",
          "output_type": "stream"
        }
      ],
      "execution_count": 11
    },
    {
      "cell_type": "markdown",
      "source": "#### 12 - Repeat 10 to 11 several times get the feel of the size of the difference in means",
      "metadata": {
        "tags": [],
        "cell_id": "00022-6c57fbd9-d3ba-4a30-9148-3bb7f2a94495",
        "deepnote_cell_type": "markdown"
      }
    },
    {
      "cell_type": "markdown",
      "source": "Example #1",
      "metadata": {
        "tags": [],
        "cell_id": "00023-640f05ba-bf97-4a63-9bb7-45a6ba3fd579",
        "deepnote_cell_type": "markdown"
      }
    },
    {
      "cell_type": "code",
      "source": "# randomly select a school\n\nschool_2 = clean_file.sample()\n\n# calculate difference between tuition and mean tuition of all schools\n\nschool_2_diff = abs(avg_tuition - float(school_2['TUITIONFEE_IN']))\n\nprint(school_2)\nprint('Difference in tutition and average overall tuitions:', round(school_2_diff, 2))",
      "metadata": {
        "tags": [],
        "cell_id": "00022-25d18495-3afc-418b-8318-87ce3f567b91",
        "deepnote_to_be_reexecuted": false,
        "source_hash": "c622212b",
        "execution_millis": 15,
        "execution_start": 1618548460991,
        "deepnote_cell_type": "code"
      },
      "outputs": [
        {
          "name": "stdout",
          "text": "                              INSTNM  TUITIONFEE_IN\n179  University of California-Irvine        11232.0\nDifference in tutition and average overall tuitions: 1312.82\n",
          "output_type": "stream"
        }
      ],
      "execution_count": 12
    },
    {
      "cell_type": "markdown",
      "source": "Example #2",
      "metadata": {
        "tags": [],
        "cell_id": "00025-ca924334-25d1-4206-b5e4-d05d2b7e0c0f",
        "deepnote_cell_type": "markdown"
      }
    },
    {
      "cell_type": "code",
      "source": "# randomly select a school\n\nschool_3 = clean_file.sample()\n\n# calculate difference between tuition and mean tuition of all schools\n\nschool_3_diff = abs(avg_tuition - float(school_3['TUITIONFEE_IN']))\n\nprint(school_3)\nprint('Difference in tutition and average overall tuitions:', round(school_3_diff, 2))",
      "metadata": {
        "tags": [],
        "cell_id": "00024-7eedd1fe-250b-4f13-be41-828448c50240",
        "deepnote_to_be_reexecuted": false,
        "source_hash": "6145b24a",
        "execution_millis": 14,
        "execution_start": 1618548460992,
        "deepnote_cell_type": "code"
      },
      "outputs": [
        {
          "name": "stdout",
          "text": "                                  INSTNM  TUITIONFEE_IN\n3195  University of Puerto Rico-Carolina         2824.0\nDifference in tutition and average overall tuitions: 9720.82\n",
          "output_type": "stream"
        }
      ],
      "execution_count": 13
    },
    {
      "cell_type": "markdown",
      "source": "#### 13 - Randomly select 20 observations, display the tuition of these observation.",
      "metadata": {
        "tags": [],
        "cell_id": "00027-661633c3-f272-49eb-9211-ed60e28260a9",
        "deepnote_cell_type": "markdown"
      }
    },
    {
      "cell_type": "code",
      "source": "schools_1 = clean_file.sample(20)\nschools_1",
      "metadata": {
        "tags": [],
        "cell_id": "00025-de2fcbbe-7e31-4a64-9e35-51b393225b2b",
        "deepnote_to_be_reexecuted": false,
        "source_hash": "8b50b377",
        "execution_millis": 74,
        "execution_start": 1618548460992,
        "deepnote_cell_type": "code"
      },
      "outputs": [
        {
          "output_type": "execute_result",
          "execution_count": 14,
          "data": {
            "application/vnd.deepnote.dataframe.v2+json": {
              "row_count": 20,
              "column_count": 2,
              "columns": [
                {
                  "name": "INSTNM",
                  "dtype": "object",
                  "stats": {
                    "unique_count": 20,
                    "nan_count": 0,
                    "categories": [
                      {
                        "name": "Wheelock College",
                        "count": 1
                      },
                      {
                        "name": "Lincoln Christian University",
                        "count": 1
                      },
                      {
                        "name": "18 others",
                        "count": 18
                      }
                    ]
                  }
                },
                {
                  "name": "TUITIONFEE_IN",
                  "dtype": "float64",
                  "stats": {
                    "unique_count": 20,
                    "nan_count": 0,
                    "min": "2820.0",
                    "max": "41982.0",
                    "histogram": [
                      {
                        "bin_start": 2820,
                        "bin_end": 6736.2,
                        "count": 3
                      },
                      {
                        "bin_start": 6736.2,
                        "bin_end": 10652.4,
                        "count": 6
                      },
                      {
                        "bin_start": 10652.4,
                        "bin_end": 14568.599999999999,
                        "count": 4
                      },
                      {
                        "bin_start": 14568.599999999999,
                        "bin_end": 18484.8,
                        "count": 1
                      },
                      {
                        "bin_start": 18484.8,
                        "bin_end": 22401,
                        "count": 3
                      },
                      {
                        "bin_start": 22401,
                        "bin_end": 26317.199999999997,
                        "count": 1
                      },
                      {
                        "bin_start": 26317.199999999997,
                        "bin_end": 30233.399999999998,
                        "count": 1
                      },
                      {
                        "bin_start": 30233.399999999998,
                        "bin_end": 34149.6,
                        "count": 0
                      },
                      {
                        "bin_start": 34149.6,
                        "bin_end": 38065.799999999996,
                        "count": 0
                      },
                      {
                        "bin_start": 38065.799999999996,
                        "bin_end": 41982,
                        "count": 1
                      }
                    ]
                  }
                },
                {
                  "name": "_deepnote_index_column",
                  "dtype": "int64"
                }
              ],
              "rows_top": [
                {
                  "INSTNM": "Wheelock College",
                  "TUITIONFEE_IN": 28940,
                  "_deepnote_index_column": 1294
                },
                {
                  "INSTNM": "Lincoln Christian University",
                  "TUITIONFEE_IN": 13680,
                  "_deepnote_index_column": 778
                },
                {
                  "INSTNM": "Western Michigan University",
                  "TUITIONFEE_IN": 9006,
                  "_deepnote_index_column": 1378
                },
                {
                  "INSTNM": "West Virginia State University",
                  "TUITIONFEE_IN": 4544,
                  "_deepnote_index_column": 3076
                },
                {
                  "INSTNM": "Pennsylvania State University-Penn State Abington",
                  "TUITIONFEE_IN": 12730,
                  "_deepnote_index_column": 2504
                },
                {
                  "INSTNM": "Las Vegas College",
                  "TUITIONFEE_IN": 18576,
                  "_deepnote_index_column": 1632
                },
                {
                  "INSTNM": "Bon Secours Memorial College of Nursing",
                  "TUITIONFEE_IN": 6802,
                  "_deepnote_index_column": 2968
                },
                {
                  "INSTNM": "Clover Park Technical College",
                  "TUITIONFEE_IN": 4419,
                  "_deepnote_index_column": 3004
                },
                {
                  "INSTNM": "New York School of Interior Design",
                  "TUITIONFEE_IN": 18920,
                  "_deepnote_index_column": 1894
                },
                {
                  "INSTNM": "Francis Marion University",
                  "TUITIONFEE_IN": 8480,
                  "_deepnote_index_column": 2610
                },
                {
                  "INSTNM": "California Christian College",
                  "TUITIONFEE_IN": 7460,
                  "_deepnote_index_column": 185
                },
                {
                  "INSTNM": "Goddard College",
                  "TUITIONFEE_IN": 13022,
                  "_deepnote_index_column": 2902
                },
                {
                  "INSTNM": "Nebraska Wesleyan University",
                  "TUITIONFEE_IN": 23474,
                  "_deepnote_index_column": 1617
                },
                {
                  "INSTNM": "Remington College-Nashville Campus",
                  "TUITIONFEE_IN": 14745,
                  "_deepnote_index_column": 3803
                },
                {
                  "INSTNM": "Escuela Tecnica de Electricidad",
                  "TUITIONFEE_IN": 9240,
                  "_deepnote_index_column": 3564
                },
                {
                  "INSTNM": "University of Connecticut",
                  "TUITIONFEE_IN": 10416,
                  "_deepnote_index_column": 445
                },
                {
                  "INSTNM": "Clarkson College",
                  "TUITIONFEE_IN": 11986,
                  "_deepnote_index_column": 1598
                },
                {
                  "INSTNM": "Providence Christian College",
                  "TUITIONFEE_IN": 20444,
                  "_deepnote_index_column": 4028
                },
                {
                  "INSTNM": "Bard College at Simon's Rock",
                  "TUITIONFEE_IN": 41982,
                  "_deepnote_index_column": 1281
                },
                {
                  "INSTNM": "Northern Marianas College",
                  "TUITIONFEE_IN": 2820,
                  "_deepnote_index_column": 3154
                }
              ],
              "rows_bottom": null
            },
            "text/plain": "                                                 INSTNM  TUITIONFEE_IN\n1294                                   Wheelock College        28940.0\n778                        Lincoln Christian University        13680.0\n1378                        Western Michigan University         9006.0\n3076                     West Virginia State University         4544.0\n2504  Pennsylvania State University-Penn State Abington        12730.0\n1632                                  Las Vegas College        18576.0\n2968            Bon Secours Memorial College of Nursing         6802.0\n3004                      Clover Park Technical College         4419.0\n1894                 New York School of Interior Design        18920.0\n2610                          Francis Marion University         8480.0\n185                        California Christian College         7460.0\n2902                                    Goddard College        13022.0\n1617                       Nebraska Wesleyan University        23474.0\n3803                 Remington College-Nashville Campus        14745.0\n3564                    Escuela Tecnica de Electricidad         9240.0\n445                           University of Connecticut        10416.0\n1598                                   Clarkson College        11986.0\n4028                       Providence Christian College        20444.0\n1281                       Bard College at Simon's Rock        41982.0\n3154                          Northern Marianas College         2820.0",
            "text/html": "<div>\n<style scoped>\n    .dataframe tbody tr th:only-of-type {\n        vertical-align: middle;\n    }\n\n    .dataframe tbody tr th {\n        vertical-align: top;\n    }\n\n    .dataframe thead th {\n        text-align: right;\n    }\n</style>\n<table border=\"1\" class=\"dataframe\">\n  <thead>\n    <tr style=\"text-align: right;\">\n      <th></th>\n      <th>INSTNM</th>\n      <th>TUITIONFEE_IN</th>\n    </tr>\n  </thead>\n  <tbody>\n    <tr>\n      <th>1294</th>\n      <td>Wheelock College</td>\n      <td>28940.0</td>\n    </tr>\n    <tr>\n      <th>778</th>\n      <td>Lincoln Christian University</td>\n      <td>13680.0</td>\n    </tr>\n    <tr>\n      <th>1378</th>\n      <td>Western Michigan University</td>\n      <td>9006.0</td>\n    </tr>\n    <tr>\n      <th>3076</th>\n      <td>West Virginia State University</td>\n      <td>4544.0</td>\n    </tr>\n    <tr>\n      <th>2504</th>\n      <td>Pennsylvania State University-Penn State Abington</td>\n      <td>12730.0</td>\n    </tr>\n    <tr>\n      <th>1632</th>\n      <td>Las Vegas College</td>\n      <td>18576.0</td>\n    </tr>\n    <tr>\n      <th>2968</th>\n      <td>Bon Secours Memorial College of Nursing</td>\n      <td>6802.0</td>\n    </tr>\n    <tr>\n      <th>3004</th>\n      <td>Clover Park Technical College</td>\n      <td>4419.0</td>\n    </tr>\n    <tr>\n      <th>1894</th>\n      <td>New York School of Interior Design</td>\n      <td>18920.0</td>\n    </tr>\n    <tr>\n      <th>2610</th>\n      <td>Francis Marion University</td>\n      <td>8480.0</td>\n    </tr>\n    <tr>\n      <th>185</th>\n      <td>California Christian College</td>\n      <td>7460.0</td>\n    </tr>\n    <tr>\n      <th>2902</th>\n      <td>Goddard College</td>\n      <td>13022.0</td>\n    </tr>\n    <tr>\n      <th>1617</th>\n      <td>Nebraska Wesleyan University</td>\n      <td>23474.0</td>\n    </tr>\n    <tr>\n      <th>3803</th>\n      <td>Remington College-Nashville Campus</td>\n      <td>14745.0</td>\n    </tr>\n    <tr>\n      <th>3564</th>\n      <td>Escuela Tecnica de Electricidad</td>\n      <td>9240.0</td>\n    </tr>\n    <tr>\n      <th>445</th>\n      <td>University of Connecticut</td>\n      <td>10416.0</td>\n    </tr>\n    <tr>\n      <th>1598</th>\n      <td>Clarkson College</td>\n      <td>11986.0</td>\n    </tr>\n    <tr>\n      <th>4028</th>\n      <td>Providence Christian College</td>\n      <td>20444.0</td>\n    </tr>\n    <tr>\n      <th>1281</th>\n      <td>Bard College at Simon's Rock</td>\n      <td>41982.0</td>\n    </tr>\n    <tr>\n      <th>3154</th>\n      <td>Northern Marianas College</td>\n      <td>2820.0</td>\n    </tr>\n  </tbody>\n</table>\n</div>"
          },
          "metadata": {}
        }
      ],
      "execution_count": 14
    },
    {
      "cell_type": "markdown",
      "source": "#### 14 - Calculate and display the mean tuition of these 20 observations\n",
      "metadata": {
        "tags": [],
        "cell_id": "00029-2db27a02-27ee-4fdd-b3c6-0da95f92d03a",
        "deepnote_cell_type": "markdown"
      }
    },
    {
      "cell_type": "code",
      "source": "sample_avg = schools_1['TUITIONFEE_IN'].mean()\nprint('Average of sample schools tuitions:', sample_avg)",
      "metadata": {
        "tags": [],
        "cell_id": "00029-c9904938-ab62-406d-b4bc-1e86003a4705",
        "deepnote_to_be_reexecuted": false,
        "source_hash": "5cd54e5b",
        "execution_millis": 45,
        "execution_start": 1618548461021,
        "deepnote_cell_type": "code"
      },
      "outputs": [
        {
          "name": "stdout",
          "text": "Average of sample schools tuitions: 14084.3\n",
          "output_type": "stream"
        }
      ],
      "execution_count": 15
    },
    {
      "cell_type": "code",
      "source": "schools_1_diff = abs(avg_tuition - sample_avg)\nprint('Difference in average of sample tuition and average overall tuition:', round(schools_1_diff, 2))",
      "metadata": {
        "tags": [],
        "cell_id": "00031-63956c4f-d35f-4ac8-be8f-8ea48779226c",
        "deepnote_to_be_reexecuted": false,
        "source_hash": "29fd6558",
        "execution_millis": 41,
        "execution_start": 1618548461025,
        "deepnote_cell_type": "code"
      },
      "outputs": [
        {
          "name": "stdout",
          "text": "Difference in average of sample tuition and average overall tuition: 1539.48\n",
          "output_type": "stream"
        }
      ],
      "execution_count": 16
    },
    {
      "cell_type": "markdown",
      "source": "#### 16a - Repeat 13 to 15 several times and get the feel of the size of the difference in means ",
      "metadata": {
        "tags": [],
        "cell_id": "00034-950bdf11-24f7-4248-952f-585a5968e33f",
        "deepnote_cell_type": "markdown"
      }
    },
    {
      "cell_type": "markdown",
      "source": "Example #1",
      "metadata": {
        "tags": [],
        "cell_id": "00035-13df9a01-63e6-4ded-a649-614ab0047664",
        "deepnote_cell_type": "markdown"
      }
    },
    {
      "cell_type": "code",
      "source": "# randomly select 20 schools\n\nschools_2 = clean_file.sample(20)\n\n# calculate average of sample \n\nsample_avg2 = schools_2['TUITIONFEE_IN'].mean()\nsample_avg2\n\n# calculate difference between tuition and mean tuition of all schools\n\nschools_2_diff = abs(avg_tuition - sample_avg2)\n\nprint(schools_2)\nprint('Difference in average of sample tuition and average overall tuition:', round(schools_2_diff, 2))",
      "metadata": {
        "tags": [],
        "cell_id": "00034-0e14b634-96d0-4e07-ae85-dfa1ff0a2dd9",
        "deepnote_to_be_reexecuted": false,
        "source_hash": "8e676bff",
        "execution_millis": 34,
        "execution_start": 1618548461032,
        "deepnote_cell_type": "code"
      },
      "outputs": [
        {
          "name": "stdout",
          "text": "                                         INSTNM  TUITIONFEE_IN\n815                         Rockford University        24750.0\n1487                           Tougaloo College         9718.0\n448                        Fairfield University        39040.0\n634                            Emmanuel College        13520.0\n3139          University of Wisconsin-Milwaukee         8151.0\n1920                  St Bonaventure University        26895.0\n683                        Toccoa Falls College        15885.0\n2676                      Cumberland University        18256.0\n666             North Georgia Technical College         2310.0\n4269        Southeastern College-St. Petersburg        14176.0\n853      Grace College and Theological Seminary        21700.0\n1643                 Franklin Pierce University        28800.0\n515          Florida SouthWestern State College         2682.0\n3381                   Hawaii Community College         2246.0\n3258       Purdue University Global-Cedar Falls        20481.0\n3860  New River Community and Technical College         2878.0\n2978            Thomas Nelson Community College         3262.0\n2855           The University of Texas at Tyler         6322.0\n3744          Southeastern College-Jacksonville        14176.0\n3236                           Landmark College        48000.0\nDifference in average of sample tuition and average overall tuition: 3617.58\n",
          "output_type": "stream"
        }
      ],
      "execution_count": 17
    },
    {
      "cell_type": "markdown",
      "source": "Example #2",
      "metadata": {
        "tags": [],
        "cell_id": "00037-714cfc1b-fbf7-495e-a762-5c3c3e8e8092",
        "deepnote_cell_type": "markdown"
      }
    },
    {
      "cell_type": "code",
      "source": "# randomly select 20 schools\n\nschools_3 = clean_file.sample(20)\n\n# calculate average of sample \n\nsample_avg3 = schools_3['TUITIONFEE_IN'].mean()\nsample_avg3\n\n# calculate difference between tuition and mean tuition of all schools\n\nschools_3_diff = abs(avg_tuition - sample_avg3)\n\nprint(schools_3)\nprint('Difference in average of sample tuition and average overall tuition:', round(schools_3_diff, 2))",
      "metadata": {
        "tags": [],
        "cell_id": "00038-97d34c5e-b2a7-44ac-9808-f7fe0398c845",
        "deepnote_to_be_reexecuted": false,
        "source_hash": "99cf5d8b",
        "execution_millis": 33,
        "execution_start": 1618548461043,
        "deepnote_cell_type": "code"
      },
      "outputs": [
        {
          "name": "stdout",
          "text": "                                                 INSTNM  TUITIONFEE_IN\n3733              Minnesota School of Business-Plymouth        15660.0\n3513    The College of Saints John Fisher & Thomas More        12800.0\n538                            Hobe Sound Bible College         5100.0\n1511                          Four Rivers Career Center        12193.0\n1764                                       Bard College        41670.0\n2317                      Northeastern State University         4385.0\n2132                  Turtle Mountain Community College         2000.0\n3819            Minnesota School of Business-Waite Park        15660.0\n1887                                     The New School        36729.0\n2973                       Southern Virginia University        17800.0\n1894                 New York School of Interior Design        18920.0\n2114                        Western Carolina University         5124.0\n3849       ITT Technical Institute-Warrensville Heights        18048.0\n3679                  ITT Technical Institute-Levittown        18048.0\n4043                 ITT Technical Institute-Huntington        18048.0\n1367                                Schoolcraft College         2610.0\n8                                     Auburn University         7900.0\n3263  West Virginia Junior College-United Career Ins...        11985.0\n862                Ivy Tech Community College-Lafayette         3257.0\n4091                 Bryant & Stratton College-Bayshore        15245.0\nDifference in average of sample tuition and average overall tuition: 1614.28\n",
          "output_type": "stream"
        }
      ],
      "execution_count": 18
    },
    {
      "cell_type": "markdown",
      "source": "#### 16b - Compare these differences with the differences calculated earlier with just 1 observation. Describe your hunch/conclusion.\n\n- The difference between single school and the average tuition of all schools was the highest. \n- The difference between 20 schools and the average tuition of all schools were significantly lower than comparing single tutition. \n- As the number of schools in the sample increased, the differences average tuition of sample schools and average tuition of all schools will decrease. \n- If the sample included all schools listed in the file, the average difference between the sample schools and all schools will be zero.  ",
      "metadata": {
        "tags": [],
        "cell_id": "00035-7e36adcb-92f1-4907-9cb4-735910dea417",
        "deepnote_cell_type": "markdown"
      }
    },
    {
      "cell_type": "markdown",
      "source": "#### 17 - Write a function that take two input parameters:\n\n- x (number of observations)\n- y (the name of the dataframe).\n\nThe function will perform the following:\n\n- Randomly select x observations from y\n- Calculate the mean of these x observations\n- Calculate the mean of all observations\n- Calculate the difference between the two means\n- Return the difference",
      "metadata": {
        "tags": [],
        "cell_id": "00040-8bfe74d4-17bf-4b56-a5ec-d2bf6c82523a",
        "deepnote_cell_type": "markdown"
      }
    },
    {
      "cell_type": "code",
      "source": "def avg_diff(sample, data):\n    all_avg = data.mean()\n    random_schools = data.sample(sample)\n    random_avg = random_schools.mean()\n    diff = abs(all_avg - random_avg)\n    print('All Schools:', data, 'Selected Schools:', random_schools, 'Average Difference:', round(float(diff), 2), sep= '\\n')    ",
      "metadata": {
        "tags": [],
        "cell_id": "00033-e36ab7b4-6cf6-4c8a-84f6-83dea84a4d0a",
        "deepnote_to_be_reexecuted": false,
        "source_hash": "f9d1d0fb",
        "execution_millis": 0,
        "execution_start": 1618548461059,
        "deepnote_cell_type": "code"
      },
      "outputs": [],
      "execution_count": 19
    },
    {
      "cell_type": "markdown",
      "source": "#### 18 - Test the function by passing a sample size and the name of the dataframe. Display the return of the function",
      "metadata": {
        "tags": [],
        "cell_id": "00042-a8e418c0-4186-401d-a832-c7a9ec55b250",
        "deepnote_cell_type": "markdown"
      }
    },
    {
      "cell_type": "code",
      "source": "avg_diff(100, clean_file)",
      "metadata": {
        "tags": [],
        "cell_id": "00042-7865d3e9-bab2-4b2d-8f2c-9f435efd7b71",
        "deepnote_to_be_reexecuted": false,
        "source_hash": "9f3fea99",
        "execution_millis": 54,
        "execution_start": 1618548461062,
        "deepnote_cell_type": "code"
      },
      "outputs": [
        {
          "name": "stdout",
          "text": "All Schools:\n                                    INSTNM  TUITIONFEE_IN\n0                 Alabama A & M University         5800.0\n1      University of Alabama at Birmingham         5806.0\n2                       Amridge University         8360.0\n3      University of Alabama in Huntsville         7492.0\n4                 Alabama State University         7164.0\n...                                    ...            ...\n4332  Strayer University-Charleston Campus        14085.0\n4333             Strayer University-Irving        14085.0\n4334               Strayer University-Katy        14085.0\n4335  Strayer University-Northwest Houston        14085.0\n4336              Strayer University-Plano        14085.0\n\n[4332 rows x 2 columns]\nSelected Schools:\n                                      INSTNM  TUITIONFEE_IN\n4232   Brattleboro Center - Closed July 2013        11132.0\n1624                           Union College        18150.0\n3907         Platt College-Miller-Motte-Cary        10597.0\n1028                     Alice Lloyd College         9500.0\n642                 Georgia Military College         4422.0\n...                                      ...            ...\n446                          Goodwin College        18500.0\n3168       Colegio Universitario de San Juan         2370.0\n269            Los Angeles Southwest College          700.0\n1164                 Coppin State University         5547.0\n2485  Ohio Valley Hospital School of Nursing        13229.0\n\n[100 rows x 2 columns]\nAverage Difference:\n1555.24\n",
          "output_type": "stream"
        }
      ],
      "execution_count": 20
    },
    {
      "cell_type": "code",
      "source": "avg_diff(3000, clean_file)",
      "metadata": {
        "tags": [],
        "cell_id": "00044-d64eaa9a-3148-46ae-8301-7a0a772744f4",
        "deepnote_to_be_reexecuted": false,
        "source_hash": "f58c5685",
        "execution_millis": 31,
        "execution_start": 1618548461132,
        "deepnote_cell_type": "code"
      },
      "outputs": [
        {
          "name": "stdout",
          "text": "All Schools:\n                                    INSTNM  TUITIONFEE_IN\n0                 Alabama A & M University         5800.0\n1      University of Alabama at Birmingham         5806.0\n2                       Amridge University         8360.0\n3      University of Alabama in Huntsville         7492.0\n4                 Alabama State University         7164.0\n...                                    ...            ...\n4332  Strayer University-Charleston Campus        14085.0\n4333             Strayer University-Irving        14085.0\n4334               Strayer University-Katy        14085.0\n4335  Strayer University-Northwest Houston        14085.0\n4336              Strayer University-Plano        14085.0\n\n[4332 rows x 2 columns]\nSelected Schools:\n                                                 INSTNM  TUITIONFEE_IN\n1510                               Fontbonne University        20380.0\n2941                       John Tyler Community College         3275.0\n3202          Universidad Ana G. Mendez-Carolina Campus         5064.0\n844                                   Butler University        30558.0\n276   Argosy University-The Art Institute of Califor...        18648.0\n...                                                 ...            ...\n2826                            University of St Thomas        23500.0\n2067          University of North Carolina at Asheville         4729.0\n1441               Saint Mary's University of Minnesota        26090.0\n3173  Instituto Tecnologico de Puerto Rico-Recinto d...         1125.0\n2277                                Stark State College         3258.0\n\n[3000 rows x 2 columns]\nAverage Difference:\n148.37\n",
          "output_type": "stream"
        }
      ],
      "execution_count": 21
    },
    {
      "cell_type": "markdown",
      "source": "#### 19 - Create a list of sequence numbers from 1 to 50, name it \"sample_sizes\"; display it to make sure its members are from 1 to 50",
      "metadata": {
        "tags": [],
        "cell_id": "00045-bda9cf64-e31c-4c7e-a6bf-013a6872df1f",
        "deepnote_cell_type": "markdown"
      }
    },
    {
      "cell_type": "code",
      "source": "sample_sizes = list(range(1,51))\nprint(sample_sizes)",
      "metadata": {
        "tags": [],
        "cell_id": "00045-4460305e-c3ae-4a7f-bcc4-0b3e98ec1e5b",
        "deepnote_to_be_reexecuted": false,
        "source_hash": "40c578cc",
        "execution_millis": 7,
        "execution_start": 1618548461158,
        "deepnote_cell_type": "code"
      },
      "outputs": [
        {
          "name": "stdout",
          "text": "[1, 2, 3, 4, 5, 6, 7, 8, 9, 10, 11, 12, 13, 14, 15, 16, 17, 18, 19, 20, 21, 22, 23, 24, 25, 26, 27, 28, 29, 30, 31, 32, 33, 34, 35, 36, 37, 38, 39, 40, 41, 42, 43, 44, 45, 46, 47, 48, 49, 50]\n",
          "output_type": "stream"
        }
      ],
      "execution_count": 22
    },
    {
      "cell_type": "markdown",
      "source": "#### 20 - Create an empty list and name it \"means_diff\" for differences of population mean and sample means;\n##### Loop through the list sample_sizes:\n- For each element in the sample size list, obtain a random sample of that size from the data frame;\n- Calculate the sample mean \n- Calculate the difference between the population mean and the sample mean\n- Append the difference to the list \"means_diff\"\n- Display the list \"means_diff\" after the loop is completed",
      "metadata": {
        "tags": [],
        "cell_id": "00047-14051874-6741-44ee-a12b-44d3723ab3ee",
        "deepnote_cell_type": "markdown"
      }
    },
    {
      "cell_type": "code",
      "source": "# function to calculate mean \n\ndef calc_avg(input_value):\n    avg = sum(input_value) / len(input_value)\n    return avg ",
      "metadata": {
        "tags": [],
        "cell_id": "00047-9c208e11-7881-40ba-b949-002849df8a04",
        "deepnote_to_be_reexecuted": false,
        "source_hash": "17d3f3ca",
        "execution_millis": 27,
        "execution_start": 1618548461175,
        "deepnote_cell_type": "code"
      },
      "outputs": [],
      "execution_count": 23
    },
    {
      "cell_type": "code",
      "source": "means_diff = []\n\nfor ele in sample_sizes:\n    sample = random.sample(sample_sizes, ele)\n    sample_avg = calc_avg(sample)\n    avg_diff = abs(calc_avg(sample_sizes) - sample_avg)\n    means_diff.append(round(avg_diff,2))\n    \nprint(means_diff)",
      "metadata": {
        "tags": [],
        "cell_id": "00049-e1c036ea-a4da-4c3e-a64c-f55bf0ce7b9f",
        "deepnote_to_be_reexecuted": false,
        "source_hash": "ec2b11c7",
        "execution_millis": 12,
        "execution_start": 1618548461207,
        "deepnote_cell_type": "code"
      },
      "outputs": [
        {
          "name": "stdout",
          "text": "[7.5, 1.5, 6.17, 4.0, 1.5, 1.0, 0.79, 1.88, 2.61, 6.4, 2.59, 1.25, 3.19, 0.86, 3.77, 0.44, 3.62, 1.39, 4.24, 1.05, 0.69, 2.5, 1.02, 2.0, 1.5, 1.73, 3.43, 1.75, 1.22, 1.17, 1.79, 1.19, 1.05, 0.35, 1.36, 0.36, 0.23, 0.29, 0.73, 2.62, 1.43, 1.86, 0.22, 2.05, 0.1, 0.63, 0.44, 0.67, 0.42, 0.0]\n",
          "output_type": "stream"
        }
      ],
      "execution_count": 24
    },
    {
      "cell_type": "markdown",
      "source": "#### 21 - Make a scatter plot with sample size on the x-axs and  mean difference on the y-axis. Observe as the sample size increases, the sample means converge to the population mean.",
      "metadata": {
        "tags": [],
        "cell_id": "00050-daf4a409-c84f-4952-bb9d-f6359019d61e",
        "deepnote_cell_type": "markdown"
      }
    },
    {
      "cell_type": "code",
      "source": "x = sample_sizes\ny = means_diff\n\nplt.rcParams[\"figure.figsize\"] = (20,10)\n\nplt.scatter(x, y)\nplt.title(\"Sample Size vs Mean Difference (Sample Size of 50)\", fontsize = 12)\nplt.xlabel(\"Sample Size\", fontsize = 12)\nplt.ylabel(\"Mean Difference\", fontsize = 12)\nplt.show()",
      "metadata": {
        "tags": [],
        "cell_id": "00051-2423cab8-3a07-4c17-96e1-57aaffa4dc5d",
        "deepnote_to_be_reexecuted": false,
        "source_hash": "c044066c",
        "execution_millis": 301,
        "execution_start": 1618548461215,
        "deepnote_cell_type": "code"
      },
      "outputs": [
        {
          "data": {
            "text/plain": "<Figure size 1440x720 with 1 Axes>",
            "image/png": "[encoded data removed]"
          },
          "metadata": {
            "needs_background": "light"
          },
          "output_type": "display_data"
        }
      ],
      "execution_count": 25
    },
    {
      "cell_type": "markdown",
      "source": "#### 22 - repeat 18 to 21 by replacing 50 with a larger number. For example, 300, or even 1000 and see how the plot looks.",
      "metadata": {
        "tags": [],
        "cell_id": "00052-b8baedc3-9c1e-4e2f-a8e8-09eeb6e06d9b",
        "deepnote_cell_type": "markdown"
      }
    },
    {
      "cell_type": "markdown",
      "source": "Example #1",
      "metadata": {
        "tags": [],
        "cell_id": "00053-3c20aed6-e087-4044-9cc9-d84ed4d10413",
        "deepnote_cell_type": "markdown"
      }
    },
    {
      "cell_type": "code",
      "source": "# sample size of 300\n\nsample_sizes_300 = list(range(1,301))\n\nmeans_diff_300 = []\n\nfor ele_300 in sample_sizes_300:\n    sample_300 = random.sample(sample_sizes_300, ele_300)\n    sample_avg_300 = calc_avg(sample_300)\n    avg_diff_300 = abs(calc_avg(sample_sizes_300) - sample_avg_300)\n    means_diff_300.append(round(avg_diff_300,2))\n    \nx = sample_sizes_300\ny = means_diff_300\n\nplt.scatter(x, y)\nplt.title(\"Sample Size vs Mean Difference (Sample Size of 300)\", fontsize = 12)\nplt.xlabel(\"Sample Size\", fontsize = 12)\nplt.ylabel(\"Mean Difference\", fontsize = 12)\nplt.show()",
      "metadata": {
        "tags": [],
        "cell_id": "00052-b1a7cbf6-24d9-4065-900b-4d504e4d92f8",
        "deepnote_to_be_reexecuted": false,
        "source_hash": "d9f03596",
        "execution_millis": 255,
        "output_cleared": false,
        "execution_start": 1618548461549,
        "deepnote_cell_type": "code"
      },
      "outputs": [
        {
          "data": {
            "text/plain": "<Figure size 1440x720 with 1 Axes>",
            "image/png": "[encoded data removed]"
          },
          "metadata": {
            "needs_background": "light"
          },
          "output_type": "display_data"
        }
      ],
      "execution_count": 26
    },
    {
      "cell_type": "code",
      "source": "# sample size of 1000\n\nsample_sizes_1000 = list(range(1,1001))\n\nmeans_diff_1000 = []\n\nfor ele_1000 in sample_sizes_1000:\n    sample_1000 = random.sample(sample_sizes_1000, ele_1000)\n    sample_avg_1000 = calc_avg(sample_1000)\n    avg_diff_1000 = abs(calc_avg(sample_sizes_1000) - sample_avg_1000)\n    means_diff_1000.append(round(avg_diff_1000,2))\n    \nx = sample_sizes_1000\ny = means_diff_1000\n\nplt.scatter(x, y)\nplt.title(\"Sample Size vs Mean Difference (Sample Size of 1000)\", fontsize = 12)\nplt.xlabel(\"Sample Size\", fontsize = 12)\nplt.ylabel(\"Mean Difference\", fontsize = 12)\nplt.show()",
      "metadata": {
        "tags": [],
        "cell_id": "00057-cc3d9168-4167-43e4-bc80-c12d8e519953",
        "deepnote_to_be_reexecuted": false,
        "source_hash": "93bf71a3",
        "execution_millis": 527,
        "execution_start": 1618548461885,
        "deepnote_cell_type": "code"
      },
      "outputs": [
        {
          "data": {
            "text/plain": "<Figure size 1440x720 with 1 Axes>",
            "image/png": "[encoded data removed]"
          },
          "metadata": {
            "needs_background": "light"
          },
          "output_type": "display_data"
        }
      ],
      "execution_count": 27
    },
    {
      "cell_type": "code",
      "source": "",
      "metadata": {
        "tags": [],
        "cell_id": "00056-3d8daf24-2fbf-4ab2-812e-0936ceb9a1b7",
        "deepnote_to_be_reexecuted": false,
        "source_hash": "b623e53d",
        "execution_millis": 5,
        "execution_start": 1618548462409,
        "deepnote_cell_type": "code"
      },
      "outputs": [],
      "execution_count": 27
    },
    {
      "cell_type": "markdown",
      "source": "<a style='text-decoration:none;line-height:16px;display:flex;color:#5B5B62;padding:10px;justify-content:end;' href='https://deepnote.com?utm_source=created-in-deepnote-cell&projectId=b0a73dad-e3e1-4483-bec0-91e90772d4b2' target=\"_blank\">\n<img alt='Created in deepnote.com' style='display:inline;max-height:16px;margin:0px;margin-right:7.5px;' src='data:image/svg+xml;base64,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' > </img>\nCreated in <span style='font-weight:600;margin-left:4px;'>Deepnote</span></a>",
      "metadata": {
        "tags": [],
        "created_in_deepnote_cell": true,
        "deepnote_cell_type": "markdown"
      }
    }
  ],
  "nbformat": 4,
  "nbformat_minor": 2,
  "metadata": {
    "orig_nbformat": 2,
    "deepnote": {
      "is_reactive": false
    },
    "deepnote_notebook_id": "ac893656-362b-4f80-b19a-876da6008dec",
    "deepnote_execution_queue": []
  }
}