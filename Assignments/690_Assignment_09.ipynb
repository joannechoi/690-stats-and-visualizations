{
  "nbformat": 4,
  "nbformat_minor": 0,
  "metadata": {
    "colab": {
      "name": "690_Assignment_09.ipynb",
      "provenance": [],
      "collapsed_sections": []
    },
    "kernelspec": {
      "name": "python3",
      "display_name": "Python 3"
    },
    "language_info": {
      "name": "python"
    }
  },
  "cells": [
    {
      "cell_type": "code",
      "metadata": {
        "id": "QwDsI1ZU0tc3"
      },
      "source": [
        "import numpy as np\n",
        "import scipy.stats as st\n",
        "from scipy.stats import sem, t"
      ],
      "execution_count": 1,
      "outputs": []
    },
    {
      "cell_type": "code",
      "metadata": {
        "colab": {
          "base_uri": "https://localhost:8080/"
        },
        "id": "YofAAa3P04cl",
        "outputId": "427caef8-50ed-49be-aba6-729906f7cbeb"
      },
      "source": [
        "# make each line of numbers a string object and then concatenate them together \n",
        "# The end result is one single string containing 35 numbers separated by \";\"\n",
        "\n",
        "data_1 = \"6,414; 1,550; 2,109; 9,350; 21,828; 4,300; 5,944; 5,722; 2,825; 2,044; \" \n",
        "data_2 = \"5,481; 5,200; 5,853; 2,750; 10,012; 6,357; 27,000; 9,414; 7,681; 3,200; \"\n",
        "data_3 = \"17,500; 9,200; 7,380; 18,314; 6,557; 13,713; 17,768; 7,493; 2,771; 2,861; \"\n",
        "data_4 = \"1,263; 7,285; 28,165; 5,080; 11,622\"\n",
        "data = data_1 + data_2 + data_3 + data_4\n",
        "print(data)"
      ],
      "execution_count": 2,
      "outputs": [
        {
          "output_type": "stream",
          "text": [
            "6,414; 1,550; 2,109; 9,350; 21,828; 4,300; 5,944; 5,722; 2,825; 2,044; 5,481; 5,200; 5,853; 2,750; 10,012; 6,357; 27,000; 9,414; 7,681; 3,200; 17,500; 9,200; 7,380; 18,314; 6,557; 13,713; 17,768; 7,493; 2,771; 2,861; 1,263; 7,285; 28,165; 5,080; 11,622\n"
          ],
          "name": "stdout"
        }
      ]
    },
    {
      "cell_type": "code",
      "metadata": {
        "colab": {
          "base_uri": "https://localhost:8080/"
        },
        "id": "osUirbcd1rKH",
        "outputId": "938df435-7e0d-40ea-ee25-b0211b934705"
      },
      "source": [
        "# Convert the single string to a list of strings using split() function\n",
        "# Make sure to specify a delimter or separator\n",
        "\n",
        "clean_data = data.split('; ')\n",
        "print(clean_data)"
      ],
      "execution_count": 3,
      "outputs": [
        {
          "output_type": "stream",
          "text": [
            "['6,414', '1,550', '2,109', '9,350', '21,828', '4,300', '5,944', '5,722', '2,825', '2,044', '5,481', '5,200', '5,853', '2,750', '10,012', '6,357', '27,000', '9,414', '7,681', '3,200', '17,500', '9,200', '7,380', '18,314', '6,557', '13,713', '17,768', '7,493', '2,771', '2,861', '1,263', '7,285', '28,165', '5,080', '11,622']\n"
          ],
          "name": "stdout"
        }
      ]
    },
    {
      "cell_type": "markdown",
      "metadata": {
        "id": "4vYYU5VQ4HXk"
      },
      "source": [
        "Create a list of integers from the list of strings using List Comprehension or for loop. Make sure to remove the \",\" first and then convert the strings to integers.\n",
        "\n"
      ]
    },
    {
      "cell_type": "code",
      "metadata": {
        "colab": {
          "base_uri": "https://localhost:8080/"
        },
        "id": "QKb8gehQ5GlG",
        "outputId": "eaee67df-c165-467c-b8ee-20dbd30f530f"
      },
      "source": [
        "enrollment = [int(num.replace(',','')) for num in clean_data]\n",
        "print(enrollment)"
      ],
      "execution_count": 4,
      "outputs": [
        {
          "output_type": "stream",
          "text": [
            "[6414, 1550, 2109, 9350, 21828, 4300, 5944, 5722, 2825, 2044, 5481, 5200, 5853, 2750, 10012, 6357, 27000, 9414, 7681, 3200, 17500, 9200, 7380, 18314, 6557, 13713, 17768, 7493, 2771, 2861, 1263, 7285, 28165, 5080, 11622]\n"
          ],
          "name": "stdout"
        }
      ]
    },
    {
      "cell_type": "markdown",
      "metadata": {
        "id": "6cCEDyYP6E_E"
      },
      "source": [
        "#### Step 1 - Calculate and Display the Sample Size and Sample Mean\n"
      ]
    },
    {
      "cell_type": "code",
      "metadata": {
        "colab": {
          "base_uri": "https://localhost:8080/"
        },
        "id": "T3QLcYtS5-Ij",
        "outputId": "ac4b202f-60f8-40eb-c762-5fd24bca2546"
      },
      "source": [
        "# Calculate and display the sample size\n",
        "\n",
        "sample_size = len(enrollment)\n",
        "\n",
        "print(\"Sample Size:\", sample_size)"
      ],
      "execution_count": 5,
      "outputs": [
        {
          "output_type": "stream",
          "text": [
            "Sample Size: 35\n"
          ],
          "name": "stdout"
        }
      ]
    },
    {
      "cell_type": "code",
      "metadata": {
        "colab": {
          "base_uri": "https://localhost:8080/"
        },
        "id": "lorTL_hVCVz8",
        "outputId": "32561eb0-5e73-4582-b5e7-4a30856f2b47"
      },
      "source": [
        "# Calculate and display the sample mean\n",
        "\n",
        "sample_mean = round(np.mean(enrollment))\n",
        "\n",
        "print(\"Sample Mean:\", sample_mean)"
      ],
      "execution_count": 6,
      "outputs": [
        {
          "output_type": "stream",
          "text": [
            "Sample Mean: 8629\n"
          ],
          "name": "stdout"
        }
      ]
    },
    {
      "cell_type": "markdown",
      "metadata": {
        "id": "wu_oG_htCq0S"
      },
      "source": [
        "#### Step 2 - Calculate and Display the Sample Standard Deviation & Sample Standard Error¶\n",
        "\n"
      ]
    },
    {
      "cell_type": "code",
      "metadata": {
        "colab": {
          "base_uri": "https://localhost:8080/"
        },
        "id": "EfpQbJwACtkU",
        "outputId": "9e007d5a-7cf6-4de6-94d4-14a3192f729c"
      },
      "source": [
        "# Calculate and display the sample standard deviation using Numpy's std function.\n",
        "\n",
        "std_dev = round(np.std(enrollment, ddof = 1))\n",
        "print(\"Standard Deviation of the sample:\", std_dev)"
      ],
      "execution_count": 7,
      "outputs": [
        {
          "output_type": "stream",
          "text": [
            "Standard Deviation of the sample: 6944\n"
          ],
          "name": "stdout"
        }
      ]
    },
    {
      "cell_type": "code",
      "metadata": {
        "colab": {
          "base_uri": "https://localhost:8080/"
        },
        "id": "6-hsdU6NC4TU",
        "outputId": "15371ed5-7e4b-4998-e25c-ad5f466bf3a2"
      },
      "source": [
        "# Calculate and display the sample standard error\n",
        "\n",
        "std_error = round(std_dev / np.sqrt(sample_size))\n",
        "print(\"Sample Standard Error:\", std_error)"
      ],
      "execution_count": 8,
      "outputs": [
        {
          "output_type": "stream",
          "text": [
            "Sample Standard Error: 1174\n"
          ],
          "name": "stdout"
        }
      ]
    },
    {
      "cell_type": "markdown",
      "metadata": {
        "id": "t8tjTvsADy7x"
      },
      "source": [
        "#### Step 3 - Calculate t Critical Value using t-Distribution¶\n",
        "\n",
        "$\\alpha$ = 1 - Confidence Level = 1 - 95% = 0.05\n",
        "\n",
        "$\\dfrac{\\alpha}{2}$ = 0.025\n",
        "\n",
        "n (sample size) = 35\n",
        "\n",
        "df (degree of freedom) = n - 1 = 35 - 1 = 34\n",
        "\n",
        "We will use Python scipy.stats t-distribution's PPF (Percentage Point Function) to calculate t critical value $t_{0.025,34}$."
      ]
    },
    {
      "cell_type": "code",
      "metadata": {
        "id": "O59hLUWBDoCU",
        "colab": {
          "base_uri": "https://localhost:8080/"
        },
        "outputId": "f944f518-70ab-41e8-9840-909ba934b5ef"
      },
      "source": [
        "# Calculate and display the t critical value using scipy.stats.t package ppf function\n",
        "prob = round(((1-0.95)/2), 3)\n",
        "df = (sample_size - 1)\n",
        "t_value = abs(round(t.ppf(prob, df), 2))\n",
        "print(\"t critical value:\", t_value)"
      ],
      "execution_count": 9,
      "outputs": [
        {
          "output_type": "stream",
          "text": [
            "t critical value: 2.03\n"
          ],
          "name": "stdout"
        }
      ]
    },
    {
      "cell_type": "markdown",
      "metadata": {
        "id": "BXNYIDjFeRZy"
      },
      "source": [
        "#### Step 4 - Calculate the Margin of Error¶\n",
        "\n",
        "Margin of Error = t-Statistics * Sample Standard Error = $t_{\\alpha/2,n-1}\\left(\\dfrac{s}{\\sqrt{n}}\\right)$"
      ]
    },
    {
      "cell_type": "code",
      "metadata": {
        "colab": {
          "base_uri": "https://localhost:8080/"
        },
        "id": "YTsWrw0mg8N4",
        "outputId": "8ae8dafc-11e9-4f5e-a648-20153a2af915"
      },
      "source": [
        "margin_error = round(t_value * std_error)\n",
        "print(\"Margin of Error:\", margin_error)"
      ],
      "execution_count": 10,
      "outputs": [
        {
          "output_type": "stream",
          "text": [
            "Margin of Error: 2383\n"
          ],
          "name": "stdout"
        }
      ]
    },
    {
      "cell_type": "markdown",
      "metadata": {
        "id": "f9nFi9nPji7Z"
      },
      "source": [
        "#### Step 5 - Calculate Lower and Upper Limit of the Confidence Interval¶\n",
        "- Lower Limit = Sample Mean - Margin of Error\n",
        "- Upper Limit = Sample Mean + Margin of Error"
      ]
    },
    {
      "cell_type": "code",
      "metadata": {
        "colab": {
          "base_uri": "https://localhost:8080/"
        },
        "id": "bhoKVDNPjXkQ",
        "outputId": "fbf4a239-7853-45a5-9053-2ee6fd27d312"
      },
      "source": [
        "# Calculate and display the lower limit\n",
        "\n",
        "ll = sample_mean - margin_error\n",
        "print(\"Lower Limit of the Confidence Interval:\", ll)"
      ],
      "execution_count": 11,
      "outputs": [
        {
          "output_type": "stream",
          "text": [
            "Lower Limit of the Confidence Interval: 6246\n"
          ],
          "name": "stdout"
        }
      ]
    },
    {
      "cell_type": "code",
      "metadata": {
        "colab": {
          "base_uri": "https://localhost:8080/"
        },
        "id": "FeLOnRcOkJTp",
        "outputId": "ec8b0080-f9fa-4a2f-84f6-ad9b5e577c0f"
      },
      "source": [
        "# Calculate and display the upper limit\n",
        "\n",
        "ul = sample_mean + margin_error\n",
        "print(\"Upper Limit of the Confidence Interval:\", ul)"
      ],
      "execution_count": 12,
      "outputs": [
        {
          "output_type": "stream",
          "text": [
            "Upper Limit of the Confidence Interval: 11012\n"
          ],
          "name": "stdout"
        }
      ]
    },
    {
      "cell_type": "markdown",
      "metadata": {
        "id": "xXRdyQOUkDMb"
      },
      "source": [
        "#### Step 6 - Now We have the 95% Confidence Interval\n",
        "Confidence Interval ($\\sigma$ unknown) = $\\bar{x}\\space\\pm\\space t_{\\alpha/2}\\left(\\dfrac{S}{\\sqrt{n}}\\right)$ = Sample_Mean $\\pm$ Margin of Error"
      ]
    },
    {
      "cell_type": "code",
      "metadata": {
        "colab": {
          "base_uri": "https://localhost:8080/"
        },
        "id": "NVpPcO6jj74r",
        "outputId": "142ee9a2-d232-48d5-b86e-ea6ff766fee8"
      },
      "source": [
        "# Print the 95% confidence interveral in the form (lower limit, upper limit)\n",
        "\n",
        "print(\"95% Confidence Interval = (\", ll, \",\", ul, \")\")\n"
      ],
      "execution_count": 13,
      "outputs": [
        {
          "output_type": "stream",
          "text": [
            "95% Confidence Interval = ( 6246 , 11012 )\n"
          ],
          "name": "stdout"
        }
      ]
    }
  ]
}