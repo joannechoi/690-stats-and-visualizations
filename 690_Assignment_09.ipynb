{
  "nbformat": 4,
  "nbformat_minor": 0,
  "metadata": {
    "colab": {
      "name": "690_Assignment_09.ipynb",
      "provenance": [],
      "collapsed_sections": [],
      "authorship_tag": "ABX9TyPQm0Brqle5csmAad7csykm",
      "include_colab_link": true
    },
    "kernelspec": {
      "name": "python3",
      "display_name": "Python 3"
    },
    "language_info": {
      "name": "python"
    }
  },
  "cells": [
    {
      "cell_type": "markdown",
      "metadata": {
        "id": "view-in-github",
        "colab_type": "text"
      },
      "source": [
        "<a href=\"https://colab.research.google.com/github/joannechoi/DATA-690-WANG/blob/main/690_Assignment_09.ipynb\" target=\"_parent\"><img src=\"https://colab.research.google.com/assets/colab-badge.svg\" alt=\"Open In Colab\"/></a>"
      ]
    },
    {
      "cell_type": "code",
      "metadata": {
        "id": "QwDsI1ZU0tc3"
      },
      "source": [
        "import numpy as np\n",
        "import scipy.stats as st\n",
        "from scipy.stats import t"
      ],
      "execution_count": null,
      "outputs": []
    },
    {
      "cell_type": "code",
      "metadata": {
        "colab": {
          "base_uri": "https://localhost:8080/"
        },
        "id": "YofAAa3P04cl",
        "outputId": "fc98d2f2-2dc8-475d-85df-f249b8995ac6"
      },
      "source": [
        "# make each line of numbers a string object and then concatenate them together \n",
        "# The end result is one single string containing 35 numbers separated by \";\"\n",
        "\n",
        "data_1 = \"6,414; 1,550; 2,109; 9,350; 21,828; 4,300; 5,944; 5,722; 2,825; 2,044; \" \n",
        "data_2 = \"5,481; 5,200; 5,853; 2,750; 10,012; 6,357; 27,000; 9,414; 7,681; 3,200; \"\n",
        "data_3 = \"17,500; 9,200; 7,380; 18,314; 6,557; 13,713; 17,768; 7,493; 2,771; 2,861; \"\n",
        "data_4 = \"1,263; 7,285; 28,165; 5,080; 11,622\"\n",
        "data = data_1 + data_2 + data_3 + data_4\n",
        "print(data)"
      ],
      "execution_count": null,
      "outputs": [
        {
          "output_type": "stream",
          "text": [
            "6,414; 1,550; 2,109; 9,350; 21,828; 4,300; 5,944; 5,722; 2,825; 2,044; 5,481; 5,200; 5,853; 2,750; 10,012; 6,357; 27,000; 9,414; 7,681; 3,200; 17,500; 9,200; 7,380; 18,314; 6,557; 13,713; 17,768; 7,493; 2,771; 2,861; 1,263; 7,285; 28,165; 5,080; 11,622\n"
          ],
          "name": "stdout"
        }
      ]
    },
    {
      "cell_type": "code",
      "metadata": {
        "colab": {
          "base_uri": "https://localhost:8080/"
        },
        "id": "osUirbcd1rKH",
        "outputId": "d414c468-737b-4183-b963-e53248a3d05d"
      },
      "source": [
        "# Convert the single string to a list of strings using split() function\n",
        "# Make sure to specify a delimter or separator\n",
        "\n",
        "data_list = data.split('; ')\n",
        "print(data_list)"
      ],
      "execution_count": null,
      "outputs": [
        {
          "output_type": "stream",
          "text": [
            "['6,414', '1,550', '2,109', '9,350', '21,828', '4,300', '5,944', '5,722', '2,825', '2,044', '5,481', '5,200', '5,853', '2,750', '10,012', '6,357', '27,000', '9,414', '7,681', '3,200', '17,500', '9,200', '7,380', '18,314', '6,557', '13,713', '17,768', '7,493', '2,771', '2,861', '1,263', '7,285', '28,165', '5,080', '11,622']\n"
          ],
          "name": "stdout"
        }
      ]
    },
    {
      "cell_type": "markdown",
      "metadata": {
        "id": "4vYYU5VQ4HXk"
      },
      "source": [
        "Create a list of integers from the list of strings using List Comprehension or for loop. Make sure to remove the \",\" first and then convert the strings to integers.\n",
        "\n"
      ]
    },
    {
      "cell_type": "code",
      "metadata": {
        "colab": {
          "base_uri": "https://localhost:8080/"
        },
        "id": "QKb8gehQ5GlG",
        "outputId": "84917b5d-73bf-431b-fda0-2b44448e61df"
      },
      "source": [
        "enrollment = [int(num.replace(',','')) for num in clean_data]\n",
        "print(enrollment)"
      ],
      "execution_count": null,
      "outputs": [
        {
          "output_type": "stream",
          "text": [
            "[6414, 1550, 2109, 9350, 21828, 4300, 5944, 5722, 2825, 2044, 5481, 5200, 5853, 2750, 10012, 6357, 27000, 9414, 7681, 3200, 17500, 9200, 7380, 18314, 6557, 13713, 17768, 7493, 2771, 2861, 1263, 7285, 28165, 5080, 11622]\n"
          ],
          "name": "stdout"
        }
      ]
    },
    {
      "cell_type": "markdown",
      "metadata": {
        "id": "6cCEDyYP6E_E"
      },
      "source": [
        "#### Step 1 - Calculate and Display the Sample Size and Sample Mean\n"
      ]
    },
    {
      "cell_type": "code",
      "metadata": {
        "colab": {
          "base_uri": "https://localhost:8080/"
        },
        "id": "T3QLcYtS5-Ij",
        "outputId": "f4cf282e-5f2d-4bb9-ffaa-565092a9d117"
      },
      "source": [
        "# Calculate and display the sample size\n",
        "\n",
        "sample_size = len(enrollment)\n",
        "\n",
        "print(\"Sample Size:\", sample_size)"
      ],
      "execution_count": null,
      "outputs": [
        {
          "output_type": "stream",
          "text": [
            "Sample Size: 35\n"
          ],
          "name": "stdout"
        }
      ]
    },
    {
      "cell_type": "code",
      "metadata": {
        "colab": {
          "base_uri": "https://localhost:8080/"
        },
        "id": "lorTL_hVCVz8",
        "outputId": "2455e755-0573-4a2e-80e0-cc13c538d3f1"
      },
      "source": [
        "# Calculate and display the sample mean\n",
        "\n",
        "sample_mean = round(np.mean(enrollment))\n",
        "\n",
        "print(\"Sample Mean:\", sample_mean)"
      ],
      "execution_count": null,
      "outputs": [
        {
          "output_type": "stream",
          "text": [
            "Sample Mean: 8629\n"
          ],
          "name": "stdout"
        }
      ]
    },
    {
      "cell_type": "markdown",
      "metadata": {
        "id": "wu_oG_htCq0S"
      },
      "source": [
        "#### Step 2 - Calculate and Display the Sample Standard Deviation & Sample Standard Error¶\n",
        "Sample Standard Deviation $S=\\sqrt{\\dfrac{1}{n-1}\\sum\\limits_{i=1}^n (X_i-\\bar{X})^2}$\n",
        "\n",
        "Sample Standard Error = $\\dfrac{S}{\\sqrt{n}}$\n",
        "\n",
        "Note: The default Delta Degree of Freedom (DDOF) for Numpy's std function is 0 which is applicable to populate data. For sample data, we need to specify ddof=1.\n",
        "\n",
        "For the enrollment data, we round up the statistics to be the full integers (no decimal points).\n",
        "\n"
      ]
    },
    {
      "cell_type": "code",
      "metadata": {
        "colab": {
          "base_uri": "https://localhost:8080/"
        },
        "id": "EfpQbJwACtkU",
        "outputId": "51da0224-92d5-462c-b66b-0c728798aabe"
      },
      "source": [
        "# Calculate and display the sample standard deviation using Numpy's std function.\n",
        "\n",
        "std_dev = round(np.std(enrollment, ddof = 1))\n",
        "print(\"Standard Deviation of the sample:\", std_dev)"
      ],
      "execution_count": null,
      "outputs": [
        {
          "output_type": "stream",
          "text": [
            "Standard Deviation of the sample: 6944\n"
          ],
          "name": "stdout"
        }
      ]
    },
    {
      "cell_type": "code",
      "metadata": {
        "colab": {
          "base_uri": "https://localhost:8080/"
        },
        "id": "6-hsdU6NC4TU",
        "outputId": "c408fd33-afd5-4d42-e808-116a175cf756"
      },
      "source": [
        "# Calculate and display the sample standard error\n",
        "\n",
        "std_error = round(std_dev / np.sqrt(sample_size))\n",
        "print(\"Sample Standard Error:\", std_error)"
      ],
      "execution_count": null,
      "outputs": [
        {
          "output_type": "stream",
          "text": [
            "Sample Standard Error: 1174\n"
          ],
          "name": "stdout"
        }
      ]
    },
    {
      "cell_type": "markdown",
      "metadata": {
        "id": "t8tjTvsADy7x"
      },
      "source": [
        "#### Step 3 - Calculate t Critical Value using t-Distribution¶\n",
        "\n",
        "$\\alpha$ = 1 - Confidence Level = 1 - 95% = 0.05\n",
        "\n",
        "$\\dfrac{\\alpha}{2}$ = 0.025\n",
        "\n",
        "n (sample size) = 35\n",
        "\n",
        "df (degree of freedom) = n - 1 = 35 - 1 = 34\n",
        "\n",
        "We will use Python scipy.stats t-distribution's PPF (Percentage Point Function) to calculate t critical value $t_{0.025,34}$."
      ]
    },
    {
      "cell_type": "code",
      "metadata": {
        "id": "O59hLUWBDoCU",
        "colab": {
          "base_uri": "https://localhost:8080/"
        },
        "outputId": "a94951cf-57ce-4f91-8868-1ca8ac2f6b2c"
      },
      "source": [
        "# Calculate and display the t critical value using scipy.stats.t package ppf function\n",
        "prob = round(((1-0.95)/2), 3)\n",
        "df = (sample_size - 1)\n",
        "t_value = abs(round(t.ppf(prob, df), 2))\n",
        "print(\"t critical value:\", t_value)"
      ],
      "execution_count": null,
      "outputs": [
        {
          "output_type": "stream",
          "text": [
            "t critical value: 2.03\n"
          ],
          "name": "stdout"
        }
      ]
    },
    {
      "cell_type": "markdown",
      "metadata": {
        "id": "BXNYIDjFeRZy"
      },
      "source": [
        "#### Step 4 - Calculate the Margin of Error¶\n",
        "\n",
        "Margin of Error = t-Statistics * Sample Standard Error = $t_{\\alpha/2,n-1}\\left(\\dfrac{s}{\\sqrt{n}}\\right)$"
      ]
    },
    {
      "cell_type": "code",
      "metadata": {
        "colab": {
          "base_uri": "https://localhost:8080/"
        },
        "id": "YTsWrw0mg8N4",
        "outputId": "012ef928-c002-45f9-f5cc-e67cfe3a84b8"
      },
      "source": [
        "margin_error = round(t_value * std_error)\n",
        "print(\"Margin of Error:\", margin_error)"
      ],
      "execution_count": null,
      "outputs": [
        {
          "output_type": "stream",
          "text": [
            "Margin of Error: 2383\n"
          ],
          "name": "stdout"
        }
      ]
    },
    {
      "cell_type": "markdown",
      "metadata": {
        "id": "f9nFi9nPji7Z"
      },
      "source": [
        "#### Step 5 - Calculate Lower and Upper Limit of the Confidence Interval¶\n",
        "- Lower Limit = Sample Mean - Margin of Error\n",
        "- Upper Limit = Sample Mean + Margin of Error"
      ]
    },
    {
      "cell_type": "code",
      "metadata": {
        "colab": {
          "base_uri": "https://localhost:8080/"
        },
        "id": "bhoKVDNPjXkQ",
        "outputId": "7024f4e5-dbd9-4e02-9c05-257fc2d1667d"
      },
      "source": [
        "# Calculate and display the lower limit\n",
        "\n",
        "ll = sample_mean - margin_error\n",
        "print(\"Lower Limit of the Confidence Interval:\", ll)"
      ],
      "execution_count": null,
      "outputs": [
        {
          "output_type": "stream",
          "text": [
            "Lower Limit of the Confidence Interval: 6246\n"
          ],
          "name": "stdout"
        }
      ]
    },
    {
      "cell_type": "code",
      "metadata": {
        "colab": {
          "base_uri": "https://localhost:8080/"
        },
        "id": "FeLOnRcOkJTp",
        "outputId": "33cbbd9a-1378-44ab-949b-e4d507b76ad4"
      },
      "source": [
        "# Calculate and display the upper limit\n",
        "\n",
        "ul = sample_mean + margin_error\n",
        "print(\"Upper Limit of the Confidence Interval:\", ul)"
      ],
      "execution_count": null,
      "outputs": [
        {
          "output_type": "stream",
          "text": [
            "Upper Limit of the Confidence Interval: 11012\n"
          ],
          "name": "stdout"
        }
      ]
    },
    {
      "cell_type": "markdown",
      "metadata": {
        "id": "xXRdyQOUkDMb"
      },
      "source": [
        "#### Step 6 - Now We have the 95% Confidence Interval\n",
        "Confidence Interval ($\\sigma$ unknown) = $\\bar{x}\\space\\pm\\space t_{\\alpha/2}\\left(\\dfrac{S}{\\sqrt{n}}\\right)$ = Sample_Mean $\\pm$ Margin of Error"
      ]
    },
    {
      "cell_type": "code",
      "metadata": {
        "colab": {
          "base_uri": "https://localhost:8080/"
        },
        "id": "NVpPcO6jj74r",
        "outputId": "3e75ab47-1b4e-46ec-e1c2-3d3dae0807cc"
      },
      "source": [
        "# Print the 95% confidence interveral in the form (lower limit, upper limit)\n",
        "\n",
        "print(\"95% Confidence Interval = (\", ll, \",\", ul, \")\")\n"
      ],
      "execution_count": null,
      "outputs": [
        {
          "output_type": "stream",
          "text": [
            "95% Confidence Interval = ( 6246 , 11012 )\n"
          ],
          "name": "stdout"
        }
      ]
    }
  ]
}