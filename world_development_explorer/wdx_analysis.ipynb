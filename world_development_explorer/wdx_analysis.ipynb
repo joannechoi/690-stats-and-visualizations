{
  "nbformat": 4,
  "nbformat_minor": 0,
  "metadata": {
    "colab": {
      "name": "wdx_analysis.ipynb",
      "provenance": [],
      "collapsed_sections": [],
      "authorship_tag": "ABX9TyMXffadfxZIJswRKD8rAjVl",
      "include_colab_link": true
    },
    "kernelspec": {
      "name": "python3",
      "display_name": "Python 3"
    },
    "language_info": {
      "name": "python"
    }
  },
  "cells": [
    {
      "cell_type": "markdown",
      "metadata": {
        "id": "view-in-github",
        "colab_type": "text"
      },
      "source": [
        "<a href=\"https://colab.research.google.com/github/joannechoi/DATA-690-WANG/blob/main/wdx_analysis.ipynb\" target=\"_parent\"><img src=\"https://colab.research.google.com/assets/colab-badge.svg\" alt=\"Open In Colab\"/></a>"
      ]
    },
    {
      "cell_type": "markdown",
      "metadata": {
        "id": "QbvJwT7LVwIh"
      },
      "source": [
        "<img src=\"https://github.com/joannechoi/DATA-690-WANG/blob/main/world_development_explorer/Visualizations/header.jpg\"\n",
        "     alt=\"Header Photo\"\n",
        "     style=\"float: left; margin-right: 10px;\" />\n",
        "\n",
        "# Importance of Education in World Development "
      ]
    },
    {
      "cell_type": "markdown",
      "metadata": {
        "id": "Lesk2gsbMUgD"
      },
      "source": [
        "## **Introduction**\n",
        "\n",
        "Education is often seen as the marker of success in society today. Individually, we can expand our knowledge and find opportunities for intellectual and career growth through education. As a society, education will help us build healthier communities, stable economy, and greater equality.\n",
        "\n",
        "In the \"Quality of Education\" analysis, various methods of measuring outcome of education was analyzed (Roser et al, 2013). These methods include evaluating test scores from tests such as *Program for International Student Assessment* (PISA) and *Progress in International Reading Literacy Study* (PIRLS) assessments along with many other educational surveys and tests. This research combined the results of multiple assessment and compared them to the GDP per capita of each country. Roser et al concluded that richer countries tended to have higher scores on various educational assessments.\n",
        "\n",
        "Literacy rate is the most widely available metric for education outcome. Therefore, this analysis will be compare literacy rate to other world development indicators to determine how impactful education is in economic growth of a nation. "
      ]
    },
    {
      "cell_type": "markdown",
      "metadata": {
        "id": "GNGAoeWPum4G"
      },
      "source": [
        "### **Literacy Rate**\n",
        "\n",
        "One of the most critical indicators for education is literacy rate. Literacy rate is defined as percentage of population of a given age group that can read and write. The age groups are divided into three categories: youth, adult, and elderly. \n",
        "- Youth group includes ages between 15 to 24\n",
        "- Adult group includes ages 15 and older \n",
        "- Elderly group includes ages 65 and older. \n",
        "\n",
        "Youth literacy rate is particularly important because of the compounding effects of lack of education has on a society. If a child is not able to learn to read at an early age, it will negatively impact their education and eventually lower opportunities for career and limit ability to contribute to the society. "
      ]
    },
    {
      "cell_type": "markdown",
      "metadata": {
        "id": "1L3130ngu4go"
      },
      "source": [
        "### **Current Predictions**\n",
        "Literacy rate will directly impact the country's economy. If society has lower literacy rate, this will impact the overall economy at a macro scale. Inversely, countries with high literacy rate will have more thriving and stable economy. \n",
        "\n",
        "#### **Question**\n",
        "1. How much impact does literacy rate have in the country's economy?\n",
        "\n"
      ]
    },
    {
      "cell_type": "markdown",
      "metadata": {
        "id": "Oy4Z_Ynmu7vR"
      },
      "source": [
        "### **Indicators**\n",
        "There are many indicators that can measure the society's education level and the economy. For the purposes of the analysis, following world development indicators will be used:\n",
        "\n",
        "*Literacy rate, youth total (% of people ages 15-24)*\n",
        "> Percentage of people ages 15-24 who can both read and write with understanding a short simple statement about their everyday life. \n",
        "\n",
        "*Literacy rate, adult total (% of people ages 15 and above)*\n",
        "\n",
        "> Percentage of people ages 15 and above who can both read and write with understanding a short simple statement about their everyday life. \n",
        "\n",
        "*GDP per capita, PPP (Current International $)*\n",
        "\n",
        "> Gross income product expressed in current international dollars converted by purchasing power parity conversion factor. \n",
        "\n",
        "*GNI Per Capita, PPP (Current International $)*\n",
        "\n",
        "> Gross national income (GNI) is the sum of value added by all resident producers plus any product taxes (less subsidies) not included in the valuation of output plus net receipts of primary income (compensation of employees and property income) from abroad. \n",
        "\n",
        "\n",
        "\n",
        "Above indicators were defined by the World Bank: \n",
        "- [Literacy rate, youth total](https://datacatalog.worldbank.org/literacy-rate-youth-total-people-ages-15-24-1)\n",
        "- [Literacy rate, adult total](https://datacatalog.worldbank.org/literacy-rate-adult-total-people-ages-15-and-above-6) \n",
        "- [GDP per capita, PPP (current international $)](https://datacatalog.worldbank.org/gdp-capita-ppp-current-international-1)\n",
        "\n",
        "- [GNI Per Capita, PPP (Current International $)](https://datacatalog.worldbank.org/gni-capita-ppp-current-international-1)\n"
      ]
    },
    {
      "cell_type": "markdown",
      "metadata": {
        "id": "wJM52tJy3Q43"
      },
      "source": [
        "### **Countries**\n",
        "\n",
        "For analysis, I compared literacy rate for youth total and literacy for adult literacy rate. I downloaded the dataset for all regions for the literacy comparison. I filtered data by different income groups.\n",
        "\n",
        "World Health Organization (WHO) defined the income groups as following: \n",
        "\n",
        "*Low Income*\n",
        "> GNI per capita \\$1,025 or less.  \n",
        "\n",
        "*Low Middle Income*\n",
        "> GNI per capita between \\$1,026 and $4,045\n",
        "\n",
        "*Upper Middle Income*\n",
        "> GNI per capita between \\$4,046 and $12,535 \n",
        "\n",
        "*High Income*\n",
        "> GNI per capita of $12,536 or more\n",
        "\n",
        "I selected a country from each of income groups to represent different economic status. \n",
        "\n",
        "\\* Note: All countries in the low income category did not have 5 years worth of data. I selected a country with at least 3 years worth of data. \n",
        "\n",
        "#### **Selected Countries:**\n",
        "1. Mali - Low Income (Sub-Saharan Africa)\n",
        "2. Bangladesh - Lower Middle Income (South Asia)\n",
        "3. Brazil - Upper Middle Income (Latin America & Caribbean)\n",
        "4. Singapore - High Income (East Asia & Pacific)\n"
      ]
    },
    {
      "cell_type": "markdown",
      "metadata": {
        "id": "FxpHAdpaAeKR"
      },
      "source": [
        "### **Years**\n",
        "\n",
        "Within the selected regions, most abundant data was between 2011 to 2018. Therefore, analysis will be done for data between 2011-2018."
      ]
    },
    {
      "cell_type": "markdown",
      "metadata": {
        "id": "eT4EgpNWj-TU"
      },
      "source": [
        "### **Analysis**\n",
        "\n",
        "1. How much impact does literacy rate have in the country's economy?\n",
        "\n",
        "To explore the literacy rate's impact on the economy, I compared the literacy rate with country's GDP per capita. Since youth literacy rate had linear relationship with adult literacy rate, I used youth literacy rate for further analysis.\n",
        "\n",
        "**GDP per capita - General Trend**"
      ]
    },
    {
      "cell_type": "code",
      "metadata": {
        "colab": {
          "base_uri": "https://localhost:8080/",
          "height": 542
        },
        "id": "6nJ6LFF6SaWs",
        "outputId": "6b53eea1-37fb-4df6-d39a-a0ccfe6db96d"
      },
      "source": [
        "import pandas as pd\n",
        "import plotly.express as px\n",
        "import plotly.graph_objs as go\n",
        "from plotly.subplots import make_subplots\n",
        "\n",
        "# import youth literacy rate and GDP per capita data \n",
        " \n",
        "gdp_df = pd.read_csv('gen_gdp_lit.csv')\n",
        "gdp_df.drop(columns=['Unnamed: 0'], inplace= True)\n",
        "\n",
        "# plot scatterplot to display general trend of literacy rate per GDP per capita \n",
        "\n",
        "gdp_fig = px.scatter(\n",
        "                x = gdp_df['NY.GDP.PCAP.PP.CD'], \n",
        "                y = gdp_df['SE.ADT.1524.LT.ZS'], \n",
        "                color = gdp_df['Region'],\n",
        "                hover_name = gdp_df['Country Name'],\n",
        "                title = 'GDP Per Capita vs Youth Literacy Rate',\n",
        "                labels = {\n",
        "                \"x\": \"GDP per capita, PPP (Current International $)\",\n",
        "                \"y\": \"Literacy Rate, Youth Total\",\n",
        "                \"color\": \"Regions\"\n",
        "                }\n",
        "                ) \n",
        "\n",
        "gdp_fig.show()"
      ],
      "execution_count": 1,
      "outputs": [
        {
          "output_type": "display_data",
          "data": {
            "text/html": [
              "<html>\n",
              "<head><meta charset=\"utf-8\" /></head>\n",
              "<body>\n",
              "    <div>\n",
              "            <script src=\"https://cdnjs.cloudflare.com/ajax/libs/mathjax/2.7.5/MathJax.js?config=TeX-AMS-MML_SVG\"></script><script type=\"text/javascript\">if (window.MathJax) {MathJax.Hub.Config({SVG: {font: \"STIX-Web\"}});}</script>\n",
              "                <script type=\"text/javascript\">window.PlotlyConfig = {MathJaxConfig: 'local'};</script>\n",
              "        <script src=\"https://cdn.plot.ly/plotly-latest.min.js\"></script>    \n",
              "            <div id=\"341c5e36-7b7c-4c5c-adc5-d3f974ed2c09\" class=\"plotly-graph-div\" style=\"height:525px; width:100%;\"></div>\n",
              "            <script type=\"text/javascript\">\n",
              "                \n",
              "                    window.PLOTLYENV=window.PLOTLYENV || {};\n",
              "                    \n",
              "                if (document.getElementById(\"341c5e36-7b7c-4c5c-adc5-d3f974ed2c09\")) {\n",
              "                    Plotly.newPlot(\n",
              "                        '341c5e36-7b7c-4c5c-adc5-d3f974ed2c09',\n",
              "                        [{\"hoverlabel\": {\"namelength\": 0}, \"hovertemplate\": \"<b>%{hovertext}</b><br><br>Regions=South Asia<br>GDP per capita, PPP (Current International $)=%{x}<br>Literacy Rate, Youth Total=%{y}\", \"hovertext\": [\"Afghanistan\", \"Afghanistan\", \"Bangladesh\", \"Bangladesh\", \"Bangladesh\", \"Bangladesh\", \"Bangladesh\", \"Bangladesh\", \"Bangladesh\", \"Bangladesh\", \"Bhutan\", \"Bhutan\", \"India\", \"India\", \"Maldives\", \"Maldives\", \"Nepal\", \"Nepal\", \"Pakistan\", \"Pakistan\", \"Pakistan\", \"Pakistan\", \"Pakistan\", \"Sri Lanka\", \"Sri Lanka\", \"Sri Lanka\"], \"legendgroup\": \"Regions=South Asia\", \"marker\": {\"color\": \"#636efa\", \"symbol\": \"circle\"}, \"mode\": \"markers\", \"name\": \"Regions=South Asia\", \"showlegend\": true, \"type\": \"scatter\", \"x\": [1699.4879973399, 2083.3218972239, 2620.8224835537, 2937.5884515668, 3143.5183568665, 3367.9955251359997, 3555.5055100034997, 3849.1114311328997, 4161.0897133905, 4549.6176462673, 7912.1333669487, 11142.3999477275, 4493.6678035249, 6655.0698600041005, 15993.1689697821, 17410.9713311232, 2001.6283039538, 3331.9802174701, 3993.5501313396003, 4018.703768681, 4103.5840779917, 4238.5945208844, 4571.414490871501, 12224.215765146499, 12584.1044231151, 13177.98840102], \"xaxis\": \"x\", \"y\": [46.9900512695, 65.4205474854, 77.984992981, 77.8329086304, 85.5271530151, 85.5547332764, 87.88877105709999, 92.2426528931, 92.9507598877, 93.29644012450001, 86.0590133667, 93.0906295776, 86.14488220209999, 91.6640396118, 99.26837921139999, 98.75364685059999, 84.75714874270001, 92.3938064575, 70.7693328857, 72.5834197998, 71.63622283939999, 72.79540252689999, 74.5263824463, 98.6889877319, 98.85646057129999, 98.7819366455], \"yaxis\": \"y\"}, {\"hoverlabel\": {\"namelength\": 0}, \"hovertemplate\": \"<b>%{hovertext}</b><br><br>Regions=Europe & Central Asia<br>GDP per capita, PPP (Current International $)=%{x}<br>Literacy Rate, Youth Total=%{y}\", \"hovertext\": [\"Albania\", \"Albania\", \"Albania\", \"Armenia\", \"Armenia\", \"Azerbaijan\", \"Azerbaijan\", \"Azerbaijan\", \"Azerbaijan\", \"Azerbaijan\", \"Azerbaijan\", \"Azerbaijan\", \"Belarus\", \"Bosnia and Herzegovina\", \"Bosnia and Herzegovina\", \"Bulgaria\", \"Croatia\", \"Cyprus\", \"Czech Republic\", \"Estonia\", \"Georgia\", \"Georgia\", \"Greece\", \"Greece\", \"Hungary\", \"Italy\", \"Italy\", \"Kazakhstan\", \"Kyrgyz Republic\", \"Latvia\", \"Latvia\", \"Lithuania\", \"Moldova\", \"Moldova\", \"Montenegro\", \"Montenegro\", \"North Macedonia\", \"Portugal\", \"Portugal\", \"Romania\", \"Romania\", \"Russian Federation\", \"San Marino\", \"Serbia\", \"Serbia\", \"Slovenia\", \"Spain\", \"Spain\", \"Spain\", \"Spain\", \"Spain\", \"Spain\", \"Spain\", \"Tajikistan\", \"Turkey\", \"Turkey\", \"Turkey\", \"Turkey\", \"Turkey\", \"Turkey\", \"Turkey\", \"Turkmenistan\", \"Ukraine\", \"Uzbekistan\", \"Uzbekistan\", \"Uzbekistan\", \"Uzbekistan\", \"Uzbekistan\"], \"legendgroup\": \"Regions=Europe & Central Asia\", \"marker\": {\"color\": \"#EF553B\", \"symbol\": \"circle\"}, \"mode\": \"markers\", \"name\": \"Regions=Europe & Central Asia\", \"showlegend\": true, \"type\": \"scatter\", \"x\": [10207.7335023376, 10526.3189737173, 13974.0116065658, 8025.4529049747, 12115.057008938898, 14804.5744507911, 15957.718850285, 17188.945505661202, 17443.8782563093, 14938.4011276715, 14371.0227410092, 14121.4069355591, 19345.2801947979, 9976.454262879, 11016.5386621544, 15667.3081208607, 20804.3888834311, 33313.5791491827, 36097.7052556977, 24777.468928525697, 11575.547210705, 13589.707391515902, 26141.3195540168, 31467.072960927002, 25642.5566762677, 36598.0149693024, 44471.87066517519, 26166.538904458903, 5258.1955920052005, 19879.2027290497, 31771.4411689115, 22884.8249519631, 7363.1623193664, 8827.0541075855, 14472.4255140477, 22227.3079198329, 13368.2228830926, 26769.5118850004, 36034.1830181822, 17896.2758641785, 30174.1352597821, 28763.516631476698, 60886.485858385706, 13746.896810741799, 15858.035641333601, 30870.0236667425, 31867.973239686202, 31720.1199986535, 32434.0032017704, 33525.7406299089, 34903.1274779473, 37286.2134326488, 42005.2533458565, 3303.0961956678, 19798.9515021037, 20771.9507884878, 22437.7951701175, 24089.411006475602, 25753.3918216624, 26514.0576222589, 28007.9748302926, 13490.987164081102, 9343.3307396608, 5942.396758671, 6158.5024591276, 6343.1497417051005, 6452.927937795401, 6920.044618265], \"xaxis\": \"x\", \"y\": [98.79119110110001, 99.2313995361, 99.3300018311, 99.84739685059999, 99.8470230103, 99.94409942629999, 99.9367523193, 99.95246887209998, 99.95699310299999, 99.94277954100001, 99.9404830933, 99.9380493164, 99.8499984741, 99.46231079100001, 99.66242980959998, 97.86505126950001, 99.7236328125, 99.82099151610001, 99.7858810425, 99.94889831540002, 99.70260620120001, 99.64080810549999, 98.81485748290001, 99.1600036621, 98.8000030518, 99.8596420288, 99.93000030520001, 99.89736175540001, 99.75, 99.8354263306, 99.81999969479999, 99.855796814, 99.45616149899999, 99.8110122681, 99.2118225098, 99.11000061040001, 98.5999984741, 99.4351196289, 99.6639175415, 98.99568939209999, 99.4291915894, 99.6984481812, 100.0, 99.30869293209999, 99.7198181152, 99.8000030518, 99.69940185549999, 99.6727828979, 99.66925811770001, 99.72276306149999, 99.65567779540001, 99.6221618652, 99.7155532837, 99.9000015259, 98.7093505859, 99.01602172850001, 99.22743225100001, 99.3584823608, 99.494392395, 99.6213607788, 99.75086975100001, 99.8000030518, 99.9697570801, 100.0, 99.99996185299999, 99.99996185299999, 100.0, 99.9999389648], \"yaxis\": \"y\"}, {\"hoverlabel\": {\"namelength\": 0}, \"hovertemplate\": \"<b>%{hovertext}</b><br><br>Regions=Middle East & North Africa<br>GDP per capita, PPP (Current International $)=%{x}<br>Literacy Rate, Youth Total=%{y}\", \"hovertext\": [\"Algeria\", \"Bahrain\", \"Bahrain\", \"Bahrain\", \"Egypt, Arab Rep.\", \"Egypt, Arab Rep.\", \"Egypt, Arab Rep.\", \"Iran, Islamic Rep.\", \"Iran, Islamic Rep.\", \"Iran, Islamic Rep.\", \"Iran, Islamic Rep.\", \"Iraq\", \"Iraq\", \"Iraq\", \"Iraq\", \"Iraq\", \"Jordan\", \"Jordan\", \"Jordan\", \"Kuwait\", \"Kuwait\", \"Kuwait\", \"Kuwait\", \"Kuwait\", \"Lebanon\", \"Malta\", \"Malta\", \"Morocco\", \"Morocco\", \"Morocco\", \"Oman\", \"Oman\", \"Oman\", \"Oman\", \"Oman\", \"Qatar\", \"Qatar\", \"Qatar\", \"Qatar\", \"Qatar\", \"Qatar\", \"Saudi Arabia\", \"Saudi Arabia\", \"Tunisia\", \"Tunisia\", \"Tunisia\", \"United Arab Emirates\", \"West Bank and Gaza\", \"West Bank and Gaza\", \"West Bank and Gaza\", \"West Bank and Gaza\", \"West Bank and Gaza\", \"West Bank and Gaza\", \"West Bank and Gaza\"], \"legendgroup\": \"Regions=Middle East & North Africa\", \"marker\": {\"color\": \"#00cc96\", \"symbol\": \"circle\"}, \"mode\": \"markers\", \"name\": \"Regions=Middle East & North Africa\", \"showlegend\": true, \"type\": \"scatter\", \"x\": [11925.7985636431, 44769.0337127306, 47709.8738136618, 47353.1183775409, 11092.7432596071, 11221.3819091064, 11014.486136551299, 15950.1045340642, 15273.846311543799, 15235.7048371843, 14011.545307568702, 15149.9011617102, 15536.0592760053, 14267.035615036799, 9897.977563501801, 10971.9700124802, 9402.2812381159, 9188.1568138789, 10266.916995126, 82680.38124903731, 78058.5128726179, 47230.623191534694, 50855.49995960401, 51708.253612123895, 15992.321091501799, 28973.195599093102, 45534.4413180741, 6712.3260028333, 6702.418324265301, 7613.1428681152, 38624.5991259682, 31113.3197962347, 28925.856724280897, 29082.4236246658, 29289.6076351054, 139358.349217049, 141634.96180221302, 138230.064778256, 129068.788829385, 83102.5070298154, 91738.8537969694, 55907.3941653276, 47309.132226912196, 10067.9062215293, 10217.1250903037, 10446.0513898228, 64901.85202464309, 4494.7313227255, 5255.8256094215, 5371.6871002024, 5510.132930404599, 5954.4007836321, 6305.3918030155, 6472.121784706], \"xaxis\": \"x\", \"y\": [97.42652130129999, 99.48030853270001, 99.5982208252, 99.68720245360001, 89.2819213867, 92.02342224120001, 88.19255828860001, 98.0143966675, 97.7772979736, 97.9378662109, 98.101348877, 83.5, 80.8000030518, 88.8000030518, 90.9000015259, 93.5, 99.14868164059999, 99.10572052, 99.3437423706, 98.7822570801, 99.1537475586, 99.25908660889999, 99.2435836792, 99.0801315308, 99.7518234253, 98.88194274899999, 99.3007125854, 81.5100708008, 91.22096252440001, 97.7300033569, 99.09432220459999, 99.1537322998, 98.70355987549999, 98.662437439, 98.6178283691, 94.60941314700001, 93.9443588257, 91.7935791016, 93.6445236206, 95.4636535645, 94.6441116333, 99.2217712402, 99.30187988280001, 97.30444335940001, 96.86499786379999, 96.2090988159, 99.43000030520001, 99.31231689450001, 99.2873306274, 99.3483276367, 99.3635101318, 99.3406066895, 99.3837127686, 99.33625030520001], \"yaxis\": \"y\"}, {\"hoverlabel\": {\"namelength\": 0}, \"hovertemplate\": \"<b>%{hovertext}</b><br><br>Regions=Sub-Saharan Africa <br>GDP per capita, PPP (Current International $)=%{x}<br>Literacy Rate, Youth Total=%{y}\", \"hovertext\": [\"Angola\", \"Benin\", \"Benin\", \"Botswana\", \"Burkina Faso\", \"Burkina Faso\", \"Burundi\", \"Burundi\", \"Cabo Verde\", \"Cabo Verde\", \"Cameroon\", \"Central African Republic\", \"Chad\", \"Chad\", \"Comoros\", \"Comoros\", \"Congo, Dem. Rep.\", \"Congo, Dem. Rep.\", \"Congo, Rep.\", \"Congo, Rep.\", \"Cote d'Ivoire\", \"Cote d'Ivoire\", \"Cote d'Ivoire\", \"Eswatini\", \"Ethiopia\", \"Gabon\", \"Gabon\", \"Gambia, The\", \"Gambia, The\", \"Ghana\", \"Guinea\", \"Guinea-Bissau\", \"Kenya\", \"Kenya\", \"Lesotho\", \"Liberia\", \"Madagascar\", \"Madagascar\", \"Malawi\", \"Malawi\", \"Mali\", \"Mali\", \"Mali\", \"Mauritania\", \"Mauritius\", \"Mauritius\", \"Mozambique\", \"Mozambique\", \"Namibia\", \"Namibia\", \"Niger\", \"Niger\", \"Nigeria\", \"Rwanda\", \"Rwanda\", \"Rwanda\", \"Sao Tome and Principe\", \"Sao Tome and Principe\", \"Senegal\", \"Senegal\", \"Senegal\", \"Seychelles\", \"Sierra Leone\", \"Sierra Leone\", \"South Africa\", \"South Africa\", \"South Africa\", \"South Africa\", \"South Africa\", \"Sudan\", \"Tanzania\", \"Tanzania\", \"Togo\", \"Togo\", \"Uganda\", \"Uganda\", \"Zambia\", \"Zimbabwe\", \"Zimbabwe\"], \"legendgroup\": \"Regions=Sub-Saharan Africa \", \"marker\": {\"color\": \"#ab63fa\", \"symbol\": \"circle\"}, \"mode\": \"markers\", \"name\": \"Regions=Sub-Saharan Africa \", \"showlegend\": true, \"type\": \"scatter\", \"x\": [8179.2960065765, 2498.49731338, 3237.7736824269, 14707.7019221216, 1692.3043969451999, 2171.9739657606, 777.0415572281, 773.5718583943, 5818.972161883001, 5994.3728324533995, 3691.3342926692, 955.8401170207001, 1820.0593928342, 1664.5116715312, 2511.4851618913, 3141.5460748722, 669.5674620329, 963.6693089050999, 5428.2390650482, 4002.1130757734995, 2626.06838276, 3127.4791681666998, 5156.0938486893, 8728.7917795116, 2021.5610459947, 15356.191541556102, 15103.6090264939, 2121.4863916738, 2066.8593586012, 5320.975633521501, 1804.5421498276, 1378.2326541905, 3021.4331234, 4306.2069849010995, 2871.6845699469, 1515.6432504542001, 1530.9345080741, 1652.3997705344, 1078.980573455, 1018.9352624632, 1826.6477924667001, 2032.6551725229, 2339.3414173238, 5077.1954717193, 16653.2438040789, 22749.1287827737, 1291.267985931, 1283.6598698099, 8830.2236469466, 10173.9159602177, 1158.6701924244999, 1230.2217623989, 5280.6522598533, 1489.6097328051, 1707.6730849758999, 2139.6364128292003, 2954.5791484283, 4090.6326572838, 2682.693606237, 2749.22159055, 3203.9007579397, 28678.7724341871, 1746.5544651287, 1703.8102275007, 12172.3147379847, 12057.2687088531, 12520.7137484229, 12552.340126643001, 12703.421242078799, 4258.7751605658, 2099.4543493545, 2348.4437285337, 1210.1421135399, 1397.3331649405, 2005.2061577457, 2173.9588190904997, 3607.3044419377, 2101.8251923026, 2612.4615301277], \"xaxis\": \"x\", \"y\": [77.4311294556, 52.4924697876, 60.9480781555, 97.45629119870001, 50.0962982178, 58.2900009155, 79.5596084595, 88.2217712402, 98.1289672852, 98.11131286620001, 85.08000183109999, 38.2686500549, 38.7724189758, 30.7916107178, 71.58126831050001, 78.2703933716, 83.59754943850001, 84.9895095825, 80.9139480591, 82.0547866821, 48.3099594116, 53.020690918, 58.420150756800005, 95.469367981, 72.7548217773, 88.50414276120001, 89.78366088870001, 60.7779006958, 67.1613769531, 92.49096679690001, 46.295051574700004, 60.402351379399995, 86.52562713620001, 87.8300018311, 86.6322021484, 55.398700714099995, 76.8291625977, 81.1983718872, 76.0819091797, 72.9356079102, 42.0952796936, 49.3665313721, 50.1347007751, 63.9478111267, 98.1303482056, 99.04203033450001, 70.525100708, 70.91245269779999, 94.4194412231, 95.1649017334, 39.7877311707, 43.4599990845, 75.0287475586, 82.3307495117, 85.0662384033, 86.49276733399999, 96.73840332030001, 97.78254699709998, 65.7805099487, 56.9430084229, 69.47840881350001, 99.06999969479999, 57.022129058800004, 66.64859771729999, 98.78965759280001, 98.8820419312, 98.8822784424, 98.9557800293, 95.32382202149999, 73.0, 85.9400024414, 85.7551422119, 79.8859100342, 84.2901077271, 83.6588821411, 89.39630889889999, 92.0915679932, 90.93070220950001, 90.4281234741], \"yaxis\": \"y\"}, {\"hoverlabel\": {\"namelength\": 0}, \"hovertemplate\": \"<b>%{hovertext}</b><br><br>Regions=Latin America & Caribbean <br>GDP per capita, PPP (Current International $)=%{x}<br>Literacy Rate, Youth Total=%{y}\", \"hovertext\": [\"Argentina\", \"Argentina\", \"Argentina\", \"Argentina\", \"Argentina\", \"Argentina\", \"Argentina\", \"Barbados\", \"Bolivia\", \"Bolivia\", \"Bolivia\", \"Brazil\", \"Brazil\", \"Brazil\", \"Brazil\", \"Brazil\", \"Brazil\", \"Brazil\", \"Brazil\", \"Chile\", \"Chile\", \"Chile\", \"Chile\", \"Colombia\", \"Colombia\", \"Colombia\", \"Colombia\", \"Colombia\", \"Costa Rica\", \"Costa Rica\", \"Dominican Republic\", \"Dominican Republic\", \"Dominican Republic\", \"Dominican Republic\", \"Dominican Republic\", \"Dominican Republic\", \"Ecuador\", \"Ecuador\", \"Ecuador\", \"Ecuador\", \"Ecuador\", \"Ecuador\", \"Ecuador\", \"El Salvador\", \"El Salvador\", \"El Salvador\", \"El Salvador\", \"El Salvador\", \"El Salvador\", \"Grenada\", \"Guatemala\", \"Guatemala\", \"Guatemala\", \"Guyana\", \"Haiti\", \"Honduras\", \"Honduras\", \"Honduras\", \"Honduras\", \"Honduras\", \"Honduras\", \"Honduras\", \"Jamaica\", \"Mexico\", \"Mexico\", \"Mexico\", \"Mexico\", \"Mexico\", \"Mexico\", \"Mexico\", \"Mexico\", \"Nicaragua\", \"Panama\", \"Paraguay\", \"Paraguay\", \"Paraguay\", \"Paraguay\", \"Paraguay\", \"Paraguay\", \"Peru\", \"Peru\", \"Peru\", \"Peru\", \"Peru\", \"Peru\", \"Puerto Rico\", \"Suriname\", \"Suriname\", \"Uruguay\", \"Uruguay\", \"Uruguay\", \"Uruguay\", \"Uruguay\", \"Uruguay\", \"Uruguay\", \"Uruguay\", \"Venezuela, RB\"], \"legendgroup\": \"Regions=Latin America & Caribbean \", \"marker\": {\"color\": \"#FFA15A\", \"symbol\": \"circle\"}, \"mode\": \"markers\", \"name\": \"Regions=Latin America & Caribbean \", \"showlegend\": true, \"type\": \"scatter\", \"x\": [19322.2271236942, 19641.352863834698, 20131.6804246983, 19683.7715056442, 20105.198991816498, 20307.870052142, 23313.8179401811, 15175.495641523701, 5460.2554540317, 5921.6494777319995, 7133.874457575, 15040.058182820601, 15046.2898798158, 15588.726206456799, 15718.565647708301, 14744.1129133865, 14256.163247121101, 14519.8491302518, 14951.8109956354, 20342.5709204911, 22439.2783559589, 22698.5494450875, 24548.1876999972, 11604.102283016002, 13307.4245015783, 13265.7972569151, 13859.0862651647, 15055.6853046331, 13387.5721512729, 20374.5902902574, 11869.1339800985, 11900.4909965793, 12482.164599715501, 13475.016470041599, 14740.819699149799, 16109.8559243457, 9857.521816136199, 10311.4025981044, 11153.684501816299, 11713.1715024724, 11060.2876329825, 11034.2698481839, 11617.9087583298, 6465.8106358369, 6877.1560880577, 7597.6855699406005, 8038.6255289948995, 8454.0581981485, 8825.4517494215, 13041.816105784299, 7320.1534171854, 7446.587991483199, 7758.4931351181, 10951.6769709817, 3025.7344010116, 3928.2680750057, 4032.5813227633002, 4142.239868157801, 4452.5830191136, 4823.3890440186, 5147.244578045999, 5810.4295077939005, 8544.2301856964, 16520.2585085371, 17162.9275170326, 17373.8970180913, 18056.7911564109, 18301.4994177394, 19323.6663390245, 19785.905008208, 20348.7899134138, 5293.8653582741, 31805.5379020532, 10022.1254646283, 11086.745615326101, 11425.661137699699, 11471.4942285323, 12029.9662264768, 13163.502526588798, 10767.6780575477, 11510.2838491968, 11572.3226921141, 12013.378943521298, 12506.530170530601, 13093.7552597423, 34363.7459921451, 15785.123567223602, 17039.6856765218, 18002.8510746563, 18192.335087016898, 19130.044465099, 20093.6536113771, 20217.584138231497, 20669.8123564851, 21324.8460031305, 22116.7865960742, 17527.4477948588], \"xaxis\": \"x\", \"y\": [99.62824249270001, 99.37586975100001, 99.55132293700001, 99.2967071533, 99.5597000122, 99.5027084351, 99.5055236816, 99.9000015259, 99.007522583, 98.995880127, 99.39916992190001, 98.48692321780001, 98.61965942379999, 98.73667907709999, 98.84568786620001, 98.9637527466, 99.1109619141, 99.1554107666, 99.2041702271, 99.40818786620001, 99.0482788086, 99.3539428711, 99.0086593628, 98.23937988280001, 98.5409469604, 98.5347290039, 98.6683120728, 98.8516464233, 99.1336975098, 99.43000030520001, 97.0420532227, 97.02388763430001, 97.4724273682, 97.6885299683, 97.6140594482, 98.83940887450001, 98.6948394775, 98.83162689209999, 98.604637146, 99.0977706909, 99.1261978149, 99.0571136475, 99.2550506592, 96.5450897217, 97.2241897583, 97.9493331909, 98.0085906982, 97.98045349120001, 97.9737167358, 99.1999969482, 93.6534729004, 91.8519210815, 94.35424804690001, 96.689666748, 82.99424743649999, 95.9250030518, 94.9809494019, 95.0664901733, 95.67707061770001, 96.0075073242, 96.1265411377, 96.515838623, 96.3000030518, 98.461769104, 98.8754196167, 98.5644989014, 99.00003814700001, 98.9447097778, 99.1162033081, 99.12468719479999, 99.3184509277, 91.5717773438, 99.09909057620001, 98.17791748049999, 98.8991317749, 98.7137985229, 98.6536026001, 98.45059967040001, 98.2815170288, 98.6981582642, 98.9775314331, 99.0095367432, 98.88349151610001, 99.0574798584, 99.02375793459998, 92.38983154299999, 97.6679000854, 98.6455612183, 98.8622207642, 98.95525360110001, 98.9297637939, 98.8388900757, 98.9275970459, 99.1524734497, 98.93260192870001, 98.8802719116, 97.5591583252], \"yaxis\": \"y\"}, {\"hoverlabel\": {\"namelength\": 0}, \"hovertemplate\": \"<b>%{hovertext}</b><br><br>Regions=East Asia & Pacific<br>GDP per capita, PPP (Current International $)=%{x}<br>Literacy Rate, Youth Total=%{y}\", \"hovertext\": [\"Brunei Darussalam\", \"Brunei Darussalam\", \"Cambodia\", \"Cambodia\", \"China\", \"Fiji\", \"Indonesia\", \"Indonesia\", \"Indonesia\", \"Indonesia\", \"Indonesia\", \"Lao PDR\", \"Lao PDR\", \"Macao SAR, China\", \"Macao SAR, China\", \"Malaysia\", \"Malaysia\", \"Malaysia\", \"Marshall Islands\", \"Mongolia\", \"Myanmar\", \"Palau\", \"Palau\", \"Philippines\", \"Philippines\", \"Samoa\", \"Samoa\", \"Singapore\", \"Singapore\", \"Singapore\", \"Singapore\", \"Singapore\", \"Singapore\", \"Singapore\", \"Singapore\", \"Thailand\", \"Thailand\", \"Thailand\", \"Timor-Leste\", \"Tonga\", \"Tonga\", \"Vanuatu\", \"Vanuatu\", \"Vietnam\"], \"legendgroup\": \"Regions=East Asia & Pacific\", \"marker\": {\"color\": \"#19d3f3\", \"symbol\": \"circle\"}, \"mode\": \"markers\", \"name\": \"Regions=East Asia & Pacific\", \"showlegend\": true, \"type\": \"scatter\", \"x\": [83935.012512764, 61859.9779118091, 3185.3368979078004, 3388.7374199775, 15614.3052820791, 13429.315918427399, 9095.7336334382, 10278.139920209, 10247.206377812, 10494.5604668313, 11648.542672945601, 4150.8241726392, 6168.4776422143, 120358.931922578, 115698.05923780099, 25546.0029730622, 26661.1877010899, 28228.9594497661, 3285.5825352539, 12205.8430364275, 4492.0183211261, 15206.6562089331, 17828.512275148798, 6614.6839251788, 7186.7688581811, 5655.1373962925, 6474.2538001583, 80052.3914982651, 82064.96119108361, 83001.78780137071, 84423.1913432675, 86974.74762306269, 89386.0793999319, 94940.97078529699, 100126.02355355801, 15407.6694716651, 15822.3532640938, 18527.09537988, 3126.0142065516998, 5048.0820765953995, 6572.705515779399, 2995.9247580218, 3204.6795408539, 7771.1894196652], \"xaxis\": \"x\", \"y\": [99.3667678833, 99.7089385986, 90.1418685913, 92.2123565674, 99.78359985350001, 99.7443389893, 98.77799987790002, 99.6802215576, 99.6700668335, 99.6688079834, 99.7070770264, 72.0562286377, 92.462638855, 99.6728973389, 99.7987365723, 97.6144714355, 97.27256011959999, 96.85032653809999, 98.4587783813, 98.6299972534, 84.751159668, 99.8383789062, 98.6644363403, 98.1083526611, 99.08260345459999, 99.2356567383, 99.12348175049999, 99.8871994019, 99.8949432373, 99.89861297610001, 99.9004669189, 99.78489685059999, 99.92658233639999, 99.9304428101, 99.9296264648, 98.31388092040001, 98.1466293335, 98.13716888430001, 83.5390319824, 99.4370269775, 99.441116333, 95.3000030518, 96.28211975100001, 98.40809631350001], \"yaxis\": \"y\"}],\n",
              "                        {\"legend\": {\"tracegroupgap\": 0}, \"template\": {\"data\": {\"bar\": [{\"error_x\": {\"color\": \"#2a3f5f\"}, \"error_y\": {\"color\": \"#2a3f5f\"}, \"marker\": {\"line\": {\"color\": \"#E5ECF6\", \"width\": 0.5}}, \"type\": \"bar\"}], \"barpolar\": [{\"marker\": {\"line\": {\"color\": \"#E5ECF6\", \"width\": 0.5}}, \"type\": \"barpolar\"}], \"carpet\": [{\"aaxis\": {\"endlinecolor\": \"#2a3f5f\", \"gridcolor\": \"white\", \"linecolor\": \"white\", \"minorgridcolor\": \"white\", \"startlinecolor\": \"#2a3f5f\"}, \"baxis\": {\"endlinecolor\": \"#2a3f5f\", \"gridcolor\": \"white\", \"linecolor\": \"white\", \"minorgridcolor\": \"white\", \"startlinecolor\": \"#2a3f5f\"}, \"type\": \"carpet\"}], \"choropleth\": [{\"colorbar\": {\"outlinewidth\": 0, \"ticks\": \"\"}, \"type\": \"choropleth\"}], \"contour\": [{\"colorbar\": {\"outlinewidth\": 0, \"ticks\": \"\"}, \"colorscale\": [[0.0, \"#0d0887\"], [0.1111111111111111, \"#46039f\"], [0.2222222222222222, \"#7201a8\"], [0.3333333333333333, \"#9c179e\"], [0.4444444444444444, \"#bd3786\"], [0.5555555555555556, \"#d8576b\"], [0.6666666666666666, \"#ed7953\"], [0.7777777777777778, \"#fb9f3a\"], [0.8888888888888888, \"#fdca26\"], [1.0, \"#f0f921\"]], \"type\": \"contour\"}], \"contourcarpet\": [{\"colorbar\": {\"outlinewidth\": 0, \"ticks\": \"\"}, \"type\": \"contourcarpet\"}], \"heatmap\": [{\"colorbar\": {\"outlinewidth\": 0, \"ticks\": \"\"}, \"colorscale\": [[0.0, \"#0d0887\"], [0.1111111111111111, \"#46039f\"], [0.2222222222222222, \"#7201a8\"], [0.3333333333333333, \"#9c179e\"], [0.4444444444444444, \"#bd3786\"], [0.5555555555555556, \"#d8576b\"], [0.6666666666666666, \"#ed7953\"], [0.7777777777777778, \"#fb9f3a\"], [0.8888888888888888, \"#fdca26\"], [1.0, \"#f0f921\"]], \"type\": \"heatmap\"}], \"heatmapgl\": [{\"colorbar\": {\"outlinewidth\": 0, \"ticks\": \"\"}, \"colorscale\": [[0.0, \"#0d0887\"], [0.1111111111111111, \"#46039f\"], [0.2222222222222222, \"#7201a8\"], [0.3333333333333333, \"#9c179e\"], [0.4444444444444444, \"#bd3786\"], [0.5555555555555556, \"#d8576b\"], [0.6666666666666666, \"#ed7953\"], [0.7777777777777778, \"#fb9f3a\"], [0.8888888888888888, \"#fdca26\"], [1.0, \"#f0f921\"]], \"type\": \"heatmapgl\"}], \"histogram\": [{\"marker\": {\"colorbar\": {\"outlinewidth\": 0, \"ticks\": \"\"}}, \"type\": \"histogram\"}], \"histogram2d\": [{\"colorbar\": {\"outlinewidth\": 0, \"ticks\": \"\"}, \"colorscale\": [[0.0, \"#0d0887\"], [0.1111111111111111, \"#46039f\"], [0.2222222222222222, \"#7201a8\"], [0.3333333333333333, \"#9c179e\"], [0.4444444444444444, \"#bd3786\"], [0.5555555555555556, \"#d8576b\"], [0.6666666666666666, \"#ed7953\"], [0.7777777777777778, \"#fb9f3a\"], [0.8888888888888888, \"#fdca26\"], [1.0, \"#f0f921\"]], \"type\": \"histogram2d\"}], \"histogram2dcontour\": [{\"colorbar\": {\"outlinewidth\": 0, \"ticks\": \"\"}, \"colorscale\": [[0.0, \"#0d0887\"], [0.1111111111111111, \"#46039f\"], [0.2222222222222222, \"#7201a8\"], [0.3333333333333333, \"#9c179e\"], [0.4444444444444444, \"#bd3786\"], [0.5555555555555556, \"#d8576b\"], [0.6666666666666666, \"#ed7953\"], [0.7777777777777778, \"#fb9f3a\"], [0.8888888888888888, \"#fdca26\"], [1.0, \"#f0f921\"]], \"type\": \"histogram2dcontour\"}], \"mesh3d\": [{\"colorbar\": {\"outlinewidth\": 0, \"ticks\": \"\"}, \"type\": \"mesh3d\"}], \"parcoords\": [{\"line\": {\"colorbar\": {\"outlinewidth\": 0, \"ticks\": \"\"}}, \"type\": \"parcoords\"}], \"pie\": [{\"automargin\": true, \"type\": \"pie\"}], \"scatter\": [{\"marker\": {\"colorbar\": {\"outlinewidth\": 0, \"ticks\": \"\"}}, \"type\": \"scatter\"}], \"scatter3d\": [{\"line\": {\"colorbar\": {\"outlinewidth\": 0, \"ticks\": \"\"}}, \"marker\": {\"colorbar\": {\"outlinewidth\": 0, \"ticks\": \"\"}}, \"type\": \"scatter3d\"}], \"scattercarpet\": [{\"marker\": {\"colorbar\": {\"outlinewidth\": 0, \"ticks\": \"\"}}, \"type\": \"scattercarpet\"}], \"scattergeo\": [{\"marker\": {\"colorbar\": {\"outlinewidth\": 0, \"ticks\": \"\"}}, \"type\": \"scattergeo\"}], \"scattergl\": [{\"marker\": {\"colorbar\": {\"outlinewidth\": 0, \"ticks\": \"\"}}, \"type\": \"scattergl\"}], \"scattermapbox\": [{\"marker\": {\"colorbar\": {\"outlinewidth\": 0, \"ticks\": \"\"}}, \"type\": \"scattermapbox\"}], \"scatterpolar\": [{\"marker\": {\"colorbar\": {\"outlinewidth\": 0, \"ticks\": \"\"}}, \"type\": \"scatterpolar\"}], \"scatterpolargl\": [{\"marker\": {\"colorbar\": {\"outlinewidth\": 0, \"ticks\": \"\"}}, \"type\": \"scatterpolargl\"}], \"scatterternary\": [{\"marker\": {\"colorbar\": {\"outlinewidth\": 0, \"ticks\": \"\"}}, \"type\": \"scatterternary\"}], \"surface\": [{\"colorbar\": {\"outlinewidth\": 0, \"ticks\": \"\"}, \"colorscale\": [[0.0, \"#0d0887\"], [0.1111111111111111, \"#46039f\"], [0.2222222222222222, \"#7201a8\"], [0.3333333333333333, \"#9c179e\"], [0.4444444444444444, \"#bd3786\"], [0.5555555555555556, \"#d8576b\"], [0.6666666666666666, \"#ed7953\"], [0.7777777777777778, \"#fb9f3a\"], [0.8888888888888888, \"#fdca26\"], [1.0, \"#f0f921\"]], \"type\": \"surface\"}], \"table\": [{\"cells\": {\"fill\": {\"color\": \"#EBF0F8\"}, \"line\": {\"color\": \"white\"}}, \"header\": {\"fill\": {\"color\": \"#C8D4E3\"}, \"line\": {\"color\": \"white\"}}, \"type\": \"table\"}]}, \"layout\": {\"annotationdefaults\": {\"arrowcolor\": \"#2a3f5f\", \"arrowhead\": 0, \"arrowwidth\": 1}, \"coloraxis\": {\"colorbar\": {\"outlinewidth\": 0, \"ticks\": \"\"}}, \"colorscale\": {\"diverging\": [[0, \"#8e0152\"], [0.1, \"#c51b7d\"], [0.2, \"#de77ae\"], [0.3, \"#f1b6da\"], [0.4, \"#fde0ef\"], [0.5, \"#f7f7f7\"], [0.6, \"#e6f5d0\"], [0.7, \"#b8e186\"], [0.8, \"#7fbc41\"], [0.9, \"#4d9221\"], [1, \"#276419\"]], \"sequential\": [[0.0, \"#0d0887\"], [0.1111111111111111, \"#46039f\"], [0.2222222222222222, \"#7201a8\"], [0.3333333333333333, \"#9c179e\"], [0.4444444444444444, \"#bd3786\"], [0.5555555555555556, \"#d8576b\"], [0.6666666666666666, \"#ed7953\"], [0.7777777777777778, \"#fb9f3a\"], [0.8888888888888888, \"#fdca26\"], [1.0, \"#f0f921\"]], \"sequentialminus\": [[0.0, \"#0d0887\"], [0.1111111111111111, \"#46039f\"], [0.2222222222222222, \"#7201a8\"], [0.3333333333333333, \"#9c179e\"], [0.4444444444444444, \"#bd3786\"], [0.5555555555555556, \"#d8576b\"], [0.6666666666666666, \"#ed7953\"], [0.7777777777777778, \"#fb9f3a\"], [0.8888888888888888, \"#fdca26\"], [1.0, \"#f0f921\"]]}, \"colorway\": [\"#636efa\", \"#EF553B\", \"#00cc96\", \"#ab63fa\", \"#FFA15A\", \"#19d3f3\", \"#FF6692\", \"#B6E880\", \"#FF97FF\", \"#FECB52\"], \"font\": {\"color\": \"#2a3f5f\"}, \"geo\": {\"bgcolor\": \"white\", \"lakecolor\": \"white\", \"landcolor\": \"#E5ECF6\", \"showlakes\": true, \"showland\": true, \"subunitcolor\": \"white\"}, \"hoverlabel\": {\"align\": \"left\"}, \"hovermode\": \"closest\", \"mapbox\": {\"style\": \"light\"}, \"paper_bgcolor\": \"white\", \"plot_bgcolor\": \"#E5ECF6\", \"polar\": {\"angularaxis\": {\"gridcolor\": \"white\", \"linecolor\": \"white\", \"ticks\": \"\"}, \"bgcolor\": \"#E5ECF6\", \"radialaxis\": {\"gridcolor\": \"white\", \"linecolor\": \"white\", \"ticks\": \"\"}}, \"scene\": {\"xaxis\": {\"backgroundcolor\": \"#E5ECF6\", \"gridcolor\": \"white\", \"gridwidth\": 2, \"linecolor\": \"white\", \"showbackground\": true, \"ticks\": \"\", \"zerolinecolor\": \"white\"}, \"yaxis\": {\"backgroundcolor\": \"#E5ECF6\", \"gridcolor\": \"white\", \"gridwidth\": 2, \"linecolor\": \"white\", \"showbackground\": true, \"ticks\": \"\", \"zerolinecolor\": \"white\"}, \"zaxis\": {\"backgroundcolor\": \"#E5ECF6\", \"gridcolor\": \"white\", \"gridwidth\": 2, \"linecolor\": \"white\", \"showbackground\": true, \"ticks\": \"\", \"zerolinecolor\": \"white\"}}, \"shapedefaults\": {\"line\": {\"color\": \"#2a3f5f\"}}, \"ternary\": {\"aaxis\": {\"gridcolor\": \"white\", \"linecolor\": \"white\", \"ticks\": \"\"}, \"baxis\": {\"gridcolor\": \"white\", \"linecolor\": \"white\", \"ticks\": \"\"}, \"bgcolor\": \"#E5ECF6\", \"caxis\": {\"gridcolor\": \"white\", \"linecolor\": \"white\", \"ticks\": \"\"}}, \"title\": {\"x\": 0.05}, \"xaxis\": {\"automargin\": true, \"gridcolor\": \"white\", \"linecolor\": \"white\", \"ticks\": \"\", \"title\": {\"standoff\": 15}, \"zerolinecolor\": \"white\", \"zerolinewidth\": 2}, \"yaxis\": {\"automargin\": true, \"gridcolor\": \"white\", \"linecolor\": \"white\", \"ticks\": \"\", \"title\": {\"standoff\": 15}, \"zerolinecolor\": \"white\", \"zerolinewidth\": 2}}}, \"title\": {\"text\": \"GDP Per Capita vs Youth Literacy Rate\"}, \"xaxis\": {\"anchor\": \"y\", \"domain\": [0.0, 1.0], \"title\": {\"text\": \"GDP per capita, PPP (Current International $)\"}}, \"yaxis\": {\"anchor\": \"x\", \"domain\": [0.0, 1.0], \"title\": {\"text\": \"Literacy Rate, Youth Total\"}}},\n",
              "                        {\"responsive\": true}\n",
              "                    ).then(function(){\n",
              "                            \n",
              "var gd = document.getElementById('341c5e36-7b7c-4c5c-adc5-d3f974ed2c09');\n",
              "var x = new MutationObserver(function (mutations, observer) {{\n",
              "        var display = window.getComputedStyle(gd).display;\n",
              "        if (!display || display === 'none') {{\n",
              "            console.log([gd, 'removed!']);\n",
              "            Plotly.purge(gd);\n",
              "            observer.disconnect();\n",
              "        }}\n",
              "}});\n",
              "\n",
              "// Listen for the removal of the full notebook cells\n",
              "var notebookContainer = gd.closest('#notebook-container');\n",
              "if (notebookContainer) {{\n",
              "    x.observe(notebookContainer, {childList: true});\n",
              "}}\n",
              "\n",
              "// Listen for the clearing of the current output cell\n",
              "var outputEl = gd.closest('.output');\n",
              "if (outputEl) {{\n",
              "    x.observe(outputEl, {childList: true});\n",
              "}}\n",
              "\n",
              "                        })\n",
              "                };\n",
              "                \n",
              "            </script>\n",
              "        </div>\n",
              "</body>\n",
              "</html>"
            ]
          },
          "metadata": {
            "tags": []
          }
        }
      ]
    },
    {
      "cell_type": "markdown",
      "metadata": {
        "id": "HzTngbdQTUjG"
      },
      "source": [
        "When comparing all regions, overall trends seem to show correlation between youth literacy rate and GDP per capita. Regions with higher literacy rate seem to have higher GDP per capita. \n",
        "\n",
        "However, there is a cluster of countries with high youth literacy rate, that share similar GDP per capita as countries with low youth literacy rate. "
      ]
    },
    {
      "cell_type": "markdown",
      "metadata": {
        "id": "FZ-4qjjBSWw0"
      },
      "source": [
        "**Countries Comparison**\n"
      ]
    },
    {
      "cell_type": "code",
      "metadata": {
        "colab": {
          "base_uri": "https://localhost:8080/",
          "height": 542
        },
        "id": "oqP3fkz_TdWv",
        "outputId": "960e9333-9bb8-45e1-b0d5-27d0fb810b61"
      },
      "source": [
        "# create subset of data with specific countries \n",
        "\n",
        "country_list = ['Bangladesh', 'Brazil', 'Mali', 'Singapore']\n",
        "\n",
        "# drop unindentified column\n",
        "gdp_co = gdp_df[gdp_df['Country Name'].isin(country_list)]\n",
        "\n",
        "# plot line charts of the GDP per capita and youth literacy rate over time\n",
        "\n",
        "fig1 = px.line(gdp_co, \n",
        "               x='Year', \n",
        "               y=gdp_co['NY.GDP.PCAP.PP.CD'],\n",
        "               color = gdp_co['Country Name'],\n",
        "               title = 'Youth Literacy Rate over time (2011 - 2018)'\n",
        "               )\n",
        "fig2 = px.line(\n",
        "              gdp_co,\n",
        "              x = gdp_co['Year'],\n",
        "              y = gdp_co['SE.ADT.1524.LT.ZS'],\n",
        "              color = gdp_co['Country Name'],\n",
        "              title = 'Youth Literacy Rate over time (2011 - 2018)'\n",
        "              )\n",
        "\n",
        "fig3 = make_subplots(rows=1, cols=2,\n",
        "                    subplot_titles=(\"GDP Per Capita ($) over time (2011-2018)\", \"Literacy Rate (%) over time (2011-2018)\"), x_title = 'Years')\n",
        "\n",
        "fig3.add_trace(fig1['data'][0], row=1, col=1)\n",
        "fig3.add_trace(fig1['data'][1], row=1, col=1)\n",
        "fig3.add_trace(fig1['data'][2], row=1, col=1)\n",
        "fig3.add_trace(fig1['data'][3], row=1, col=1)\n",
        "fig3.add_trace(fig2['data'][0], row=1, col=2)\n",
        "fig3.add_trace(fig2['data'][1], row=1, col=2)\n",
        "fig3.add_trace(fig2['data'][2], row=1, col=2)\n",
        "fig3.add_trace(fig2['data'][3], row=1, col=2)\n",
        "\n",
        "fig3.update_layout(\n",
        "    showlegend=True)\n",
        "fig3.show()"
      ],
      "execution_count": 2,
      "outputs": [
        {
          "output_type": "display_data",
          "data": {
            "text/html": [
              "<html>\n",
              "<head><meta charset=\"utf-8\" /></head>\n",
              "<body>\n",
              "    <div>\n",
              "            <script src=\"https://cdnjs.cloudflare.com/ajax/libs/mathjax/2.7.5/MathJax.js?config=TeX-AMS-MML_SVG\"></script><script type=\"text/javascript\">if (window.MathJax) {MathJax.Hub.Config({SVG: {font: \"STIX-Web\"}});}</script>\n",
              "                <script type=\"text/javascript\">window.PlotlyConfig = {MathJaxConfig: 'local'};</script>\n",
              "        <script src=\"https://cdn.plot.ly/plotly-latest.min.js\"></script>    \n",
              "            <div id=\"d043e022-5487-4380-bcc8-72409989498c\" class=\"plotly-graph-div\" style=\"height:525px; width:100%;\"></div>\n",
              "            <script type=\"text/javascript\">\n",
              "                \n",
              "                    window.PLOTLYENV=window.PLOTLYENV || {};\n",
              "                    \n",
              "                if (document.getElementById(\"d043e022-5487-4380-bcc8-72409989498c\")) {\n",
              "                    Plotly.newPlot(\n",
              "                        'd043e022-5487-4380-bcc8-72409989498c',\n",
              "                        [{\"hoverlabel\": {\"namelength\": 0}, \"hovertemplate\": \"Country Name=Bangladesh<br>Year=%{x}<br>NY.GDP.PCAP.PP.CD=%{y}\", \"legendgroup\": \"Country Name=Bangladesh\", \"line\": {\"color\": \"#636efa\", \"dash\": \"solid\"}, \"mode\": \"lines\", \"name\": \"Country Name=Bangladesh\", \"showlegend\": true, \"type\": \"scatter\", \"x\": [2011, 2012, 2013, 2014, 2015, 2016, 2017, 2018], \"xaxis\": \"x\", \"y\": [2620.8224835537, 2937.5884515668, 3143.5183568665, 3367.9955251359997, 3555.5055100034997, 3849.1114311328997, 4161.0897133905, 4549.6176462673], \"yaxis\": \"y\"}, {\"hoverlabel\": {\"namelength\": 0}, \"hovertemplate\": \"Country Name=Brazil<br>Year=%{x}<br>NY.GDP.PCAP.PP.CD=%{y}\", \"legendgroup\": \"Country Name=Brazil\", \"line\": {\"color\": \"#EF553B\", \"dash\": \"solid\"}, \"mode\": \"lines\", \"name\": \"Country Name=Brazil\", \"showlegend\": true, \"type\": \"scatter\", \"x\": [2011, 2012, 2013, 2014, 2015, 2016, 2017, 2018], \"xaxis\": \"x\", \"y\": [15040.058182820601, 15046.2898798158, 15588.726206456799, 15718.565647708301, 14744.1129133865, 14256.163247121101, 14519.8491302518, 14951.8109956354], \"yaxis\": \"y\"}, {\"hoverlabel\": {\"namelength\": 0}, \"hovertemplate\": \"Country Name=Mali<br>Year=%{x}<br>NY.GDP.PCAP.PP.CD=%{y}\", \"legendgroup\": \"Country Name=Mali\", \"line\": {\"color\": \"#00cc96\", \"dash\": \"solid\"}, \"mode\": \"lines\", \"name\": \"Country Name=Mali\", \"showlegend\": true, \"type\": \"scatter\", \"x\": [2011, 2015, 2018], \"xaxis\": \"x\", \"y\": [1826.6477924667001, 2032.6551725229, 2339.3414173238], \"yaxis\": \"y\"}, {\"hoverlabel\": {\"namelength\": 0}, \"hovertemplate\": \"Country Name=Singapore<br>Year=%{x}<br>NY.GDP.PCAP.PP.CD=%{y}\", \"legendgroup\": \"Country Name=Singapore\", \"line\": {\"color\": \"#ab63fa\", \"dash\": \"solid\"}, \"mode\": \"lines\", \"name\": \"Country Name=Singapore\", \"showlegend\": true, \"type\": \"scatter\", \"x\": [2011, 2012, 2013, 2014, 2015, 2016, 2017, 2018], \"xaxis\": \"x\", \"y\": [80052.3914982651, 82064.96119108361, 83001.78780137071, 84423.1913432675, 86974.74762306269, 89386.0793999319, 94940.97078529699, 100126.02355355801], \"yaxis\": \"y\"}, {\"hoverlabel\": {\"namelength\": 0}, \"hovertemplate\": \"Country Name=Bangladesh<br>Year=%{x}<br>SE.ADT.1524.LT.ZS=%{y}\", \"legendgroup\": \"Country Name=Bangladesh\", \"line\": {\"color\": \"#636efa\", \"dash\": \"solid\"}, \"mode\": \"lines\", \"name\": \"Country Name=Bangladesh\", \"showlegend\": true, \"type\": \"scatter\", \"x\": [2011, 2012, 2013, 2014, 2015, 2016, 2017, 2018], \"xaxis\": \"x2\", \"y\": [77.984992981, 77.8329086304, 85.5271530151, 85.5547332764, 87.88877105709999, 92.2426528931, 92.9507598877, 93.29644012450001], \"yaxis\": \"y2\"}, {\"hoverlabel\": {\"namelength\": 0}, \"hovertemplate\": \"Country Name=Brazil<br>Year=%{x}<br>SE.ADT.1524.LT.ZS=%{y}\", \"legendgroup\": \"Country Name=Brazil\", \"line\": {\"color\": \"#EF553B\", \"dash\": \"solid\"}, \"mode\": \"lines\", \"name\": \"Country Name=Brazil\", \"showlegend\": true, \"type\": \"scatter\", \"x\": [2011, 2012, 2013, 2014, 2015, 2016, 2017, 2018], \"xaxis\": \"x2\", \"y\": [98.48692321780001, 98.61965942379999, 98.73667907709999, 98.84568786620001, 98.9637527466, 99.1109619141, 99.1554107666, 99.2041702271], \"yaxis\": \"y2\"}, {\"hoverlabel\": {\"namelength\": 0}, \"hovertemplate\": \"Country Name=Mali<br>Year=%{x}<br>SE.ADT.1524.LT.ZS=%{y}\", \"legendgroup\": \"Country Name=Mali\", \"line\": {\"color\": \"#00cc96\", \"dash\": \"solid\"}, \"mode\": \"lines\", \"name\": \"Country Name=Mali\", \"showlegend\": true, \"type\": \"scatter\", \"x\": [2011, 2015, 2018], \"xaxis\": \"x2\", \"y\": [42.0952796936, 49.3665313721, 50.1347007751], \"yaxis\": \"y2\"}, {\"hoverlabel\": {\"namelength\": 0}, \"hovertemplate\": \"Country Name=Singapore<br>Year=%{x}<br>SE.ADT.1524.LT.ZS=%{y}\", \"legendgroup\": \"Country Name=Singapore\", \"line\": {\"color\": \"#ab63fa\", \"dash\": \"solid\"}, \"mode\": \"lines\", \"name\": \"Country Name=Singapore\", \"showlegend\": true, \"type\": \"scatter\", \"x\": [2011, 2012, 2013, 2014, 2015, 2016, 2017, 2018], \"xaxis\": \"x2\", \"y\": [99.8871994019, 99.8949432373, 99.89861297610001, 99.9004669189, 99.78489685059999, 99.92658233639999, 99.9304428101, 99.9296264648], \"yaxis\": \"y2\"}],\n",
              "                        {\"annotations\": [{\"font\": {\"size\": 16}, \"showarrow\": false, \"text\": \"GDP Per Capita ($) over time (2011-2018)\", \"x\": 0.225, \"xanchor\": \"center\", \"xref\": \"paper\", \"y\": 1.0, \"yanchor\": \"bottom\", \"yref\": \"paper\"}, {\"font\": {\"size\": 16}, \"showarrow\": false, \"text\": \"Literacy Rate (%) over time (2011-2018)\", \"x\": 0.775, \"xanchor\": \"center\", \"xref\": \"paper\", \"y\": 1.0, \"yanchor\": \"bottom\", \"yref\": \"paper\"}, {\"font\": {\"size\": 16}, \"showarrow\": false, \"text\": \"Years\", \"x\": 0.5, \"xanchor\": \"center\", \"xref\": \"paper\", \"y\": 0, \"yanchor\": \"top\", \"yref\": \"paper\", \"yshift\": -30}], \"showlegend\": true, \"template\": {\"data\": {\"bar\": [{\"error_x\": {\"color\": \"#2a3f5f\"}, \"error_y\": {\"color\": \"#2a3f5f\"}, \"marker\": {\"line\": {\"color\": \"#E5ECF6\", \"width\": 0.5}}, \"type\": \"bar\"}], \"barpolar\": [{\"marker\": {\"line\": {\"color\": \"#E5ECF6\", \"width\": 0.5}}, \"type\": \"barpolar\"}], \"carpet\": [{\"aaxis\": {\"endlinecolor\": \"#2a3f5f\", \"gridcolor\": \"white\", \"linecolor\": \"white\", \"minorgridcolor\": \"white\", \"startlinecolor\": \"#2a3f5f\"}, \"baxis\": {\"endlinecolor\": \"#2a3f5f\", \"gridcolor\": \"white\", \"linecolor\": \"white\", \"minorgridcolor\": \"white\", \"startlinecolor\": \"#2a3f5f\"}, \"type\": \"carpet\"}], \"choropleth\": [{\"colorbar\": {\"outlinewidth\": 0, \"ticks\": \"\"}, \"type\": \"choropleth\"}], \"contour\": [{\"colorbar\": {\"outlinewidth\": 0, \"ticks\": \"\"}, \"colorscale\": [[0.0, \"#0d0887\"], [0.1111111111111111, \"#46039f\"], [0.2222222222222222, \"#7201a8\"], [0.3333333333333333, \"#9c179e\"], [0.4444444444444444, \"#bd3786\"], [0.5555555555555556, \"#d8576b\"], [0.6666666666666666, \"#ed7953\"], [0.7777777777777778, \"#fb9f3a\"], [0.8888888888888888, \"#fdca26\"], [1.0, \"#f0f921\"]], \"type\": \"contour\"}], \"contourcarpet\": [{\"colorbar\": {\"outlinewidth\": 0, \"ticks\": \"\"}, \"type\": \"contourcarpet\"}], \"heatmap\": [{\"colorbar\": {\"outlinewidth\": 0, \"ticks\": \"\"}, \"colorscale\": [[0.0, \"#0d0887\"], [0.1111111111111111, \"#46039f\"], [0.2222222222222222, \"#7201a8\"], [0.3333333333333333, \"#9c179e\"], [0.4444444444444444, \"#bd3786\"], [0.5555555555555556, \"#d8576b\"], [0.6666666666666666, \"#ed7953\"], [0.7777777777777778, \"#fb9f3a\"], [0.8888888888888888, \"#fdca26\"], [1.0, \"#f0f921\"]], \"type\": \"heatmap\"}], \"heatmapgl\": [{\"colorbar\": {\"outlinewidth\": 0, \"ticks\": \"\"}, \"colorscale\": [[0.0, \"#0d0887\"], [0.1111111111111111, \"#46039f\"], [0.2222222222222222, \"#7201a8\"], [0.3333333333333333, \"#9c179e\"], [0.4444444444444444, \"#bd3786\"], [0.5555555555555556, \"#d8576b\"], [0.6666666666666666, \"#ed7953\"], [0.7777777777777778, \"#fb9f3a\"], [0.8888888888888888, \"#fdca26\"], [1.0, \"#f0f921\"]], \"type\": \"heatmapgl\"}], \"histogram\": [{\"marker\": {\"colorbar\": {\"outlinewidth\": 0, \"ticks\": \"\"}}, \"type\": \"histogram\"}], \"histogram2d\": [{\"colorbar\": {\"outlinewidth\": 0, \"ticks\": \"\"}, \"colorscale\": [[0.0, \"#0d0887\"], [0.1111111111111111, \"#46039f\"], [0.2222222222222222, \"#7201a8\"], [0.3333333333333333, \"#9c179e\"], [0.4444444444444444, \"#bd3786\"], [0.5555555555555556, \"#d8576b\"], [0.6666666666666666, \"#ed7953\"], [0.7777777777777778, \"#fb9f3a\"], [0.8888888888888888, \"#fdca26\"], [1.0, \"#f0f921\"]], \"type\": \"histogram2d\"}], \"histogram2dcontour\": [{\"colorbar\": {\"outlinewidth\": 0, \"ticks\": \"\"}, \"colorscale\": [[0.0, \"#0d0887\"], [0.1111111111111111, \"#46039f\"], [0.2222222222222222, \"#7201a8\"], [0.3333333333333333, \"#9c179e\"], [0.4444444444444444, \"#bd3786\"], [0.5555555555555556, \"#d8576b\"], [0.6666666666666666, \"#ed7953\"], [0.7777777777777778, \"#fb9f3a\"], [0.8888888888888888, \"#fdca26\"], [1.0, \"#f0f921\"]], \"type\": \"histogram2dcontour\"}], \"mesh3d\": [{\"colorbar\": {\"outlinewidth\": 0, \"ticks\": \"\"}, \"type\": \"mesh3d\"}], \"parcoords\": [{\"line\": {\"colorbar\": {\"outlinewidth\": 0, \"ticks\": \"\"}}, \"type\": \"parcoords\"}], \"pie\": [{\"automargin\": true, \"type\": \"pie\"}], \"scatter\": [{\"marker\": {\"colorbar\": {\"outlinewidth\": 0, \"ticks\": \"\"}}, \"type\": \"scatter\"}], \"scatter3d\": [{\"line\": {\"colorbar\": {\"outlinewidth\": 0, \"ticks\": \"\"}}, \"marker\": {\"colorbar\": {\"outlinewidth\": 0, \"ticks\": \"\"}}, \"type\": \"scatter3d\"}], \"scattercarpet\": [{\"marker\": {\"colorbar\": {\"outlinewidth\": 0, \"ticks\": \"\"}}, \"type\": \"scattercarpet\"}], \"scattergeo\": [{\"marker\": {\"colorbar\": {\"outlinewidth\": 0, \"ticks\": \"\"}}, \"type\": \"scattergeo\"}], \"scattergl\": [{\"marker\": {\"colorbar\": {\"outlinewidth\": 0, \"ticks\": \"\"}}, \"type\": \"scattergl\"}], \"scattermapbox\": [{\"marker\": {\"colorbar\": {\"outlinewidth\": 0, \"ticks\": \"\"}}, \"type\": \"scattermapbox\"}], \"scatterpolar\": [{\"marker\": {\"colorbar\": {\"outlinewidth\": 0, \"ticks\": \"\"}}, \"type\": \"scatterpolar\"}], \"scatterpolargl\": [{\"marker\": {\"colorbar\": {\"outlinewidth\": 0, \"ticks\": \"\"}}, \"type\": \"scatterpolargl\"}], \"scatterternary\": [{\"marker\": {\"colorbar\": {\"outlinewidth\": 0, \"ticks\": \"\"}}, \"type\": \"scatterternary\"}], \"surface\": [{\"colorbar\": {\"outlinewidth\": 0, \"ticks\": \"\"}, \"colorscale\": [[0.0, \"#0d0887\"], [0.1111111111111111, \"#46039f\"], [0.2222222222222222, \"#7201a8\"], [0.3333333333333333, \"#9c179e\"], [0.4444444444444444, \"#bd3786\"], [0.5555555555555556, \"#d8576b\"], [0.6666666666666666, \"#ed7953\"], [0.7777777777777778, \"#fb9f3a\"], [0.8888888888888888, \"#fdca26\"], [1.0, \"#f0f921\"]], \"type\": \"surface\"}], \"table\": [{\"cells\": {\"fill\": {\"color\": \"#EBF0F8\"}, \"line\": {\"color\": \"white\"}}, \"header\": {\"fill\": {\"color\": \"#C8D4E3\"}, \"line\": {\"color\": \"white\"}}, \"type\": \"table\"}]}, \"layout\": {\"annotationdefaults\": {\"arrowcolor\": \"#2a3f5f\", \"arrowhead\": 0, \"arrowwidth\": 1}, \"coloraxis\": {\"colorbar\": {\"outlinewidth\": 0, \"ticks\": \"\"}}, \"colorscale\": {\"diverging\": [[0, \"#8e0152\"], [0.1, \"#c51b7d\"], [0.2, \"#de77ae\"], [0.3, \"#f1b6da\"], [0.4, \"#fde0ef\"], [0.5, \"#f7f7f7\"], [0.6, \"#e6f5d0\"], [0.7, \"#b8e186\"], [0.8, \"#7fbc41\"], [0.9, \"#4d9221\"], [1, \"#276419\"]], \"sequential\": [[0.0, \"#0d0887\"], [0.1111111111111111, \"#46039f\"], [0.2222222222222222, \"#7201a8\"], [0.3333333333333333, \"#9c179e\"], [0.4444444444444444, \"#bd3786\"], [0.5555555555555556, \"#d8576b\"], [0.6666666666666666, \"#ed7953\"], [0.7777777777777778, \"#fb9f3a\"], [0.8888888888888888, \"#fdca26\"], [1.0, \"#f0f921\"]], \"sequentialminus\": [[0.0, \"#0d0887\"], [0.1111111111111111, \"#46039f\"], [0.2222222222222222, \"#7201a8\"], [0.3333333333333333, \"#9c179e\"], [0.4444444444444444, \"#bd3786\"], [0.5555555555555556, \"#d8576b\"], [0.6666666666666666, \"#ed7953\"], [0.7777777777777778, \"#fb9f3a\"], [0.8888888888888888, \"#fdca26\"], [1.0, \"#f0f921\"]]}, \"colorway\": [\"#636efa\", \"#EF553B\", \"#00cc96\", \"#ab63fa\", \"#FFA15A\", \"#19d3f3\", \"#FF6692\", \"#B6E880\", \"#FF97FF\", \"#FECB52\"], \"font\": {\"color\": \"#2a3f5f\"}, \"geo\": {\"bgcolor\": \"white\", \"lakecolor\": \"white\", \"landcolor\": \"#E5ECF6\", \"showlakes\": true, \"showland\": true, \"subunitcolor\": \"white\"}, \"hoverlabel\": {\"align\": \"left\"}, \"hovermode\": \"closest\", \"mapbox\": {\"style\": \"light\"}, \"paper_bgcolor\": \"white\", \"plot_bgcolor\": \"#E5ECF6\", \"polar\": {\"angularaxis\": {\"gridcolor\": \"white\", \"linecolor\": \"white\", \"ticks\": \"\"}, \"bgcolor\": \"#E5ECF6\", \"radialaxis\": {\"gridcolor\": \"white\", \"linecolor\": \"white\", \"ticks\": \"\"}}, \"scene\": {\"xaxis\": {\"backgroundcolor\": \"#E5ECF6\", \"gridcolor\": \"white\", \"gridwidth\": 2, \"linecolor\": \"white\", \"showbackground\": true, \"ticks\": \"\", \"zerolinecolor\": \"white\"}, \"yaxis\": {\"backgroundcolor\": \"#E5ECF6\", \"gridcolor\": \"white\", \"gridwidth\": 2, \"linecolor\": \"white\", \"showbackground\": true, \"ticks\": \"\", \"zerolinecolor\": \"white\"}, \"zaxis\": {\"backgroundcolor\": \"#E5ECF6\", \"gridcolor\": \"white\", \"gridwidth\": 2, \"linecolor\": \"white\", \"showbackground\": true, \"ticks\": \"\", \"zerolinecolor\": \"white\"}}, \"shapedefaults\": {\"line\": {\"color\": \"#2a3f5f\"}}, \"ternary\": {\"aaxis\": {\"gridcolor\": \"white\", \"linecolor\": \"white\", \"ticks\": \"\"}, \"baxis\": {\"gridcolor\": \"white\", \"linecolor\": \"white\", \"ticks\": \"\"}, \"bgcolor\": \"#E5ECF6\", \"caxis\": {\"gridcolor\": \"white\", \"linecolor\": \"white\", \"ticks\": \"\"}}, \"title\": {\"x\": 0.05}, \"xaxis\": {\"automargin\": true, \"gridcolor\": \"white\", \"linecolor\": \"white\", \"ticks\": \"\", \"title\": {\"standoff\": 15}, \"zerolinecolor\": \"white\", \"zerolinewidth\": 2}, \"yaxis\": {\"automargin\": true, \"gridcolor\": \"white\", \"linecolor\": \"white\", \"ticks\": \"\", \"title\": {\"standoff\": 15}, \"zerolinecolor\": \"white\", \"zerolinewidth\": 2}}}, \"xaxis\": {\"anchor\": \"y\", \"domain\": [0.0, 0.45]}, \"xaxis2\": {\"anchor\": \"y2\", \"domain\": [0.55, 1.0]}, \"yaxis\": {\"anchor\": \"x\", \"domain\": [0.0, 1.0]}, \"yaxis2\": {\"anchor\": \"x2\", \"domain\": [0.0, 1.0]}},\n",
              "                        {\"responsive\": true}\n",
              "                    ).then(function(){\n",
              "                            \n",
              "var gd = document.getElementById('d043e022-5487-4380-bcc8-72409989498c');\n",
              "var x = new MutationObserver(function (mutations, observer) {{\n",
              "        var display = window.getComputedStyle(gd).display;\n",
              "        if (!display || display === 'none') {{\n",
              "            console.log([gd, 'removed!']);\n",
              "            Plotly.purge(gd);\n",
              "            observer.disconnect();\n",
              "        }}\n",
              "}});\n",
              "\n",
              "// Listen for the removal of the full notebook cells\n",
              "var notebookContainer = gd.closest('#notebook-container');\n",
              "if (notebookContainer) {{\n",
              "    x.observe(notebookContainer, {childList: true});\n",
              "}}\n",
              "\n",
              "// Listen for the clearing of the current output cell\n",
              "var outputEl = gd.closest('.output');\n",
              "if (outputEl) {{\n",
              "    x.observe(outputEl, {childList: true});\n",
              "}}\n",
              "\n",
              "                        })\n",
              "                };\n",
              "                \n",
              "            </script>\n",
              "        </div>\n",
              "</body>\n",
              "</html>"
            ]
          },
          "metadata": {
            "tags": []
          }
        }
      ]
    },
    {
      "cell_type": "markdown",
      "metadata": {
        "id": "-2jlxKh4TYNk"
      },
      "source": [
        "- In 2011, though youth literacy rate for Mali and Bangladesh vary by more than 30%, their GDP per capita are not very different. \n",
        "- In contrast, the youth literacy rate for Brazil and Singapore are very similar, their GDP per capita vary by more than $65,000. \n",
        "- Rather, Brazil and Bangladesh had less variance in GDP per capita than Bangladesh and Singapore did. \n",
        "\n",
        "- As of 2018, Singapore's GPD per capita have increase by $20,000. However, the youth literacy rate remained at 100%. This observation indicates that there is another indicator that may explain the increase in GDP per capita better than youth literacy rate. \n",
        "- Brazil's youth literacy rate and GDP per capita remain about the same from 2011 to 2018. Brazil's GDP per capita actually decreased slightly in 2018 compared to 2011 data. \n",
        "- Bangladesh's youth literacy rate improved the most between the four countries from 2011 to 2018. However, the country's GDP per capita did not increase as significantly with the improved youth literacy rate. \n",
        "- Mali's youth literacy rate increased by at least 10% from 2011 to 2018. However, the GDP per capita did not rise significantly with the youth literacy rate. \n",
        "- In 2018, Bangladesh's youth literacy rate has almost caught up to Brazil's youth literacy rate, but there is still remarkable difference in GDP per capita. "
      ]
    },
    {
      "cell_type": "markdown",
      "metadata": {
        "id": "uqOd7L6Kw73F"
      },
      "source": [
        "I wanted to explore whether other economic indicators will show opposing correlation than GDP per capita. \n",
        "\n",
        "**GNI Per Capita - General Trend**"
      ]
    },
    {
      "cell_type": "code",
      "metadata": {
        "colab": {
          "base_uri": "https://localhost:8080/",
          "height": 542
        },
        "id": "oLRj8uDsxdVb",
        "outputId": "d5353b73-1b2f-45b8-bf67-d16b4890ed50"
      },
      "source": [
        "# import youth literacy rate and GNI\n",
        " \n",
        "gni_df = pd.read_csv('gni_lit.csv')\n",
        "\n",
        "# drop unindentified column\n",
        "gni_df.drop(columns=['Unnamed: 0'], inplace= True)\n",
        "\n",
        "# plot scatterplot to display general trend of literacy rate per GNI per capita \n",
        "\n",
        "gni_fig = px.scatter(\n",
        "                x = gni_df['NY.GNP.PCAP.PP.CD'], \n",
        "                y = gni_df['SE.ADT.1524.LT.ZS'], \n",
        "                color = gni_df['Region'],\n",
        "                hover_name = gni_df['Country Name'],\n",
        "                title = 'GNI Per Capita vs Youth Literacy Rate',\n",
        "                labels = {\n",
        "                \"x\": \"GNI per capita, PPP (Current International $)\",\n",
        "                \"y\": \"Literacy Rate, Youth Total (%)\",\n",
        "                \"color\": \"Country\"\n",
        "                }\n",
        "                ) \n",
        "\n",
        "gni_fig.show()"
      ],
      "execution_count": 3,
      "outputs": [
        {
          "output_type": "display_data",
          "data": {
            "text/html": [
              "<html>\n",
              "<head><meta charset=\"utf-8\" /></head>\n",
              "<body>\n",
              "    <div>\n",
              "            <script src=\"https://cdnjs.cloudflare.com/ajax/libs/mathjax/2.7.5/MathJax.js?config=TeX-AMS-MML_SVG\"></script><script type=\"text/javascript\">if (window.MathJax) {MathJax.Hub.Config({SVG: {font: \"STIX-Web\"}});}</script>\n",
              "                <script type=\"text/javascript\">window.PlotlyConfig = {MathJaxConfig: 'local'};</script>\n",
              "        <script src=\"https://cdn.plot.ly/plotly-latest.min.js\"></script>    \n",
              "            <div id=\"2db80522-e57e-4124-909d-048ddb60963d\" class=\"plotly-graph-div\" style=\"height:525px; width:100%;\"></div>\n",
              "            <script type=\"text/javascript\">\n",
              "                \n",
              "                    window.PLOTLYENV=window.PLOTLYENV || {};\n",
              "                    \n",
              "                if (document.getElementById(\"2db80522-e57e-4124-909d-048ddb60963d\")) {\n",
              "                    Plotly.newPlot(\n",
              "                        '2db80522-e57e-4124-909d-048ddb60963d',\n",
              "                        [{\"hoverlabel\": {\"namelength\": 0}, \"hovertemplate\": \"<b>%{hovertext}</b><br><br>Country=South Asia<br>GNI per capita, PPP (Current International $)=%{x}<br>Literacy Rate, Youth Total (%)=%{y}\", \"hovertext\": [\"Afghanistan\", \"Afghanistan\", \"Bangladesh\", \"Bangladesh\", \"Bangladesh\", \"Bangladesh\", \"Bangladesh\", \"Bangladesh\", \"Bangladesh\", \"Bangladesh\", \"Bhutan\", \"Bhutan\", \"India\", \"India\", \"Maldives\", \"Maldives\", \"Nepal\", \"Nepal\", \"Pakistan\", \"Pakistan\", \"Pakistan\", \"Pakistan\", \"Pakistan\", \"Sri Lanka\", \"Sri Lanka\", \"Sri Lanka\"], \"legendgroup\": \"Country=South Asia\", \"marker\": {\"color\": \"#636efa\", \"symbol\": \"circle\"}, \"mode\": \"markers\", \"name\": \"Country=South Asia\", \"showlegend\": true, \"type\": \"scatter\", \"x\": [1700, 2100, 2830, 3190, 3400, 3590, 3790, 4070, 4340, 4760, 7280, 10170, 4450, 6580, 14460, 16000, 2010, 3360, 3940, 3960, 4040, 4170, 4500, 11900, 12250, 12820], \"xaxis\": \"x\", \"y\": [46.9900512695, 65.4205474854, 77.984992981, 77.8329086304, 85.5271530151, 85.5547332764, 87.88877105709999, 92.2426528931, 92.9507598877, 93.29644012450001, 86.0590133667, 93.0906295776, 86.14488220209999, 91.6640396118, 99.26837921139999, 98.75364685059999, 84.75714874270001, 92.3938064575, 70.7693328857, 72.5834197998, 71.63622283939999, 72.79540252689999, 74.5263824463, 98.6889877319, 98.85646057129999, 98.7819366455], \"yaxis\": \"y\"}, {\"hoverlabel\": {\"namelength\": 0}, \"hovertemplate\": \"<b>%{hovertext}</b><br><br>Country=Europe & Central Asia<br>GNI per capita, PPP (Current International $)=%{x}<br>Literacy Rate, Youth Total (%)=%{y}\", \"hovertext\": [\"Albania\", \"Albania\", \"Albania\", \"Armenia\", \"Armenia\", \"Azerbaijan\", \"Azerbaijan\", \"Azerbaijan\", \"Azerbaijan\", \"Azerbaijan\", \"Azerbaijan\", \"Azerbaijan\", \"Belarus\", \"Bosnia and Herzegovina\", \"Bosnia and Herzegovina\", \"Bulgaria\", \"Croatia\", \"Cyprus\", \"Czech Republic\", \"Estonia\", \"Georgia\", \"Georgia\", \"Greece\", \"Greece\", \"Hungary\", \"Italy\", \"Italy\", \"Kazakhstan\", \"Kyrgyz Republic\", \"Latvia\", \"Latvia\", \"Lithuania\", \"Moldova\", \"Moldova\", \"Montenegro\", \"Montenegro\", \"North Macedonia\", \"Portugal\", \"Portugal\", \"Romania\", \"Romania\", \"Russian Federation\", \"Serbia\", \"Serbia\", \"Slovenia\", \"Spain\", \"Spain\", \"Spain\", \"Spain\", \"Spain\", \"Spain\", \"Spain\", \"Tajikistan\", \"Turkey\", \"Turkey\", \"Turkey\", \"Turkey\", \"Turkey\", \"Turkey\", \"Turkey\", \"Turkmenistan\", \"Ukraine\", \"Uzbekistan\", \"Uzbekistan\", \"Uzbekistan\", \"Uzbekistan\", \"Uzbekistan\"], \"legendgroup\": \"Country=Europe & Central Asia\", \"marker\": {\"color\": \"#EF553B\", \"symbol\": \"circle\"}, \"mode\": \"markers\", \"name\": \"Country=Europe & Central Asia\", \"showlegend\": true, \"type\": \"scatter\", \"x\": [10210, 10450, 13960, 8310, 12540, 13710, 14980, 16230, 16850, 14370, 13430, 13510, 18650, 10060, 11160, 15170, 20130, 34190, 33660, 23530, 11420, 12920, 24960, 30250, 24540, 36510, 44960, 22950, 5100, 19860, 31250, 22220, 8050, 9590, 14590, 22490, 13120, 26340, 35150, 17670, 29620, 28040, 13450, 14990, 30590, 31310, 31470, 32220, 33400, 34900, 37380, 42080, 4090, 19630, 20620, 22240, 23880, 25460, 26230, 27650, 12280, 9190, 5970, 6250, 6450, 6530, 7130], \"xaxis\": \"x\", \"y\": [98.79119110110001, 99.2313995361, 99.3300018311, 99.84739685059999, 99.8470230103, 99.94409942629999, 99.9367523193, 99.95246887209998, 99.95699310299999, 99.94277954100001, 99.9404830933, 99.9380493164, 99.8499984741, 99.46231079100001, 99.66242980959998, 97.86505126950001, 99.7236328125, 99.82099151610001, 99.7858810425, 99.94889831540002, 99.70260620120001, 99.64080810549999, 98.81485748290001, 99.1600036621, 98.8000030518, 99.8596420288, 99.93000030520001, 99.89736175540001, 99.75, 99.8354263306, 99.81999969479999, 99.855796814, 99.45616149899999, 99.8110122681, 99.2118225098, 99.11000061040001, 98.5999984741, 99.4351196289, 99.6639175415, 98.99568939209999, 99.4291915894, 99.6984481812, 99.30869293209999, 99.7198181152, 99.8000030518, 99.69940185549999, 99.6727828979, 99.66925811770001, 99.72276306149999, 99.65567779540001, 99.6221618652, 99.7155532837, 99.9000015259, 98.7093505859, 99.01602172850001, 99.22743225100001, 99.3584823608, 99.494392395, 99.6213607788, 99.75086975100001, 99.8000030518, 99.9697570801, 100.0, 99.99996185299999, 99.99996185299999, 100.0, 99.9999389648], \"yaxis\": \"y\"}, {\"hoverlabel\": {\"namelength\": 0}, \"hovertemplate\": \"<b>%{hovertext}</b><br><br>Country=Middle East & North Africa<br>GNI per capita, PPP (Current International $)=%{x}<br>Literacy Rate, Youth Total (%)=%{y}\", \"hovertext\": [\"Algeria\", \"Bahrain\", \"Bahrain\", \"Bahrain\", \"Egypt, Arab Rep.\", \"Egypt, Arab Rep.\", \"Egypt, Arab Rep.\", \"Iran, Islamic Rep.\", \"Iran, Islamic Rep.\", \"Iran, Islamic Rep.\", \"Iran, Islamic Rep.\", \"Iraq\", \"Iraq\", \"Iraq\", \"Iraq\", \"Iraq\", \"Jordan\", \"Jordan\", \"Jordan\", \"Kuwait\", \"Kuwait\", \"Kuwait\", \"Kuwait\", \"Kuwait\", \"Lebanon\", \"Malta\", \"Malta\", \"Morocco\", \"Morocco\", \"Morocco\", \"Oman\", \"Oman\", \"Oman\", \"Oman\", \"Oman\", \"Qatar\", \"Qatar\", \"Qatar\", \"Qatar\", \"Qatar\", \"Qatar\", \"Saudi Arabia\", \"Saudi Arabia\", \"Tunisia\", \"Tunisia\", \"Tunisia\", \"United Arab Emirates\", \"West Bank and Gaza\", \"West Bank and Gaza\", \"West Bank and Gaza\", \"West Bank and Gaza\", \"West Bank and Gaza\", \"West Bank and Gaza\", \"West Bank and Gaza\"], \"legendgroup\": \"Country=Middle East & North Africa\", \"marker\": {\"color\": \"#00cc96\", \"symbol\": \"circle\"}, \"mode\": \"markers\", \"name\": \"Country=Middle East & North Africa\", \"showlegend\": true, \"type\": \"scatter\", \"x\": [11630, 42280, 45030, 44740, 10840, 10930, 10800, 16060, 15380, 15280, 14050, 15220, 15470, 14190, 9810, 10890, 9320, 9080, 10220, 87030, 84000, 52460, 58770, 58550, 15900, 28290, 42110, 6600, 6570, 7450, 36570, 30090, 28010, 27780, 27350, 128340, 132440, 131020, 123250, 82490, 91500, 56920, 48040, 9590, 9790, 10070, 65220, 4780, 5610, 5810, 6090, 6680, 7080, 7580], \"xaxis\": \"x\", \"y\": [97.42652130129999, 99.48030853270001, 99.5982208252, 99.68720245360001, 89.2819213867, 92.02342224120001, 88.19255828860001, 98.0143966675, 97.7772979736, 97.9378662109, 98.101348877, 83.5, 80.8000030518, 88.8000030518, 90.9000015259, 93.5, 99.14868164059999, 99.10572052, 99.3437423706, 98.7822570801, 99.1537475586, 99.25908660889999, 99.2435836792, 99.0801315308, 99.7518234253, 98.88194274899999, 99.3007125854, 81.5100708008, 91.22096252440001, 97.7300033569, 99.09432220459999, 99.1537322998, 98.70355987549999, 98.662437439, 98.6178283691, 94.60941314700001, 93.9443588257, 91.7935791016, 93.6445236206, 95.4636535645, 94.6441116333, 99.2217712402, 99.30187988280001, 97.30444335940001, 96.86499786379999, 96.2090988159, 99.43000030520001, 99.31231689450001, 99.2873306274, 99.3483276367, 99.3635101318, 99.3406066895, 99.3837127686, 99.33625030520001], \"yaxis\": \"y\"}, {\"hoverlabel\": {\"namelength\": 0}, \"hovertemplate\": \"<b>%{hovertext}</b><br><br>Country=Sub-Saharan Africa <br>GNI per capita, PPP (Current International $)=%{x}<br>Literacy Rate, Youth Total (%)=%{y}\", \"hovertext\": [\"Angola\", \"Benin\", \"Benin\", \"Botswana\", \"Burkina Faso\", \"Burkina Faso\", \"Burundi\", \"Burundi\", \"Cabo Verde\", \"Cabo Verde\", \"Cameroon\", \"Central African Republic\", \"Chad\", \"Chad\", \"Comoros\", \"Comoros\", \"Congo, Dem. Rep.\", \"Congo, Dem. Rep.\", \"Congo, Rep.\", \"Congo, Rep.\", \"Cote d'Ivoire\", \"Cote d'Ivoire\", \"Cote d'Ivoire\", \"Eswatini\", \"Ethiopia\", \"Gabon\", \"Gabon\", \"Gambia, The\", \"Gambia, The\", \"Ghana\", \"Guinea\", \"Guinea-Bissau\", \"Kenya\", \"Kenya\", \"Lesotho\", \"Liberia\", \"Madagascar\", \"Madagascar\", \"Malawi\", \"Malawi\", \"Mali\", \"Mali\", \"Mali\", \"Mauritania\", \"Mauritius\", \"Mauritius\", \"Mozambique\", \"Mozambique\", \"Namibia\", \"Namibia\", \"Niger\", \"Niger\", \"Nigeria\", \"Rwanda\", \"Rwanda\", \"Rwanda\", \"Sao Tome and Principe\", \"Sao Tome and Principe\", \"Senegal\", \"Senegal\", \"Senegal\", \"Seychelles\", \"Sierra Leone\", \"Sierra Leone\", \"South Africa\", \"South Africa\", \"South Africa\", \"South Africa\", \"South Africa\", \"Sudan\", \"Tanzania\", \"Tanzania\", \"Togo\", \"Togo\", \"Uganda\", \"Uganda\", \"Zambia\", \"Zimbabwe\", \"Zimbabwe\"], \"legendgroup\": \"Country=Sub-Saharan Africa \", \"marker\": {\"color\": \"#ab63fa\", \"symbol\": \"circle\"}, \"mode\": \"markers\", \"name\": \"Country=Sub-Saharan Africa \", \"showlegend\": true, \"type\": \"scatter\", \"x\": [7680, 2480, 3200, 14070, 1620, 2080, 780, 770, 5570, 5770, 3620, 1030, 1760, 1630, 2510, 3160, 630, 940, 4890, 3400, 2540, 3050, 4960, 8130, 2010, 13820, 14110, 2080, 2020, 5220, 1750, 1430, 2980, 4240, 3320, 1380, 1490, 1600, 1050, 980, 1760, 1990, 2270, 5000, 16340, 25470, 1270, 1250, 8590, 9860, 1200, 1280, 5040, 1470, 1670, 2070, 2900, 4090, 2640, 2700, 3110, 27330, 1740, 1580, 11860, 11730, 12190, 12240, 12320, 3950, 2070, 2300, 1280, 1440, 1970, 2110, 3550, 1800, 2360], \"xaxis\": \"x\", \"y\": [77.4311294556, 52.4924697876, 60.9480781555, 97.45629119870001, 50.0962982178, 58.2900009155, 79.5596084595, 88.2217712402, 98.1289672852, 98.11131286620001, 85.08000183109999, 38.2686500549, 38.7724189758, 30.7916107178, 71.58126831050001, 78.2703933716, 83.59754943850001, 84.9895095825, 80.9139480591, 82.0547866821, 48.3099594116, 53.020690918, 58.420150756800005, 95.469367981, 72.7548217773, 88.50414276120001, 89.78366088870001, 60.7779006958, 67.1613769531, 92.49096679690001, 46.295051574700004, 60.402351379399995, 86.52562713620001, 87.8300018311, 86.6322021484, 55.398700714099995, 76.8291625977, 81.1983718872, 76.0819091797, 72.9356079102, 42.0952796936, 49.3665313721, 50.1347007751, 63.9478111267, 98.1303482056, 99.04203033450001, 70.525100708, 70.91245269779999, 94.4194412231, 95.1649017334, 39.7877311707, 43.4599990845, 75.0287475586, 82.3307495117, 85.0662384033, 86.49276733399999, 96.73840332030001, 97.78254699709998, 65.7805099487, 56.9430084229, 69.47840881350001, 99.06999969479999, 57.022129058800004, 66.64859771729999, 98.78965759280001, 98.8820419312, 98.8822784424, 98.9557800293, 95.32382202149999, 73.0, 85.9400024414, 85.7551422119, 79.8859100342, 84.2901077271, 83.6588821411, 89.39630889889999, 92.0915679932, 90.93070220950001, 90.4281234741], \"yaxis\": \"y\"}, {\"hoverlabel\": {\"namelength\": 0}, \"hovertemplate\": \"<b>%{hovertext}</b><br><br>Country=Latin America & Caribbean <br>GNI per capita, PPP (Current International $)=%{x}<br>Literacy Rate, Youth Total (%)=%{y}\", \"hovertext\": [\"Argentina\", \"Argentina\", \"Argentina\", \"Argentina\", \"Argentina\", \"Argentina\", \"Argentina\", \"Barbados\", \"Bolivia\", \"Bolivia\", \"Bolivia\", \"Brazil\", \"Brazil\", \"Brazil\", \"Brazil\", \"Brazil\", \"Brazil\", \"Brazil\", \"Brazil\", \"Chile\", \"Chile\", \"Chile\", \"Chile\", \"Colombia\", \"Colombia\", \"Colombia\", \"Colombia\", \"Colombia\", \"Costa Rica\", \"Costa Rica\", \"Dominican Republic\", \"Dominican Republic\", \"Dominican Republic\", \"Dominican Republic\", \"Dominican Republic\", \"Dominican Republic\", \"Ecuador\", \"Ecuador\", \"Ecuador\", \"Ecuador\", \"Ecuador\", \"Ecuador\", \"Ecuador\", \"El Salvador\", \"El Salvador\", \"El Salvador\", \"El Salvador\", \"El Salvador\", \"El Salvador\", \"Grenada\", \"Guatemala\", \"Guatemala\", \"Guatemala\", \"Guyana\", \"Haiti\", \"Honduras\", \"Honduras\", \"Honduras\", \"Honduras\", \"Honduras\", \"Honduras\", \"Honduras\", \"Jamaica\", \"Mexico\", \"Mexico\", \"Mexico\", \"Mexico\", \"Mexico\", \"Mexico\", \"Mexico\", \"Mexico\", \"Nicaragua\", \"Panama\", \"Paraguay\", \"Paraguay\", \"Paraguay\", \"Paraguay\", \"Paraguay\", \"Paraguay\", \"Peru\", \"Peru\", \"Peru\", \"Peru\", \"Peru\", \"Peru\", \"Puerto Rico\", \"Suriname\", \"Suriname\", \"Uruguay\", \"Uruguay\", \"Uruguay\", \"Uruguay\", \"Uruguay\", \"Uruguay\", \"Uruguay\", \"Uruguay\", \"Venezuela, RB\"], \"legendgroup\": \"Country=Latin America & Caribbean \", \"marker\": {\"color\": \"#FFA15A\", \"symbol\": \"circle\"}, \"mode\": \"markers\", \"name\": \"Country=Latin America & Caribbean \", \"showlegend\": true, \"type\": \"scatter\", \"x\": [18770, 19150, 19650, 19250, 19700, 19860, 22480, 14540, 5240, 5570, 6890, 14650, 14670, 15370, 15430, 14470, 13950, 14250, 14530, 19110, 21300, 22010, 23530, 11110, 12910, 13080, 13710, 14670, 12930, 19270, 11410, 11430, 11890, 12820, 14130, 15420, 9700, 10160, 10990, 11540, 10870, 10830, 11360, 6270, 6570, 7240, 7620, 7980, 8330, 11860, 7170, 7270, 7560, 11020, 3040, 3710, 3760, 3840, 4090, 4490, 4790, 5350, 8360, 16260, 16830, 16870, 17610, 17830, 18810, 19270, 19800, 5090, 29400, 9590, 10640, 11010, 11040, 11550, 12720, 10090, 10990, 11180, 11520, 11930, 12450, 22940, 15170, 15120, 17390, 16880, 18110, 18820, 19310, 19650, 20060, 20590, 17080], \"xaxis\": \"x\", \"y\": [99.62824249270001, 99.37586975100001, 99.55132293700001, 99.2967071533, 99.5597000122, 99.5027084351, 99.5055236816, 99.9000015259, 99.007522583, 98.995880127, 99.39916992190001, 98.48692321780001, 98.61965942379999, 98.73667907709999, 98.84568786620001, 98.9637527466, 99.1109619141, 99.1554107666, 99.2041702271, 99.40818786620001, 99.0482788086, 99.3539428711, 99.0086593628, 98.23937988280001, 98.5409469604, 98.5347290039, 98.6683120728, 98.8516464233, 99.1336975098, 99.43000030520001, 97.0420532227, 97.02388763430001, 97.4724273682, 97.6885299683, 97.6140594482, 98.83940887450001, 98.6948394775, 98.83162689209999, 98.604637146, 99.0977706909, 99.1261978149, 99.0571136475, 99.2550506592, 96.5450897217, 97.2241897583, 97.9493331909, 98.0085906982, 97.98045349120001, 97.9737167358, 99.1999969482, 93.6534729004, 91.8519210815, 94.35424804690001, 96.689666748, 82.99424743649999, 95.9250030518, 94.9809494019, 95.0664901733, 95.67707061770001, 96.0075073242, 96.1265411377, 96.515838623, 96.3000030518, 98.461769104, 98.8754196167, 98.5644989014, 99.00003814700001, 98.9447097778, 99.1162033081, 99.12468719479999, 99.3184509277, 91.5717773438, 99.09909057620001, 98.17791748049999, 98.8991317749, 98.7137985229, 98.6536026001, 98.45059967040001, 98.2815170288, 98.6981582642, 98.9775314331, 99.0095367432, 98.88349151610001, 99.0574798584, 99.02375793459998, 92.38983154299999, 97.6679000854, 98.6455612183, 98.8622207642, 98.95525360110001, 98.9297637939, 98.8388900757, 98.9275970459, 99.1524734497, 98.93260192870001, 98.8802719116, 97.5591583252], \"yaxis\": \"y\"}, {\"hoverlabel\": {\"namelength\": 0}, \"hovertemplate\": \"<b>%{hovertext}</b><br><br>Country=East Asia & Pacific<br>GNI per capita, PPP (Current International $)=%{x}<br>Literacy Rate, Youth Total (%)=%{y}\", \"hovertext\": [\"Brunei Darussalam\", \"Brunei Darussalam\", \"Cambodia\", \"Cambodia\", \"China\", \"Fiji\", \"Indonesia\", \"Indonesia\", \"Indonesia\", \"Indonesia\", \"Indonesia\", \"Lao PDR\", \"Lao PDR\", \"Macao SAR, China\", \"Macao SAR, China\", \"Malaysia\", \"Malaysia\", \"Malaysia\", \"Mongolia\", \"Myanmar\", \"Philippines\", \"Philippines\", \"Samoa\", \"Samoa\", \"Singapore\", \"Singapore\", \"Singapore\", \"Singapore\", \"Singapore\", \"Singapore\", \"Singapore\", \"Singapore\", \"Thailand\", \"Thailand\", \"Thailand\", \"Timor-Leste\", \"Tonga\", \"Tonga\", \"Vanuatu\", \"Vanuatu\", \"Vietnam\"], \"legendgroup\": \"Country=East Asia & Pacific\", \"marker\": {\"color\": \"#19d3f3\", \"symbol\": \"circle\"}, \"mode\": \"markers\", \"name\": \"Country=East Asia & Pacific\", \"showlegend\": true, \"type\": \"scatter\", \"x\": [81680, 62240, 3020, 3180, 15530, 12370, 8840, 9930, 9910, 10160, 11310, 3870, 5890, 104120, 107330, 24840, 25910, 27350, 10950, 4370, 7390, 8010, 5440, 6240, 77300, 78420, 78530, 81490, 81040, 83730, 87740, 90510, 14420, 15010, 17630, 4490, 5190, 6970, 3010, 3230, 7290], \"xaxis\": \"x\", \"y\": [99.3667678833, 99.7089385986, 90.1418685913, 92.2123565674, 99.78359985350001, 99.7443389893, 98.77799987790002, 99.6802215576, 99.6700668335, 99.6688079834, 99.7070770264, 72.0562286377, 92.462638855, 99.6728973389, 99.7987365723, 97.6144714355, 97.27256011959999, 96.85032653809999, 98.6299972534, 84.751159668, 98.1083526611, 99.08260345459999, 99.2356567383, 99.12348175049999, 99.8871994019, 99.8949432373, 99.89861297610001, 99.9004669189, 99.78489685059999, 99.92658233639999, 99.9304428101, 99.9296264648, 98.31388092040001, 98.1466293335, 98.13716888430001, 83.5390319824, 99.4370269775, 99.441116333, 95.3000030518, 96.28211975100001, 98.40809631350001], \"yaxis\": \"y\"}],\n",
              "                        {\"legend\": {\"tracegroupgap\": 0}, \"template\": {\"data\": {\"bar\": [{\"error_x\": {\"color\": \"#2a3f5f\"}, \"error_y\": {\"color\": \"#2a3f5f\"}, \"marker\": {\"line\": {\"color\": \"#E5ECF6\", \"width\": 0.5}}, \"type\": \"bar\"}], \"barpolar\": [{\"marker\": {\"line\": {\"color\": \"#E5ECF6\", \"width\": 0.5}}, \"type\": \"barpolar\"}], \"carpet\": [{\"aaxis\": {\"endlinecolor\": \"#2a3f5f\", \"gridcolor\": \"white\", \"linecolor\": \"white\", \"minorgridcolor\": \"white\", \"startlinecolor\": \"#2a3f5f\"}, \"baxis\": {\"endlinecolor\": \"#2a3f5f\", \"gridcolor\": \"white\", \"linecolor\": \"white\", \"minorgridcolor\": \"white\", \"startlinecolor\": \"#2a3f5f\"}, \"type\": \"carpet\"}], \"choropleth\": [{\"colorbar\": {\"outlinewidth\": 0, \"ticks\": \"\"}, \"type\": \"choropleth\"}], \"contour\": [{\"colorbar\": {\"outlinewidth\": 0, \"ticks\": \"\"}, \"colorscale\": [[0.0, \"#0d0887\"], [0.1111111111111111, \"#46039f\"], [0.2222222222222222, \"#7201a8\"], [0.3333333333333333, \"#9c179e\"], [0.4444444444444444, \"#bd3786\"], [0.5555555555555556, \"#d8576b\"], [0.6666666666666666, \"#ed7953\"], [0.7777777777777778, \"#fb9f3a\"], [0.8888888888888888, \"#fdca26\"], [1.0, \"#f0f921\"]], \"type\": \"contour\"}], \"contourcarpet\": [{\"colorbar\": {\"outlinewidth\": 0, \"ticks\": \"\"}, \"type\": \"contourcarpet\"}], \"heatmap\": [{\"colorbar\": {\"outlinewidth\": 0, \"ticks\": \"\"}, \"colorscale\": [[0.0, \"#0d0887\"], [0.1111111111111111, \"#46039f\"], [0.2222222222222222, \"#7201a8\"], [0.3333333333333333, \"#9c179e\"], [0.4444444444444444, \"#bd3786\"], [0.5555555555555556, \"#d8576b\"], [0.6666666666666666, \"#ed7953\"], [0.7777777777777778, \"#fb9f3a\"], [0.8888888888888888, \"#fdca26\"], [1.0, \"#f0f921\"]], \"type\": \"heatmap\"}], \"heatmapgl\": [{\"colorbar\": {\"outlinewidth\": 0, \"ticks\": \"\"}, \"colorscale\": [[0.0, \"#0d0887\"], [0.1111111111111111, \"#46039f\"], [0.2222222222222222, \"#7201a8\"], [0.3333333333333333, \"#9c179e\"], [0.4444444444444444, \"#bd3786\"], [0.5555555555555556, \"#d8576b\"], [0.6666666666666666, \"#ed7953\"], [0.7777777777777778, \"#fb9f3a\"], [0.8888888888888888, \"#fdca26\"], [1.0, \"#f0f921\"]], \"type\": \"heatmapgl\"}], \"histogram\": [{\"marker\": {\"colorbar\": {\"outlinewidth\": 0, \"ticks\": \"\"}}, \"type\": \"histogram\"}], \"histogram2d\": [{\"colorbar\": {\"outlinewidth\": 0, \"ticks\": \"\"}, \"colorscale\": [[0.0, \"#0d0887\"], [0.1111111111111111, \"#46039f\"], [0.2222222222222222, \"#7201a8\"], [0.3333333333333333, \"#9c179e\"], [0.4444444444444444, \"#bd3786\"], [0.5555555555555556, \"#d8576b\"], [0.6666666666666666, \"#ed7953\"], [0.7777777777777778, \"#fb9f3a\"], [0.8888888888888888, \"#fdca26\"], [1.0, \"#f0f921\"]], \"type\": \"histogram2d\"}], \"histogram2dcontour\": [{\"colorbar\": {\"outlinewidth\": 0, \"ticks\": \"\"}, \"colorscale\": [[0.0, \"#0d0887\"], [0.1111111111111111, \"#46039f\"], [0.2222222222222222, \"#7201a8\"], [0.3333333333333333, \"#9c179e\"], [0.4444444444444444, \"#bd3786\"], [0.5555555555555556, \"#d8576b\"], [0.6666666666666666, \"#ed7953\"], [0.7777777777777778, \"#fb9f3a\"], [0.8888888888888888, \"#fdca26\"], [1.0, \"#f0f921\"]], \"type\": \"histogram2dcontour\"}], \"mesh3d\": [{\"colorbar\": {\"outlinewidth\": 0, \"ticks\": \"\"}, \"type\": \"mesh3d\"}], \"parcoords\": [{\"line\": {\"colorbar\": {\"outlinewidth\": 0, \"ticks\": \"\"}}, \"type\": \"parcoords\"}], \"pie\": [{\"automargin\": true, \"type\": \"pie\"}], \"scatter\": [{\"marker\": {\"colorbar\": {\"outlinewidth\": 0, \"ticks\": \"\"}}, \"type\": \"scatter\"}], \"scatter3d\": [{\"line\": {\"colorbar\": {\"outlinewidth\": 0, \"ticks\": \"\"}}, \"marker\": {\"colorbar\": {\"outlinewidth\": 0, \"ticks\": \"\"}}, \"type\": \"scatter3d\"}], \"scattercarpet\": [{\"marker\": {\"colorbar\": {\"outlinewidth\": 0, \"ticks\": \"\"}}, \"type\": \"scattercarpet\"}], \"scattergeo\": [{\"marker\": {\"colorbar\": {\"outlinewidth\": 0, \"ticks\": \"\"}}, \"type\": \"scattergeo\"}], \"scattergl\": [{\"marker\": {\"colorbar\": {\"outlinewidth\": 0, \"ticks\": \"\"}}, \"type\": \"scattergl\"}], \"scattermapbox\": [{\"marker\": {\"colorbar\": {\"outlinewidth\": 0, \"ticks\": \"\"}}, \"type\": \"scattermapbox\"}], \"scatterpolar\": [{\"marker\": {\"colorbar\": {\"outlinewidth\": 0, \"ticks\": \"\"}}, \"type\": \"scatterpolar\"}], \"scatterpolargl\": [{\"marker\": {\"colorbar\": {\"outlinewidth\": 0, \"ticks\": \"\"}}, \"type\": \"scatterpolargl\"}], \"scatterternary\": [{\"marker\": {\"colorbar\": {\"outlinewidth\": 0, \"ticks\": \"\"}}, \"type\": \"scatterternary\"}], \"surface\": [{\"colorbar\": {\"outlinewidth\": 0, \"ticks\": \"\"}, \"colorscale\": [[0.0, \"#0d0887\"], [0.1111111111111111, \"#46039f\"], [0.2222222222222222, \"#7201a8\"], [0.3333333333333333, \"#9c179e\"], [0.4444444444444444, \"#bd3786\"], [0.5555555555555556, \"#d8576b\"], [0.6666666666666666, \"#ed7953\"], [0.7777777777777778, \"#fb9f3a\"], [0.8888888888888888, \"#fdca26\"], [1.0, \"#f0f921\"]], \"type\": \"surface\"}], \"table\": [{\"cells\": {\"fill\": {\"color\": \"#EBF0F8\"}, \"line\": {\"color\": \"white\"}}, \"header\": {\"fill\": {\"color\": \"#C8D4E3\"}, \"line\": {\"color\": \"white\"}}, \"type\": \"table\"}]}, \"layout\": {\"annotationdefaults\": {\"arrowcolor\": \"#2a3f5f\", \"arrowhead\": 0, \"arrowwidth\": 1}, \"coloraxis\": {\"colorbar\": {\"outlinewidth\": 0, \"ticks\": \"\"}}, \"colorscale\": {\"diverging\": [[0, \"#8e0152\"], [0.1, \"#c51b7d\"], [0.2, \"#de77ae\"], [0.3, \"#f1b6da\"], [0.4, \"#fde0ef\"], [0.5, \"#f7f7f7\"], [0.6, \"#e6f5d0\"], [0.7, \"#b8e186\"], [0.8, \"#7fbc41\"], [0.9, \"#4d9221\"], [1, \"#276419\"]], \"sequential\": [[0.0, \"#0d0887\"], [0.1111111111111111, \"#46039f\"], [0.2222222222222222, \"#7201a8\"], [0.3333333333333333, \"#9c179e\"], [0.4444444444444444, \"#bd3786\"], [0.5555555555555556, \"#d8576b\"], [0.6666666666666666, \"#ed7953\"], [0.7777777777777778, \"#fb9f3a\"], [0.8888888888888888, \"#fdca26\"], [1.0, \"#f0f921\"]], \"sequentialminus\": [[0.0, \"#0d0887\"], [0.1111111111111111, \"#46039f\"], [0.2222222222222222, \"#7201a8\"], [0.3333333333333333, \"#9c179e\"], [0.4444444444444444, \"#bd3786\"], [0.5555555555555556, \"#d8576b\"], [0.6666666666666666, \"#ed7953\"], [0.7777777777777778, \"#fb9f3a\"], [0.8888888888888888, \"#fdca26\"], [1.0, \"#f0f921\"]]}, \"colorway\": [\"#636efa\", \"#EF553B\", \"#00cc96\", \"#ab63fa\", \"#FFA15A\", \"#19d3f3\", \"#FF6692\", \"#B6E880\", \"#FF97FF\", \"#FECB52\"], \"font\": {\"color\": \"#2a3f5f\"}, \"geo\": {\"bgcolor\": \"white\", \"lakecolor\": \"white\", \"landcolor\": \"#E5ECF6\", \"showlakes\": true, \"showland\": true, \"subunitcolor\": \"white\"}, \"hoverlabel\": {\"align\": \"left\"}, \"hovermode\": \"closest\", \"mapbox\": {\"style\": \"light\"}, \"paper_bgcolor\": \"white\", \"plot_bgcolor\": \"#E5ECF6\", \"polar\": {\"angularaxis\": {\"gridcolor\": \"white\", \"linecolor\": \"white\", \"ticks\": \"\"}, \"bgcolor\": \"#E5ECF6\", \"radialaxis\": {\"gridcolor\": \"white\", \"linecolor\": \"white\", \"ticks\": \"\"}}, \"scene\": {\"xaxis\": {\"backgroundcolor\": \"#E5ECF6\", \"gridcolor\": \"white\", \"gridwidth\": 2, \"linecolor\": \"white\", \"showbackground\": true, \"ticks\": \"\", \"zerolinecolor\": \"white\"}, \"yaxis\": {\"backgroundcolor\": \"#E5ECF6\", \"gridcolor\": \"white\", \"gridwidth\": 2, \"linecolor\": \"white\", \"showbackground\": true, \"ticks\": \"\", \"zerolinecolor\": \"white\"}, \"zaxis\": {\"backgroundcolor\": \"#E5ECF6\", \"gridcolor\": \"white\", \"gridwidth\": 2, \"linecolor\": \"white\", \"showbackground\": true, \"ticks\": \"\", \"zerolinecolor\": \"white\"}}, \"shapedefaults\": {\"line\": {\"color\": \"#2a3f5f\"}}, \"ternary\": {\"aaxis\": {\"gridcolor\": \"white\", \"linecolor\": \"white\", \"ticks\": \"\"}, \"baxis\": {\"gridcolor\": \"white\", \"linecolor\": \"white\", \"ticks\": \"\"}, \"bgcolor\": \"#E5ECF6\", \"caxis\": {\"gridcolor\": \"white\", \"linecolor\": \"white\", \"ticks\": \"\"}}, \"title\": {\"x\": 0.05}, \"xaxis\": {\"automargin\": true, \"gridcolor\": \"white\", \"linecolor\": \"white\", \"ticks\": \"\", \"title\": {\"standoff\": 15}, \"zerolinecolor\": \"white\", \"zerolinewidth\": 2}, \"yaxis\": {\"automargin\": true, \"gridcolor\": \"white\", \"linecolor\": \"white\", \"ticks\": \"\", \"title\": {\"standoff\": 15}, \"zerolinecolor\": \"white\", \"zerolinewidth\": 2}}}, \"title\": {\"text\": \"GNI Per Capita vs Youth Literacy Rate\"}, \"xaxis\": {\"anchor\": \"y\", \"domain\": [0.0, 1.0], \"title\": {\"text\": \"GNI per capita, PPP (Current International $)\"}}, \"yaxis\": {\"anchor\": \"x\", \"domain\": [0.0, 1.0], \"title\": {\"text\": \"Literacy Rate, Youth Total (%)\"}}},\n",
              "                        {\"responsive\": true}\n",
              "                    ).then(function(){\n",
              "                            \n",
              "var gd = document.getElementById('2db80522-e57e-4124-909d-048ddb60963d');\n",
              "var x = new MutationObserver(function (mutations, observer) {{\n",
              "        var display = window.getComputedStyle(gd).display;\n",
              "        if (!display || display === 'none') {{\n",
              "            console.log([gd, 'removed!']);\n",
              "            Plotly.purge(gd);\n",
              "            observer.disconnect();\n",
              "        }}\n",
              "}});\n",
              "\n",
              "// Listen for the removal of the full notebook cells\n",
              "var notebookContainer = gd.closest('#notebook-container');\n",
              "if (notebookContainer) {{\n",
              "    x.observe(notebookContainer, {childList: true});\n",
              "}}\n",
              "\n",
              "// Listen for the clearing of the current output cell\n",
              "var outputEl = gd.closest('.output');\n",
              "if (outputEl) {{\n",
              "    x.observe(outputEl, {childList: true});\n",
              "}}\n",
              "\n",
              "                        })\n",
              "                };\n",
              "                \n",
              "            </script>\n",
              "        </div>\n",
              "</body>\n",
              "</html>"
            ]
          },
          "metadata": {
            "tags": []
          }
        }
      ]
    },
    {
      "cell_type": "markdown",
      "metadata": {
        "id": "NOJimvLfxsrQ"
      },
      "source": [
        "The general trend between GNI per capita and the youth literacy rate is similar to the general trend between GDP per capita and youth literacy rate. However, analysis of subset countries show a different relationship."
      ]
    },
    {
      "cell_type": "code",
      "metadata": {
        "colab": {
          "base_uri": "https://localhost:8080/",
          "height": 542
        },
        "id": "OqRvl4_gzQ1b",
        "outputId": "9a87f3d3-36f3-4c0f-f8cd-ee045e3939bb"
      },
      "source": [
        "# create subset of data with specific countries \n",
        "\n",
        "gni_co = gni_df[gni_df['Country Name'].isin(country_list)]\n",
        "\n",
        "# Countries comparison between GNI per capita and youth literacy rate \n",
        "\n",
        "fig4 = px.line(\n",
        "              gni_co,\n",
        "              x = gni_co['Year'],\n",
        "              y = gni_co['NY.GNP.PCAP.PP.CD'],\n",
        "              color = gni_co['Country Name']\n",
        "              )\n",
        "\n",
        "fig5 = px.line(gni_co, \n",
        "               x='Year', \n",
        "               y=gni_co['SE.ADT.1524.LT.ZS'],\n",
        "               color = gni_co['Country Name']\n",
        "               )\n",
        "\n",
        "fig6 = make_subplots(rows=1, cols=2,\n",
        "                    subplot_titles=(\"GNI Per Capita ($) over time (2011-2018)\", \"Literacy Rate (%) over time (2011-2018)\"), x_title = 'Years')\n",
        "\n",
        "fig6.add_trace(fig4['data'][0], row=1, col=1)\n",
        "fig6.add_trace(fig4['data'][1], row=1, col=1)\n",
        "fig6.add_trace(fig4['data'][2], row=1, col=1)\n",
        "fig6.add_trace(fig4['data'][3], row=1, col=1)\n",
        "fig6.add_trace(fig5['data'][0], row=1, col=2)\n",
        "fig6.add_trace(fig5['data'][1], row=1, col=2)\n",
        "fig6.add_trace(fig5['data'][2], row=1, col=2)\n",
        "fig6.add_trace(fig5['data'][3], row=1, col=2)\n",
        "\n",
        "fig6.update_layout(\n",
        "    showlegend=True)\n",
        "fig6.show()"
      ],
      "execution_count": 4,
      "outputs": [
        {
          "output_type": "display_data",
          "data": {
            "text/html": [
              "<html>\n",
              "<head><meta charset=\"utf-8\" /></head>\n",
              "<body>\n",
              "    <div>\n",
              "            <script src=\"https://cdnjs.cloudflare.com/ajax/libs/mathjax/2.7.5/MathJax.js?config=TeX-AMS-MML_SVG\"></script><script type=\"text/javascript\">if (window.MathJax) {MathJax.Hub.Config({SVG: {font: \"STIX-Web\"}});}</script>\n",
              "                <script type=\"text/javascript\">window.PlotlyConfig = {MathJaxConfig: 'local'};</script>\n",
              "        <script src=\"https://cdn.plot.ly/plotly-latest.min.js\"></script>    \n",
              "            <div id=\"c95642d2-85db-4ab3-9e8d-cf78994231a7\" class=\"plotly-graph-div\" style=\"height:525px; width:100%;\"></div>\n",
              "            <script type=\"text/javascript\">\n",
              "                \n",
              "                    window.PLOTLYENV=window.PLOTLYENV || {};\n",
              "                    \n",
              "                if (document.getElementById(\"c95642d2-85db-4ab3-9e8d-cf78994231a7\")) {\n",
              "                    Plotly.newPlot(\n",
              "                        'c95642d2-85db-4ab3-9e8d-cf78994231a7',\n",
              "                        [{\"hoverlabel\": {\"namelength\": 0}, \"hovertemplate\": \"Country Name=Bangladesh<br>Year=%{x}<br>NY.GNP.PCAP.PP.CD=%{y}\", \"legendgroup\": \"Country Name=Bangladesh\", \"line\": {\"color\": \"#636efa\", \"dash\": \"solid\"}, \"mode\": \"lines\", \"name\": \"Country Name=Bangladesh\", \"showlegend\": true, \"type\": \"scatter\", \"x\": [2011, 2012, 2013, 2014, 2015, 2016, 2017, 2018], \"xaxis\": \"x\", \"y\": [2830, 3190, 3400, 3590, 3790, 4070, 4340, 4760], \"yaxis\": \"y\"}, {\"hoverlabel\": {\"namelength\": 0}, \"hovertemplate\": \"Country Name=Brazil<br>Year=%{x}<br>NY.GNP.PCAP.PP.CD=%{y}\", \"legendgroup\": \"Country Name=Brazil\", \"line\": {\"color\": \"#EF553B\", \"dash\": \"solid\"}, \"mode\": \"lines\", \"name\": \"Country Name=Brazil\", \"showlegend\": true, \"type\": \"scatter\", \"x\": [2011, 2012, 2013, 2014, 2015, 2016, 2017, 2018], \"xaxis\": \"x\", \"y\": [14650, 14670, 15370, 15430, 14470, 13950, 14250, 14530], \"yaxis\": \"y\"}, {\"hoverlabel\": {\"namelength\": 0}, \"hovertemplate\": \"Country Name=Mali<br>Year=%{x}<br>NY.GNP.PCAP.PP.CD=%{y}\", \"legendgroup\": \"Country Name=Mali\", \"line\": {\"color\": \"#00cc96\", \"dash\": \"solid\"}, \"mode\": \"lines\", \"name\": \"Country Name=Mali\", \"showlegend\": true, \"type\": \"scatter\", \"x\": [2011, 2015, 2018], \"xaxis\": \"x\", \"y\": [1760, 1990, 2270], \"yaxis\": \"y\"}, {\"hoverlabel\": {\"namelength\": 0}, \"hovertemplate\": \"Country Name=Singapore<br>Year=%{x}<br>NY.GNP.PCAP.PP.CD=%{y}\", \"legendgroup\": \"Country Name=Singapore\", \"line\": {\"color\": \"#ab63fa\", \"dash\": \"solid\"}, \"mode\": \"lines\", \"name\": \"Country Name=Singapore\", \"showlegend\": true, \"type\": \"scatter\", \"x\": [2011, 2012, 2013, 2014, 2015, 2016, 2017, 2018], \"xaxis\": \"x\", \"y\": [77300, 78420, 78530, 81490, 81040, 83730, 87740, 90510], \"yaxis\": \"y\"}, {\"hoverlabel\": {\"namelength\": 0}, \"hovertemplate\": \"Country Name=Bangladesh<br>Year=%{x}<br>SE.ADT.1524.LT.ZS=%{y}\", \"legendgroup\": \"Country Name=Bangladesh\", \"line\": {\"color\": \"#636efa\", \"dash\": \"solid\"}, \"mode\": \"lines\", \"name\": \"Country Name=Bangladesh\", \"showlegend\": true, \"type\": \"scatter\", \"x\": [2011, 2012, 2013, 2014, 2015, 2016, 2017, 2018], \"xaxis\": \"x2\", \"y\": [77.984992981, 77.8329086304, 85.5271530151, 85.5547332764, 87.88877105709999, 92.2426528931, 92.9507598877, 93.29644012450001], \"yaxis\": \"y2\"}, {\"hoverlabel\": {\"namelength\": 0}, \"hovertemplate\": \"Country Name=Brazil<br>Year=%{x}<br>SE.ADT.1524.LT.ZS=%{y}\", \"legendgroup\": \"Country Name=Brazil\", \"line\": {\"color\": \"#EF553B\", \"dash\": \"solid\"}, \"mode\": \"lines\", \"name\": \"Country Name=Brazil\", \"showlegend\": true, \"type\": \"scatter\", \"x\": [2011, 2012, 2013, 2014, 2015, 2016, 2017, 2018], \"xaxis\": \"x2\", \"y\": [98.48692321780001, 98.61965942379999, 98.73667907709999, 98.84568786620001, 98.9637527466, 99.1109619141, 99.1554107666, 99.2041702271], \"yaxis\": \"y2\"}, {\"hoverlabel\": {\"namelength\": 0}, \"hovertemplate\": \"Country Name=Mali<br>Year=%{x}<br>SE.ADT.1524.LT.ZS=%{y}\", \"legendgroup\": \"Country Name=Mali\", \"line\": {\"color\": \"#00cc96\", \"dash\": \"solid\"}, \"mode\": \"lines\", \"name\": \"Country Name=Mali\", \"showlegend\": true, \"type\": \"scatter\", \"x\": [2011, 2015, 2018], \"xaxis\": \"x2\", \"y\": [42.0952796936, 49.3665313721, 50.1347007751], \"yaxis\": \"y2\"}, {\"hoverlabel\": {\"namelength\": 0}, \"hovertemplate\": \"Country Name=Singapore<br>Year=%{x}<br>SE.ADT.1524.LT.ZS=%{y}\", \"legendgroup\": \"Country Name=Singapore\", \"line\": {\"color\": \"#ab63fa\", \"dash\": \"solid\"}, \"mode\": \"lines\", \"name\": \"Country Name=Singapore\", \"showlegend\": true, \"type\": \"scatter\", \"x\": [2011, 2012, 2013, 2014, 2015, 2016, 2017, 2018], \"xaxis\": \"x2\", \"y\": [99.8871994019, 99.8949432373, 99.89861297610001, 99.9004669189, 99.78489685059999, 99.92658233639999, 99.9304428101, 99.9296264648], \"yaxis\": \"y2\"}],\n",
              "                        {\"annotations\": [{\"font\": {\"size\": 16}, \"showarrow\": false, \"text\": \"GNI Per Capita ($) over time (2011-2018)\", \"x\": 0.225, \"xanchor\": \"center\", \"xref\": \"paper\", \"y\": 1.0, \"yanchor\": \"bottom\", \"yref\": \"paper\"}, {\"font\": {\"size\": 16}, \"showarrow\": false, \"text\": \"Literacy Rate (%) over time (2011-2018)\", \"x\": 0.775, \"xanchor\": \"center\", \"xref\": \"paper\", \"y\": 1.0, \"yanchor\": \"bottom\", \"yref\": \"paper\"}, {\"font\": {\"size\": 16}, \"showarrow\": false, \"text\": \"Years\", \"x\": 0.5, \"xanchor\": \"center\", \"xref\": \"paper\", \"y\": 0, \"yanchor\": \"top\", \"yref\": \"paper\", \"yshift\": -30}], \"showlegend\": true, \"template\": {\"data\": {\"bar\": [{\"error_x\": {\"color\": \"#2a3f5f\"}, \"error_y\": {\"color\": \"#2a3f5f\"}, \"marker\": {\"line\": {\"color\": \"#E5ECF6\", \"width\": 0.5}}, \"type\": \"bar\"}], \"barpolar\": [{\"marker\": {\"line\": {\"color\": \"#E5ECF6\", \"width\": 0.5}}, \"type\": \"barpolar\"}], \"carpet\": [{\"aaxis\": {\"endlinecolor\": \"#2a3f5f\", \"gridcolor\": \"white\", \"linecolor\": \"white\", \"minorgridcolor\": \"white\", \"startlinecolor\": \"#2a3f5f\"}, \"baxis\": {\"endlinecolor\": \"#2a3f5f\", \"gridcolor\": \"white\", \"linecolor\": \"white\", \"minorgridcolor\": \"white\", \"startlinecolor\": \"#2a3f5f\"}, \"type\": \"carpet\"}], \"choropleth\": [{\"colorbar\": {\"outlinewidth\": 0, \"ticks\": \"\"}, \"type\": \"choropleth\"}], \"contour\": [{\"colorbar\": {\"outlinewidth\": 0, \"ticks\": \"\"}, \"colorscale\": [[0.0, \"#0d0887\"], [0.1111111111111111, \"#46039f\"], [0.2222222222222222, \"#7201a8\"], [0.3333333333333333, \"#9c179e\"], [0.4444444444444444, \"#bd3786\"], [0.5555555555555556, \"#d8576b\"], [0.6666666666666666, \"#ed7953\"], [0.7777777777777778, \"#fb9f3a\"], [0.8888888888888888, \"#fdca26\"], [1.0, \"#f0f921\"]], \"type\": \"contour\"}], \"contourcarpet\": [{\"colorbar\": {\"outlinewidth\": 0, \"ticks\": \"\"}, \"type\": \"contourcarpet\"}], \"heatmap\": [{\"colorbar\": {\"outlinewidth\": 0, \"ticks\": \"\"}, \"colorscale\": [[0.0, \"#0d0887\"], [0.1111111111111111, \"#46039f\"], [0.2222222222222222, \"#7201a8\"], [0.3333333333333333, \"#9c179e\"], [0.4444444444444444, \"#bd3786\"], [0.5555555555555556, \"#d8576b\"], [0.6666666666666666, \"#ed7953\"], [0.7777777777777778, \"#fb9f3a\"], [0.8888888888888888, \"#fdca26\"], [1.0, \"#f0f921\"]], \"type\": \"heatmap\"}], \"heatmapgl\": [{\"colorbar\": {\"outlinewidth\": 0, \"ticks\": \"\"}, \"colorscale\": [[0.0, \"#0d0887\"], [0.1111111111111111, \"#46039f\"], [0.2222222222222222, \"#7201a8\"], [0.3333333333333333, \"#9c179e\"], [0.4444444444444444, \"#bd3786\"], [0.5555555555555556, \"#d8576b\"], [0.6666666666666666, \"#ed7953\"], [0.7777777777777778, \"#fb9f3a\"], [0.8888888888888888, \"#fdca26\"], [1.0, \"#f0f921\"]], \"type\": \"heatmapgl\"}], \"histogram\": [{\"marker\": {\"colorbar\": {\"outlinewidth\": 0, \"ticks\": \"\"}}, \"type\": \"histogram\"}], \"histogram2d\": [{\"colorbar\": {\"outlinewidth\": 0, \"ticks\": \"\"}, \"colorscale\": [[0.0, \"#0d0887\"], [0.1111111111111111, \"#46039f\"], [0.2222222222222222, \"#7201a8\"], [0.3333333333333333, \"#9c179e\"], [0.4444444444444444, \"#bd3786\"], [0.5555555555555556, \"#d8576b\"], [0.6666666666666666, \"#ed7953\"], [0.7777777777777778, \"#fb9f3a\"], [0.8888888888888888, \"#fdca26\"], [1.0, \"#f0f921\"]], \"type\": \"histogram2d\"}], \"histogram2dcontour\": [{\"colorbar\": {\"outlinewidth\": 0, \"ticks\": \"\"}, \"colorscale\": [[0.0, \"#0d0887\"], [0.1111111111111111, \"#46039f\"], [0.2222222222222222, \"#7201a8\"], [0.3333333333333333, \"#9c179e\"], [0.4444444444444444, \"#bd3786\"], [0.5555555555555556, \"#d8576b\"], [0.6666666666666666, \"#ed7953\"], [0.7777777777777778, \"#fb9f3a\"], [0.8888888888888888, \"#fdca26\"], [1.0, \"#f0f921\"]], \"type\": \"histogram2dcontour\"}], \"mesh3d\": [{\"colorbar\": {\"outlinewidth\": 0, \"ticks\": \"\"}, \"type\": \"mesh3d\"}], \"parcoords\": [{\"line\": {\"colorbar\": {\"outlinewidth\": 0, \"ticks\": \"\"}}, \"type\": \"parcoords\"}], \"pie\": [{\"automargin\": true, \"type\": \"pie\"}], \"scatter\": [{\"marker\": {\"colorbar\": {\"outlinewidth\": 0, \"ticks\": \"\"}}, \"type\": \"scatter\"}], \"scatter3d\": [{\"line\": {\"colorbar\": {\"outlinewidth\": 0, \"ticks\": \"\"}}, \"marker\": {\"colorbar\": {\"outlinewidth\": 0, \"ticks\": \"\"}}, \"type\": \"scatter3d\"}], \"scattercarpet\": [{\"marker\": {\"colorbar\": {\"outlinewidth\": 0, \"ticks\": \"\"}}, \"type\": \"scattercarpet\"}], \"scattergeo\": [{\"marker\": {\"colorbar\": {\"outlinewidth\": 0, \"ticks\": \"\"}}, \"type\": \"scattergeo\"}], \"scattergl\": [{\"marker\": {\"colorbar\": {\"outlinewidth\": 0, \"ticks\": \"\"}}, \"type\": \"scattergl\"}], \"scattermapbox\": [{\"marker\": {\"colorbar\": {\"outlinewidth\": 0, \"ticks\": \"\"}}, \"type\": \"scattermapbox\"}], \"scatterpolar\": [{\"marker\": {\"colorbar\": {\"outlinewidth\": 0, \"ticks\": \"\"}}, \"type\": \"scatterpolar\"}], \"scatterpolargl\": [{\"marker\": {\"colorbar\": {\"outlinewidth\": 0, \"ticks\": \"\"}}, \"type\": \"scatterpolargl\"}], \"scatterternary\": [{\"marker\": {\"colorbar\": {\"outlinewidth\": 0, \"ticks\": \"\"}}, \"type\": \"scatterternary\"}], \"surface\": [{\"colorbar\": {\"outlinewidth\": 0, \"ticks\": \"\"}, \"colorscale\": [[0.0, \"#0d0887\"], [0.1111111111111111, \"#46039f\"], [0.2222222222222222, \"#7201a8\"], [0.3333333333333333, \"#9c179e\"], [0.4444444444444444, \"#bd3786\"], [0.5555555555555556, \"#d8576b\"], [0.6666666666666666, \"#ed7953\"], [0.7777777777777778, \"#fb9f3a\"], [0.8888888888888888, \"#fdca26\"], [1.0, \"#f0f921\"]], \"type\": \"surface\"}], \"table\": [{\"cells\": {\"fill\": {\"color\": \"#EBF0F8\"}, \"line\": {\"color\": \"white\"}}, \"header\": {\"fill\": {\"color\": \"#C8D4E3\"}, \"line\": {\"color\": \"white\"}}, \"type\": \"table\"}]}, \"layout\": {\"annotationdefaults\": {\"arrowcolor\": \"#2a3f5f\", \"arrowhead\": 0, \"arrowwidth\": 1}, \"coloraxis\": {\"colorbar\": {\"outlinewidth\": 0, \"ticks\": \"\"}}, \"colorscale\": {\"diverging\": [[0, \"#8e0152\"], [0.1, \"#c51b7d\"], [0.2, \"#de77ae\"], [0.3, \"#f1b6da\"], [0.4, \"#fde0ef\"], [0.5, \"#f7f7f7\"], [0.6, \"#e6f5d0\"], [0.7, \"#b8e186\"], [0.8, \"#7fbc41\"], [0.9, \"#4d9221\"], [1, \"#276419\"]], \"sequential\": [[0.0, \"#0d0887\"], [0.1111111111111111, \"#46039f\"], [0.2222222222222222, \"#7201a8\"], [0.3333333333333333, \"#9c179e\"], [0.4444444444444444, \"#bd3786\"], [0.5555555555555556, \"#d8576b\"], [0.6666666666666666, \"#ed7953\"], [0.7777777777777778, \"#fb9f3a\"], [0.8888888888888888, \"#fdca26\"], [1.0, \"#f0f921\"]], \"sequentialminus\": [[0.0, \"#0d0887\"], [0.1111111111111111, \"#46039f\"], [0.2222222222222222, \"#7201a8\"], [0.3333333333333333, \"#9c179e\"], [0.4444444444444444, \"#bd3786\"], [0.5555555555555556, \"#d8576b\"], [0.6666666666666666, \"#ed7953\"], [0.7777777777777778, \"#fb9f3a\"], [0.8888888888888888, \"#fdca26\"], [1.0, \"#f0f921\"]]}, \"colorway\": [\"#636efa\", \"#EF553B\", \"#00cc96\", \"#ab63fa\", \"#FFA15A\", \"#19d3f3\", \"#FF6692\", \"#B6E880\", \"#FF97FF\", \"#FECB52\"], \"font\": {\"color\": \"#2a3f5f\"}, \"geo\": {\"bgcolor\": \"white\", \"lakecolor\": \"white\", \"landcolor\": \"#E5ECF6\", \"showlakes\": true, \"showland\": true, \"subunitcolor\": \"white\"}, \"hoverlabel\": {\"align\": \"left\"}, \"hovermode\": \"closest\", \"mapbox\": {\"style\": \"light\"}, \"paper_bgcolor\": \"white\", \"plot_bgcolor\": \"#E5ECF6\", \"polar\": {\"angularaxis\": {\"gridcolor\": \"white\", \"linecolor\": \"white\", \"ticks\": \"\"}, \"bgcolor\": \"#E5ECF6\", \"radialaxis\": {\"gridcolor\": \"white\", \"linecolor\": \"white\", \"ticks\": \"\"}}, \"scene\": {\"xaxis\": {\"backgroundcolor\": \"#E5ECF6\", \"gridcolor\": \"white\", \"gridwidth\": 2, \"linecolor\": \"white\", \"showbackground\": true, \"ticks\": \"\", \"zerolinecolor\": \"white\"}, \"yaxis\": {\"backgroundcolor\": \"#E5ECF6\", \"gridcolor\": \"white\", \"gridwidth\": 2, \"linecolor\": \"white\", \"showbackground\": true, \"ticks\": \"\", \"zerolinecolor\": \"white\"}, \"zaxis\": {\"backgroundcolor\": \"#E5ECF6\", \"gridcolor\": \"white\", \"gridwidth\": 2, \"linecolor\": \"white\", \"showbackground\": true, \"ticks\": \"\", \"zerolinecolor\": \"white\"}}, \"shapedefaults\": {\"line\": {\"color\": \"#2a3f5f\"}}, \"ternary\": {\"aaxis\": {\"gridcolor\": \"white\", \"linecolor\": \"white\", \"ticks\": \"\"}, \"baxis\": {\"gridcolor\": \"white\", \"linecolor\": \"white\", \"ticks\": \"\"}, \"bgcolor\": \"#E5ECF6\", \"caxis\": {\"gridcolor\": \"white\", \"linecolor\": \"white\", \"ticks\": \"\"}}, \"title\": {\"x\": 0.05}, \"xaxis\": {\"automargin\": true, \"gridcolor\": \"white\", \"linecolor\": \"white\", \"ticks\": \"\", \"title\": {\"standoff\": 15}, \"zerolinecolor\": \"white\", \"zerolinewidth\": 2}, \"yaxis\": {\"automargin\": true, \"gridcolor\": \"white\", \"linecolor\": \"white\", \"ticks\": \"\", \"title\": {\"standoff\": 15}, \"zerolinecolor\": \"white\", \"zerolinewidth\": 2}}}, \"xaxis\": {\"anchor\": \"y\", \"domain\": [0.0, 0.45]}, \"xaxis2\": {\"anchor\": \"y2\", \"domain\": [0.55, 1.0]}, \"yaxis\": {\"anchor\": \"x\", \"domain\": [0.0, 1.0]}, \"yaxis2\": {\"anchor\": \"x2\", \"domain\": [0.0, 1.0]}},\n",
              "                        {\"responsive\": true}\n",
              "                    ).then(function(){\n",
              "                            \n",
              "var gd = document.getElementById('c95642d2-85db-4ab3-9e8d-cf78994231a7');\n",
              "var x = new MutationObserver(function (mutations, observer) {{\n",
              "        var display = window.getComputedStyle(gd).display;\n",
              "        if (!display || display === 'none') {{\n",
              "            console.log([gd, 'removed!']);\n",
              "            Plotly.purge(gd);\n",
              "            observer.disconnect();\n",
              "        }}\n",
              "}});\n",
              "\n",
              "// Listen for the removal of the full notebook cells\n",
              "var notebookContainer = gd.closest('#notebook-container');\n",
              "if (notebookContainer) {{\n",
              "    x.observe(notebookContainer, {childList: true});\n",
              "}}\n",
              "\n",
              "// Listen for the clearing of the current output cell\n",
              "var outputEl = gd.closest('.output');\n",
              "if (outputEl) {{\n",
              "    x.observe(outputEl, {childList: true});\n",
              "}}\n",
              "\n",
              "                        })\n",
              "                };\n",
              "                \n",
              "            </script>\n",
              "        </div>\n",
              "</body>\n",
              "</html>"
            ]
          },
          "metadata": {
            "tags": []
          }
        }
      ]
    },
    {
      "cell_type": "markdown",
      "metadata": {
        "id": "vMnigJPnFlw_"
      },
      "source": [
        "- Singapore and Brazil have similar youth literacy rate, nearly at 100%. However, similarily to GDP per capita, there is a disparity between Singapore and Brazil's GNI per capita. Singapore's GNI per capita is more than 50K higher than Brazil's GNI per capita. \n",
        "- Conversely, though Bangladesh and Mali's youth literacy rate varies by more than 30%, the the GNI per capita for each country is very close.\n",
        "- Closer look at the four countries further shows that though literacy rate may some effect on the country's economic wealth, it is not the best indicator."
      ]
    },
    {
      "cell_type": "markdown",
      "metadata": {
        "id": "IuiuqDBXhMex"
      },
      "source": [
        "## Further Analysis\n",
        "\n",
        "I wanted to explore more indicators that may impact literacy rate and indicators that will be impacted by literacy rate. \n",
        "\n",
        "Indicators: \n",
        "1. Primary school starting age (years) ([World Bank](https://datacatalog.worldbank.org/primary-school-starting-age-years-0))\n",
        "> Primary school starting age is the age at which students would enter primary education, assuming they had started at the official entrance age for the lowest level of education, had studied full-time throughout and had progressed through the system without repeating or skipping a grade.\n",
        "\n",
        "I wanted to see if starting age of primary school impacted the youth literacy rate. \n",
        "\n"
      ]
    },
    {
      "cell_type": "code",
      "metadata": {
        "colab": {
          "base_uri": "https://localhost:8080/",
          "height": 542
        },
        "id": "IoL8SqKv4_ls",
        "outputId": "0165216b-074d-46c0-8f68-233ce91d8d3f"
      },
      "source": [
        "# import youth literacy rate and school start age\n",
        "\n",
        "start_df = pd.read_csv('primary_start_age.csv')\n",
        "\n",
        "# drop unidentified column \n",
        "\n",
        "start_df.drop(columns=['Unnamed: 0'], inplace= True)\n",
        "\n",
        "# group dataset by region and find average primary school starting age for each region\n",
        "\n",
        "start_age_all = start_df.groupby(['Region']).mean().reset_index()\n",
        "\n",
        "# plot the average primary school starting age for each region \n",
        "\n",
        "fig9 = px.bar(start_age_all, \n",
        "              x=\"SE.PRM.AGES\", \n",
        "              y=\"SE.ADT.1524.LT.ZS\", \n",
        "              color=\"Region\",\n",
        "              title = 'Literacy Rate vs. Average Primary School Start Age (2011-2018)',\n",
        "              labels = {\n",
        "                  \"SE.PRM.AGES\": \"Primary School Start Age\",\n",
        "                  \"SE.ADT.1524.LT.ZS\": \"Youth Literacy Rate (%)\"})\n",
        "\n",
        "fig9.show()"
      ],
      "execution_count": 5,
      "outputs": [
        {
          "output_type": "display_data",
          "data": {
            "text/html": [
              "<html>\n",
              "<head><meta charset=\"utf-8\" /></head>\n",
              "<body>\n",
              "    <div>\n",
              "            <script src=\"https://cdnjs.cloudflare.com/ajax/libs/mathjax/2.7.5/MathJax.js?config=TeX-AMS-MML_SVG\"></script><script type=\"text/javascript\">if (window.MathJax) {MathJax.Hub.Config({SVG: {font: \"STIX-Web\"}});}</script>\n",
              "                <script type=\"text/javascript\">window.PlotlyConfig = {MathJaxConfig: 'local'};</script>\n",
              "        <script src=\"https://cdn.plot.ly/plotly-latest.min.js\"></script>    \n",
              "            <div id=\"03ddf78c-e954-4fbc-827d-7f04634af86b\" class=\"plotly-graph-div\" style=\"height:525px; width:100%;\"></div>\n",
              "            <script type=\"text/javascript\">\n",
              "                \n",
              "                    window.PLOTLYENV=window.PLOTLYENV || {};\n",
              "                    \n",
              "                if (document.getElementById(\"03ddf78c-e954-4fbc-827d-7f04634af86b\")) {\n",
              "                    Plotly.newPlot(\n",
              "                        '03ddf78c-e954-4fbc-827d-7f04634af86b',\n",
              "                        [{\"alignmentgroup\": \"True\", \"hoverlabel\": {\"namelength\": 0}, \"hovertemplate\": \"Region=East Asia & Pacific<br>Primary School Start Age=%{x}<br>Youth Literacy Rate (%)=%{y}\", \"legendgroup\": \"Region=East Asia & Pacific\", \"marker\": {\"color\": \"#636efa\"}, \"name\": \"Region=East Asia & Pacific\", \"offsetgroup\": \"Region=East Asia & Pacific\", \"orientation\": \"v\", \"showlegend\": true, \"textposition\": \"auto\", \"type\": \"bar\", \"x\": [6.022222222222222], \"xaxis\": \"x\", \"y\": [97.23201310899334], \"yaxis\": \"y\"}, {\"alignmentgroup\": \"True\", \"hoverlabel\": {\"namelength\": 0}, \"hovertemplate\": \"Region=Europe & Central Asia<br>Primary School Start Age=%{x}<br>Youth Literacy Rate (%)=%{y}\", \"legendgroup\": \"Region=Europe & Central Asia\", \"marker\": {\"color\": \"#EF553B\"}, \"name\": \"Region=Europe & Central Asia\", \"offsetgroup\": \"Region=Europe & Central Asia\", \"orientation\": \"v\", \"showlegend\": true, \"textposition\": \"auto\", \"type\": \"bar\", \"x\": [6.3088235294117645], \"xaxis\": \"x\", \"y\": [99.59837273990736], \"yaxis\": \"y\"}, {\"alignmentgroup\": \"True\", \"hoverlabel\": {\"namelength\": 0}, \"hovertemplate\": \"Region=Latin America & Caribbean <br>Primary School Start Age=%{x}<br>Youth Literacy Rate (%)=%{y}\", \"legendgroup\": \"Region=Latin America & Caribbean \", \"marker\": {\"color\": \"#00cc96\"}, \"name\": \"Region=Latin America & Caribbean \", \"offsetgroup\": \"Region=Latin America & Caribbean \", \"orientation\": \"v\", \"showlegend\": true, \"textposition\": \"auto\", \"type\": \"bar\", \"x\": [6.089108910891089], \"xaxis\": \"x\", \"y\": [98.06160479253067], \"yaxis\": \"y\"}, {\"alignmentgroup\": \"True\", \"hoverlabel\": {\"namelength\": 0}, \"hovertemplate\": \"Region=Middle East & North Africa<br>Primary School Start Age=%{x}<br>Youth Literacy Rate (%)=%{y}\", \"legendgroup\": \"Region=Middle East & North Africa\", \"marker\": {\"color\": \"#ab63fa\"}, \"name\": \"Region=Middle East & North Africa\", \"offsetgroup\": \"Region=Middle East & North Africa\", \"orientation\": \"v\", \"showlegend\": true, \"textposition\": \"auto\", \"type\": \"bar\", \"x\": [5.962962962962963], \"xaxis\": \"x\", \"y\": [96.26980195222404], \"yaxis\": \"y\"}, {\"alignmentgroup\": \"True\", \"hoverlabel\": {\"namelength\": 0}, \"hovertemplate\": \"Region=South Asia<br>Primary School Start Age=%{x}<br>Youth Literacy Rate (%)=%{y}\", \"legendgroup\": \"Region=South Asia\", \"marker\": {\"color\": \"#FFA15A\"}, \"name\": \"Region=South Asia\", \"offsetgroup\": \"Region=South Asia\", \"orientation\": \"v\", \"showlegend\": true, \"textposition\": \"auto\", \"type\": \"bar\", \"x\": [5.6923076923076925], \"xaxis\": \"x\", \"y\": [84.47918084951539], \"yaxis\": \"y\"}, {\"alignmentgroup\": \"True\", \"hoverlabel\": {\"namelength\": 0}, \"hovertemplate\": \"Region=Sub-Saharan Africa <br>Primary School Start Age=%{x}<br>Youth Literacy Rate (%)=%{y}\", \"legendgroup\": \"Region=Sub-Saharan Africa \", \"marker\": {\"color\": \"#19d3f3\"}, \"name\": \"Region=Sub-Saharan Africa \", \"offsetgroup\": \"Region=Sub-Saharan Africa \", \"orientation\": \"v\", \"showlegend\": true, \"textposition\": \"auto\", \"type\": \"bar\", \"x\": [6.275], \"xaxis\": \"x\", \"y\": [75.51697263717998], \"yaxis\": \"y\"}],\n",
              "                        {\"barmode\": \"relative\", \"legend\": {\"tracegroupgap\": 0}, \"template\": {\"data\": {\"bar\": [{\"error_x\": {\"color\": \"#2a3f5f\"}, \"error_y\": {\"color\": \"#2a3f5f\"}, \"marker\": {\"line\": {\"color\": \"#E5ECF6\", \"width\": 0.5}}, \"type\": \"bar\"}], \"barpolar\": [{\"marker\": {\"line\": {\"color\": \"#E5ECF6\", \"width\": 0.5}}, \"type\": \"barpolar\"}], \"carpet\": [{\"aaxis\": {\"endlinecolor\": \"#2a3f5f\", \"gridcolor\": \"white\", \"linecolor\": \"white\", \"minorgridcolor\": \"white\", \"startlinecolor\": \"#2a3f5f\"}, \"baxis\": {\"endlinecolor\": \"#2a3f5f\", \"gridcolor\": \"white\", \"linecolor\": \"white\", \"minorgridcolor\": \"white\", \"startlinecolor\": \"#2a3f5f\"}, \"type\": \"carpet\"}], \"choropleth\": [{\"colorbar\": {\"outlinewidth\": 0, \"ticks\": \"\"}, \"type\": \"choropleth\"}], \"contour\": [{\"colorbar\": {\"outlinewidth\": 0, \"ticks\": \"\"}, \"colorscale\": [[0.0, \"#0d0887\"], [0.1111111111111111, \"#46039f\"], [0.2222222222222222, \"#7201a8\"], [0.3333333333333333, \"#9c179e\"], [0.4444444444444444, \"#bd3786\"], [0.5555555555555556, \"#d8576b\"], [0.6666666666666666, \"#ed7953\"], [0.7777777777777778, \"#fb9f3a\"], [0.8888888888888888, \"#fdca26\"], [1.0, \"#f0f921\"]], \"type\": \"contour\"}], \"contourcarpet\": [{\"colorbar\": {\"outlinewidth\": 0, \"ticks\": \"\"}, \"type\": \"contourcarpet\"}], \"heatmap\": [{\"colorbar\": {\"outlinewidth\": 0, \"ticks\": \"\"}, \"colorscale\": [[0.0, \"#0d0887\"], [0.1111111111111111, \"#46039f\"], [0.2222222222222222, \"#7201a8\"], [0.3333333333333333, \"#9c179e\"], [0.4444444444444444, \"#bd3786\"], [0.5555555555555556, \"#d8576b\"], [0.6666666666666666, \"#ed7953\"], [0.7777777777777778, \"#fb9f3a\"], [0.8888888888888888, \"#fdca26\"], [1.0, \"#f0f921\"]], \"type\": \"heatmap\"}], \"heatmapgl\": [{\"colorbar\": {\"outlinewidth\": 0, \"ticks\": \"\"}, \"colorscale\": [[0.0, \"#0d0887\"], [0.1111111111111111, \"#46039f\"], [0.2222222222222222, \"#7201a8\"], [0.3333333333333333, \"#9c179e\"], [0.4444444444444444, \"#bd3786\"], [0.5555555555555556, \"#d8576b\"], [0.6666666666666666, \"#ed7953\"], [0.7777777777777778, \"#fb9f3a\"], [0.8888888888888888, \"#fdca26\"], [1.0, \"#f0f921\"]], \"type\": \"heatmapgl\"}], \"histogram\": [{\"marker\": {\"colorbar\": {\"outlinewidth\": 0, \"ticks\": \"\"}}, \"type\": \"histogram\"}], \"histogram2d\": [{\"colorbar\": {\"outlinewidth\": 0, \"ticks\": \"\"}, \"colorscale\": [[0.0, \"#0d0887\"], [0.1111111111111111, \"#46039f\"], [0.2222222222222222, \"#7201a8\"], [0.3333333333333333, \"#9c179e\"], [0.4444444444444444, \"#bd3786\"], [0.5555555555555556, \"#d8576b\"], [0.6666666666666666, \"#ed7953\"], [0.7777777777777778, \"#fb9f3a\"], [0.8888888888888888, \"#fdca26\"], [1.0, \"#f0f921\"]], \"type\": \"histogram2d\"}], \"histogram2dcontour\": [{\"colorbar\": {\"outlinewidth\": 0, \"ticks\": \"\"}, \"colorscale\": [[0.0, \"#0d0887\"], [0.1111111111111111, \"#46039f\"], [0.2222222222222222, \"#7201a8\"], [0.3333333333333333, \"#9c179e\"], [0.4444444444444444, \"#bd3786\"], [0.5555555555555556, \"#d8576b\"], [0.6666666666666666, \"#ed7953\"], [0.7777777777777778, \"#fb9f3a\"], [0.8888888888888888, \"#fdca26\"], [1.0, \"#f0f921\"]], \"type\": \"histogram2dcontour\"}], \"mesh3d\": [{\"colorbar\": {\"outlinewidth\": 0, \"ticks\": \"\"}, \"type\": \"mesh3d\"}], \"parcoords\": [{\"line\": {\"colorbar\": {\"outlinewidth\": 0, \"ticks\": \"\"}}, \"type\": \"parcoords\"}], \"pie\": [{\"automargin\": true, \"type\": \"pie\"}], \"scatter\": [{\"marker\": {\"colorbar\": {\"outlinewidth\": 0, \"ticks\": \"\"}}, \"type\": \"scatter\"}], \"scatter3d\": [{\"line\": {\"colorbar\": {\"outlinewidth\": 0, \"ticks\": \"\"}}, \"marker\": {\"colorbar\": {\"outlinewidth\": 0, \"ticks\": \"\"}}, \"type\": \"scatter3d\"}], \"scattercarpet\": [{\"marker\": {\"colorbar\": {\"outlinewidth\": 0, \"ticks\": \"\"}}, \"type\": \"scattercarpet\"}], \"scattergeo\": [{\"marker\": {\"colorbar\": {\"outlinewidth\": 0, \"ticks\": \"\"}}, \"type\": \"scattergeo\"}], \"scattergl\": [{\"marker\": {\"colorbar\": {\"outlinewidth\": 0, \"ticks\": \"\"}}, \"type\": \"scattergl\"}], \"scattermapbox\": [{\"marker\": {\"colorbar\": {\"outlinewidth\": 0, \"ticks\": \"\"}}, \"type\": \"scattermapbox\"}], \"scatterpolar\": [{\"marker\": {\"colorbar\": {\"outlinewidth\": 0, \"ticks\": \"\"}}, \"type\": \"scatterpolar\"}], \"scatterpolargl\": [{\"marker\": {\"colorbar\": {\"outlinewidth\": 0, \"ticks\": \"\"}}, \"type\": \"scatterpolargl\"}], \"scatterternary\": [{\"marker\": {\"colorbar\": {\"outlinewidth\": 0, \"ticks\": \"\"}}, \"type\": \"scatterternary\"}], \"surface\": [{\"colorbar\": {\"outlinewidth\": 0, \"ticks\": \"\"}, \"colorscale\": [[0.0, \"#0d0887\"], [0.1111111111111111, \"#46039f\"], [0.2222222222222222, \"#7201a8\"], [0.3333333333333333, \"#9c179e\"], [0.4444444444444444, \"#bd3786\"], [0.5555555555555556, \"#d8576b\"], [0.6666666666666666, \"#ed7953\"], [0.7777777777777778, \"#fb9f3a\"], [0.8888888888888888, \"#fdca26\"], [1.0, \"#f0f921\"]], \"type\": \"surface\"}], \"table\": [{\"cells\": {\"fill\": {\"color\": \"#EBF0F8\"}, \"line\": {\"color\": \"white\"}}, \"header\": {\"fill\": {\"color\": \"#C8D4E3\"}, \"line\": {\"color\": \"white\"}}, \"type\": \"table\"}]}, \"layout\": {\"annotationdefaults\": {\"arrowcolor\": \"#2a3f5f\", \"arrowhead\": 0, \"arrowwidth\": 1}, \"coloraxis\": {\"colorbar\": {\"outlinewidth\": 0, \"ticks\": \"\"}}, \"colorscale\": {\"diverging\": [[0, \"#8e0152\"], [0.1, \"#c51b7d\"], [0.2, \"#de77ae\"], [0.3, \"#f1b6da\"], [0.4, \"#fde0ef\"], [0.5, \"#f7f7f7\"], [0.6, \"#e6f5d0\"], [0.7, \"#b8e186\"], [0.8, \"#7fbc41\"], [0.9, \"#4d9221\"], [1, \"#276419\"]], \"sequential\": [[0.0, \"#0d0887\"], [0.1111111111111111, \"#46039f\"], [0.2222222222222222, \"#7201a8\"], [0.3333333333333333, \"#9c179e\"], [0.4444444444444444, \"#bd3786\"], [0.5555555555555556, \"#d8576b\"], [0.6666666666666666, \"#ed7953\"], [0.7777777777777778, \"#fb9f3a\"], [0.8888888888888888, \"#fdca26\"], [1.0, \"#f0f921\"]], \"sequentialminus\": [[0.0, \"#0d0887\"], [0.1111111111111111, \"#46039f\"], [0.2222222222222222, \"#7201a8\"], [0.3333333333333333, \"#9c179e\"], [0.4444444444444444, \"#bd3786\"], [0.5555555555555556, \"#d8576b\"], [0.6666666666666666, \"#ed7953\"], [0.7777777777777778, \"#fb9f3a\"], [0.8888888888888888, \"#fdca26\"], [1.0, \"#f0f921\"]]}, \"colorway\": [\"#636efa\", \"#EF553B\", \"#00cc96\", \"#ab63fa\", \"#FFA15A\", \"#19d3f3\", \"#FF6692\", \"#B6E880\", \"#FF97FF\", \"#FECB52\"], \"font\": {\"color\": \"#2a3f5f\"}, \"geo\": {\"bgcolor\": \"white\", \"lakecolor\": \"white\", \"landcolor\": \"#E5ECF6\", \"showlakes\": true, \"showland\": true, \"subunitcolor\": \"white\"}, \"hoverlabel\": {\"align\": \"left\"}, \"hovermode\": \"closest\", \"mapbox\": {\"style\": \"light\"}, \"paper_bgcolor\": \"white\", \"plot_bgcolor\": \"#E5ECF6\", \"polar\": {\"angularaxis\": {\"gridcolor\": \"white\", \"linecolor\": \"white\", \"ticks\": \"\"}, \"bgcolor\": \"#E5ECF6\", \"radialaxis\": {\"gridcolor\": \"white\", \"linecolor\": \"white\", \"ticks\": \"\"}}, \"scene\": {\"xaxis\": {\"backgroundcolor\": \"#E5ECF6\", \"gridcolor\": \"white\", \"gridwidth\": 2, \"linecolor\": \"white\", \"showbackground\": true, \"ticks\": \"\", \"zerolinecolor\": \"white\"}, \"yaxis\": {\"backgroundcolor\": \"#E5ECF6\", \"gridcolor\": \"white\", \"gridwidth\": 2, \"linecolor\": \"white\", \"showbackground\": true, \"ticks\": \"\", \"zerolinecolor\": \"white\"}, \"zaxis\": {\"backgroundcolor\": \"#E5ECF6\", \"gridcolor\": \"white\", \"gridwidth\": 2, \"linecolor\": \"white\", \"showbackground\": true, \"ticks\": \"\", \"zerolinecolor\": \"white\"}}, \"shapedefaults\": {\"line\": {\"color\": \"#2a3f5f\"}}, \"ternary\": {\"aaxis\": {\"gridcolor\": \"white\", \"linecolor\": \"white\", \"ticks\": \"\"}, \"baxis\": {\"gridcolor\": \"white\", \"linecolor\": \"white\", \"ticks\": \"\"}, \"bgcolor\": \"#E5ECF6\", \"caxis\": {\"gridcolor\": \"white\", \"linecolor\": \"white\", \"ticks\": \"\"}}, \"title\": {\"x\": 0.05}, \"xaxis\": {\"automargin\": true, \"gridcolor\": \"white\", \"linecolor\": \"white\", \"ticks\": \"\", \"title\": {\"standoff\": 15}, \"zerolinecolor\": \"white\", \"zerolinewidth\": 2}, \"yaxis\": {\"automargin\": true, \"gridcolor\": \"white\", \"linecolor\": \"white\", \"ticks\": \"\", \"title\": {\"standoff\": 15}, \"zerolinecolor\": \"white\", \"zerolinewidth\": 2}}}, \"title\": {\"text\": \"Literacy Rate vs. Average Primary School Start Age (2011-2018)\"}, \"xaxis\": {\"anchor\": \"y\", \"domain\": [0.0, 1.0], \"title\": {\"text\": \"Primary School Start Age\"}}, \"yaxis\": {\"anchor\": \"x\", \"domain\": [0.0, 1.0], \"title\": {\"text\": \"Youth Literacy Rate (%)\"}}},\n",
              "                        {\"responsive\": true}\n",
              "                    ).then(function(){\n",
              "                            \n",
              "var gd = document.getElementById('03ddf78c-e954-4fbc-827d-7f04634af86b');\n",
              "var x = new MutationObserver(function (mutations, observer) {{\n",
              "        var display = window.getComputedStyle(gd).display;\n",
              "        if (!display || display === 'none') {{\n",
              "            console.log([gd, 'removed!']);\n",
              "            Plotly.purge(gd);\n",
              "            observer.disconnect();\n",
              "        }}\n",
              "}});\n",
              "\n",
              "// Listen for the removal of the full notebook cells\n",
              "var notebookContainer = gd.closest('#notebook-container');\n",
              "if (notebookContainer) {{\n",
              "    x.observe(notebookContainer, {childList: true});\n",
              "}}\n",
              "\n",
              "// Listen for the clearing of the current output cell\n",
              "var outputEl = gd.closest('.output');\n",
              "if (outputEl) {{\n",
              "    x.observe(outputEl, {childList: true});\n",
              "}}\n",
              "\n",
              "                        })\n",
              "                };\n",
              "                \n",
              "            </script>\n",
              "        </div>\n",
              "</body>\n",
              "</html>"
            ]
          },
          "metadata": {
            "tags": []
          }
        }
      ]
    },
    {
      "cell_type": "markdown",
      "metadata": {
        "id": "m-4I3GhE48Rb"
      },
      "source": [
        "All regions start school between the ages of 5 and 6. The start age of primary school doesn't vary too much, the literacy rate does vary marginally. \n",
        "\n",
        "Sub-Saharan Africa has higher primary school starting age, but has lower youth literacy rate than South Asia. Europe & Central Asia has the latest primary school starting age, yet they have the highest youth literacy rate among all of the regions. \n",
        "\n",
        "This observation seems to conclude that the starting age does not directly impact the youth literacy rate. "
      ]
    },
    {
      "cell_type": "code",
      "metadata": {
        "colab": {
          "base_uri": "https://localhost:8080/",
          "height": 542
        },
        "id": "awKYNVCn3V3p",
        "outputId": "dc1f1c0f-aa6a-464a-ba33-8265ab2ebad2"
      },
      "source": [
        "# create subset of data with specific countries \n",
        "\n",
        "start_co = start_df[start_df['Country Name'].isin(country_list)]\n",
        "\n",
        "# plot bar graph of average starting age over the years\n",
        "start_age = start_co.groupby(['Country Name']).mean().reset_index()\n",
        "fig8 = px.bar(start_age, \n",
        "              x=\"SE.PRM.AGES\", \n",
        "              y=\"SE.ADT.1524.LT.ZS\", \n",
        "              color=\"Country Name\",\n",
        "              title = 'Literacy Rate vs. Average Primary School Start Age (2011-2018)',\n",
        "              labels = {\n",
        "                  \"Country Name\": \"Country\",\n",
        "                  \"SE.PRM.AGES\": \"Age\"})\n",
        "\n",
        "fig8.show()"
      ],
      "execution_count": 6,
      "outputs": [
        {
          "output_type": "display_data",
          "data": {
            "text/html": [
              "<html>\n",
              "<head><meta charset=\"utf-8\" /></head>\n",
              "<body>\n",
              "    <div>\n",
              "            <script src=\"https://cdnjs.cloudflare.com/ajax/libs/mathjax/2.7.5/MathJax.js?config=TeX-AMS-MML_SVG\"></script><script type=\"text/javascript\">if (window.MathJax) {MathJax.Hub.Config({SVG: {font: \"STIX-Web\"}});}</script>\n",
              "                <script type=\"text/javascript\">window.PlotlyConfig = {MathJaxConfig: 'local'};</script>\n",
              "        <script src=\"https://cdn.plot.ly/plotly-latest.min.js\"></script>    \n",
              "            <div id=\"47f822c6-341d-42f1-a400-4d48ef9ce8bc\" class=\"plotly-graph-div\" style=\"height:525px; width:100%;\"></div>\n",
              "            <script type=\"text/javascript\">\n",
              "                \n",
              "                    window.PLOTLYENV=window.PLOTLYENV || {};\n",
              "                    \n",
              "                if (document.getElementById(\"47f822c6-341d-42f1-a400-4d48ef9ce8bc\")) {\n",
              "                    Plotly.newPlot(\n",
              "                        '47f822c6-341d-42f1-a400-4d48ef9ce8bc',\n",
              "                        [{\"alignmentgroup\": \"True\", \"hoverlabel\": {\"namelength\": 0}, \"hovertemplate\": \"Country=Bangladesh<br>Age=%{x}<br>SE.ADT.1524.LT.ZS=%{y}\", \"legendgroup\": \"Country=Bangladesh\", \"marker\": {\"color\": \"#636efa\"}, \"name\": \"Country=Bangladesh\", \"offsetgroup\": \"Country=Bangladesh\", \"orientation\": \"v\", \"showlegend\": true, \"textposition\": \"auto\", \"type\": \"bar\", \"x\": [6.0], \"xaxis\": \"x\", \"y\": [86.6598014831625], \"yaxis\": \"y\"}, {\"alignmentgroup\": \"True\", \"hoverlabel\": {\"namelength\": 0}, \"hovertemplate\": \"Country=Brazil<br>Age=%{x}<br>SE.ADT.1524.LT.ZS=%{y}\", \"legendgroup\": \"Country=Brazil\", \"marker\": {\"color\": \"#EF553B\"}, \"name\": \"Country=Brazil\", \"offsetgroup\": \"Country=Brazil\", \"orientation\": \"v\", \"showlegend\": true, \"textposition\": \"auto\", \"type\": \"bar\", \"x\": [6.25], \"xaxis\": \"x\", \"y\": [98.8904056549125], \"yaxis\": \"y\"}, {\"alignmentgroup\": \"True\", \"hoverlabel\": {\"namelength\": 0}, \"hovertemplate\": \"Country=Mali<br>Age=%{x}<br>SE.ADT.1524.LT.ZS=%{y}\", \"legendgroup\": \"Country=Mali\", \"marker\": {\"color\": \"#00cc96\"}, \"name\": \"Country=Mali\", \"offsetgroup\": \"Country=Mali\", \"orientation\": \"v\", \"showlegend\": true, \"textposition\": \"auto\", \"type\": \"bar\", \"x\": [7.0], \"xaxis\": \"x\", \"y\": [47.19883728026667], \"yaxis\": \"y\"}, {\"alignmentgroup\": \"True\", \"hoverlabel\": {\"namelength\": 0}, \"hovertemplate\": \"Country=Singapore<br>Age=%{x}<br>SE.ADT.1524.LT.ZS=%{y}\", \"legendgroup\": \"Country=Singapore\", \"marker\": {\"color\": \"#ab63fa\"}, \"name\": \"Country=Singapore\", \"offsetgroup\": \"Country=Singapore\", \"orientation\": \"v\", \"showlegend\": true, \"textposition\": \"auto\", \"type\": \"bar\", \"x\": [6.0], \"xaxis\": \"x\", \"y\": [99.8940963745125], \"yaxis\": \"y\"}],\n",
              "                        {\"barmode\": \"relative\", \"legend\": {\"tracegroupgap\": 0}, \"template\": {\"data\": {\"bar\": [{\"error_x\": {\"color\": \"#2a3f5f\"}, \"error_y\": {\"color\": \"#2a3f5f\"}, \"marker\": {\"line\": {\"color\": \"#E5ECF6\", \"width\": 0.5}}, \"type\": \"bar\"}], \"barpolar\": [{\"marker\": {\"line\": {\"color\": \"#E5ECF6\", \"width\": 0.5}}, \"type\": \"barpolar\"}], \"carpet\": [{\"aaxis\": {\"endlinecolor\": \"#2a3f5f\", \"gridcolor\": \"white\", \"linecolor\": \"white\", \"minorgridcolor\": \"white\", \"startlinecolor\": \"#2a3f5f\"}, \"baxis\": {\"endlinecolor\": \"#2a3f5f\", \"gridcolor\": \"white\", \"linecolor\": \"white\", \"minorgridcolor\": \"white\", \"startlinecolor\": \"#2a3f5f\"}, \"type\": \"carpet\"}], \"choropleth\": [{\"colorbar\": {\"outlinewidth\": 0, \"ticks\": \"\"}, \"type\": \"choropleth\"}], \"contour\": [{\"colorbar\": {\"outlinewidth\": 0, \"ticks\": \"\"}, \"colorscale\": [[0.0, \"#0d0887\"], [0.1111111111111111, \"#46039f\"], [0.2222222222222222, \"#7201a8\"], [0.3333333333333333, \"#9c179e\"], [0.4444444444444444, \"#bd3786\"], [0.5555555555555556, \"#d8576b\"], [0.6666666666666666, \"#ed7953\"], [0.7777777777777778, \"#fb9f3a\"], [0.8888888888888888, \"#fdca26\"], [1.0, \"#f0f921\"]], \"type\": \"contour\"}], \"contourcarpet\": [{\"colorbar\": {\"outlinewidth\": 0, \"ticks\": \"\"}, \"type\": \"contourcarpet\"}], \"heatmap\": [{\"colorbar\": {\"outlinewidth\": 0, \"ticks\": \"\"}, \"colorscale\": [[0.0, \"#0d0887\"], [0.1111111111111111, \"#46039f\"], [0.2222222222222222, \"#7201a8\"], [0.3333333333333333, \"#9c179e\"], [0.4444444444444444, \"#bd3786\"], [0.5555555555555556, \"#d8576b\"], [0.6666666666666666, \"#ed7953\"], [0.7777777777777778, \"#fb9f3a\"], [0.8888888888888888, \"#fdca26\"], [1.0, \"#f0f921\"]], \"type\": \"heatmap\"}], \"heatmapgl\": [{\"colorbar\": {\"outlinewidth\": 0, \"ticks\": \"\"}, \"colorscale\": [[0.0, \"#0d0887\"], [0.1111111111111111, \"#46039f\"], [0.2222222222222222, \"#7201a8\"], [0.3333333333333333, \"#9c179e\"], [0.4444444444444444, \"#bd3786\"], [0.5555555555555556, \"#d8576b\"], [0.6666666666666666, \"#ed7953\"], [0.7777777777777778, \"#fb9f3a\"], [0.8888888888888888, \"#fdca26\"], [1.0, \"#f0f921\"]], \"type\": \"heatmapgl\"}], \"histogram\": [{\"marker\": {\"colorbar\": {\"outlinewidth\": 0, \"ticks\": \"\"}}, \"type\": \"histogram\"}], \"histogram2d\": [{\"colorbar\": {\"outlinewidth\": 0, \"ticks\": \"\"}, \"colorscale\": [[0.0, \"#0d0887\"], [0.1111111111111111, \"#46039f\"], [0.2222222222222222, \"#7201a8\"], [0.3333333333333333, \"#9c179e\"], [0.4444444444444444, \"#bd3786\"], [0.5555555555555556, \"#d8576b\"], [0.6666666666666666, \"#ed7953\"], [0.7777777777777778, \"#fb9f3a\"], [0.8888888888888888, \"#fdca26\"], [1.0, \"#f0f921\"]], \"type\": \"histogram2d\"}], \"histogram2dcontour\": [{\"colorbar\": {\"outlinewidth\": 0, \"ticks\": \"\"}, \"colorscale\": [[0.0, \"#0d0887\"], [0.1111111111111111, \"#46039f\"], [0.2222222222222222, \"#7201a8\"], [0.3333333333333333, \"#9c179e\"], [0.4444444444444444, \"#bd3786\"], [0.5555555555555556, \"#d8576b\"], [0.6666666666666666, \"#ed7953\"], [0.7777777777777778, \"#fb9f3a\"], [0.8888888888888888, \"#fdca26\"], [1.0, \"#f0f921\"]], \"type\": \"histogram2dcontour\"}], \"mesh3d\": [{\"colorbar\": {\"outlinewidth\": 0, \"ticks\": \"\"}, \"type\": \"mesh3d\"}], \"parcoords\": [{\"line\": {\"colorbar\": {\"outlinewidth\": 0, \"ticks\": \"\"}}, \"type\": \"parcoords\"}], \"pie\": [{\"automargin\": true, \"type\": \"pie\"}], \"scatter\": [{\"marker\": {\"colorbar\": {\"outlinewidth\": 0, \"ticks\": \"\"}}, \"type\": \"scatter\"}], \"scatter3d\": [{\"line\": {\"colorbar\": {\"outlinewidth\": 0, \"ticks\": \"\"}}, \"marker\": {\"colorbar\": {\"outlinewidth\": 0, \"ticks\": \"\"}}, \"type\": \"scatter3d\"}], \"scattercarpet\": [{\"marker\": {\"colorbar\": {\"outlinewidth\": 0, \"ticks\": \"\"}}, \"type\": \"scattercarpet\"}], \"scattergeo\": [{\"marker\": {\"colorbar\": {\"outlinewidth\": 0, \"ticks\": \"\"}}, \"type\": \"scattergeo\"}], \"scattergl\": [{\"marker\": {\"colorbar\": {\"outlinewidth\": 0, \"ticks\": \"\"}}, \"type\": \"scattergl\"}], \"scattermapbox\": [{\"marker\": {\"colorbar\": {\"outlinewidth\": 0, \"ticks\": \"\"}}, \"type\": \"scattermapbox\"}], \"scatterpolar\": [{\"marker\": {\"colorbar\": {\"outlinewidth\": 0, \"ticks\": \"\"}}, \"type\": \"scatterpolar\"}], \"scatterpolargl\": [{\"marker\": {\"colorbar\": {\"outlinewidth\": 0, \"ticks\": \"\"}}, \"type\": \"scatterpolargl\"}], \"scatterternary\": [{\"marker\": {\"colorbar\": {\"outlinewidth\": 0, \"ticks\": \"\"}}, \"type\": \"scatterternary\"}], \"surface\": [{\"colorbar\": {\"outlinewidth\": 0, \"ticks\": \"\"}, \"colorscale\": [[0.0, \"#0d0887\"], [0.1111111111111111, \"#46039f\"], [0.2222222222222222, \"#7201a8\"], [0.3333333333333333, \"#9c179e\"], [0.4444444444444444, \"#bd3786\"], [0.5555555555555556, \"#d8576b\"], [0.6666666666666666, \"#ed7953\"], [0.7777777777777778, \"#fb9f3a\"], [0.8888888888888888, \"#fdca26\"], [1.0, \"#f0f921\"]], \"type\": \"surface\"}], \"table\": [{\"cells\": {\"fill\": {\"color\": \"#EBF0F8\"}, \"line\": {\"color\": \"white\"}}, \"header\": {\"fill\": {\"color\": \"#C8D4E3\"}, \"line\": {\"color\": \"white\"}}, \"type\": \"table\"}]}, \"layout\": {\"annotationdefaults\": {\"arrowcolor\": \"#2a3f5f\", \"arrowhead\": 0, \"arrowwidth\": 1}, \"coloraxis\": {\"colorbar\": {\"outlinewidth\": 0, \"ticks\": \"\"}}, \"colorscale\": {\"diverging\": [[0, \"#8e0152\"], [0.1, \"#c51b7d\"], [0.2, \"#de77ae\"], [0.3, \"#f1b6da\"], [0.4, \"#fde0ef\"], [0.5, \"#f7f7f7\"], [0.6, \"#e6f5d0\"], [0.7, \"#b8e186\"], [0.8, \"#7fbc41\"], [0.9, \"#4d9221\"], [1, \"#276419\"]], \"sequential\": [[0.0, \"#0d0887\"], [0.1111111111111111, \"#46039f\"], [0.2222222222222222, \"#7201a8\"], [0.3333333333333333, \"#9c179e\"], [0.4444444444444444, \"#bd3786\"], [0.5555555555555556, \"#d8576b\"], [0.6666666666666666, \"#ed7953\"], [0.7777777777777778, \"#fb9f3a\"], [0.8888888888888888, \"#fdca26\"], [1.0, \"#f0f921\"]], \"sequentialminus\": [[0.0, \"#0d0887\"], [0.1111111111111111, \"#46039f\"], [0.2222222222222222, \"#7201a8\"], [0.3333333333333333, \"#9c179e\"], [0.4444444444444444, \"#bd3786\"], [0.5555555555555556, \"#d8576b\"], [0.6666666666666666, \"#ed7953\"], [0.7777777777777778, \"#fb9f3a\"], [0.8888888888888888, \"#fdca26\"], [1.0, \"#f0f921\"]]}, \"colorway\": [\"#636efa\", \"#EF553B\", \"#00cc96\", \"#ab63fa\", \"#FFA15A\", \"#19d3f3\", \"#FF6692\", \"#B6E880\", \"#FF97FF\", \"#FECB52\"], \"font\": {\"color\": \"#2a3f5f\"}, \"geo\": {\"bgcolor\": \"white\", \"lakecolor\": \"white\", \"landcolor\": \"#E5ECF6\", \"showlakes\": true, \"showland\": true, \"subunitcolor\": \"white\"}, \"hoverlabel\": {\"align\": \"left\"}, \"hovermode\": \"closest\", \"mapbox\": {\"style\": \"light\"}, \"paper_bgcolor\": \"white\", \"plot_bgcolor\": \"#E5ECF6\", \"polar\": {\"angularaxis\": {\"gridcolor\": \"white\", \"linecolor\": \"white\", \"ticks\": \"\"}, \"bgcolor\": \"#E5ECF6\", \"radialaxis\": {\"gridcolor\": \"white\", \"linecolor\": \"white\", \"ticks\": \"\"}}, \"scene\": {\"xaxis\": {\"backgroundcolor\": \"#E5ECF6\", \"gridcolor\": \"white\", \"gridwidth\": 2, \"linecolor\": \"white\", \"showbackground\": true, \"ticks\": \"\", \"zerolinecolor\": \"white\"}, \"yaxis\": {\"backgroundcolor\": \"#E5ECF6\", \"gridcolor\": \"white\", \"gridwidth\": 2, \"linecolor\": \"white\", \"showbackground\": true, \"ticks\": \"\", \"zerolinecolor\": \"white\"}, \"zaxis\": {\"backgroundcolor\": \"#E5ECF6\", \"gridcolor\": \"white\", \"gridwidth\": 2, \"linecolor\": \"white\", \"showbackground\": true, \"ticks\": \"\", \"zerolinecolor\": \"white\"}}, \"shapedefaults\": {\"line\": {\"color\": \"#2a3f5f\"}}, \"ternary\": {\"aaxis\": {\"gridcolor\": \"white\", \"linecolor\": \"white\", \"ticks\": \"\"}, \"baxis\": {\"gridcolor\": \"white\", \"linecolor\": \"white\", \"ticks\": \"\"}, \"bgcolor\": \"#E5ECF6\", \"caxis\": {\"gridcolor\": \"white\", \"linecolor\": \"white\", \"ticks\": \"\"}}, \"title\": {\"x\": 0.05}, \"xaxis\": {\"automargin\": true, \"gridcolor\": \"white\", \"linecolor\": \"white\", \"ticks\": \"\", \"title\": {\"standoff\": 15}, \"zerolinecolor\": \"white\", \"zerolinewidth\": 2}, \"yaxis\": {\"automargin\": true, \"gridcolor\": \"white\", \"linecolor\": \"white\", \"ticks\": \"\", \"title\": {\"standoff\": 15}, \"zerolinecolor\": \"white\", \"zerolinewidth\": 2}}}, \"title\": {\"text\": \"Literacy Rate vs. Average Primary School Start Age (2011-2018)\"}, \"xaxis\": {\"anchor\": \"y\", \"domain\": [0.0, 1.0], \"title\": {\"text\": \"Age\"}}, \"yaxis\": {\"anchor\": \"x\", \"domain\": [0.0, 1.0], \"title\": {\"text\": \"SE.ADT.1524.LT.ZS\"}}},\n",
              "                        {\"responsive\": true}\n",
              "                    ).then(function(){\n",
              "                            \n",
              "var gd = document.getElementById('47f822c6-341d-42f1-a400-4d48ef9ce8bc');\n",
              "var x = new MutationObserver(function (mutations, observer) {{\n",
              "        var display = window.getComputedStyle(gd).display;\n",
              "        if (!display || display === 'none') {{\n",
              "            console.log([gd, 'removed!']);\n",
              "            Plotly.purge(gd);\n",
              "            observer.disconnect();\n",
              "        }}\n",
              "}});\n",
              "\n",
              "// Listen for the removal of the full notebook cells\n",
              "var notebookContainer = gd.closest('#notebook-container');\n",
              "if (notebookContainer) {{\n",
              "    x.observe(notebookContainer, {childList: true});\n",
              "}}\n",
              "\n",
              "// Listen for the clearing of the current output cell\n",
              "var outputEl = gd.closest('.output');\n",
              "if (outputEl) {{\n",
              "    x.observe(outputEl, {childList: true});\n",
              "}}\n",
              "\n",
              "                        })\n",
              "                };\n",
              "                \n",
              "            </script>\n",
              "        </div>\n",
              "</body>\n",
              "</html>"
            ]
          },
          "metadata": {
            "tags": []
          }
        }
      ]
    },
    {
      "cell_type": "markdown",
      "metadata": {
        "id": "9gw5uHkw3VHq"
      },
      "source": [
        "For the four selected countries, countries who started primary school at age 6 had higher literacy rate than the country that started primary school at age 7.\n",
        "- This is data bias because as shown in the general trend scatterplot, the starting age of the primary school is not an important indicator for youth literacy. \n",
        "- According to Education and Economic Growth paper published by Standard University, the quality of the education matters more than the duration of schooling that determines the impact of education on the economic growth (Hanushek & Woessmann, 2010)"
      ]
    },
    {
      "cell_type": "markdown",
      "metadata": {
        "id": "NIQh8lFs9vcZ"
      },
      "source": [
        "2. Current health expenditure (% of GDP) ([World Bank](https://datacatalog.worldbank.org/current-health-expenditure-gdp))\n",
        "> Estimates of current health expenditures include healthcare goods and services consumed during each year. This indicator does not include capital health expenditures such as buildings, machinery, IT and stocks of vaccines for emergency or outbreaks.\n",
        "\n",
        "Similarly with GDP per capita, I wanted to see how literacy rate will impact the health expenditure. I wanted to analyze whether low literacy rate will decrease the health expenditure due to lack of access or due to low affordability. \n",
        "\n",
        "Since low literacy generally correlates with lower GDP per capita, population in lower income won't have as much disposable income to spend on healthcare.  \n",
        "\n",
        "\n"
      ]
    },
    {
      "cell_type": "code",
      "metadata": {
        "colab": {
          "base_uri": "https://localhost:8080/",
          "height": 542
        },
        "id": "A0CzVKdv9hhG",
        "outputId": "89e2e8d7-e506-41c1-9952-4653d34ca7e6"
      },
      "source": [
        "# import youth literacy rate and health expenditure\n",
        " \n",
        "health_df = pd.read_csv('lit_health_exp_gdp.csv')\n",
        "\n",
        "# drop unidentified column \n",
        "\n",
        "health_df.drop(columns=['Unnamed: 0'], inplace= True)\n",
        "\n",
        "# plot scatterplot to display general trend of literacy rate per health expenditure for 2011\n",
        "health_11 = health_df[health_df['Year'] == 2011]\n",
        "\n",
        "health_fig = px.scatter(\n",
        "                x = health_11['SH.XPD.CHEX.GD.ZS'], \n",
        "                y = health_11['SE.ADT.1524.LT.ZS'], \n",
        "                color = health_11['Country Name'],\n",
        "                hover_name = health_11['Country Name'],\n",
        "                title = 'Health Expenditure vs Youth Literacy Rate (2011)',\n",
        "                labels = {\n",
        "                \"x\": \"Current Health Expenditure (% of GDP)\",\n",
        "                \"y\": \"Literacy Rate, Youth Total (%)\",\n",
        "                \"color\": \"Country Name\"\n",
        "                }\n",
        "                ) \n",
        "\n",
        "health_fig.show()"
      ],
      "execution_count": 7,
      "outputs": [
        {
          "output_type": "display_data",
          "data": {
            "text/html": [
              "<html>\n",
              "<head><meta charset=\"utf-8\" /></head>\n",
              "<body>\n",
              "    <div>\n",
              "            <script src=\"https://cdnjs.cloudflare.com/ajax/libs/mathjax/2.7.5/MathJax.js?config=TeX-AMS-MML_SVG\"></script><script type=\"text/javascript\">if (window.MathJax) {MathJax.Hub.Config({SVG: {font: \"STIX-Web\"}});}</script>\n",
              "                <script type=\"text/javascript\">window.PlotlyConfig = {MathJaxConfig: 'local'};</script>\n",
              "        <script src=\"https://cdn.plot.ly/plotly-latest.min.js\"></script>    \n",
              "            <div id=\"31e7292b-7d61-4afa-9400-ee8c907cd1fe\" class=\"plotly-graph-div\" style=\"height:525px; width:100%;\"></div>\n",
              "            <script type=\"text/javascript\">\n",
              "                \n",
              "                    window.PLOTLYENV=window.PLOTLYENV || {};\n",
              "                    \n",
              "                if (document.getElementById(\"31e7292b-7d61-4afa-9400-ee8c907cd1fe\")) {\n",
              "                    Plotly.newPlot(\n",
              "                        '31e7292b-7d61-4afa-9400-ee8c907cd1fe',\n",
              "                        [{\"hoverlabel\": {\"namelength\": 0}, \"hovertemplate\": \"<b>%{hovertext}</b><br><br>Country Name=Afghanistan<br>Current Health Expenditure (% of GDP)=%{x}<br>Literacy Rate, Youth Total (%)=%{y}\", \"hovertext\": [\"Afghanistan\"], \"legendgroup\": \"Country Name=Afghanistan\", \"marker\": {\"color\": \"#636efa\", \"symbol\": \"circle\"}, \"mode\": \"markers\", \"name\": \"Country Name=Afghanistan\", \"showlegend\": true, \"type\": \"scatter\", \"x\": [8.56190681], \"xaxis\": \"x\", \"y\": [46.9900512695], \"yaxis\": \"y\"}, {\"hoverlabel\": {\"namelength\": 0}, \"hovertemplate\": \"<b>%{hovertext}</b><br><br>Country Name=Albania<br>Current Health Expenditure (% of GDP)=%{x}<br>Literacy Rate, Youth Total (%)=%{y}\", \"hovertext\": [\"Albania\"], \"legendgroup\": \"Country Name=Albania\", \"marker\": {\"color\": \"#EF553B\", \"symbol\": \"circle\"}, \"mode\": \"markers\", \"name\": \"Country Name=Albania\", \"showlegend\": true, \"type\": \"scatter\", \"x\": [4.79532719], \"xaxis\": \"x\", \"y\": [98.79119110110001], \"yaxis\": \"y\"}, {\"hoverlabel\": {\"namelength\": 0}, \"hovertemplate\": \"<b>%{hovertext}</b><br><br>Country Name=Argentina<br>Current Health Expenditure (% of GDP)=%{x}<br>Literacy Rate, Youth Total (%)=%{y}\", \"hovertext\": [\"Argentina\"], \"legendgroup\": \"Country Name=Argentina\", \"marker\": {\"color\": \"#00cc96\", \"symbol\": \"circle\"}, \"mode\": \"markers\", \"name\": \"Country Name=Argentina\", \"showlegend\": true, \"type\": \"scatter\", \"x\": [9.41819859], \"xaxis\": \"x\", \"y\": [99.62824249270001], \"yaxis\": \"y\"}, {\"hoverlabel\": {\"namelength\": 0}, \"hovertemplate\": \"<b>%{hovertext}</b><br><br>Country Name=Armenia<br>Current Health Expenditure (% of GDP)=%{x}<br>Literacy Rate, Youth Total (%)=%{y}\", \"hovertext\": [\"Armenia\"], \"legendgroup\": \"Country Name=Armenia\", \"marker\": {\"color\": \"#ab63fa\", \"symbol\": \"circle\"}, \"mode\": \"markers\", \"name\": \"Country Name=Armenia\", \"showlegend\": true, \"type\": \"scatter\", \"x\": [9.37588787], \"xaxis\": \"x\", \"y\": [99.84739685059999], \"yaxis\": \"y\"}, {\"hoverlabel\": {\"namelength\": 0}, \"hovertemplate\": \"<b>%{hovertext}</b><br><br>Country Name=Azerbaijan<br>Current Health Expenditure (% of GDP)=%{x}<br>Literacy Rate, Youth Total (%)=%{y}\", \"hovertext\": [\"Azerbaijan\"], \"legendgroup\": \"Country Name=Azerbaijan\", \"marker\": {\"color\": \"#FFA15A\", \"symbol\": \"circle\"}, \"mode\": \"markers\", \"name\": \"Country Name=Azerbaijan\", \"showlegend\": true, \"type\": \"scatter\", \"x\": [2.44641805], \"xaxis\": \"x\", \"y\": [99.94409942629999], \"yaxis\": \"y\"}, {\"hoverlabel\": {\"namelength\": 0}, \"hovertemplate\": \"<b>%{hovertext}</b><br><br>Country Name=Bangladesh<br>Current Health Expenditure (% of GDP)=%{x}<br>Literacy Rate, Youth Total (%)=%{y}\", \"hovertext\": [\"Bangladesh\"], \"legendgroup\": \"Country Name=Bangladesh\", \"marker\": {\"color\": \"#19d3f3\", \"symbol\": \"circle\"}, \"mode\": \"markers\", \"name\": \"Country Name=Bangladesh\", \"showlegend\": true, \"type\": \"scatter\", \"x\": [2.56593657], \"xaxis\": \"x\", \"y\": [77.984992981], \"yaxis\": \"y\"}, {\"hoverlabel\": {\"namelength\": 0}, \"hovertemplate\": \"<b>%{hovertext}</b><br><br>Country Name=Bolivia<br>Current Health Expenditure (% of GDP)=%{x}<br>Literacy Rate, Youth Total (%)=%{y}\", \"hovertext\": [\"Bolivia\"], \"legendgroup\": \"Country Name=Bolivia\", \"marker\": {\"color\": \"#FF6692\", \"symbol\": \"circle\"}, \"mode\": \"markers\", \"name\": \"Country Name=Bolivia\", \"showlegend\": true, \"type\": \"scatter\", \"x\": [5.17306805], \"xaxis\": \"x\", \"y\": [99.007522583], \"yaxis\": \"y\"}, {\"hoverlabel\": {\"namelength\": 0}, \"hovertemplate\": \"<b>%{hovertext}</b><br><br>Country Name=Bosnia and Herzegovina<br>Current Health Expenditure (% of GDP)=%{x}<br>Literacy Rate, Youth Total (%)=%{y}\", \"hovertext\": [\"Bosnia and Herzegovina\"], \"legendgroup\": \"Country Name=Bosnia and Herzegovina\", \"marker\": {\"color\": \"#B6E880\", \"symbol\": \"circle\"}, \"mode\": \"markers\", \"name\": \"Country Name=Bosnia and Herzegovina\", \"showlegend\": true, \"type\": \"scatter\", \"x\": [9.17856026], \"xaxis\": \"x\", \"y\": [99.46231079100001], \"yaxis\": \"y\"}, {\"hoverlabel\": {\"namelength\": 0}, \"hovertemplate\": \"<b>%{hovertext}</b><br><br>Country Name=Brazil<br>Current Health Expenditure (% of GDP)=%{x}<br>Literacy Rate, Youth Total (%)=%{y}\", \"hovertext\": [\"Brazil\"], \"legendgroup\": \"Country Name=Brazil\", \"marker\": {\"color\": \"#FF97FF\", \"symbol\": \"circle\"}, \"mode\": \"markers\", \"name\": \"Country Name=Brazil\", \"showlegend\": true, \"type\": \"scatter\", \"x\": [7.78833342], \"xaxis\": \"x\", \"y\": [98.48692321780001], \"yaxis\": \"y\"}, {\"hoverlabel\": {\"namelength\": 0}, \"hovertemplate\": \"<b>%{hovertext}</b><br><br>Country Name=Brunei Darussalam<br>Current Health Expenditure (% of GDP)=%{x}<br>Literacy Rate, Youth Total (%)=%{y}\", \"hovertext\": [\"Brunei Darussalam\"], \"legendgroup\": \"Country Name=Brunei Darussalam\", \"marker\": {\"color\": \"#FECB52\", \"symbol\": \"circle\"}, \"mode\": \"markers\", \"name\": \"Country Name=Brunei Darussalam\", \"showlegend\": true, \"type\": \"scatter\", \"x\": [1.86409724], \"xaxis\": \"x\", \"y\": [99.3667678833], \"yaxis\": \"y\"}, {\"hoverlabel\": {\"namelength\": 0}, \"hovertemplate\": \"<b>%{hovertext}</b><br><br>Country Name=Bulgaria<br>Current Health Expenditure (% of GDP)=%{x}<br>Literacy Rate, Youth Total (%)=%{y}\", \"hovertext\": [\"Bulgaria\"], \"legendgroup\": \"Country Name=Bulgaria\", \"marker\": {\"color\": \"#636efa\", \"symbol\": \"circle\"}, \"mode\": \"markers\", \"name\": \"Country Name=Bulgaria\", \"showlegend\": true, \"type\": \"scatter\", \"x\": [7.14162683], \"xaxis\": \"x\", \"y\": [97.86505126950001], \"yaxis\": \"y\"}, {\"hoverlabel\": {\"namelength\": 0}, \"hovertemplate\": \"<b>%{hovertext}</b><br><br>Country Name=Chile<br>Current Health Expenditure (% of GDP)=%{x}<br>Literacy Rate, Youth Total (%)=%{y}\", \"hovertext\": [\"Chile\"], \"legendgroup\": \"Country Name=Chile\", \"marker\": {\"color\": \"#EF553B\", \"symbol\": \"circle\"}, \"mode\": \"markers\", \"name\": \"Country Name=Chile\", \"showlegend\": true, \"type\": \"scatter\", \"x\": [6.7717886], \"xaxis\": \"x\", \"y\": [99.40818786620001], \"yaxis\": \"y\"}, {\"hoverlabel\": {\"namelength\": 0}, \"hovertemplate\": \"<b>%{hovertext}</b><br><br>Country Name=Colombia<br>Current Health Expenditure (% of GDP)=%{x}<br>Literacy Rate, Youth Total (%)=%{y}\", \"hovertext\": [\"Colombia\"], \"legendgroup\": \"Country Name=Colombia\", \"marker\": {\"color\": \"#00cc96\", \"symbol\": \"circle\"}, \"mode\": \"markers\", \"name\": \"Country Name=Colombia\", \"showlegend\": true, \"type\": \"scatter\", \"x\": [6.78076839], \"xaxis\": \"x\", \"y\": [98.23937988280001], \"yaxis\": \"y\"}, {\"hoverlabel\": {\"namelength\": 0}, \"hovertemplate\": \"<b>%{hovertext}</b><br><br>Country Name=Congo, Rep.<br>Current Health Expenditure (% of GDP)=%{x}<br>Literacy Rate, Youth Total (%)=%{y}\", \"hovertext\": [\"Congo, Rep.\"], \"legendgroup\": \"Country Name=Congo, Rep.\", \"marker\": {\"color\": \"#ab63fa\", \"symbol\": \"circle\"}, \"mode\": \"markers\", \"name\": \"Country Name=Congo, Rep.\", \"showlegend\": true, \"type\": \"scatter\", \"x\": [1.85153627], \"xaxis\": \"x\", \"y\": [80.9139480591], \"yaxis\": \"y\"}, {\"hoverlabel\": {\"namelength\": 0}, \"hovertemplate\": \"<b>%{hovertext}</b><br><br>Country Name=Costa Rica<br>Current Health Expenditure (% of GDP)=%{x}<br>Literacy Rate, Youth Total (%)=%{y}\", \"hovertext\": [\"Costa Rica\"], \"legendgroup\": \"Country Name=Costa Rica\", \"marker\": {\"color\": \"#FFA15A\", \"symbol\": \"circle\"}, \"mode\": \"markers\", \"name\": \"Country Name=Costa Rica\", \"showlegend\": true, \"type\": \"scatter\", \"x\": [8.21805191], \"xaxis\": \"x\", \"y\": [99.1336975098], \"yaxis\": \"y\"}, {\"hoverlabel\": {\"namelength\": 0}, \"hovertemplate\": \"<b>%{hovertext}</b><br><br>Country Name=Croatia<br>Current Health Expenditure (% of GDP)=%{x}<br>Literacy Rate, Youth Total (%)=%{y}\", \"hovertext\": [\"Croatia\"], \"legendgroup\": \"Country Name=Croatia\", \"marker\": {\"color\": \"#19d3f3\", \"symbol\": \"circle\"}, \"mode\": \"markers\", \"name\": \"Country Name=Croatia\", \"showlegend\": true, \"type\": \"scatter\", \"x\": [7.79134035], \"xaxis\": \"x\", \"y\": [99.7236328125], \"yaxis\": \"y\"}, {\"hoverlabel\": {\"namelength\": 0}, \"hovertemplate\": \"<b>%{hovertext}</b><br><br>Country Name=Cyprus<br>Current Health Expenditure (% of GDP)=%{x}<br>Literacy Rate, Youth Total (%)=%{y}\", \"hovertext\": [\"Cyprus\"], \"legendgroup\": \"Country Name=Cyprus\", \"marker\": {\"color\": \"#FF6692\", \"symbol\": \"circle\"}, \"mode\": \"markers\", \"name\": \"Country Name=Cyprus\", \"showlegend\": true, \"type\": \"scatter\", \"x\": [6.44928503], \"xaxis\": \"x\", \"y\": [99.82099151610001], \"yaxis\": \"y\"}, {\"hoverlabel\": {\"namelength\": 0}, \"hovertemplate\": \"<b>%{hovertext}</b><br><br>Country Name=Dominican Republic<br>Current Health Expenditure (% of GDP)=%{x}<br>Literacy Rate, Youth Total (%)=%{y}\", \"hovertext\": [\"Dominican Republic\"], \"legendgroup\": \"Country Name=Dominican Republic\", \"marker\": {\"color\": \"#B6E880\", \"symbol\": \"circle\"}, \"mode\": \"markers\", \"name\": \"Country Name=Dominican Republic\", \"showlegend\": true, \"type\": \"scatter\", \"x\": [5.66508865], \"xaxis\": \"x\", \"y\": [97.0420532227], \"yaxis\": \"y\"}, {\"hoverlabel\": {\"namelength\": 0}, \"hovertemplate\": \"<b>%{hovertext}</b><br><br>Country Name=Ecuador<br>Current Health Expenditure (% of GDP)=%{x}<br>Literacy Rate, Youth Total (%)=%{y}\", \"hovertext\": [\"Ecuador\"], \"legendgroup\": \"Country Name=Ecuador\", \"marker\": {\"color\": \"#FF97FF\", \"symbol\": \"circle\"}, \"mode\": \"markers\", \"name\": \"Country Name=Ecuador\", \"showlegend\": true, \"type\": \"scatter\", \"x\": [7.86521816], \"xaxis\": \"x\", \"y\": [98.6948394775], \"yaxis\": \"y\"}, {\"hoverlabel\": {\"namelength\": 0}, \"hovertemplate\": \"<b>%{hovertext}</b><br><br>Country Name=El Salvador<br>Current Health Expenditure (% of GDP)=%{x}<br>Literacy Rate, Youth Total (%)=%{y}\", \"hovertext\": [\"El Salvador\"], \"legendgroup\": \"Country Name=El Salvador\", \"marker\": {\"color\": \"#FECB52\", \"symbol\": \"circle\"}, \"mode\": \"markers\", \"name\": \"Country Name=El Salvador\", \"showlegend\": true, \"type\": \"scatter\", \"x\": [8.14439964], \"xaxis\": \"x\", \"y\": [96.5450897217], \"yaxis\": \"y\"}, {\"hoverlabel\": {\"namelength\": 0}, \"hovertemplate\": \"<b>%{hovertext}</b><br><br>Country Name=Estonia<br>Current Health Expenditure (% of GDP)=%{x}<br>Literacy Rate, Youth Total (%)=%{y}\", \"hovertext\": [\"Estonia\"], \"legendgroup\": \"Country Name=Estonia\", \"marker\": {\"color\": \"#636efa\", \"symbol\": \"circle\"}, \"mode\": \"markers\", \"name\": \"Country Name=Estonia\", \"showlegend\": true, \"type\": \"scatter\", \"x\": [5.76757813], \"xaxis\": \"x\", \"y\": [99.94889831540002], \"yaxis\": \"y\"}, {\"hoverlabel\": {\"namelength\": 0}, \"hovertemplate\": \"<b>%{hovertext}</b><br><br>Country Name=Greece<br>Current Health Expenditure (% of GDP)=%{x}<br>Literacy Rate, Youth Total (%)=%{y}\", \"hovertext\": [\"Greece\"], \"legendgroup\": \"Country Name=Greece\", \"marker\": {\"color\": \"#EF553B\", \"symbol\": \"circle\"}, \"mode\": \"markers\", \"name\": \"Country Name=Greece\", \"showlegend\": true, \"type\": \"scatter\", \"x\": [9.02808571], \"xaxis\": \"x\", \"y\": [98.81485748290001], \"yaxis\": \"y\"}, {\"hoverlabel\": {\"namelength\": 0}, \"hovertemplate\": \"<b>%{hovertext}</b><br><br>Country Name=Honduras<br>Current Health Expenditure (% of GDP)=%{x}<br>Literacy Rate, Youth Total (%)=%{y}\", \"hovertext\": [\"Honduras\"], \"legendgroup\": \"Country Name=Honduras\", \"marker\": {\"color\": \"#00cc96\", \"symbol\": \"circle\"}, \"mode\": \"markers\", \"name\": \"Country Name=Honduras\", \"showlegend\": true, \"type\": \"scatter\", \"x\": [8.79187012], \"xaxis\": \"x\", \"y\": [95.9250030518], \"yaxis\": \"y\"}, {\"hoverlabel\": {\"namelength\": 0}, \"hovertemplate\": \"<b>%{hovertext}</b><br><br>Country Name=India<br>Current Health Expenditure (% of GDP)=%{x}<br>Literacy Rate, Youth Total (%)=%{y}\", \"hovertext\": [\"India\"], \"legendgroup\": \"Country Name=India\", \"marker\": {\"color\": \"#ab63fa\", \"symbol\": \"circle\"}, \"mode\": \"markers\", \"name\": \"Country Name=India\", \"showlegend\": true, \"type\": \"scatter\", \"x\": [3.24634194], \"xaxis\": \"x\", \"y\": [86.14488220209999], \"yaxis\": \"y\"}, {\"hoverlabel\": {\"namelength\": 0}, \"hovertemplate\": \"<b>%{hovertext}</b><br><br>Country Name=Indonesia<br>Current Health Expenditure (% of GDP)=%{x}<br>Literacy Rate, Youth Total (%)=%{y}\", \"hovertext\": [\"Indonesia\"], \"legendgroup\": \"Country Name=Indonesia\", \"marker\": {\"color\": \"#FFA15A\", \"symbol\": \"circle\"}, \"mode\": \"markers\", \"name\": \"Country Name=Indonesia\", \"showlegend\": true, \"type\": \"scatter\", \"x\": [2.95542026], \"xaxis\": \"x\", \"y\": [98.77799987790002], \"yaxis\": \"y\"}, {\"hoverlabel\": {\"namelength\": 0}, \"hovertemplate\": \"<b>%{hovertext}</b><br><br>Country Name=Italy<br>Current Health Expenditure (% of GDP)=%{x}<br>Literacy Rate, Youth Total (%)=%{y}\", \"hovertext\": [\"Italy\"], \"legendgroup\": \"Country Name=Italy\", \"marker\": {\"color\": \"#19d3f3\", \"symbol\": \"circle\"}, \"mode\": \"markers\", \"name\": \"Country Name=Italy\", \"showlegend\": true, \"type\": \"scatter\", \"x\": [8.77413177], \"xaxis\": \"x\", \"y\": [99.8596420288], \"yaxis\": \"y\"}, {\"hoverlabel\": {\"namelength\": 0}, \"hovertemplate\": \"<b>%{hovertext}</b><br><br>Country Name=Jordan<br>Current Health Expenditure (% of GDP)=%{x}<br>Literacy Rate, Youth Total (%)=%{y}\", \"hovertext\": [\"Jordan\"], \"legendgroup\": \"Country Name=Jordan\", \"marker\": {\"color\": \"#FF6692\", \"symbol\": \"circle\"}, \"mode\": \"markers\", \"name\": \"Country Name=Jordan\", \"showlegend\": true, \"type\": \"scatter\", \"x\": [8.29931927], \"xaxis\": \"x\", \"y\": [99.14868164059999], \"yaxis\": \"y\"}, {\"hoverlabel\": {\"namelength\": 0}, \"hovertemplate\": \"<b>%{hovertext}</b><br><br>Country Name=Lao PDR<br>Current Health Expenditure (% of GDP)=%{x}<br>Literacy Rate, Youth Total (%)=%{y}\", \"hovertext\": [\"Lao PDR\"], \"legendgroup\": \"Country Name=Lao PDR\", \"marker\": {\"color\": \"#B6E880\", \"symbol\": \"circle\"}, \"mode\": \"markers\", \"name\": \"Country Name=Lao PDR\", \"showlegend\": true, \"type\": \"scatter\", \"x\": [1.94457507], \"xaxis\": \"x\", \"y\": [72.0562286377], \"yaxis\": \"y\"}, {\"hoverlabel\": {\"namelength\": 0}, \"hovertemplate\": \"<b>%{hovertext}</b><br><br>Country Name=Latvia<br>Current Health Expenditure (% of GDP)=%{x}<br>Literacy Rate, Youth Total (%)=%{y}\", \"hovertext\": [\"Latvia\"], \"legendgroup\": \"Country Name=Latvia\", \"marker\": {\"color\": \"#FF97FF\", \"symbol\": \"circle\"}, \"mode\": \"markers\", \"name\": \"Country Name=Latvia\", \"showlegend\": true, \"type\": \"scatter\", \"x\": [5.56752443], \"xaxis\": \"x\", \"y\": [99.8354263306], \"yaxis\": \"y\"}, {\"hoverlabel\": {\"namelength\": 0}, \"hovertemplate\": \"<b>%{hovertext}</b><br><br>Country Name=Lithuania<br>Current Health Expenditure (% of GDP)=%{x}<br>Literacy Rate, Youth Total (%)=%{y}\", \"hovertext\": [\"Lithuania\"], \"legendgroup\": \"Country Name=Lithuania\", \"marker\": {\"color\": \"#FECB52\", \"symbol\": \"circle\"}, \"mode\": \"markers\", \"name\": \"Country Name=Lithuania\", \"showlegend\": true, \"type\": \"scatter\", \"x\": [6.5051464999999995], \"xaxis\": \"x\", \"y\": [99.855796814], \"yaxis\": \"y\"}, {\"hoverlabel\": {\"namelength\": 0}, \"hovertemplate\": \"<b>%{hovertext}</b><br><br>Country Name=Mali<br>Current Health Expenditure (% of GDP)=%{x}<br>Literacy Rate, Youth Total (%)=%{y}\", \"hovertext\": [\"Mali\"], \"legendgroup\": \"Country Name=Mali\", \"marker\": {\"color\": \"#636efa\", \"symbol\": \"circle\"}, \"mode\": \"markers\", \"name\": \"Country Name=Mali\", \"showlegend\": true, \"type\": \"scatter\", \"x\": [4.01573372], \"xaxis\": \"x\", \"y\": [42.0952796936], \"yaxis\": \"y\"}, {\"hoverlabel\": {\"namelength\": 0}, \"hovertemplate\": \"<b>%{hovertext}</b><br><br>Country Name=Malta<br>Current Health Expenditure (% of GDP)=%{x}<br>Literacy Rate, Youth Total (%)=%{y}\", \"hovertext\": [\"Malta\"], \"legendgroup\": \"Country Name=Malta\", \"marker\": {\"color\": \"#EF553B\", \"symbol\": \"circle\"}, \"mode\": \"markers\", \"name\": \"Country Name=Malta\", \"showlegend\": true, \"type\": \"scatter\", \"x\": [8.56064224], \"xaxis\": \"x\", \"y\": [98.88194274899999], \"yaxis\": \"y\"}, {\"hoverlabel\": {\"namelength\": 0}, \"hovertemplate\": \"<b>%{hovertext}</b><br><br>Country Name=Marshall Islands<br>Current Health Expenditure (% of GDP)=%{x}<br>Literacy Rate, Youth Total (%)=%{y}\", \"hovertext\": [\"Marshall Islands\"], \"legendgroup\": \"Country Name=Marshall Islands\", \"marker\": {\"color\": \"#00cc96\", \"symbol\": \"circle\"}, \"mode\": \"markers\", \"name\": \"Country Name=Marshall Islands\", \"showlegend\": true, \"type\": \"scatter\", \"x\": [14.56823158], \"xaxis\": \"x\", \"y\": [98.4587783813], \"yaxis\": \"y\"}, {\"hoverlabel\": {\"namelength\": 0}, \"hovertemplate\": \"<b>%{hovertext}</b><br><br>Country Name=Mauritius<br>Current Health Expenditure (% of GDP)=%{x}<br>Literacy Rate, Youth Total (%)=%{y}\", \"hovertext\": [\"Mauritius\"], \"legendgroup\": \"Country Name=Mauritius\", \"marker\": {\"color\": \"#ab63fa\", \"symbol\": \"circle\"}, \"mode\": \"markers\", \"name\": \"Country Name=Mauritius\", \"showlegend\": true, \"type\": \"scatter\", \"x\": [4.3078289000000005], \"xaxis\": \"x\", \"y\": [98.1303482056], \"yaxis\": \"y\"}, {\"hoverlabel\": {\"namelength\": 0}, \"hovertemplate\": \"<b>%{hovertext}</b><br><br>Country Name=Mexico<br>Current Health Expenditure (% of GDP)=%{x}<br>Literacy Rate, Youth Total (%)=%{y}\", \"hovertext\": [\"Mexico\"], \"legendgroup\": \"Country Name=Mexico\", \"marker\": {\"color\": \"#FFA15A\", \"symbol\": \"circle\"}, \"mode\": \"markers\", \"name\": \"Country Name=Mexico\", \"showlegend\": true, \"type\": \"scatter\", \"x\": [5.70114136], \"xaxis\": \"x\", \"y\": [98.461769104], \"yaxis\": \"y\"}, {\"hoverlabel\": {\"namelength\": 0}, \"hovertemplate\": \"<b>%{hovertext}</b><br><br>Country Name=Morocco<br>Current Health Expenditure (% of GDP)=%{x}<br>Literacy Rate, Youth Total (%)=%{y}\", \"hovertext\": [\"Morocco\"], \"legendgroup\": \"Country Name=Morocco\", \"marker\": {\"color\": \"#19d3f3\", \"symbol\": \"circle\"}, \"mode\": \"markers\", \"name\": \"Country Name=Morocco\", \"showlegend\": true, \"type\": \"scatter\", \"x\": [5.7329935999999995], \"xaxis\": \"x\", \"y\": [81.5100708008], \"yaxis\": \"y\"}, {\"hoverlabel\": {\"namelength\": 0}, \"hovertemplate\": \"<b>%{hovertext}</b><br><br>Country Name=Namibia<br>Current Health Expenditure (% of GDP)=%{x}<br>Literacy Rate, Youth Total (%)=%{y}\", \"hovertext\": [\"Namibia\"], \"legendgroup\": \"Country Name=Namibia\", \"marker\": {\"color\": \"#FF6692\", \"symbol\": \"circle\"}, \"mode\": \"markers\", \"name\": \"Country Name=Namibia\", \"showlegend\": true, \"type\": \"scatter\", \"x\": [9.82976627], \"xaxis\": \"x\", \"y\": [94.4194412231], \"yaxis\": \"y\"}, {\"hoverlabel\": {\"namelength\": 0}, \"hovertemplate\": \"<b>%{hovertext}</b><br><br>Country Name=Nepal<br>Current Health Expenditure (% of GDP)=%{x}<br>Literacy Rate, Youth Total (%)=%{y}\", \"hovertext\": [\"Nepal\"], \"legendgroup\": \"Country Name=Nepal\", \"marker\": {\"color\": \"#B6E880\", \"symbol\": \"circle\"}, \"mode\": \"markers\", \"name\": \"Country Name=Nepal\", \"showlegend\": true, \"type\": \"scatter\", \"x\": [5.0784235], \"xaxis\": \"x\", \"y\": [84.75714874270001], \"yaxis\": \"y\"}, {\"hoverlabel\": {\"namelength\": 0}, \"hovertemplate\": \"<b>%{hovertext}</b><br><br>Country Name=Pakistan<br>Current Health Expenditure (% of GDP)=%{x}<br>Literacy Rate, Youth Total (%)=%{y}\", \"hovertext\": [\"Pakistan\"], \"legendgroup\": \"Country Name=Pakistan\", \"marker\": {\"color\": \"#FF97FF\", \"symbol\": \"circle\"}, \"mode\": \"markers\", \"name\": \"Country Name=Pakistan\", \"showlegend\": true, \"type\": \"scatter\", \"x\": [2.34442639], \"xaxis\": \"x\", \"y\": [70.7693328857], \"yaxis\": \"y\"}, {\"hoverlabel\": {\"namelength\": 0}, \"hovertemplate\": \"<b>%{hovertext}</b><br><br>Country Name=Portugal<br>Current Health Expenditure (% of GDP)=%{x}<br>Literacy Rate, Youth Total (%)=%{y}\", \"hovertext\": [\"Portugal\"], \"legendgroup\": \"Country Name=Portugal\", \"marker\": {\"color\": \"#FECB52\", \"symbol\": \"circle\"}, \"mode\": \"markers\", \"name\": \"Country Name=Portugal\", \"showlegend\": true, \"type\": \"scatter\", \"x\": [9.53497028], \"xaxis\": \"x\", \"y\": [99.4351196289], \"yaxis\": \"y\"}, {\"hoverlabel\": {\"namelength\": 0}, \"hovertemplate\": \"<b>%{hovertext}</b><br><br>Country Name=Qatar<br>Current Health Expenditure (% of GDP)=%{x}<br>Literacy Rate, Youth Total (%)=%{y}\", \"hovertext\": [\"Qatar\"], \"legendgroup\": \"Country Name=Qatar\", \"marker\": {\"color\": \"#636efa\", \"symbol\": \"circle\"}, \"mode\": \"markers\", \"name\": \"Country Name=Qatar\", \"showlegend\": true, \"type\": \"scatter\", \"x\": [1.59996212], \"xaxis\": \"x\", \"y\": [94.60941314700001], \"yaxis\": \"y\"}, {\"hoverlabel\": {\"namelength\": 0}, \"hovertemplate\": \"<b>%{hovertext}</b><br><br>Country Name=Romania<br>Current Health Expenditure (% of GDP)=%{x}<br>Literacy Rate, Youth Total (%)=%{y}\", \"hovertext\": [\"Romania\"], \"legendgroup\": \"Country Name=Romania\", \"marker\": {\"color\": \"#EF553B\", \"symbol\": \"circle\"}, \"mode\": \"markers\", \"name\": \"Country Name=Romania\", \"showlegend\": true, \"type\": \"scatter\", \"x\": [4.69901562], \"xaxis\": \"x\", \"y\": [98.99568939209999], \"yaxis\": \"y\"}, {\"hoverlabel\": {\"namelength\": 0}, \"hovertemplate\": \"<b>%{hovertext}</b><br><br>Country Name=Samoa<br>Current Health Expenditure (% of GDP)=%{x}<br>Literacy Rate, Youth Total (%)=%{y}\", \"hovertext\": [\"Samoa\"], \"legendgroup\": \"Country Name=Samoa\", \"marker\": {\"color\": \"#00cc96\", \"symbol\": \"circle\"}, \"mode\": \"markers\", \"name\": \"Country Name=Samoa\", \"showlegend\": true, \"type\": \"scatter\", \"x\": [5.42492199], \"xaxis\": \"x\", \"y\": [99.2356567383], \"yaxis\": \"y\"}, {\"hoverlabel\": {\"namelength\": 0}, \"hovertemplate\": \"<b>%{hovertext}</b><br><br>Country Name=Senegal<br>Current Health Expenditure (% of GDP)=%{x}<br>Literacy Rate, Youth Total (%)=%{y}\", \"hovertext\": [\"Senegal\"], \"legendgroup\": \"Country Name=Senegal\", \"marker\": {\"color\": \"#ab63fa\", \"symbol\": \"circle\"}, \"mode\": \"markers\", \"name\": \"Country Name=Senegal\", \"showlegend\": true, \"type\": \"scatter\", \"x\": [4.19347048], \"xaxis\": \"x\", \"y\": [65.7805099487], \"yaxis\": \"y\"}, {\"hoverlabel\": {\"namelength\": 0}, \"hovertemplate\": \"<b>%{hovertext}</b><br><br>Country Name=Serbia<br>Current Health Expenditure (% of GDP)=%{x}<br>Literacy Rate, Youth Total (%)=%{y}\", \"hovertext\": [\"Serbia\"], \"legendgroup\": \"Country Name=Serbia\", \"marker\": {\"color\": \"#FFA15A\", \"symbol\": \"circle\"}, \"mode\": \"markers\", \"name\": \"Country Name=Serbia\", \"showlegend\": true, \"type\": \"scatter\", \"x\": [9.11380005], \"xaxis\": \"x\", \"y\": [99.30869293209999], \"yaxis\": \"y\"}, {\"hoverlabel\": {\"namelength\": 0}, \"hovertemplate\": \"<b>%{hovertext}</b><br><br>Country Name=Singapore<br>Current Health Expenditure (% of GDP)=%{x}<br>Literacy Rate, Youth Total (%)=%{y}\", \"hovertext\": [\"Singapore\"], \"legendgroup\": \"Country Name=Singapore\", \"marker\": {\"color\": \"#19d3f3\", \"symbol\": \"circle\"}, \"mode\": \"markers\", \"name\": \"Country Name=Singapore\", \"showlegend\": true, \"type\": \"scatter\", \"x\": [3.15792179], \"xaxis\": \"x\", \"y\": [99.8871994019], \"yaxis\": \"y\"}, {\"hoverlabel\": {\"namelength\": 0}, \"hovertemplate\": \"<b>%{hovertext}</b><br><br>Country Name=South Africa<br>Current Health Expenditure (% of GDP)=%{x}<br>Literacy Rate, Youth Total (%)=%{y}\", \"hovertext\": [\"South Africa\"], \"legendgroup\": \"Country Name=South Africa\", \"marker\": {\"color\": \"#FF6692\", \"symbol\": \"circle\"}, \"mode\": \"markers\", \"name\": \"Country Name=South Africa\", \"showlegend\": true, \"type\": \"scatter\", \"x\": [7.49731731], \"xaxis\": \"x\", \"y\": [98.78965759280001], \"yaxis\": \"y\"}, {\"hoverlabel\": {\"namelength\": 0}, \"hovertemplate\": \"<b>%{hovertext}</b><br><br>Country Name=Spain<br>Current Health Expenditure (% of GDP)=%{x}<br>Literacy Rate, Youth Total (%)=%{y}\", \"hovertext\": [\"Spain\"], \"legendgroup\": \"Country Name=Spain\", \"marker\": {\"color\": \"#B6E880\", \"symbol\": \"circle\"}, \"mode\": \"markers\", \"name\": \"Country Name=Spain\", \"showlegend\": true, \"type\": \"scatter\", \"x\": [9.16859245], \"xaxis\": \"x\", \"y\": [99.69940185549999], \"yaxis\": \"y\"}, {\"hoverlabel\": {\"namelength\": 0}, \"hovertemplate\": \"<b>%{hovertext}</b><br><br>Country Name=Togo<br>Current Health Expenditure (% of GDP)=%{x}<br>Literacy Rate, Youth Total (%)=%{y}\", \"hovertext\": [\"Togo\"], \"legendgroup\": \"Country Name=Togo\", \"marker\": {\"color\": \"#FF97FF\", \"symbol\": \"circle\"}, \"mode\": \"markers\", \"name\": \"Country Name=Togo\", \"showlegend\": true, \"type\": \"scatter\", \"x\": [5.99588251], \"xaxis\": \"x\", \"y\": [79.8859100342], \"yaxis\": \"y\"}, {\"hoverlabel\": {\"namelength\": 0}, \"hovertemplate\": \"<b>%{hovertext}</b><br><br>Country Name=Tonga<br>Current Health Expenditure (% of GDP)=%{x}<br>Literacy Rate, Youth Total (%)=%{y}\", \"hovertext\": [\"Tonga\"], \"legendgroup\": \"Country Name=Tonga\", \"marker\": {\"color\": \"#FECB52\", \"symbol\": \"circle\"}, \"mode\": \"markers\", \"name\": \"Country Name=Tonga\", \"showlegend\": true, \"type\": \"scatter\", \"x\": [3.86217117], \"xaxis\": \"x\", \"y\": [99.4370269775], \"yaxis\": \"y\"}, {\"hoverlabel\": {\"namelength\": 0}, \"hovertemplate\": \"<b>%{hovertext}</b><br><br>Country Name=Tunisia<br>Current Health Expenditure (% of GDP)=%{x}<br>Literacy Rate, Youth Total (%)=%{y}\", \"hovertext\": [\"Tunisia\"], \"legendgroup\": \"Country Name=Tunisia\", \"marker\": {\"color\": \"#636efa\", \"symbol\": \"circle\"}, \"mode\": \"markers\", \"name\": \"Country Name=Tunisia\", \"showlegend\": true, \"type\": \"scatter\", \"x\": [6.43202877], \"xaxis\": \"x\", \"y\": [97.30444335940001], \"yaxis\": \"y\"}, {\"hoverlabel\": {\"namelength\": 0}, \"hovertemplate\": \"<b>%{hovertext}</b><br><br>Country Name=Turkey<br>Current Health Expenditure (% of GDP)=%{x}<br>Literacy Rate, Youth Total (%)=%{y}\", \"hovertext\": [\"Turkey\"], \"legendgroup\": \"Country Name=Turkey\", \"marker\": {\"color\": \"#EF553B\", \"symbol\": \"circle\"}, \"mode\": \"markers\", \"name\": \"Country Name=Turkey\", \"showlegend\": true, \"type\": \"scatter\", \"x\": [4.6530509], \"xaxis\": \"x\", \"y\": [98.7093505859], \"yaxis\": \"y\"}, {\"hoverlabel\": {\"namelength\": 0}, \"hovertemplate\": \"<b>%{hovertext}</b><br><br>Country Name=Uruguay<br>Current Health Expenditure (% of GDP)=%{x}<br>Literacy Rate, Youth Total (%)=%{y}\", \"hovertext\": [\"Uruguay\"], \"legendgroup\": \"Country Name=Uruguay\", \"marker\": {\"color\": \"#00cc96\", \"symbol\": \"circle\"}, \"mode\": \"markers\", \"name\": \"Country Name=Uruguay\", \"showlegend\": true, \"type\": \"scatter\", \"x\": [8.63529015], \"xaxis\": \"x\", \"y\": [98.8622207642], \"yaxis\": \"y\"}, {\"hoverlabel\": {\"namelength\": 0}, \"hovertemplate\": \"<b>%{hovertext}</b><br><br>Country Name=Venezuela, RB<br>Current Health Expenditure (% of GDP)=%{x}<br>Literacy Rate, Youth Total (%)=%{y}\", \"hovertext\": [\"Venezuela, RB\"], \"legendgroup\": \"Country Name=Venezuela, RB\", \"marker\": {\"color\": \"#ab63fa\", \"symbol\": \"circle\"}, \"mode\": \"markers\", \"name\": \"Country Name=Venezuela, RB\", \"showlegend\": true, \"type\": \"scatter\", \"x\": [7.17709732], \"xaxis\": \"x\", \"y\": [97.5591583252], \"yaxis\": \"y\"}, {\"hoverlabel\": {\"namelength\": 0}, \"hovertemplate\": \"<b>%{hovertext}</b><br><br>Country Name=Zimbabwe<br>Current Health Expenditure (% of GDP)=%{x}<br>Literacy Rate, Youth Total (%)=%{y}\", \"hovertext\": [\"Zimbabwe\"], \"legendgroup\": \"Country Name=Zimbabwe\", \"marker\": {\"color\": \"#FFA15A\", \"symbol\": \"circle\"}, \"mode\": \"markers\", \"name\": \"Country Name=Zimbabwe\", \"showlegend\": true, \"type\": \"scatter\", \"x\": [8.08173752], \"xaxis\": \"x\", \"y\": [90.93070220950001], \"yaxis\": \"y\"}],\n",
              "                        {\"legend\": {\"tracegroupgap\": 0}, \"template\": {\"data\": {\"bar\": [{\"error_x\": {\"color\": \"#2a3f5f\"}, \"error_y\": {\"color\": \"#2a3f5f\"}, \"marker\": {\"line\": {\"color\": \"#E5ECF6\", \"width\": 0.5}}, \"type\": \"bar\"}], \"barpolar\": [{\"marker\": {\"line\": {\"color\": \"#E5ECF6\", \"width\": 0.5}}, \"type\": \"barpolar\"}], \"carpet\": [{\"aaxis\": {\"endlinecolor\": \"#2a3f5f\", \"gridcolor\": \"white\", \"linecolor\": \"white\", \"minorgridcolor\": \"white\", \"startlinecolor\": \"#2a3f5f\"}, \"baxis\": {\"endlinecolor\": \"#2a3f5f\", \"gridcolor\": \"white\", \"linecolor\": \"white\", \"minorgridcolor\": \"white\", \"startlinecolor\": \"#2a3f5f\"}, \"type\": \"carpet\"}], \"choropleth\": [{\"colorbar\": {\"outlinewidth\": 0, \"ticks\": \"\"}, \"type\": \"choropleth\"}], \"contour\": [{\"colorbar\": {\"outlinewidth\": 0, \"ticks\": \"\"}, \"colorscale\": [[0.0, \"#0d0887\"], [0.1111111111111111, \"#46039f\"], [0.2222222222222222, \"#7201a8\"], [0.3333333333333333, \"#9c179e\"], [0.4444444444444444, \"#bd3786\"], [0.5555555555555556, \"#d8576b\"], [0.6666666666666666, \"#ed7953\"], [0.7777777777777778, \"#fb9f3a\"], [0.8888888888888888, \"#fdca26\"], [1.0, \"#f0f921\"]], \"type\": \"contour\"}], \"contourcarpet\": [{\"colorbar\": {\"outlinewidth\": 0, \"ticks\": \"\"}, \"type\": \"contourcarpet\"}], \"heatmap\": [{\"colorbar\": {\"outlinewidth\": 0, \"ticks\": \"\"}, \"colorscale\": [[0.0, \"#0d0887\"], [0.1111111111111111, \"#46039f\"], [0.2222222222222222, \"#7201a8\"], [0.3333333333333333, \"#9c179e\"], [0.4444444444444444, \"#bd3786\"], [0.5555555555555556, \"#d8576b\"], [0.6666666666666666, \"#ed7953\"], [0.7777777777777778, \"#fb9f3a\"], [0.8888888888888888, \"#fdca26\"], [1.0, \"#f0f921\"]], \"type\": \"heatmap\"}], \"heatmapgl\": [{\"colorbar\": {\"outlinewidth\": 0, \"ticks\": \"\"}, \"colorscale\": [[0.0, \"#0d0887\"], [0.1111111111111111, \"#46039f\"], [0.2222222222222222, \"#7201a8\"], [0.3333333333333333, \"#9c179e\"], [0.4444444444444444, \"#bd3786\"], [0.5555555555555556, \"#d8576b\"], [0.6666666666666666, \"#ed7953\"], [0.7777777777777778, \"#fb9f3a\"], [0.8888888888888888, \"#fdca26\"], [1.0, \"#f0f921\"]], \"type\": \"heatmapgl\"}], \"histogram\": [{\"marker\": {\"colorbar\": {\"outlinewidth\": 0, \"ticks\": \"\"}}, \"type\": \"histogram\"}], \"histogram2d\": [{\"colorbar\": {\"outlinewidth\": 0, \"ticks\": \"\"}, \"colorscale\": [[0.0, \"#0d0887\"], [0.1111111111111111, \"#46039f\"], [0.2222222222222222, \"#7201a8\"], [0.3333333333333333, \"#9c179e\"], [0.4444444444444444, \"#bd3786\"], [0.5555555555555556, \"#d8576b\"], [0.6666666666666666, \"#ed7953\"], [0.7777777777777778, \"#fb9f3a\"], [0.8888888888888888, \"#fdca26\"], [1.0, \"#f0f921\"]], \"type\": \"histogram2d\"}], \"histogram2dcontour\": [{\"colorbar\": {\"outlinewidth\": 0, \"ticks\": \"\"}, \"colorscale\": [[0.0, \"#0d0887\"], [0.1111111111111111, \"#46039f\"], [0.2222222222222222, \"#7201a8\"], [0.3333333333333333, \"#9c179e\"], [0.4444444444444444, \"#bd3786\"], [0.5555555555555556, \"#d8576b\"], [0.6666666666666666, \"#ed7953\"], [0.7777777777777778, \"#fb9f3a\"], [0.8888888888888888, \"#fdca26\"], [1.0, \"#f0f921\"]], \"type\": \"histogram2dcontour\"}], \"mesh3d\": [{\"colorbar\": {\"outlinewidth\": 0, \"ticks\": \"\"}, \"type\": \"mesh3d\"}], \"parcoords\": [{\"line\": {\"colorbar\": {\"outlinewidth\": 0, \"ticks\": \"\"}}, \"type\": \"parcoords\"}], \"pie\": [{\"automargin\": true, \"type\": \"pie\"}], \"scatter\": [{\"marker\": {\"colorbar\": {\"outlinewidth\": 0, \"ticks\": \"\"}}, \"type\": \"scatter\"}], \"scatter3d\": [{\"line\": {\"colorbar\": {\"outlinewidth\": 0, \"ticks\": \"\"}}, \"marker\": {\"colorbar\": {\"outlinewidth\": 0, \"ticks\": \"\"}}, \"type\": \"scatter3d\"}], \"scattercarpet\": [{\"marker\": {\"colorbar\": {\"outlinewidth\": 0, \"ticks\": \"\"}}, \"type\": \"scattercarpet\"}], \"scattergeo\": [{\"marker\": {\"colorbar\": {\"outlinewidth\": 0, \"ticks\": \"\"}}, \"type\": \"scattergeo\"}], \"scattergl\": [{\"marker\": {\"colorbar\": {\"outlinewidth\": 0, \"ticks\": \"\"}}, \"type\": \"scattergl\"}], \"scattermapbox\": [{\"marker\": {\"colorbar\": {\"outlinewidth\": 0, \"ticks\": \"\"}}, \"type\": \"scattermapbox\"}], \"scatterpolar\": [{\"marker\": {\"colorbar\": {\"outlinewidth\": 0, \"ticks\": \"\"}}, \"type\": \"scatterpolar\"}], \"scatterpolargl\": [{\"marker\": {\"colorbar\": {\"outlinewidth\": 0, \"ticks\": \"\"}}, \"type\": \"scatterpolargl\"}], \"scatterternary\": [{\"marker\": {\"colorbar\": {\"outlinewidth\": 0, \"ticks\": \"\"}}, \"type\": \"scatterternary\"}], \"surface\": [{\"colorbar\": {\"outlinewidth\": 0, \"ticks\": \"\"}, \"colorscale\": [[0.0, \"#0d0887\"], [0.1111111111111111, \"#46039f\"], [0.2222222222222222, \"#7201a8\"], [0.3333333333333333, \"#9c179e\"], [0.4444444444444444, \"#bd3786\"], [0.5555555555555556, \"#d8576b\"], [0.6666666666666666, \"#ed7953\"], [0.7777777777777778, \"#fb9f3a\"], [0.8888888888888888, \"#fdca26\"], [1.0, \"#f0f921\"]], \"type\": \"surface\"}], \"table\": [{\"cells\": {\"fill\": {\"color\": \"#EBF0F8\"}, \"line\": {\"color\": \"white\"}}, \"header\": {\"fill\": {\"color\": \"#C8D4E3\"}, \"line\": {\"color\": \"white\"}}, \"type\": \"table\"}]}, \"layout\": {\"annotationdefaults\": {\"arrowcolor\": \"#2a3f5f\", \"arrowhead\": 0, \"arrowwidth\": 1}, \"coloraxis\": {\"colorbar\": {\"outlinewidth\": 0, \"ticks\": \"\"}}, \"colorscale\": {\"diverging\": [[0, \"#8e0152\"], [0.1, \"#c51b7d\"], [0.2, \"#de77ae\"], [0.3, \"#f1b6da\"], [0.4, \"#fde0ef\"], [0.5, \"#f7f7f7\"], [0.6, \"#e6f5d0\"], [0.7, \"#b8e186\"], [0.8, \"#7fbc41\"], [0.9, \"#4d9221\"], [1, \"#276419\"]], \"sequential\": [[0.0, \"#0d0887\"], [0.1111111111111111, \"#46039f\"], [0.2222222222222222, \"#7201a8\"], [0.3333333333333333, \"#9c179e\"], [0.4444444444444444, \"#bd3786\"], [0.5555555555555556, \"#d8576b\"], [0.6666666666666666, \"#ed7953\"], [0.7777777777777778, \"#fb9f3a\"], [0.8888888888888888, \"#fdca26\"], [1.0, \"#f0f921\"]], \"sequentialminus\": [[0.0, \"#0d0887\"], [0.1111111111111111, \"#46039f\"], [0.2222222222222222, \"#7201a8\"], [0.3333333333333333, \"#9c179e\"], [0.4444444444444444, \"#bd3786\"], [0.5555555555555556, \"#d8576b\"], [0.6666666666666666, \"#ed7953\"], [0.7777777777777778, \"#fb9f3a\"], [0.8888888888888888, \"#fdca26\"], [1.0, \"#f0f921\"]]}, \"colorway\": [\"#636efa\", \"#EF553B\", \"#00cc96\", \"#ab63fa\", \"#FFA15A\", \"#19d3f3\", \"#FF6692\", \"#B6E880\", \"#FF97FF\", \"#FECB52\"], \"font\": {\"color\": \"#2a3f5f\"}, \"geo\": {\"bgcolor\": \"white\", \"lakecolor\": \"white\", \"landcolor\": \"#E5ECF6\", \"showlakes\": true, \"showland\": true, \"subunitcolor\": \"white\"}, \"hoverlabel\": {\"align\": \"left\"}, \"hovermode\": \"closest\", \"mapbox\": {\"style\": \"light\"}, \"paper_bgcolor\": \"white\", \"plot_bgcolor\": \"#E5ECF6\", \"polar\": {\"angularaxis\": {\"gridcolor\": \"white\", \"linecolor\": \"white\", \"ticks\": \"\"}, \"bgcolor\": \"#E5ECF6\", \"radialaxis\": {\"gridcolor\": \"white\", \"linecolor\": \"white\", \"ticks\": \"\"}}, \"scene\": {\"xaxis\": {\"backgroundcolor\": \"#E5ECF6\", \"gridcolor\": \"white\", \"gridwidth\": 2, \"linecolor\": \"white\", \"showbackground\": true, \"ticks\": \"\", \"zerolinecolor\": \"white\"}, \"yaxis\": {\"backgroundcolor\": \"#E5ECF6\", \"gridcolor\": \"white\", \"gridwidth\": 2, \"linecolor\": \"white\", \"showbackground\": true, \"ticks\": \"\", \"zerolinecolor\": \"white\"}, \"zaxis\": {\"backgroundcolor\": \"#E5ECF6\", \"gridcolor\": \"white\", \"gridwidth\": 2, \"linecolor\": \"white\", \"showbackground\": true, \"ticks\": \"\", \"zerolinecolor\": \"white\"}}, \"shapedefaults\": {\"line\": {\"color\": \"#2a3f5f\"}}, \"ternary\": {\"aaxis\": {\"gridcolor\": \"white\", \"linecolor\": \"white\", \"ticks\": \"\"}, \"baxis\": {\"gridcolor\": \"white\", \"linecolor\": \"white\", \"ticks\": \"\"}, \"bgcolor\": \"#E5ECF6\", \"caxis\": {\"gridcolor\": \"white\", \"linecolor\": \"white\", \"ticks\": \"\"}}, \"title\": {\"x\": 0.05}, \"xaxis\": {\"automargin\": true, \"gridcolor\": \"white\", \"linecolor\": \"white\", \"ticks\": \"\", \"title\": {\"standoff\": 15}, \"zerolinecolor\": \"white\", \"zerolinewidth\": 2}, \"yaxis\": {\"automargin\": true, \"gridcolor\": \"white\", \"linecolor\": \"white\", \"ticks\": \"\", \"title\": {\"standoff\": 15}, \"zerolinecolor\": \"white\", \"zerolinewidth\": 2}}}, \"title\": {\"text\": \"Health Expenditure vs Youth Literacy Rate (2011)\"}, \"xaxis\": {\"anchor\": \"y\", \"domain\": [0.0, 1.0], \"title\": {\"text\": \"Current Health Expenditure (% of GDP)\"}}, \"yaxis\": {\"anchor\": \"x\", \"domain\": [0.0, 1.0], \"title\": {\"text\": \"Literacy Rate, Youth Total (%)\"}}},\n",
              "                        {\"responsive\": true}\n",
              "                    ).then(function(){\n",
              "                            \n",
              "var gd = document.getElementById('31e7292b-7d61-4afa-9400-ee8c907cd1fe');\n",
              "var x = new MutationObserver(function (mutations, observer) {{\n",
              "        var display = window.getComputedStyle(gd).display;\n",
              "        if (!display || display === 'none') {{\n",
              "            console.log([gd, 'removed!']);\n",
              "            Plotly.purge(gd);\n",
              "            observer.disconnect();\n",
              "        }}\n",
              "}});\n",
              "\n",
              "// Listen for the removal of the full notebook cells\n",
              "var notebookContainer = gd.closest('#notebook-container');\n",
              "if (notebookContainer) {{\n",
              "    x.observe(notebookContainer, {childList: true});\n",
              "}}\n",
              "\n",
              "// Listen for the clearing of the current output cell\n",
              "var outputEl = gd.closest('.output');\n",
              "if (outputEl) {{\n",
              "    x.observe(outputEl, {childList: true});\n",
              "}}\n",
              "\n",
              "                        })\n",
              "                };\n",
              "                \n",
              "            </script>\n",
              "        </div>\n",
              "</body>\n",
              "</html>"
            ]
          },
          "metadata": {
            "tags": []
          }
        }
      ]
    },
    {
      "cell_type": "markdown",
      "metadata": {
        "id": "TkyCtYmP9g0O"
      },
      "source": [
        "The general trend of all regions tends to show high variability  among highly literate regions. Many countries with 90% or higher youth literacy rate spend between 2% to almost 10% of their GDP on health expenditure. "
      ]
    },
    {
      "cell_type": "code",
      "metadata": {
        "colab": {
          "base_uri": "https://localhost:8080/",
          "height": 542
        },
        "id": "Puw8EhXCAMbH",
        "outputId": "b0202562-6a26-4e5a-b5ed-039ef8e782b6"
      },
      "source": [
        "# filter out Afghanistan data and display on scatterplot\n",
        "\n",
        "afghanistan = health_11[health_11['Country Name'] == 'Afghanistan']\n",
        "\n",
        "afghanistan_fig = px.scatter(\n",
        "                x = afghanistan['SH.XPD.CHEX.GD.ZS'], \n",
        "                y = afghanistan['SE.ADT.1524.LT.ZS'], \n",
        "                color = afghanistan['Country Name'],\n",
        "                hover_name = afghanistan['Country Name'],\n",
        "                title = 'Afghanistan Health Expenditure vs Youth Literacy Rate (2011)',\n",
        "                labels = {\n",
        "                \"x\": \"Current Health Expenditure (% of GDP)\",\n",
        "                \"y\": \"Literacy Rate, Youth Total (%)\",\n",
        "                \"color\": \"Country Name\"\n",
        "                }\n",
        "                ) \n",
        "\n",
        "afghanistan_fig.show()"
      ],
      "execution_count": 8,
      "outputs": [
        {
          "output_type": "display_data",
          "data": {
            "text/html": [
              "<html>\n",
              "<head><meta charset=\"utf-8\" /></head>\n",
              "<body>\n",
              "    <div>\n",
              "            <script src=\"https://cdnjs.cloudflare.com/ajax/libs/mathjax/2.7.5/MathJax.js?config=TeX-AMS-MML_SVG\"></script><script type=\"text/javascript\">if (window.MathJax) {MathJax.Hub.Config({SVG: {font: \"STIX-Web\"}});}</script>\n",
              "                <script type=\"text/javascript\">window.PlotlyConfig = {MathJaxConfig: 'local'};</script>\n",
              "        <script src=\"https://cdn.plot.ly/plotly-latest.min.js\"></script>    \n",
              "            <div id=\"4a40655f-792f-4568-bbd4-7f86772e49be\" class=\"plotly-graph-div\" style=\"height:525px; width:100%;\"></div>\n",
              "            <script type=\"text/javascript\">\n",
              "                \n",
              "                    window.PLOTLYENV=window.PLOTLYENV || {};\n",
              "                    \n",
              "                if (document.getElementById(\"4a40655f-792f-4568-bbd4-7f86772e49be\")) {\n",
              "                    Plotly.newPlot(\n",
              "                        '4a40655f-792f-4568-bbd4-7f86772e49be',\n",
              "                        [{\"hoverlabel\": {\"namelength\": 0}, \"hovertemplate\": \"<b>%{hovertext}</b><br><br>Country Name=Afghanistan<br>Current Health Expenditure (% of GDP)=%{x}<br>Literacy Rate, Youth Total (%)=%{y}\", \"hovertext\": [\"Afghanistan\"], \"legendgroup\": \"Country Name=Afghanistan\", \"marker\": {\"color\": \"#636efa\", \"symbol\": \"circle\"}, \"mode\": \"markers\", \"name\": \"Country Name=Afghanistan\", \"showlegend\": true, \"type\": \"scatter\", \"x\": [8.56190681], \"xaxis\": \"x\", \"y\": [46.9900512695], \"yaxis\": \"y\"}],\n",
              "                        {\"legend\": {\"tracegroupgap\": 0}, \"template\": {\"data\": {\"bar\": [{\"error_x\": {\"color\": \"#2a3f5f\"}, \"error_y\": {\"color\": \"#2a3f5f\"}, \"marker\": {\"line\": {\"color\": \"#E5ECF6\", \"width\": 0.5}}, \"type\": \"bar\"}], \"barpolar\": [{\"marker\": {\"line\": {\"color\": \"#E5ECF6\", \"width\": 0.5}}, \"type\": \"barpolar\"}], \"carpet\": [{\"aaxis\": {\"endlinecolor\": \"#2a3f5f\", \"gridcolor\": \"white\", \"linecolor\": \"white\", \"minorgridcolor\": \"white\", \"startlinecolor\": \"#2a3f5f\"}, \"baxis\": {\"endlinecolor\": \"#2a3f5f\", \"gridcolor\": \"white\", \"linecolor\": \"white\", \"minorgridcolor\": \"white\", \"startlinecolor\": \"#2a3f5f\"}, \"type\": \"carpet\"}], \"choropleth\": [{\"colorbar\": {\"outlinewidth\": 0, \"ticks\": \"\"}, \"type\": \"choropleth\"}], \"contour\": [{\"colorbar\": {\"outlinewidth\": 0, \"ticks\": \"\"}, \"colorscale\": [[0.0, \"#0d0887\"], [0.1111111111111111, \"#46039f\"], [0.2222222222222222, \"#7201a8\"], [0.3333333333333333, \"#9c179e\"], [0.4444444444444444, \"#bd3786\"], [0.5555555555555556, \"#d8576b\"], [0.6666666666666666, \"#ed7953\"], [0.7777777777777778, \"#fb9f3a\"], [0.8888888888888888, \"#fdca26\"], [1.0, \"#f0f921\"]], \"type\": \"contour\"}], \"contourcarpet\": [{\"colorbar\": {\"outlinewidth\": 0, \"ticks\": \"\"}, \"type\": \"contourcarpet\"}], \"heatmap\": [{\"colorbar\": {\"outlinewidth\": 0, \"ticks\": \"\"}, \"colorscale\": [[0.0, \"#0d0887\"], [0.1111111111111111, \"#46039f\"], [0.2222222222222222, \"#7201a8\"], [0.3333333333333333, \"#9c179e\"], [0.4444444444444444, \"#bd3786\"], [0.5555555555555556, \"#d8576b\"], [0.6666666666666666, \"#ed7953\"], [0.7777777777777778, \"#fb9f3a\"], [0.8888888888888888, \"#fdca26\"], [1.0, \"#f0f921\"]], \"type\": \"heatmap\"}], \"heatmapgl\": [{\"colorbar\": {\"outlinewidth\": 0, \"ticks\": \"\"}, \"colorscale\": [[0.0, \"#0d0887\"], [0.1111111111111111, \"#46039f\"], [0.2222222222222222, \"#7201a8\"], [0.3333333333333333, \"#9c179e\"], [0.4444444444444444, \"#bd3786\"], [0.5555555555555556, \"#d8576b\"], [0.6666666666666666, \"#ed7953\"], [0.7777777777777778, \"#fb9f3a\"], [0.8888888888888888, \"#fdca26\"], [1.0, \"#f0f921\"]], \"type\": \"heatmapgl\"}], \"histogram\": [{\"marker\": {\"colorbar\": {\"outlinewidth\": 0, \"ticks\": \"\"}}, \"type\": \"histogram\"}], \"histogram2d\": [{\"colorbar\": {\"outlinewidth\": 0, \"ticks\": \"\"}, \"colorscale\": [[0.0, \"#0d0887\"], [0.1111111111111111, \"#46039f\"], [0.2222222222222222, \"#7201a8\"], [0.3333333333333333, \"#9c179e\"], [0.4444444444444444, \"#bd3786\"], [0.5555555555555556, \"#d8576b\"], [0.6666666666666666, \"#ed7953\"], [0.7777777777777778, \"#fb9f3a\"], [0.8888888888888888, \"#fdca26\"], [1.0, \"#f0f921\"]], \"type\": \"histogram2d\"}], \"histogram2dcontour\": [{\"colorbar\": {\"outlinewidth\": 0, \"ticks\": \"\"}, \"colorscale\": [[0.0, \"#0d0887\"], [0.1111111111111111, \"#46039f\"], [0.2222222222222222, \"#7201a8\"], [0.3333333333333333, \"#9c179e\"], [0.4444444444444444, \"#bd3786\"], [0.5555555555555556, \"#d8576b\"], [0.6666666666666666, \"#ed7953\"], [0.7777777777777778, \"#fb9f3a\"], [0.8888888888888888, \"#fdca26\"], [1.0, \"#f0f921\"]], \"type\": \"histogram2dcontour\"}], \"mesh3d\": [{\"colorbar\": {\"outlinewidth\": 0, \"ticks\": \"\"}, \"type\": \"mesh3d\"}], \"parcoords\": [{\"line\": {\"colorbar\": {\"outlinewidth\": 0, \"ticks\": \"\"}}, \"type\": \"parcoords\"}], \"pie\": [{\"automargin\": true, \"type\": \"pie\"}], \"scatter\": [{\"marker\": {\"colorbar\": {\"outlinewidth\": 0, \"ticks\": \"\"}}, \"type\": \"scatter\"}], \"scatter3d\": [{\"line\": {\"colorbar\": {\"outlinewidth\": 0, \"ticks\": \"\"}}, \"marker\": {\"colorbar\": {\"outlinewidth\": 0, \"ticks\": \"\"}}, \"type\": \"scatter3d\"}], \"scattercarpet\": [{\"marker\": {\"colorbar\": {\"outlinewidth\": 0, \"ticks\": \"\"}}, \"type\": \"scattercarpet\"}], \"scattergeo\": [{\"marker\": {\"colorbar\": {\"outlinewidth\": 0, \"ticks\": \"\"}}, \"type\": \"scattergeo\"}], \"scattergl\": [{\"marker\": {\"colorbar\": {\"outlinewidth\": 0, \"ticks\": \"\"}}, \"type\": \"scattergl\"}], \"scattermapbox\": [{\"marker\": {\"colorbar\": {\"outlinewidth\": 0, \"ticks\": \"\"}}, \"type\": \"scattermapbox\"}], \"scatterpolar\": [{\"marker\": {\"colorbar\": {\"outlinewidth\": 0, \"ticks\": \"\"}}, \"type\": \"scatterpolar\"}], \"scatterpolargl\": [{\"marker\": {\"colorbar\": {\"outlinewidth\": 0, \"ticks\": \"\"}}, \"type\": \"scatterpolargl\"}], \"scatterternary\": [{\"marker\": {\"colorbar\": {\"outlinewidth\": 0, \"ticks\": \"\"}}, \"type\": \"scatterternary\"}], \"surface\": [{\"colorbar\": {\"outlinewidth\": 0, \"ticks\": \"\"}, \"colorscale\": [[0.0, \"#0d0887\"], [0.1111111111111111, \"#46039f\"], [0.2222222222222222, \"#7201a8\"], [0.3333333333333333, \"#9c179e\"], [0.4444444444444444, \"#bd3786\"], [0.5555555555555556, \"#d8576b\"], [0.6666666666666666, \"#ed7953\"], [0.7777777777777778, \"#fb9f3a\"], [0.8888888888888888, \"#fdca26\"], [1.0, \"#f0f921\"]], \"type\": \"surface\"}], \"table\": [{\"cells\": {\"fill\": {\"color\": \"#EBF0F8\"}, \"line\": {\"color\": \"white\"}}, \"header\": {\"fill\": {\"color\": \"#C8D4E3\"}, \"line\": {\"color\": \"white\"}}, \"type\": \"table\"}]}, \"layout\": {\"annotationdefaults\": {\"arrowcolor\": \"#2a3f5f\", \"arrowhead\": 0, \"arrowwidth\": 1}, \"coloraxis\": {\"colorbar\": {\"outlinewidth\": 0, \"ticks\": \"\"}}, \"colorscale\": {\"diverging\": [[0, \"#8e0152\"], [0.1, \"#c51b7d\"], [0.2, \"#de77ae\"], [0.3, \"#f1b6da\"], [0.4, \"#fde0ef\"], [0.5, \"#f7f7f7\"], [0.6, \"#e6f5d0\"], [0.7, \"#b8e186\"], [0.8, \"#7fbc41\"], [0.9, \"#4d9221\"], [1, \"#276419\"]], \"sequential\": [[0.0, \"#0d0887\"], [0.1111111111111111, \"#46039f\"], [0.2222222222222222, \"#7201a8\"], [0.3333333333333333, \"#9c179e\"], [0.4444444444444444, \"#bd3786\"], [0.5555555555555556, \"#d8576b\"], [0.6666666666666666, \"#ed7953\"], [0.7777777777777778, \"#fb9f3a\"], [0.8888888888888888, \"#fdca26\"], [1.0, \"#f0f921\"]], \"sequentialminus\": [[0.0, \"#0d0887\"], [0.1111111111111111, \"#46039f\"], [0.2222222222222222, \"#7201a8\"], [0.3333333333333333, \"#9c179e\"], [0.4444444444444444, \"#bd3786\"], [0.5555555555555556, \"#d8576b\"], [0.6666666666666666, \"#ed7953\"], [0.7777777777777778, \"#fb9f3a\"], [0.8888888888888888, \"#fdca26\"], [1.0, \"#f0f921\"]]}, \"colorway\": [\"#636efa\", \"#EF553B\", \"#00cc96\", \"#ab63fa\", \"#FFA15A\", \"#19d3f3\", \"#FF6692\", \"#B6E880\", \"#FF97FF\", \"#FECB52\"], \"font\": {\"color\": \"#2a3f5f\"}, \"geo\": {\"bgcolor\": \"white\", \"lakecolor\": \"white\", \"landcolor\": \"#E5ECF6\", \"showlakes\": true, \"showland\": true, \"subunitcolor\": \"white\"}, \"hoverlabel\": {\"align\": \"left\"}, \"hovermode\": \"closest\", \"mapbox\": {\"style\": \"light\"}, \"paper_bgcolor\": \"white\", \"plot_bgcolor\": \"#E5ECF6\", \"polar\": {\"angularaxis\": {\"gridcolor\": \"white\", \"linecolor\": \"white\", \"ticks\": \"\"}, \"bgcolor\": \"#E5ECF6\", \"radialaxis\": {\"gridcolor\": \"white\", \"linecolor\": \"white\", \"ticks\": \"\"}}, \"scene\": {\"xaxis\": {\"backgroundcolor\": \"#E5ECF6\", \"gridcolor\": \"white\", \"gridwidth\": 2, \"linecolor\": \"white\", \"showbackground\": true, \"ticks\": \"\", \"zerolinecolor\": \"white\"}, \"yaxis\": {\"backgroundcolor\": \"#E5ECF6\", \"gridcolor\": \"white\", \"gridwidth\": 2, \"linecolor\": \"white\", \"showbackground\": true, \"ticks\": \"\", \"zerolinecolor\": \"white\"}, \"zaxis\": {\"backgroundcolor\": \"#E5ECF6\", \"gridcolor\": \"white\", \"gridwidth\": 2, \"linecolor\": \"white\", \"showbackground\": true, \"ticks\": \"\", \"zerolinecolor\": \"white\"}}, \"shapedefaults\": {\"line\": {\"color\": \"#2a3f5f\"}}, \"ternary\": {\"aaxis\": {\"gridcolor\": \"white\", \"linecolor\": \"white\", \"ticks\": \"\"}, \"baxis\": {\"gridcolor\": \"white\", \"linecolor\": \"white\", \"ticks\": \"\"}, \"bgcolor\": \"#E5ECF6\", \"caxis\": {\"gridcolor\": \"white\", \"linecolor\": \"white\", \"ticks\": \"\"}}, \"title\": {\"x\": 0.05}, \"xaxis\": {\"automargin\": true, \"gridcolor\": \"white\", \"linecolor\": \"white\", \"ticks\": \"\", \"title\": {\"standoff\": 15}, \"zerolinecolor\": \"white\", \"zerolinewidth\": 2}, \"yaxis\": {\"automargin\": true, \"gridcolor\": \"white\", \"linecolor\": \"white\", \"ticks\": \"\", \"title\": {\"standoff\": 15}, \"zerolinecolor\": \"white\", \"zerolinewidth\": 2}}}, \"title\": {\"text\": \"Afghanistan Health Expenditure vs Youth Literacy Rate (2011)\"}, \"xaxis\": {\"anchor\": \"y\", \"domain\": [0.0, 1.0], \"title\": {\"text\": \"Current Health Expenditure (% of GDP)\"}}, \"yaxis\": {\"anchor\": \"x\", \"domain\": [0.0, 1.0], \"title\": {\"text\": \"Literacy Rate, Youth Total (%)\"}}},\n",
              "                        {\"responsive\": true}\n",
              "                    ).then(function(){\n",
              "                            \n",
              "var gd = document.getElementById('4a40655f-792f-4568-bbd4-7f86772e49be');\n",
              "var x = new MutationObserver(function (mutations, observer) {{\n",
              "        var display = window.getComputedStyle(gd).display;\n",
              "        if (!display || display === 'none') {{\n",
              "            console.log([gd, 'removed!']);\n",
              "            Plotly.purge(gd);\n",
              "            observer.disconnect();\n",
              "        }}\n",
              "}});\n",
              "\n",
              "// Listen for the removal of the full notebook cells\n",
              "var notebookContainer = gd.closest('#notebook-container');\n",
              "if (notebookContainer) {{\n",
              "    x.observe(notebookContainer, {childList: true});\n",
              "}}\n",
              "\n",
              "// Listen for the clearing of the current output cell\n",
              "var outputEl = gd.closest('.output');\n",
              "if (outputEl) {{\n",
              "    x.observe(outputEl, {childList: true});\n",
              "}}\n",
              "\n",
              "                        })\n",
              "                };\n",
              "                \n",
              "            </script>\n",
              "        </div>\n",
              "</body>\n",
              "</html>"
            ]
          },
          "metadata": {
            "tags": []
          }
        }
      ]
    },
    {
      "cell_type": "markdown",
      "metadata": {
        "id": "NTWnXvvBAIgv"
      },
      "source": [
        "Afghanistan had one of the lowest literacy rate, but had relatively high health expenditure. Further research into Afghanistan's economy will help explain why they are an outlier. "
      ]
    },
    {
      "cell_type": "code",
      "metadata": {
        "colab": {
          "base_uri": "https://localhost:8080/",
          "height": 542
        },
        "id": "Qcb_qcRKBVQa",
        "outputId": "5091ea76-3607-405b-c98c-10a8e4482c2b"
      },
      "source": [
        "# create subset of data with specific countries \n",
        "\n",
        "health_co = health_df[health_df['Country Name'].isin(country_list)]\n",
        "\n",
        "# # Countries comparison between health expenditure and youth literacy rate \n",
        "\n",
        "fig10 = px.line(\n",
        "              health_co,\n",
        "              x = health_co['Year'],\n",
        "              y = health_co['SH.XPD.CHEX.GD.ZS'],\n",
        "              color = health_co['Country Name']\n",
        "              )\n",
        "\n",
        "fig12 = px.line(health_co, \n",
        "               x='Year', \n",
        "               y=health_co['SE.ADT.1524.LT.ZS'],\n",
        "               color = health_co['Country Name']\n",
        "               )\n",
        "\n",
        "fig13 = make_subplots(rows=1, cols=2,\n",
        "                    subplot_titles=(\"Health Expenditure ($ of GDP) over time (2011-2018)\", \"Literacy Rate (%) over time (2011-2018)\"), x_title = 'Years')\n",
        "\n",
        "fig13.add_trace(fig4['data'][0], row=1, col=1)\n",
        "fig13.add_trace(fig4['data'][1], row=1, col=1)\n",
        "fig13.add_trace(fig4['data'][2], row=1, col=1)\n",
        "fig13.add_trace(fig4['data'][3], row=1, col=1)\n",
        "fig13.add_trace(fig5['data'][0], row=1, col=2)\n",
        "fig13.add_trace(fig5['data'][1], row=1, col=2)\n",
        "fig13.add_trace(fig5['data'][2], row=1, col=2)\n",
        "fig13.add_trace(fig5['data'][3], row=1, col=2)\n",
        "\n",
        "fig13.update_layout(\n",
        "    showlegend=True)\n",
        "fig13.show()"
      ],
      "execution_count": 9,
      "outputs": [
        {
          "output_type": "display_data",
          "data": {
            "text/html": [
              "<html>\n",
              "<head><meta charset=\"utf-8\" /></head>\n",
              "<body>\n",
              "    <div>\n",
              "            <script src=\"https://cdnjs.cloudflare.com/ajax/libs/mathjax/2.7.5/MathJax.js?config=TeX-AMS-MML_SVG\"></script><script type=\"text/javascript\">if (window.MathJax) {MathJax.Hub.Config({SVG: {font: \"STIX-Web\"}});}</script>\n",
              "                <script type=\"text/javascript\">window.PlotlyConfig = {MathJaxConfig: 'local'};</script>\n",
              "        <script src=\"https://cdn.plot.ly/plotly-latest.min.js\"></script>    \n",
              "            <div id=\"b5dbddbb-191f-4f82-90f3-f82eab581b03\" class=\"plotly-graph-div\" style=\"height:525px; width:100%;\"></div>\n",
              "            <script type=\"text/javascript\">\n",
              "                \n",
              "                    window.PLOTLYENV=window.PLOTLYENV || {};\n",
              "                    \n",
              "                if (document.getElementById(\"b5dbddbb-191f-4f82-90f3-f82eab581b03\")) {\n",
              "                    Plotly.newPlot(\n",
              "                        'b5dbddbb-191f-4f82-90f3-f82eab581b03',\n",
              "                        [{\"hoverlabel\": {\"namelength\": 0}, \"hovertemplate\": \"Country Name=Bangladesh<br>Year=%{x}<br>NY.GNP.PCAP.PP.CD=%{y}\", \"legendgroup\": \"Country Name=Bangladesh\", \"line\": {\"color\": \"#636efa\", \"dash\": \"solid\"}, \"mode\": \"lines\", \"name\": \"Country Name=Bangladesh\", \"showlegend\": true, \"type\": \"scatter\", \"x\": [2011, 2012, 2013, 2014, 2015, 2016, 2017, 2018], \"xaxis\": \"x\", \"y\": [2830, 3190, 3400, 3590, 3790, 4070, 4340, 4760], \"yaxis\": \"y\"}, {\"hoverlabel\": {\"namelength\": 0}, \"hovertemplate\": \"Country Name=Brazil<br>Year=%{x}<br>NY.GNP.PCAP.PP.CD=%{y}\", \"legendgroup\": \"Country Name=Brazil\", \"line\": {\"color\": \"#EF553B\", \"dash\": \"solid\"}, \"mode\": \"lines\", \"name\": \"Country Name=Brazil\", \"showlegend\": true, \"type\": \"scatter\", \"x\": [2011, 2012, 2013, 2014, 2015, 2016, 2017, 2018], \"xaxis\": \"x\", \"y\": [14650, 14670, 15370, 15430, 14470, 13950, 14250, 14530], \"yaxis\": \"y\"}, {\"hoverlabel\": {\"namelength\": 0}, \"hovertemplate\": \"Country Name=Mali<br>Year=%{x}<br>NY.GNP.PCAP.PP.CD=%{y}\", \"legendgroup\": \"Country Name=Mali\", \"line\": {\"color\": \"#00cc96\", \"dash\": \"solid\"}, \"mode\": \"lines\", \"name\": \"Country Name=Mali\", \"showlegend\": true, \"type\": \"scatter\", \"x\": [2011, 2015, 2018], \"xaxis\": \"x\", \"y\": [1760, 1990, 2270], \"yaxis\": \"y\"}, {\"hoverlabel\": {\"namelength\": 0}, \"hovertemplate\": \"Country Name=Singapore<br>Year=%{x}<br>NY.GNP.PCAP.PP.CD=%{y}\", \"legendgroup\": \"Country Name=Singapore\", \"line\": {\"color\": \"#ab63fa\", \"dash\": \"solid\"}, \"mode\": \"lines\", \"name\": \"Country Name=Singapore\", \"showlegend\": true, \"type\": \"scatter\", \"x\": [2011, 2012, 2013, 2014, 2015, 2016, 2017, 2018], \"xaxis\": \"x\", \"y\": [77300, 78420, 78530, 81490, 81040, 83730, 87740, 90510], \"yaxis\": \"y\"}, {\"hoverlabel\": {\"namelength\": 0}, \"hovertemplate\": \"Country Name=Bangladesh<br>Year=%{x}<br>SE.ADT.1524.LT.ZS=%{y}\", \"legendgroup\": \"Country Name=Bangladesh\", \"line\": {\"color\": \"#636efa\", \"dash\": \"solid\"}, \"mode\": \"lines\", \"name\": \"Country Name=Bangladesh\", \"showlegend\": true, \"type\": \"scatter\", \"x\": [2011, 2012, 2013, 2014, 2015, 2016, 2017, 2018], \"xaxis\": \"x2\", \"y\": [77.984992981, 77.8329086304, 85.5271530151, 85.5547332764, 87.88877105709999, 92.2426528931, 92.9507598877, 93.29644012450001], \"yaxis\": \"y2\"}, {\"hoverlabel\": {\"namelength\": 0}, \"hovertemplate\": \"Country Name=Brazil<br>Year=%{x}<br>SE.ADT.1524.LT.ZS=%{y}\", \"legendgroup\": \"Country Name=Brazil\", \"line\": {\"color\": \"#EF553B\", \"dash\": \"solid\"}, \"mode\": \"lines\", \"name\": \"Country Name=Brazil\", \"showlegend\": true, \"type\": \"scatter\", \"x\": [2011, 2012, 2013, 2014, 2015, 2016, 2017, 2018], \"xaxis\": \"x2\", \"y\": [98.48692321780001, 98.61965942379999, 98.73667907709999, 98.84568786620001, 98.9637527466, 99.1109619141, 99.1554107666, 99.2041702271], \"yaxis\": \"y2\"}, {\"hoverlabel\": {\"namelength\": 0}, \"hovertemplate\": \"Country Name=Mali<br>Year=%{x}<br>SE.ADT.1524.LT.ZS=%{y}\", \"legendgroup\": \"Country Name=Mali\", \"line\": {\"color\": \"#00cc96\", \"dash\": \"solid\"}, \"mode\": \"lines\", \"name\": \"Country Name=Mali\", \"showlegend\": true, \"type\": \"scatter\", \"x\": [2011, 2015, 2018], \"xaxis\": \"x2\", \"y\": [42.0952796936, 49.3665313721, 50.1347007751], \"yaxis\": \"y2\"}, {\"hoverlabel\": {\"namelength\": 0}, \"hovertemplate\": \"Country Name=Singapore<br>Year=%{x}<br>SE.ADT.1524.LT.ZS=%{y}\", \"legendgroup\": \"Country Name=Singapore\", \"line\": {\"color\": \"#ab63fa\", \"dash\": \"solid\"}, \"mode\": \"lines\", \"name\": \"Country Name=Singapore\", \"showlegend\": true, \"type\": \"scatter\", \"x\": [2011, 2012, 2013, 2014, 2015, 2016, 2017, 2018], \"xaxis\": \"x2\", \"y\": [99.8871994019, 99.8949432373, 99.89861297610001, 99.9004669189, 99.78489685059999, 99.92658233639999, 99.9304428101, 99.9296264648], \"yaxis\": \"y2\"}],\n",
              "                        {\"annotations\": [{\"font\": {\"size\": 16}, \"showarrow\": false, \"text\": \"Health Expenditure ($ of GDP) over time (2011-2018)\", \"x\": 0.225, \"xanchor\": \"center\", \"xref\": \"paper\", \"y\": 1.0, \"yanchor\": \"bottom\", \"yref\": \"paper\"}, {\"font\": {\"size\": 16}, \"showarrow\": false, \"text\": \"Literacy Rate (%) over time (2011-2018)\", \"x\": 0.775, \"xanchor\": \"center\", \"xref\": \"paper\", \"y\": 1.0, \"yanchor\": \"bottom\", \"yref\": \"paper\"}, {\"font\": {\"size\": 16}, \"showarrow\": false, \"text\": \"Years\", \"x\": 0.5, \"xanchor\": \"center\", \"xref\": \"paper\", \"y\": 0, \"yanchor\": \"top\", \"yref\": \"paper\", \"yshift\": -30}], \"showlegend\": true, \"template\": {\"data\": {\"bar\": [{\"error_x\": {\"color\": \"#2a3f5f\"}, \"error_y\": {\"color\": \"#2a3f5f\"}, \"marker\": {\"line\": {\"color\": \"#E5ECF6\", \"width\": 0.5}}, \"type\": \"bar\"}], \"barpolar\": [{\"marker\": {\"line\": {\"color\": \"#E5ECF6\", \"width\": 0.5}}, \"type\": \"barpolar\"}], \"carpet\": [{\"aaxis\": {\"endlinecolor\": \"#2a3f5f\", \"gridcolor\": \"white\", \"linecolor\": \"white\", \"minorgridcolor\": \"white\", \"startlinecolor\": \"#2a3f5f\"}, \"baxis\": {\"endlinecolor\": \"#2a3f5f\", \"gridcolor\": \"white\", \"linecolor\": \"white\", \"minorgridcolor\": \"white\", \"startlinecolor\": \"#2a3f5f\"}, \"type\": \"carpet\"}], \"choropleth\": [{\"colorbar\": {\"outlinewidth\": 0, \"ticks\": \"\"}, \"type\": \"choropleth\"}], \"contour\": [{\"colorbar\": {\"outlinewidth\": 0, \"ticks\": \"\"}, \"colorscale\": [[0.0, \"#0d0887\"], [0.1111111111111111, \"#46039f\"], [0.2222222222222222, \"#7201a8\"], [0.3333333333333333, \"#9c179e\"], [0.4444444444444444, \"#bd3786\"], [0.5555555555555556, \"#d8576b\"], [0.6666666666666666, \"#ed7953\"], [0.7777777777777778, \"#fb9f3a\"], [0.8888888888888888, \"#fdca26\"], [1.0, \"#f0f921\"]], \"type\": \"contour\"}], \"contourcarpet\": [{\"colorbar\": {\"outlinewidth\": 0, \"ticks\": \"\"}, \"type\": \"contourcarpet\"}], \"heatmap\": [{\"colorbar\": {\"outlinewidth\": 0, \"ticks\": \"\"}, \"colorscale\": [[0.0, \"#0d0887\"], [0.1111111111111111, \"#46039f\"], [0.2222222222222222, \"#7201a8\"], [0.3333333333333333, \"#9c179e\"], [0.4444444444444444, \"#bd3786\"], [0.5555555555555556, \"#d8576b\"], [0.6666666666666666, \"#ed7953\"], [0.7777777777777778, \"#fb9f3a\"], [0.8888888888888888, \"#fdca26\"], [1.0, \"#f0f921\"]], \"type\": \"heatmap\"}], \"heatmapgl\": [{\"colorbar\": {\"outlinewidth\": 0, \"ticks\": \"\"}, \"colorscale\": [[0.0, \"#0d0887\"], [0.1111111111111111, \"#46039f\"], [0.2222222222222222, \"#7201a8\"], [0.3333333333333333, \"#9c179e\"], [0.4444444444444444, \"#bd3786\"], [0.5555555555555556, \"#d8576b\"], [0.6666666666666666, \"#ed7953\"], [0.7777777777777778, \"#fb9f3a\"], [0.8888888888888888, \"#fdca26\"], [1.0, \"#f0f921\"]], \"type\": \"heatmapgl\"}], \"histogram\": [{\"marker\": {\"colorbar\": {\"outlinewidth\": 0, \"ticks\": \"\"}}, \"type\": \"histogram\"}], \"histogram2d\": [{\"colorbar\": {\"outlinewidth\": 0, \"ticks\": \"\"}, \"colorscale\": [[0.0, \"#0d0887\"], [0.1111111111111111, \"#46039f\"], [0.2222222222222222, \"#7201a8\"], [0.3333333333333333, \"#9c179e\"], [0.4444444444444444, \"#bd3786\"], [0.5555555555555556, \"#d8576b\"], [0.6666666666666666, \"#ed7953\"], [0.7777777777777778, \"#fb9f3a\"], [0.8888888888888888, \"#fdca26\"], [1.0, \"#f0f921\"]], \"type\": \"histogram2d\"}], \"histogram2dcontour\": [{\"colorbar\": {\"outlinewidth\": 0, \"ticks\": \"\"}, \"colorscale\": [[0.0, \"#0d0887\"], [0.1111111111111111, \"#46039f\"], [0.2222222222222222, \"#7201a8\"], [0.3333333333333333, \"#9c179e\"], [0.4444444444444444, \"#bd3786\"], [0.5555555555555556, \"#d8576b\"], [0.6666666666666666, \"#ed7953\"], [0.7777777777777778, \"#fb9f3a\"], [0.8888888888888888, \"#fdca26\"], [1.0, \"#f0f921\"]], \"type\": \"histogram2dcontour\"}], \"mesh3d\": [{\"colorbar\": {\"outlinewidth\": 0, \"ticks\": \"\"}, \"type\": \"mesh3d\"}], \"parcoords\": [{\"line\": {\"colorbar\": {\"outlinewidth\": 0, \"ticks\": \"\"}}, \"type\": \"parcoords\"}], \"pie\": [{\"automargin\": true, \"type\": \"pie\"}], \"scatter\": [{\"marker\": {\"colorbar\": {\"outlinewidth\": 0, \"ticks\": \"\"}}, \"type\": \"scatter\"}], \"scatter3d\": [{\"line\": {\"colorbar\": {\"outlinewidth\": 0, \"ticks\": \"\"}}, \"marker\": {\"colorbar\": {\"outlinewidth\": 0, \"ticks\": \"\"}}, \"type\": \"scatter3d\"}], \"scattercarpet\": [{\"marker\": {\"colorbar\": {\"outlinewidth\": 0, \"ticks\": \"\"}}, \"type\": \"scattercarpet\"}], \"scattergeo\": [{\"marker\": {\"colorbar\": {\"outlinewidth\": 0, \"ticks\": \"\"}}, \"type\": \"scattergeo\"}], \"scattergl\": [{\"marker\": {\"colorbar\": {\"outlinewidth\": 0, \"ticks\": \"\"}}, \"type\": \"scattergl\"}], \"scattermapbox\": [{\"marker\": {\"colorbar\": {\"outlinewidth\": 0, \"ticks\": \"\"}}, \"type\": \"scattermapbox\"}], \"scatterpolar\": [{\"marker\": {\"colorbar\": {\"outlinewidth\": 0, \"ticks\": \"\"}}, \"type\": \"scatterpolar\"}], \"scatterpolargl\": [{\"marker\": {\"colorbar\": {\"outlinewidth\": 0, \"ticks\": \"\"}}, \"type\": \"scatterpolargl\"}], \"scatterternary\": [{\"marker\": {\"colorbar\": {\"outlinewidth\": 0, \"ticks\": \"\"}}, \"type\": \"scatterternary\"}], \"surface\": [{\"colorbar\": {\"outlinewidth\": 0, \"ticks\": \"\"}, \"colorscale\": [[0.0, \"#0d0887\"], [0.1111111111111111, \"#46039f\"], [0.2222222222222222, \"#7201a8\"], [0.3333333333333333, \"#9c179e\"], [0.4444444444444444, \"#bd3786\"], [0.5555555555555556, \"#d8576b\"], [0.6666666666666666, \"#ed7953\"], [0.7777777777777778, \"#fb9f3a\"], [0.8888888888888888, \"#fdca26\"], [1.0, \"#f0f921\"]], \"type\": \"surface\"}], \"table\": [{\"cells\": {\"fill\": {\"color\": \"#EBF0F8\"}, \"line\": {\"color\": \"white\"}}, \"header\": {\"fill\": {\"color\": \"#C8D4E3\"}, \"line\": {\"color\": \"white\"}}, \"type\": \"table\"}]}, \"layout\": {\"annotationdefaults\": {\"arrowcolor\": \"#2a3f5f\", \"arrowhead\": 0, \"arrowwidth\": 1}, \"coloraxis\": {\"colorbar\": {\"outlinewidth\": 0, \"ticks\": \"\"}}, \"colorscale\": {\"diverging\": [[0, \"#8e0152\"], [0.1, \"#c51b7d\"], [0.2, \"#de77ae\"], [0.3, \"#f1b6da\"], [0.4, \"#fde0ef\"], [0.5, \"#f7f7f7\"], [0.6, \"#e6f5d0\"], [0.7, \"#b8e186\"], [0.8, \"#7fbc41\"], [0.9, \"#4d9221\"], [1, \"#276419\"]], \"sequential\": [[0.0, \"#0d0887\"], [0.1111111111111111, \"#46039f\"], [0.2222222222222222, \"#7201a8\"], [0.3333333333333333, \"#9c179e\"], [0.4444444444444444, \"#bd3786\"], [0.5555555555555556, \"#d8576b\"], [0.6666666666666666, \"#ed7953\"], [0.7777777777777778, \"#fb9f3a\"], [0.8888888888888888, \"#fdca26\"], [1.0, \"#f0f921\"]], \"sequentialminus\": [[0.0, \"#0d0887\"], [0.1111111111111111, \"#46039f\"], [0.2222222222222222, \"#7201a8\"], [0.3333333333333333, \"#9c179e\"], [0.4444444444444444, \"#bd3786\"], [0.5555555555555556, \"#d8576b\"], [0.6666666666666666, \"#ed7953\"], [0.7777777777777778, \"#fb9f3a\"], [0.8888888888888888, \"#fdca26\"], [1.0, \"#f0f921\"]]}, \"colorway\": [\"#636efa\", \"#EF553B\", \"#00cc96\", \"#ab63fa\", \"#FFA15A\", \"#19d3f3\", \"#FF6692\", \"#B6E880\", \"#FF97FF\", \"#FECB52\"], \"font\": {\"color\": \"#2a3f5f\"}, \"geo\": {\"bgcolor\": \"white\", \"lakecolor\": \"white\", \"landcolor\": \"#E5ECF6\", \"showlakes\": true, \"showland\": true, \"subunitcolor\": \"white\"}, \"hoverlabel\": {\"align\": \"left\"}, \"hovermode\": \"closest\", \"mapbox\": {\"style\": \"light\"}, \"paper_bgcolor\": \"white\", \"plot_bgcolor\": \"#E5ECF6\", \"polar\": {\"angularaxis\": {\"gridcolor\": \"white\", \"linecolor\": \"white\", \"ticks\": \"\"}, \"bgcolor\": \"#E5ECF6\", \"radialaxis\": {\"gridcolor\": \"white\", \"linecolor\": \"white\", \"ticks\": \"\"}}, \"scene\": {\"xaxis\": {\"backgroundcolor\": \"#E5ECF6\", \"gridcolor\": \"white\", \"gridwidth\": 2, \"linecolor\": \"white\", \"showbackground\": true, \"ticks\": \"\", \"zerolinecolor\": \"white\"}, \"yaxis\": {\"backgroundcolor\": \"#E5ECF6\", \"gridcolor\": \"white\", \"gridwidth\": 2, \"linecolor\": \"white\", \"showbackground\": true, \"ticks\": \"\", \"zerolinecolor\": \"white\"}, \"zaxis\": {\"backgroundcolor\": \"#E5ECF6\", \"gridcolor\": \"white\", \"gridwidth\": 2, \"linecolor\": \"white\", \"showbackground\": true, \"ticks\": \"\", \"zerolinecolor\": \"white\"}}, \"shapedefaults\": {\"line\": {\"color\": \"#2a3f5f\"}}, \"ternary\": {\"aaxis\": {\"gridcolor\": \"white\", \"linecolor\": \"white\", \"ticks\": \"\"}, \"baxis\": {\"gridcolor\": \"white\", \"linecolor\": \"white\", \"ticks\": \"\"}, \"bgcolor\": \"#E5ECF6\", \"caxis\": {\"gridcolor\": \"white\", \"linecolor\": \"white\", \"ticks\": \"\"}}, \"title\": {\"x\": 0.05}, \"xaxis\": {\"automargin\": true, \"gridcolor\": \"white\", \"linecolor\": \"white\", \"ticks\": \"\", \"title\": {\"standoff\": 15}, \"zerolinecolor\": \"white\", \"zerolinewidth\": 2}, \"yaxis\": {\"automargin\": true, \"gridcolor\": \"white\", \"linecolor\": \"white\", \"ticks\": \"\", \"title\": {\"standoff\": 15}, \"zerolinecolor\": \"white\", \"zerolinewidth\": 2}}}, \"xaxis\": {\"anchor\": \"y\", \"domain\": [0.0, 0.45]}, \"xaxis2\": {\"anchor\": \"y2\", \"domain\": [0.55, 1.0]}, \"yaxis\": {\"anchor\": \"x\", \"domain\": [0.0, 1.0]}, \"yaxis2\": {\"anchor\": \"x2\", \"domain\": [0.0, 1.0]}},\n",
              "                        {\"responsive\": true}\n",
              "                    ).then(function(){\n",
              "                            \n",
              "var gd = document.getElementById('b5dbddbb-191f-4f82-90f3-f82eab581b03');\n",
              "var x = new MutationObserver(function (mutations, observer) {{\n",
              "        var display = window.getComputedStyle(gd).display;\n",
              "        if (!display || display === 'none') {{\n",
              "            console.log([gd, 'removed!']);\n",
              "            Plotly.purge(gd);\n",
              "            observer.disconnect();\n",
              "        }}\n",
              "}});\n",
              "\n",
              "// Listen for the removal of the full notebook cells\n",
              "var notebookContainer = gd.closest('#notebook-container');\n",
              "if (notebookContainer) {{\n",
              "    x.observe(notebookContainer, {childList: true});\n",
              "}}\n",
              "\n",
              "// Listen for the clearing of the current output cell\n",
              "var outputEl = gd.closest('.output');\n",
              "if (outputEl) {{\n",
              "    x.observe(outputEl, {childList: true});\n",
              "}}\n",
              "\n",
              "                        })\n",
              "                };\n",
              "                \n",
              "            </script>\n",
              "        </div>\n",
              "</body>\n",
              "</html>"
            ]
          },
          "metadata": {
            "tags": []
          }
        }
      ]
    },
    {
      "cell_type": "markdown",
      "metadata": {
        "id": "-F2sXkagAKLc"
      },
      "source": [
        "For the selected four countries, the results of the analysis tend to match the general trend. Though Bangladesh, Brazil, and Singapore have similar literacy rate, the health expenditure varied significantly. In 2018, Bangladesh spent 2.3% of their GDP on health expenditure, whereas Brazil spent 9.5% of their GDP on health expenditure. \n",
        "\n",
        "Mali has the lowest literacy rate, but spent less of their GDP on health expenditure than Brazil and Singapore did. \n",
        "\n",
        "Based on the inconclusiveness of the comparison, literacy rate does not seem to be the best indicator to dictate a country's health expenditure. Health expenditure could depend more on the country's public health education and access for the general population more than the literacy rate. "
      ]
    },
    {
      "cell_type": "markdown",
      "metadata": {
        "id": "6P3Bwu119zmR"
      },
      "source": [
        "## Conclusion\n",
        "\n",
        "For further analysis of education as the country's economic growth indicator, following improvements are recommended:\n",
        "- The definition of how literacy rate measured varies from country to country. It is difficult to have standardized method of measuring literacy rate or educational outcome due to cultural, societal, and economic differences between each country. Different indicator should be explored to measure the outcome of education. \n",
        "- There are a lot of missing data, mostly from countries in the low-income category. Many countries only had 1 or 2 years worth of data, therefore could not be used for the multi-year analysis. "
      ]
    },
    {
      "cell_type": "markdown",
      "metadata": {
        "id": "r182tPRxy1kx"
      },
      "source": [
        "## References\n",
        "\n",
        "Hanushek, E., &amp; Wößmann, L. (2010). Education and economic growth. International Encyclopedia of Education, 245-252. doi:10.1016/b978-0-08-044894-7.01227-6\n",
        "\n",
        "Roser, M., Nagdy, M., &amp; Ortiz-Ospina, E. (2013, July 17). Quality of education. Retrieved March 27, 2021, from https://ourworldindata.org/quality-of-education\n"
      ]
    }
  ]
}
